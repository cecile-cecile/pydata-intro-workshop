{
 "cells": [
  {
   "cell_type": "markdown",
   "metadata": {
    "slideshow": {
     "slide_type": "slide"
    }
   },
   "source": [
    "<center>\n",
    "\n",
    "<h1>Intro to Data Analysis in Python</h1>\n",
    "\n",
    "<h2>PyLadies Vancouver Workshop</h2>\n",
    "\n",
    "<h4>Jennifer Walker</h4>\n",
    "</center>"
   ]
  },
  {
   "cell_type": "markdown",
   "metadata": {
    "slideshow": {
     "slide_type": "slide"
    }
   },
   "source": [
    "## Agenda\n",
    "\n",
    "#### Getting oriented\n",
    "\n",
    "- Navigating the Python world as a data geek\n",
    "- Human-centered, interactive tools: IPython and Jupyter\n",
    "- Quick recap of Python basics\n",
    "\n",
    "#### The power of Pandas\n",
    "\n",
    "- Loading and summarizing spreadsheet data\n",
    "- Creating graphs\n",
    "- Diving deeper into data analysis\n",
    "\n",
    "#### Onwards and upwards\n",
    "\n",
    "- A brief tour of Python's data visualization landscape\n",
    "- Next steps on your Python journey"
   ]
  },
  {
   "cell_type": "markdown",
   "metadata": {
    "slideshow": {
     "slide_type": "slide"
    }
   },
   "source": [
    "## About Me\n",
    "\n",
    "Hi, I'm Jennifer!\n",
    "\n",
    "- Environmental scientist at UBC\n",
    "- Used to code in Matlab and it was crushing my soul\n",
    "- Switched to Python, fell in love, and never looked back!*\n",
    "\n",
    "<small>*It was actually a little more complicated than that, as I'll explain shortly</small>"
   ]
  },
  {
   "cell_type": "markdown",
   "metadata": {
    "slideshow": {
     "slide_type": "slide"
    }
   },
   "source": [
    "## Navigating the Python world...\n",
    "### ... as a data geek\n",
    "\n",
    "- Python is used for a zillion things - logos of Dropbox, Instagram, etc. (see LLC slides)\n",
    "- Image of swiss army knife, and crazy swiss army knife (a la Jake Vanderplas)\n",
    "- As a data geek, I'm using a very different corner of the Python world than, for example, someone who is mainly developing web apps\n",
    "- Can use Python for very different purposes, \n",
    "- Image of Choose your own adventure book cover, and flow chart\n",
    "- Even when two people are using it for the **same** purpose, they might get there following completely different paths, using very different tools\n",
    "- Google map showing several different routes from A to B\n",
    "- The method in (my) madness - guide you through one way of navigating the PyData world, based on what has worked best for me, but this is just one option. You might experiment with different options and ultimately prefer a different way of doing things. But it's good to have a clear path when starting out, and then you can modify it when the need arises"
   ]
  },
  {
   "cell_type": "markdown",
   "metadata": {
    "slideshow": {
     "slide_type": "slide"
    }
   },
   "source": [
    "## PyData Ecosystem\n",
    "\n",
    "Image of Python logo - mention built-in functions (e.g. print(), abs(), sorted()) and built-in libraries (e.g. random, datetime)"
   ]
  },
  {
   "cell_type": "code",
   "execution_count": 10,
   "metadata": {
    "slideshow": {
     "slide_type": "fragment"
    }
   },
   "outputs": [
    {
     "data": {
      "text/plain": [
       "20"
      ]
     },
     "execution_count": 10,
     "metadata": {},
     "output_type": "execute_result"
    }
   ],
   "source": [
    "x = -20\n",
    "abs(x)"
   ]
  },
  {
   "cell_type": "code",
   "execution_count": 11,
   "metadata": {
    "slideshow": {
     "slide_type": "fragment"
    }
   },
   "outputs": [
    {
     "name": "stdout",
     "output_type": "stream",
     "text": [
      "['dog', 'cat', 'rabbit', 'duck']\n",
      "['cat', 'dog', 'duck', 'rabbit']\n"
     ]
    }
   ],
   "source": [
    "animals = ['dog', 'cat', 'rabbit', 'duck']\n",
    "print(animals)\n",
    "print(sorted(animals))"
   ]
  },
  {
   "cell_type": "code",
   "execution_count": 6,
   "metadata": {
    "slideshow": {
     "slide_type": "slide"
    }
   },
   "outputs": [
    {
     "name": "stdout",
     "output_type": "stream",
     "text": [
      "Today is 2018-05-06\n"
     ]
    }
   ],
   "source": [
    "from datetime import datetime\n",
    "now = datetime.now()\n",
    "print('Today is ' + now.strftime('%Y-%m-%d'))"
   ]
  },
  {
   "cell_type": "code",
   "execution_count": 7,
   "metadata": {
    "slideshow": {
     "slide_type": "fragment"
    }
   },
   "outputs": [
    {
     "data": {
      "text/plain": [
       "0.5221095490284775"
      ]
     },
     "execution_count": 7,
     "metadata": {},
     "output_type": "execute_result"
    }
   ],
   "source": [
    "import random\n",
    "\n",
    "# Random decimal number in the interval [0, 1) (including 0, excluding 1)\n",
    "x1 = random.random()\n",
    "x1"
   ]
  },
  {
   "cell_type": "code",
   "execution_count": 9,
   "metadata": {
    "slideshow": {
     "slide_type": "fragment"
    }
   },
   "outputs": [
    {
     "name": "stdout",
     "output_type": "stream",
     "text": [
      "94\n"
     ]
    }
   ],
   "source": [
    "# Random integer in the range [a,b], including both end points\n",
    "num = random.randint(1, 100)\n",
    "print(num)\n"
   ]
  },
  {
   "cell_type": "markdown",
   "metadata": {
    "slideshow": {
     "slide_type": "slide"
    }
   },
   "source": [
    "## IPython Shell"
   ]
  },
  {
   "cell_type": "markdown",
   "metadata": {
    "slideshow": {
     "slide_type": "slide"
    }
   },
   "source": [
    "## Python Basics\n",
    "\n",
    "In no particular order yet:\n",
    "\n",
    "- Variable types - integer, float, string, Boolean, None, list\n",
    "- Basic math operations, reassigning variables (e.g. `a = a + 1`)\n",
    "- Functions and methods, sorted(), chaining methods\n",
    "- Lists - indexing, slicing, concatenation and other operations, append(), extend(), remove(), range(), copies vs. pointers, nested lists, square brackets vs. parentheses, membership testing with `in`\n",
    "- Tuples and zip(), set()\n",
    "\n",
    "- Loops - iterating over lists, counting with enumerate(), indentation\n",
    "- Conditionals and logic - if statements, logical operators, \"in\", \"and\", \"or\", \"not\"\n",
    "- Dictionaries\n",
    "- Strings - indexing, slicing, concatenation, long strings, upper(), lower(), capitalize(), startswith(), endswith(), find(), replace()\n",
    "- Defining functions - e.g. shouting() -- upper case and periods to exclamation points"
   ]
  },
  {
   "cell_type": "code",
   "execution_count": null,
   "metadata": {
    "collapsed": true
   },
   "outputs": [],
   "source": []
  },
  {
   "cell_type": "code",
   "execution_count": 2,
   "metadata": {
    "slideshow": {
     "slide_type": "slide"
    }
   },
   "outputs": [
    {
     "name": "stdout",
     "output_type": "stream",
     "text": [
      "Hello world!\n"
     ]
    }
   ],
   "source": [
    "print('Hello world!')"
   ]
  },
  {
   "cell_type": "markdown",
   "metadata": {
    "slideshow": {
     "slide_type": "notes"
    }
   },
   "source": [
    "#### Jupyter slideshow configuration\n",
    "\n",
    "`conda install -c damianavila82 rise`\n",
    "\n",
    "http://rise.readthedocs.io/en/latest/installation.html\n",
    "\n",
    "http://rise.readthedocs.io/en/latest/customize.html#notebook-metadata\n",
    "\n",
    "May need to do a manual refresh of the notebook for the metadata settings above to be applied (https://github.com/damianavila/RISE/issues/172)\n",
    "\n",
    "Different themes to play with: \"sky\", \"solarized\" https://revealjs.com/?transition=none#/themes\n",
    "\n",
    "Use \"simple\" theme with \"sky\" background by adding a customized css: http://rise.readthedocs.io/en/latest/customize.html#adding-custom-css\n",
    "\n",
    "\n",
    "Exporting slides:\n",
    "\n",
    "http://rise.readthedocs.io/en/latest/exportpdf.html\n",
    "\n",
    "https://github.com/Anaconda-Platform/nbpresent/issues/82\n",
    "\n",
    "\n",
    "\n",
    "#### Misc\n",
    "\n",
    "Mini exercises during lessons, with solution on next slide fragment in presentation\n",
    "\n",
    "Separate Jupyter notebook with exercises and solutions"
   ]
  },
  {
   "cell_type": "markdown",
   "metadata": {
    "slideshow": {
     "slide_type": "notes"
    }
   },
   "source": [
    "Pre-workshop instructions - three options for computer setup:\n",
    "1. Full Anaconda installation\n",
    "2. Minimal installation with Miniconda, then at Anaconda Prompt, `conda install python=3.6 numpy pandas matplotlib seaborn bokeh plotly`\n",
    "3. Install above libraries with `pip install` in pure Python on your computer (optionally in a virtual environment)"
   ]
  },
  {
   "cell_type": "markdown",
   "metadata": {},
   "source": [
    "Data: girl and boy names in BC \n",
    "- https://catalogue.data.gov.bc.ca/dataset?res_format=csv&sector=Health+and+Safety&download_audience=Public\n",
    "- https://catalogue.data.gov.bc.ca/dataset/most-popular-boys-names-for-the-past-100-years\n",
    "- https://catalogue.data.gov.bc.ca/dataset/most-popular-girl-names-for-the-past-100-years\n",
    "\n"
   ]
  },
  {
   "cell_type": "code",
   "execution_count": null,
   "metadata": {
    "collapsed": true
   },
   "outputs": [],
   "source": []
  }
 ],
 "metadata": {
  "celltoolbar": "Slideshow",
  "kernelspec": {
   "display_name": "Python [conda env:py3.6]",
   "language": "python",
   "name": "conda-env-py3.6-py"
  },
  "language_info": {
   "codemirror_mode": {
    "name": "ipython",
    "version": 2
   },
   "file_extension": ".py",
   "mimetype": "text/x-python",
   "name": "python",
   "nbconvert_exporter": "python",
   "pygments_lexer": "ipython2",
   "version": "2.7.14"
  },
  "livereveal": {
   "scroll": true,
   "theme": "simple",
   "transition": "none"
  }
 },
 "nbformat": 4,
 "nbformat_minor": 2
}
