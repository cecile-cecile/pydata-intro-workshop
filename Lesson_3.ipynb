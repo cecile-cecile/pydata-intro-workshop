{
 "cells": [
  {
   "cell_type": "markdown",
   "metadata": {
    "slideshow": {
     "slide_type": "slide"
    }
   },
   "source": [
    "# Lesson 3: Text Data and Messy/Missing Data"
   ]
  },
  {
   "cell_type": "markdown",
   "metadata": {
    "slideshow": {
     "slide_type": "skip"
    }
   },
   "source": [
    "# Initial Setup\n",
    "\n",
    "Import libraries and initialize variables to pick up where we left off in Lesson 2."
   ]
  },
  {
   "cell_type": "code",
   "execution_count": 1,
   "metadata": {
    "slideshow": {
     "slide_type": "skip"
    }
   },
   "outputs": [],
   "source": [
    "import pandas as pd\n",
    "\n",
    "%matplotlib inline"
   ]
  },
  {
   "cell_type": "code",
   "execution_count": 2,
   "metadata": {
    "slideshow": {
     "slide_type": "skip"
    }
   },
   "outputs": [],
   "source": [
    "weather_yvr = pd.read_csv('data/weather_yvr.csv')\n",
    "weather_yvr['Relative Humidity (fraction)'] = weather_yvr['Relative Humidity (%)'] / 100\n",
    "weather_yvr['Temperature (F)'] = 1.8 * weather_yvr['Temperature (C)'] + 32"
   ]
  },
  {
   "cell_type": "markdown",
   "metadata": {
    "slideshow": {
     "slide_type": "slide"
    }
   },
   "source": [
    "# Text Data\n",
    "\n",
    "What about text data like the `'Conditions'` column?"
   ]
  },
  {
   "cell_type": "code",
   "execution_count": 3,
   "metadata": {
    "slideshow": {
     "slide_type": "fragment"
    }
   },
   "outputs": [],
   "source": [
    "conditions = weather_yvr['Conditions']"
   ]
  },
  {
   "cell_type": "code",
   "execution_count": 4,
   "metadata": {
    "slideshow": {
     "slide_type": "fragment"
    }
   },
   "outputs": [
    {
     "data": {
      "text/plain": [
       "0      Mainly Clear\n",
       "1             Clear\n",
       "2             Clear\n",
       "3             Clear\n",
       "4             Clear\n",
       "5             Clear\n",
       "6             Clear\n",
       "7               Fog\n",
       "8      Mainly Sunny\n",
       "9     Partly Cloudy\n",
       "10     Mainly Sunny\n",
       "11    Partly Cloudy\n",
       "12    Partly Cloudy\n",
       "13    Partly Cloudy\n",
       "14     Mainly Sunny\n",
       "15     Mainly Sunny\n",
       "16     Mainly Sunny\n",
       "17     Mainly Sunny\n",
       "18            Sunny\n",
       "19     Mainly Sunny\n",
       "20            Sunny\n",
       "21            Sunny\n",
       "22            Sunny\n",
       "23            Clear\n",
       "Name: Conditions, dtype: object"
      ]
     },
     "execution_count": 4,
     "metadata": {},
     "output_type": "execute_result"
    }
   ],
   "source": [
    "conditions"
   ]
  },
  {
   "cell_type": "markdown",
   "metadata": {
    "slideshow": {
     "slide_type": "fragment"
    }
   },
   "source": [
    "The Series `conditions` has a `dtype` of `object`"
   ]
  },
  {
   "cell_type": "markdown",
   "metadata": {
    "slideshow": {
     "slide_type": "fragment"
    }
   },
   "source": [
    "There are many repeated values in this Series.\n",
    "- How many unique values are in the Series?\n",
    "- How often does each value occur?\n",
    "- What are the most common values?"
   ]
  },
  {
   "cell_type": "markdown",
   "metadata": {
    "slideshow": {
     "slide_type": "slide"
    }
   },
   "source": [
    "We can use the `unique` method to list the unique values:"
   ]
  },
  {
   "cell_type": "code",
   "execution_count": 5,
   "metadata": {
    "scrolled": true,
    "slideshow": {
     "slide_type": "fragment"
    }
   },
   "outputs": [
    {
     "data": {
      "text/plain": [
       "array(['Mainly Clear', 'Clear', 'Fog', 'Mainly Sunny', 'Partly Cloudy',\n",
       "       'Sunny'], dtype=object)"
      ]
     },
     "execution_count": 5,
     "metadata": {},
     "output_type": "execute_result"
    }
   ],
   "source": [
    "conditions.unique()"
   ]
  },
  {
   "cell_type": "markdown",
   "metadata": {
    "slideshow": {
     "slide_type": "fragment"
    }
   },
   "source": [
    "We can use the function `len` to find the number of unique values:"
   ]
  },
  {
   "cell_type": "code",
   "execution_count": 6,
   "metadata": {
    "slideshow": {
     "slide_type": "fragment"
    }
   },
   "outputs": [
    {
     "data": {
      "text/plain": [
       "6"
      ]
     },
     "execution_count": 6,
     "metadata": {},
     "output_type": "execute_result"
    }
   ],
   "source": [
    "len(conditions.unique())"
   ]
  },
  {
   "cell_type": "markdown",
   "metadata": {
    "slideshow": {
     "slide_type": "fragment"
    }
   },
   "source": [
    "Alternatively, we could use the `nunique` method to find the number of unique values:"
   ]
  },
  {
   "cell_type": "code",
   "execution_count": 7,
   "metadata": {
    "slideshow": {
     "slide_type": "fragment"
    }
   },
   "outputs": [
    {
     "data": {
      "text/plain": [
       "6"
      ]
     },
     "execution_count": 7,
     "metadata": {},
     "output_type": "execute_result"
    }
   ],
   "source": [
    "conditions.nunique()"
   ]
  },
  {
   "cell_type": "markdown",
   "metadata": {
    "slideshow": {
     "slide_type": "slide"
    }
   },
   "source": [
    "`value_counts` is a very handy method to quickly summarize a Series of text data and find the most common values:"
   ]
  },
  {
   "cell_type": "code",
   "execution_count": 8,
   "metadata": {
    "scrolled": true,
    "slideshow": {
     "slide_type": "fragment"
    }
   },
   "outputs": [
    {
     "data": {
      "text/plain": [
       "Clear            7\n",
       "Mainly Sunny     7\n",
       "Sunny            4\n",
       "Partly Cloudy    4\n",
       "Fog              1\n",
       "Mainly Clear     1\n",
       "Name: Conditions, dtype: int64"
      ]
     },
     "execution_count": 8,
     "metadata": {},
     "output_type": "execute_result"
    }
   ],
   "source": [
    "conditions.value_counts()"
   ]
  },
  {
   "cell_type": "markdown",
   "metadata": {
    "slideshow": {
     "slide_type": "slide"
    }
   },
   "source": [
    "We can assign the output of `value_counts` to a variable:"
   ]
  },
  {
   "cell_type": "code",
   "execution_count": 9,
   "metadata": {
    "slideshow": {
     "slide_type": "fragment"
    }
   },
   "outputs": [],
   "source": [
    "conditions_counts = conditions.value_counts()"
   ]
  },
  {
   "cell_type": "code",
   "execution_count": 10,
   "metadata": {
    "slideshow": {
     "slide_type": "fragment"
    }
   },
   "outputs": [
    {
     "data": {
      "text/plain": [
       "Clear            7\n",
       "Mainly Sunny     7\n",
       "Sunny            4\n",
       "Partly Cloudy    4\n",
       "Fog              1\n",
       "Mainly Clear     1\n",
       "Name: Conditions, dtype: int64"
      ]
     },
     "execution_count": 10,
     "metadata": {},
     "output_type": "execute_result"
    }
   ],
   "source": [
    "conditions_counts"
   ]
  },
  {
   "cell_type": "markdown",
   "metadata": {
    "slideshow": {
     "slide_type": "subslide"
    }
   },
   "source": [
    "What data type do you think `conditions_counts` is?"
   ]
  },
  {
   "cell_type": "code",
   "execution_count": 11,
   "metadata": {
    "slideshow": {
     "slide_type": "fragment"
    }
   },
   "outputs": [
    {
     "data": {
      "text/plain": [
       "pandas.core.series.Series"
      ]
     },
     "execution_count": 11,
     "metadata": {},
     "output_type": "execute_result"
    }
   ],
   "source": [
    "type(conditions_counts)"
   ]
  },
  {
   "cell_type": "code",
   "execution_count": 12,
   "metadata": {
    "slideshow": {
     "slide_type": "fragment"
    }
   },
   "outputs": [
    {
     "data": {
      "text/plain": [
       "Index(['Clear', 'Mainly Sunny', 'Sunny', 'Partly Cloudy', 'Fog',\n",
       "       'Mainly Clear'],\n",
       "      dtype='object')"
      ]
     },
     "execution_count": 12,
     "metadata": {},
     "output_type": "execute_result"
    }
   ],
   "source": [
    "conditions_counts.index"
   ]
  },
  {
   "cell_type": "markdown",
   "metadata": {
    "slideshow": {
     "slide_type": "fragment"
    }
   },
   "source": [
    "- `conditions_counts` is a Series, with `dtype` of `int64`\n",
    "- It has text labels as its index"
   ]
  },
  {
   "cell_type": "markdown",
   "metadata": {
    "slideshow": {
     "slide_type": "slide"
    }
   },
   "source": [
    "We can plot `conditions_counts` as a vertical or horizontal bar chart. Here is a horizontal bar chart:"
   ]
  },
  {
   "cell_type": "code",
   "execution_count": 13,
   "metadata": {
    "slideshow": {
     "slide_type": "fragment"
    }
   },
   "outputs": [
    {
     "data": {
      "image/png": "[encoded data removed]",
      "text/plain": [
       "<matplotlib.figure.Figure at 0x19b78e82e48>"
      ]
     },
     "metadata": {},
     "output_type": "display_data"
    }
   ],
   "source": [
    "conditions_counts.plot(kind='barh');"
   ]
  },
  {
   "cell_type": "markdown",
   "metadata": {
    "slideshow": {
     "slide_type": "slide"
    }
   },
   "source": [
    "# Messy Data\n",
    "\n",
    "`pandas` makes it very easy to spot inconsistencies and missings in your data"
   ]
  },
  {
   "cell_type": "code",
   "execution_count": 14,
   "metadata": {
    "slideshow": {
     "slide_type": "fragment"
    }
   },
   "outputs": [
    {
     "data": {
      "text/html": [
       "<div>\n",
       "<style scoped>\n",
       "    .dataframe tbody tr th:only-of-type {\n",
       "        vertical-align: middle;\n",
       "    }\n",
       "\n",
       "    .dataframe tbody tr th {\n",
       "        vertical-align: top;\n",
       "    }\n",
       "\n",
       "    .dataframe thead th {\n",
       "        text-align: right;\n",
       "    }\n",
       "</style>\n",
       "<table border=\"1\" class=\"dataframe\">\n",
       "  <thead>\n",
       "    <tr style=\"text-align: right;\">\n",
       "      <th></th>\n",
       "      <th>Datetime</th>\n",
       "      <th>Hour of Day</th>\n",
       "      <th>Conditions</th>\n",
       "      <th>Temperature (C)</th>\n",
       "      <th>Relative Humidity (%)</th>\n",
       "    </tr>\n",
       "  </thead>\n",
       "  <tbody>\n",
       "    <tr>\n",
       "      <th>0</th>\n",
       "      <td>2018-05-21 22:00</td>\n",
       "      <td>22</td>\n",
       "      <td>Mainly Clear</td>\n",
       "      <td>14.8</td>\n",
       "      <td>75.0</td>\n",
       "    </tr>\n",
       "    <tr>\n",
       "      <th>1</th>\n",
       "      <td>2018-05-21 23:00</td>\n",
       "      <td>23</td>\n",
       "      <td>Clear</td>\n",
       "      <td>13.5</td>\n",
       "      <td>76.0</td>\n",
       "    </tr>\n",
       "    <tr>\n",
       "      <th>2</th>\n",
       "      <td>2018-05-22 0:00</td>\n",
       "      <td>0</td>\n",
       "      <td>clear</td>\n",
       "      <td>NaN</td>\n",
       "      <td>NaN</td>\n",
       "    </tr>\n",
       "    <tr>\n",
       "      <th>3</th>\n",
       "      <td>2018-05-22 1:00</td>\n",
       "      <td>1</td>\n",
       "      <td>Clear</td>\n",
       "      <td>12.9</td>\n",
       "      <td>84.0</td>\n",
       "    </tr>\n",
       "    <tr>\n",
       "      <th>4</th>\n",
       "      <td>2018-05-22 2:00</td>\n",
       "      <td>2</td>\n",
       "      <td>Clear</td>\n",
       "      <td>12.2</td>\n",
       "      <td>88.0</td>\n",
       "    </tr>\n",
       "  </tbody>\n",
       "</table>\n",
       "</div>"
      ],
      "text/plain": [
       "           Datetime  Hour of Day    Conditions  Temperature (C)  \\\n",
       "0  2018-05-21 22:00           22  Mainly Clear             14.8   \n",
       "1  2018-05-21 23:00           23         Clear             13.5   \n",
       "2   2018-05-22 0:00            0         clear              NaN   \n",
       "3   2018-05-22 1:00            1         Clear             12.9   \n",
       "4   2018-05-22 2:00            2         Clear             12.2   \n",
       "\n",
       "   Relative Humidity (%)  \n",
       "0                   75.0  \n",
       "1                   76.0  \n",
       "2                    NaN  \n",
       "3                   84.0  \n",
       "4                   88.0  "
      ]
     },
     "execution_count": 14,
     "metadata": {},
     "output_type": "execute_result"
    }
   ],
   "source": [
    "messy = pd.read_csv('data/weather_yvr_messy.csv')\n",
    "messy.head()"
   ]
  },
  {
   "cell_type": "markdown",
   "metadata": {
    "slideshow": {
     "slide_type": "slide"
    }
   },
   "source": [
    "Let's check out `value_counts` for the `'Conditions'` column:"
   ]
  },
  {
   "cell_type": "code",
   "execution_count": 15,
   "metadata": {
    "slideshow": {
     "slide_type": "fragment"
    }
   },
   "outputs": [
    {
     "data": {
      "text/plain": [
       "Mainly Sunny       4\n",
       "Clear              4\n",
       "Sunny              3\n",
       " Partly Cloudy     2\n",
       "Mainly sunny       2\n",
       "Partly Cloudy      1\n",
       " Clear             1\n",
       "clear              1\n",
       "Partly cloudy      1\n",
       "Fog                1\n",
       "Mainly Clear       1\n",
       "Mainly Sunny       1\n",
       "Name: Conditions, dtype: int64"
      ]
     },
     "execution_count": 15,
     "metadata": {},
     "output_type": "execute_result"
    }
   ],
   "source": [
    "conditions_m = messy['Conditions']\n",
    "conditions_m.value_counts()"
   ]
  },
  {
   "cell_type": "markdown",
   "metadata": {
    "slideshow": {
     "slide_type": "fragment"
    }
   },
   "source": [
    "- We can see inconsistencies in capitalization and white space in these values\n",
    "- Categories that should be the same (e.g. 'Mainly Sunny' and 'Mainly sunny') are counted as separate categories"
   ]
  },
  {
   "cell_type": "markdown",
   "metadata": {
    "slideshow": {
     "slide_type": "slide"
    }
   },
   "source": [
    "The `unique` method can give some additional insights:"
   ]
  },
  {
   "cell_type": "code",
   "execution_count": 16,
   "metadata": {
    "slideshow": {
     "slide_type": "fragment"
    }
   },
   "outputs": [
    {
     "data": {
      "text/plain": [
       "array(['Mainly Clear', 'Clear', 'clear', ' Clear ', nan, 'Fog',\n",
       "       'Mainly Sunny', 'Partly Cloudy', 'Partly cloudy', ' Partly Cloudy',\n",
       "       'Mainly sunny', 'Sunny', 'Mainly Sunny   '], dtype=object)"
      ]
     },
     "execution_count": 16,
     "metadata": {},
     "output_type": "execute_result"
    }
   ],
   "source": [
    "conditions_m.unique()"
   ]
  },
  {
   "cell_type": "markdown",
   "metadata": {
    "slideshow": {
     "slide_type": "fragment"
    }
   },
   "source": [
    "- Values are sorted so that similar values values are grouped together\n",
    "- Extra leading / trailing white spaces are clearly visible\n",
    "- Missing values appear as `nan`"
   ]
  },
  {
   "cell_type": "markdown",
   "metadata": {
    "slideshow": {
     "slide_type": "slide"
    }
   },
   "source": [
    "We can see how many missing values there are with the `dropna` keyword argument to `value_counts`:"
   ]
  },
  {
   "cell_type": "code",
   "execution_count": 17,
   "metadata": {
    "slideshow": {
     "slide_type": "fragment"
    }
   },
   "outputs": [
    {
     "data": {
      "text/plain": [
       "Mainly Sunny       4\n",
       "Clear              4\n",
       "Sunny              3\n",
       " Partly Cloudy     2\n",
       "Mainly sunny       2\n",
       "NaN                2\n",
       "Partly Cloudy      1\n",
       " Clear             1\n",
       "clear              1\n",
       "Partly cloudy      1\n",
       "Fog                1\n",
       "Mainly Clear       1\n",
       "Mainly Sunny       1\n",
       "Name: Conditions, dtype: int64"
      ]
     },
     "execution_count": 17,
     "metadata": {},
     "output_type": "execute_result"
    }
   ],
   "source": [
    "conditions_m.value_counts(dropna=False)"
   ]
  },
  {
   "cell_type": "markdown",
   "metadata": {
    "slideshow": {
     "slide_type": "slide"
    }
   },
   "source": [
    "We can apply the string methods we saw earlier to the `conditions_m` to quickly and easily standardize the Series\n",
    "- Convert all values to lower case\n",
    "- Strip extra leading and trailing white space from all values"
   ]
  },
  {
   "cell_type": "code",
   "execution_count": 18,
   "metadata": {
    "slideshow": {
     "slide_type": "fragment"
    }
   },
   "outputs": [
    {
     "data": {
      "text/plain": [
       "0        mainly clear\n",
       "1               clear\n",
       "2               clear\n",
       "3               clear\n",
       "4               clear\n",
       "5              clear \n",
       "6                 NaN\n",
       "7                 fog\n",
       "8        mainly sunny\n",
       "9       partly cloudy\n",
       "10       mainly sunny\n",
       "11      partly cloudy\n",
       "12      partly cloudy\n",
       "13      partly cloudy\n",
       "14       mainly sunny\n",
       "15       mainly sunny\n",
       "16       mainly sunny\n",
       "17       mainly sunny\n",
       "18              sunny\n",
       "19    mainly sunny   \n",
       "20              sunny\n",
       "21                NaN\n",
       "22              sunny\n",
       "23              clear\n",
       "Name: Conditions, dtype: object"
      ]
     },
     "execution_count": 18,
     "metadata": {},
     "output_type": "execute_result"
    }
   ],
   "source": [
    "conditions_lower = conditions_m.str.lower()\n",
    "conditions_lower"
   ]
  },
  {
   "cell_type": "code",
   "execution_count": 19,
   "metadata": {
    "slideshow": {
     "slide_type": "fragment"
    }
   },
   "outputs": [
    {
     "data": {
      "text/plain": [
       "0      mainly clear\n",
       "1             clear\n",
       "2             clear\n",
       "3             clear\n",
       "4             clear\n",
       "5             clear\n",
       "6               NaN\n",
       "7               fog\n",
       "8      mainly sunny\n",
       "9     partly cloudy\n",
       "10     mainly sunny\n",
       "11    partly cloudy\n",
       "12    partly cloudy\n",
       "13    partly cloudy\n",
       "14     mainly sunny\n",
       "15     mainly sunny\n",
       "16     mainly sunny\n",
       "17     mainly sunny\n",
       "18            sunny\n",
       "19     mainly sunny\n",
       "20            sunny\n",
       "21              NaN\n",
       "22            sunny\n",
       "23            clear\n",
       "Name: Conditions, dtype: object"
      ]
     },
     "execution_count": 19,
     "metadata": {},
     "output_type": "execute_result"
    }
   ],
   "source": [
    "conditions_clean = conditions_lower.str.strip()\n",
    "conditions_clean"
   ]
  },
  {
   "cell_type": "markdown",
   "metadata": {
    "slideshow": {
     "slide_type": "slide"
    }
   },
   "source": [
    "The previous two steps could be consolidated into a single line of code, using method chaining:"
   ]
  },
  {
   "cell_type": "code",
   "execution_count": 20,
   "metadata": {
    "slideshow": {
     "slide_type": "fragment"
    }
   },
   "outputs": [
    {
     "data": {
      "text/plain": [
       "0      mainly clear\n",
       "1             clear\n",
       "2             clear\n",
       "3             clear\n",
       "4             clear\n",
       "5             clear\n",
       "6               NaN\n",
       "7               fog\n",
       "8      mainly sunny\n",
       "9     partly cloudy\n",
       "10     mainly sunny\n",
       "11    partly cloudy\n",
       "12    partly cloudy\n",
       "13    partly cloudy\n",
       "14     mainly sunny\n",
       "15     mainly sunny\n",
       "16     mainly sunny\n",
       "17     mainly sunny\n",
       "18            sunny\n",
       "19     mainly sunny\n",
       "20            sunny\n",
       "21              NaN\n",
       "22            sunny\n",
       "23            clear\n",
       "Name: Conditions, dtype: object"
      ]
     },
     "execution_count": 20,
     "metadata": {},
     "output_type": "execute_result"
    }
   ],
   "source": [
    "conditions_clean = conditions_m.str.lower().str.strip()\n",
    "conditions_clean"
   ]
  },
  {
   "cell_type": "code",
   "execution_count": 21,
   "metadata": {
    "slideshow": {
     "slide_type": "fragment"
    }
   },
   "outputs": [
    {
     "data": {
      "text/plain": [
       "mainly sunny     7\n",
       "clear            6\n",
       "partly cloudy    4\n",
       "sunny            3\n",
       "NaN              2\n",
       "fog              1\n",
       "mainly clear     1\n",
       "Name: Conditions, dtype: int64"
      ]
     },
     "execution_count": 21,
     "metadata": {},
     "output_type": "execute_result"
    }
   ],
   "source": [
    "conditions_clean.value_counts(dropna=False)"
   ]
  },
  {
   "cell_type": "markdown",
   "metadata": {
    "slideshow": {
     "slide_type": "slide"
    }
   },
   "source": [
    "We can add this standardized version of the `'Conditions'` column to our DataFrame and save to CSV:"
   ]
  },
  {
   "cell_type": "code",
   "execution_count": 22,
   "metadata": {
    "slideshow": {
     "slide_type": "fragment"
    }
   },
   "outputs": [
    {
     "data": {
      "text/html": [
       "<div>\n",
       "<style scoped>\n",
       "    .dataframe tbody tr th:only-of-type {\n",
       "        vertical-align: middle;\n",
       "    }\n",
       "\n",
       "    .dataframe tbody tr th {\n",
       "        vertical-align: top;\n",
       "    }\n",
       "\n",
       "    .dataframe thead th {\n",
       "        text-align: right;\n",
       "    }\n",
       "</style>\n",
       "<table border=\"1\" class=\"dataframe\">\n",
       "  <thead>\n",
       "    <tr style=\"text-align: right;\">\n",
       "      <th></th>\n",
       "      <th>Datetime</th>\n",
       "      <th>Hour of Day</th>\n",
       "      <th>Conditions</th>\n",
       "      <th>Temperature (C)</th>\n",
       "      <th>Relative Humidity (%)</th>\n",
       "      <th>Conditions (standardized)</th>\n",
       "    </tr>\n",
       "  </thead>\n",
       "  <tbody>\n",
       "    <tr>\n",
       "      <th>0</th>\n",
       "      <td>2018-05-21 22:00</td>\n",
       "      <td>22</td>\n",
       "      <td>Mainly Clear</td>\n",
       "      <td>14.8</td>\n",
       "      <td>75.0</td>\n",
       "      <td>mainly clear</td>\n",
       "    </tr>\n",
       "    <tr>\n",
       "      <th>1</th>\n",
       "      <td>2018-05-21 23:00</td>\n",
       "      <td>23</td>\n",
       "      <td>Clear</td>\n",
       "      <td>13.5</td>\n",
       "      <td>76.0</td>\n",
       "      <td>clear</td>\n",
       "    </tr>\n",
       "    <tr>\n",
       "      <th>2</th>\n",
       "      <td>2018-05-22 0:00</td>\n",
       "      <td>0</td>\n",
       "      <td>clear</td>\n",
       "      <td>NaN</td>\n",
       "      <td>NaN</td>\n",
       "      <td>clear</td>\n",
       "    </tr>\n",
       "    <tr>\n",
       "      <th>3</th>\n",
       "      <td>2018-05-22 1:00</td>\n",
       "      <td>1</td>\n",
       "      <td>Clear</td>\n",
       "      <td>12.9</td>\n",
       "      <td>84.0</td>\n",
       "      <td>clear</td>\n",
       "    </tr>\n",
       "    <tr>\n",
       "      <th>4</th>\n",
       "      <td>2018-05-22 2:00</td>\n",
       "      <td>2</td>\n",
       "      <td>Clear</td>\n",
       "      <td>12.2</td>\n",
       "      <td>88.0</td>\n",
       "      <td>clear</td>\n",
       "    </tr>\n",
       "  </tbody>\n",
       "</table>\n",
       "</div>"
      ],
      "text/plain": [
       "           Datetime  Hour of Day    Conditions  Temperature (C)  \\\n",
       "0  2018-05-21 22:00           22  Mainly Clear             14.8   \n",
       "1  2018-05-21 23:00           23         Clear             13.5   \n",
       "2   2018-05-22 0:00            0         clear              NaN   \n",
       "3   2018-05-22 1:00            1         Clear             12.9   \n",
       "4   2018-05-22 2:00            2         Clear             12.2   \n",
       "\n",
       "   Relative Humidity (%) Conditions (standardized)  \n",
       "0                   75.0              mainly clear  \n",
       "1                   76.0                     clear  \n",
       "2                    NaN                     clear  \n",
       "3                   84.0                     clear  \n",
       "4                   88.0                     clear  "
      ]
     },
     "execution_count": 22,
     "metadata": {},
     "output_type": "execute_result"
    }
   ],
   "source": [
    "messy['Conditions (standardized)'] = conditions_clean\n",
    "messy.head()"
   ]
  },
  {
   "cell_type": "code",
   "execution_count": 23,
   "metadata": {
    "slideshow": {
     "slide_type": "fragment"
    }
   },
   "outputs": [],
   "source": [
    "messy.to_csv('data/weather_yvr_cleaned.csv', index=False)"
   ]
  },
  {
   "cell_type": "markdown",
   "metadata": {
    "slideshow": {
     "slide_type": "slide"
    }
   },
   "source": [
    "# Notebooks vs. Scripts\n",
    "\n",
    "So far our workflow has been exploratory and interactive:"
   ]
  },
  {
   "cell_type": "markdown",
   "metadata": {
    "slideshow": {
     "slide_type": "fragment"
    }
   },
   "source": [
    "![](img/workflow0.png)"
   ]
  },
  {
   "cell_type": "markdown",
   "metadata": {
    "slideshow": {
     "slide_type": "-"
    }
   },
   "source": [
    "Fernando Perez (creator of IPython and Jupyter) calls this \"humans in the loop\""
   ]
  },
  {
   "cell_type": "markdown",
   "metadata": {
    "slideshow": {
     "slide_type": "subslide"
    }
   },
   "source": [
    "- Write a bit of code\n",
    "- Run the code\n",
    "- Look at the output and see what's interesting, what needs to be done next, new questions to ask\n",
    "- Write a bit more code\n",
    "- and so on..."
   ]
  },
  {
   "cell_type": "markdown",
   "metadata": {
    "slideshow": {
     "slide_type": "slide"
    }
   },
   "source": [
    "Sometimes, we might want to develop a more automated workflow for tasks we need to do over and over."
   ]
  },
  {
   "cell_type": "markdown",
   "metadata": {
    "slideshow": {
     "slide_type": "-"
    }
   },
   "source": [
    "![](img/workflow1.png)"
   ]
  },
  {
   "cell_type": "markdown",
   "metadata": {
    "slideshow": {
     "slide_type": "fragment"
    }
   },
   "source": [
    "- Suppose we have a bunch of CSV files with messy weather data similar to the previous example\n",
    "- We might want to repeat the above steps to process each file and save the standardized data to new files\n",
    "- We could adapt the code from our notebook into a Python **script**"
   ]
  },
  {
   "cell_type": "markdown",
   "metadata": {
    "slideshow": {
     "slide_type": "skip"
    }
   },
   "source": [
    "# Automating Tasks with Scripts\n",
    "\n",
    "This section is optional. Feel free to skip to the end!\n",
    "\n",
    "### Writing a Script\n",
    "\n",
    "- In Jupyter Lab, make sure you're in the main folder with your workshop files\n",
    "- From the Launcher, click the \"Text Editor\" icon near the bottom\n",
    "- A new text file is created&mdash;rename it from \"untitled.txt\" to \"my_script.py\"\n",
    "- Copy the relevant lines of code from the messy data example in our notebook into \"my_script.py\". You'll want to include the following steps in your script:\n",
    "  - Import `pandas` library\n",
    "  - Read `'data/weather_yvr_messy.csv'` into a DataFrame\n",
    "  - Apply the `strip` and `lower` string methods to the `'Conditions'` column of the DataFrame\n",
    "  - You can add the cleaned data as a new column (e.g. `'Conditions (standardized)'`) or simply over-write the `'Conditions'` column with the cleaned data\n",
    "  - Save the cleaned data to a new CSV file\n",
    "- Press Ctrl-S (or Cmd-S on Mac) to make sure \"my_script.py\" is saved\n",
    "- To see an example of what this would look like, check out \"example_script.py\"\n",
    "\n",
    "### Running a Script\n",
    "\n",
    "- From the Launcher in Jupyter Lab, click the \"Terminal\" icon near the bottom\n",
    "- To the left of the command prompt, it will show what folder you're in\n",
    "  - This might not be the workshop folder&mdash;you might be in your main user folder\n",
    "- To navigate to your workshop folder, use the command `cd` followed by the relative path of the folder:\n",
    "  - For example, on my computer, the terminal opens in the folder `C:\\Users\\jenfly`. From here, I use the command:\n",
    "```\n",
    "cd Projects\\pydata-intro-workshop\n",
    "```\n",
    "  - This will change my working folder to be `C:\\Users\\jenfly\\Projects\\pydata-intro-workshop`, which will now appear to the left of the prompt\n",
    "  - On your computer, you'll want to substitute the appropriate folder names, and if you're on a Mac, use forward slashes `/` instead of back slashes `\\`\n",
    "- Now that you're in the correct folder, run the following command at the prompt to run your script:\n",
    "```\n",
    "python my_script.py\n",
    "```\n",
    "- If everything worked, the script will execute with no error messages and the new CSV file with the cleaned data will have been created!\n",
    "  - Incorporating `print` statements into your script can help you verify that it's running properly. For an example of this, try running the sample script:\n",
    "```\n",
    "python example_script.py\n",
    "```"
   ]
  },
  {
   "cell_type": "markdown",
   "metadata": {
    "slideshow": {
     "slide_type": "slide"
    }
   },
   "source": [
    "# Missing Data\n",
    "\n",
    "- We saw from `conditions_m.value_counts(dropna=False)` that there are 2 missing values in `conditions_m`\n",
    "- With any data that we're working with, it's good to know:\n",
    "  - How many values are missing?\n",
    "  - Where are the empty cells located in our DataFrame (or Series)?"
   ]
  },
  {
   "cell_type": "markdown",
   "metadata": {
    "slideshow": {
     "slide_type": "slide"
    }
   },
   "source": [
    "We can use the `isnull` method to locate missing values"
   ]
  },
  {
   "cell_type": "code",
   "execution_count": 24,
   "metadata": {
    "slideshow": {
     "slide_type": "fragment"
    }
   },
   "outputs": [
    {
     "data": {
      "text/plain": [
       "0     False\n",
       "1     False\n",
       "2     False\n",
       "3     False\n",
       "4     False\n",
       "5     False\n",
       "6      True\n",
       "7     False\n",
       "8     False\n",
       "9     False\n",
       "10    False\n",
       "11    False\n",
       "12    False\n",
       "13    False\n",
       "14    False\n",
       "15    False\n",
       "16    False\n",
       "17    False\n",
       "18    False\n",
       "19    False\n",
       "20    False\n",
       "21     True\n",
       "22    False\n",
       "23    False\n",
       "Name: Conditions, dtype: bool"
      ]
     },
     "execution_count": 24,
     "metadata": {},
     "output_type": "execute_result"
    }
   ],
   "source": [
    "missing_conditions = conditions_m.isnull()\n",
    "missing_conditions"
   ]
  },
  {
   "cell_type": "markdown",
   "metadata": {
    "slideshow": {
     "slide_type": "fragment"
    }
   },
   "source": [
    "- `missing_conditions` is a Series of Booleans, with `True` where the value in `conditions_m` is missing and `False` where it is not missing"
   ]
  },
  {
   "cell_type": "markdown",
   "metadata": {
    "slideshow": {
     "slide_type": "fragment"
    }
   },
   "source": [
    "- We can count the missings using the `sum` method:\n",
    "  - Adds up all the values in the Series, treating `True` as 1 and `False` as 0"
   ]
  },
  {
   "cell_type": "code",
   "execution_count": 25,
   "metadata": {
    "slideshow": {
     "slide_type": "fragment"
    }
   },
   "outputs": [
    {
     "data": {
      "text/plain": [
       "2"
      ]
     },
     "execution_count": 25,
     "metadata": {},
     "output_type": "execute_result"
    }
   ],
   "source": [
    "missing_conditions.sum()"
   ]
  },
  {
   "cell_type": "markdown",
   "metadata": {
    "slideshow": {
     "slide_type": "slide"
    }
   },
   "source": [
    "The `isnull` method can be applied to an entire DataFrame:"
   ]
  },
  {
   "cell_type": "code",
   "execution_count": 26,
   "metadata": {
    "slideshow": {
     "slide_type": "fragment"
    }
   },
   "outputs": [
    {
     "data": {
      "text/html": [
       "<div>\n",
       "<style scoped>\n",
       "    .dataframe tbody tr th:only-of-type {\n",
       "        vertical-align: middle;\n",
       "    }\n",
       "\n",
       "    .dataframe tbody tr th {\n",
       "        vertical-align: top;\n",
       "    }\n",
       "\n",
       "    .dataframe thead th {\n",
       "        text-align: right;\n",
       "    }\n",
       "</style>\n",
       "<table border=\"1\" class=\"dataframe\">\n",
       "  <thead>\n",
       "    <tr style=\"text-align: right;\">\n",
       "      <th></th>\n",
       "      <th>Datetime</th>\n",
       "      <th>Hour of Day</th>\n",
       "      <th>Conditions</th>\n",
       "      <th>Temperature (C)</th>\n",
       "      <th>Relative Humidity (%)</th>\n",
       "      <th>Conditions (standardized)</th>\n",
       "    </tr>\n",
       "  </thead>\n",
       "  <tbody>\n",
       "    <tr>\n",
       "      <th>0</th>\n",
       "      <td>False</td>\n",
       "      <td>False</td>\n",
       "      <td>False</td>\n",
       "      <td>False</td>\n",
       "      <td>False</td>\n",
       "      <td>False</td>\n",
       "    </tr>\n",
       "    <tr>\n",
       "      <th>1</th>\n",
       "      <td>False</td>\n",
       "      <td>False</td>\n",
       "      <td>False</td>\n",
       "      <td>False</td>\n",
       "      <td>False</td>\n",
       "      <td>False</td>\n",
       "    </tr>\n",
       "    <tr>\n",
       "      <th>2</th>\n",
       "      <td>False</td>\n",
       "      <td>False</td>\n",
       "      <td>False</td>\n",
       "      <td>True</td>\n",
       "      <td>True</td>\n",
       "      <td>False</td>\n",
       "    </tr>\n",
       "    <tr>\n",
       "      <th>3</th>\n",
       "      <td>False</td>\n",
       "      <td>False</td>\n",
       "      <td>False</td>\n",
       "      <td>False</td>\n",
       "      <td>False</td>\n",
       "      <td>False</td>\n",
       "    </tr>\n",
       "    <tr>\n",
       "      <th>4</th>\n",
       "      <td>False</td>\n",
       "      <td>False</td>\n",
       "      <td>False</td>\n",
       "      <td>False</td>\n",
       "      <td>False</td>\n",
       "      <td>False</td>\n",
       "    </tr>\n",
       "    <tr>\n",
       "      <th>5</th>\n",
       "      <td>False</td>\n",
       "      <td>False</td>\n",
       "      <td>False</td>\n",
       "      <td>False</td>\n",
       "      <td>True</td>\n",
       "      <td>False</td>\n",
       "    </tr>\n",
       "    <tr>\n",
       "      <th>6</th>\n",
       "      <td>False</td>\n",
       "      <td>False</td>\n",
       "      <td>True</td>\n",
       "      <td>False</td>\n",
       "      <td>False</td>\n",
       "      <td>True</td>\n",
       "    </tr>\n",
       "    <tr>\n",
       "      <th>7</th>\n",
       "      <td>False</td>\n",
       "      <td>False</td>\n",
       "      <td>False</td>\n",
       "      <td>False</td>\n",
       "      <td>False</td>\n",
       "      <td>False</td>\n",
       "    </tr>\n",
       "    <tr>\n",
       "      <th>8</th>\n",
       "      <td>False</td>\n",
       "      <td>False</td>\n",
       "      <td>False</td>\n",
       "      <td>False</td>\n",
       "      <td>False</td>\n",
       "      <td>False</td>\n",
       "    </tr>\n",
       "    <tr>\n",
       "      <th>9</th>\n",
       "      <td>False</td>\n",
       "      <td>False</td>\n",
       "      <td>False</td>\n",
       "      <td>False</td>\n",
       "      <td>False</td>\n",
       "      <td>False</td>\n",
       "    </tr>\n",
       "    <tr>\n",
       "      <th>10</th>\n",
       "      <td>False</td>\n",
       "      <td>False</td>\n",
       "      <td>False</td>\n",
       "      <td>False</td>\n",
       "      <td>False</td>\n",
       "      <td>False</td>\n",
       "    </tr>\n",
       "    <tr>\n",
       "      <th>11</th>\n",
       "      <td>False</td>\n",
       "      <td>False</td>\n",
       "      <td>False</td>\n",
       "      <td>True</td>\n",
       "      <td>False</td>\n",
       "      <td>False</td>\n",
       "    </tr>\n",
       "    <tr>\n",
       "      <th>12</th>\n",
       "      <td>False</td>\n",
       "      <td>False</td>\n",
       "      <td>False</td>\n",
       "      <td>False</td>\n",
       "      <td>False</td>\n",
       "      <td>False</td>\n",
       "    </tr>\n",
       "    <tr>\n",
       "      <th>13</th>\n",
       "      <td>False</td>\n",
       "      <td>False</td>\n",
       "      <td>False</td>\n",
       "      <td>False</td>\n",
       "      <td>False</td>\n",
       "      <td>False</td>\n",
       "    </tr>\n",
       "    <tr>\n",
       "      <th>14</th>\n",
       "      <td>False</td>\n",
       "      <td>False</td>\n",
       "      <td>False</td>\n",
       "      <td>False</td>\n",
       "      <td>False</td>\n",
       "      <td>False</td>\n",
       "    </tr>\n",
       "    <tr>\n",
       "      <th>15</th>\n",
       "      <td>False</td>\n",
       "      <td>False</td>\n",
       "      <td>False</td>\n",
       "      <td>False</td>\n",
       "      <td>False</td>\n",
       "      <td>False</td>\n",
       "    </tr>\n",
       "    <tr>\n",
       "      <th>16</th>\n",
       "      <td>False</td>\n",
       "      <td>False</td>\n",
       "      <td>False</td>\n",
       "      <td>False</td>\n",
       "      <td>False</td>\n",
       "      <td>False</td>\n",
       "    </tr>\n",
       "    <tr>\n",
       "      <th>17</th>\n",
       "      <td>False</td>\n",
       "      <td>False</td>\n",
       "      <td>False</td>\n",
       "      <td>False</td>\n",
       "      <td>True</td>\n",
       "      <td>False</td>\n",
       "    </tr>\n",
       "    <tr>\n",
       "      <th>18</th>\n",
       "      <td>False</td>\n",
       "      <td>False</td>\n",
       "      <td>False</td>\n",
       "      <td>False</td>\n",
       "      <td>False</td>\n",
       "      <td>False</td>\n",
       "    </tr>\n",
       "    <tr>\n",
       "      <th>19</th>\n",
       "      <td>False</td>\n",
       "      <td>False</td>\n",
       "      <td>False</td>\n",
       "      <td>False</td>\n",
       "      <td>False</td>\n",
       "      <td>False</td>\n",
       "    </tr>\n",
       "    <tr>\n",
       "      <th>20</th>\n",
       "      <td>False</td>\n",
       "      <td>False</td>\n",
       "      <td>False</td>\n",
       "      <td>False</td>\n",
       "      <td>False</td>\n",
       "      <td>False</td>\n",
       "    </tr>\n",
       "    <tr>\n",
       "      <th>21</th>\n",
       "      <td>False</td>\n",
       "      <td>False</td>\n",
       "      <td>True</td>\n",
       "      <td>False</td>\n",
       "      <td>False</td>\n",
       "      <td>True</td>\n",
       "    </tr>\n",
       "    <tr>\n",
       "      <th>22</th>\n",
       "      <td>False</td>\n",
       "      <td>False</td>\n",
       "      <td>False</td>\n",
       "      <td>False</td>\n",
       "      <td>False</td>\n",
       "      <td>False</td>\n",
       "    </tr>\n",
       "    <tr>\n",
       "      <th>23</th>\n",
       "      <td>False</td>\n",
       "      <td>False</td>\n",
       "      <td>False</td>\n",
       "      <td>False</td>\n",
       "      <td>False</td>\n",
       "      <td>False</td>\n",
       "    </tr>\n",
       "  </tbody>\n",
       "</table>\n",
       "</div>"
      ],
      "text/plain": [
       "    Datetime  Hour of Day  Conditions  Temperature (C)  Relative Humidity (%)  \\\n",
       "0      False        False       False            False                  False   \n",
       "1      False        False       False            False                  False   \n",
       "2      False        False       False             True                   True   \n",
       "3      False        False       False            False                  False   \n",
       "4      False        False       False            False                  False   \n",
       "5      False        False       False            False                   True   \n",
       "6      False        False        True            False                  False   \n",
       "7      False        False       False            False                  False   \n",
       "8      False        False       False            False                  False   \n",
       "9      False        False       False            False                  False   \n",
       "10     False        False       False            False                  False   \n",
       "11     False        False       False             True                  False   \n",
       "12     False        False       False            False                  False   \n",
       "13     False        False       False            False                  False   \n",
       "14     False        False       False            False                  False   \n",
       "15     False        False       False            False                  False   \n",
       "16     False        False       False            False                  False   \n",
       "17     False        False       False            False                   True   \n",
       "18     False        False       False            False                  False   \n",
       "19     False        False       False            False                  False   \n",
       "20     False        False       False            False                  False   \n",
       "21     False        False        True            False                  False   \n",
       "22     False        False       False            False                  False   \n",
       "23     False        False       False            False                  False   \n",
       "\n",
       "    Conditions (standardized)  \n",
       "0                       False  \n",
       "1                       False  \n",
       "2                       False  \n",
       "3                       False  \n",
       "4                       False  \n",
       "5                       False  \n",
       "6                        True  \n",
       "7                       False  \n",
       "8                       False  \n",
       "9                       False  \n",
       "10                      False  \n",
       "11                      False  \n",
       "12                      False  \n",
       "13                      False  \n",
       "14                      False  \n",
       "15                      False  \n",
       "16                      False  \n",
       "17                      False  \n",
       "18                      False  \n",
       "19                      False  \n",
       "20                      False  \n",
       "21                       True  \n",
       "22                      False  \n",
       "23                      False  "
      ]
     },
     "execution_count": 26,
     "metadata": {},
     "output_type": "execute_result"
    }
   ],
   "source": [
    "missings = messy.isnull()\n",
    "missings"
   ]
  },
  {
   "cell_type": "markdown",
   "metadata": {
    "slideshow": {
     "slide_type": "fragment"
    }
   },
   "source": [
    "- We can find the number of missings in each column of the DataFrame with the `sum` method:\n",
    "  - Computes the sum along each column"
   ]
  },
  {
   "cell_type": "code",
   "execution_count": 27,
   "metadata": {
    "slideshow": {
     "slide_type": "fragment"
    }
   },
   "outputs": [
    {
     "data": {
      "text/plain": [
       "Datetime                     0\n",
       "Hour of Day                  0\n",
       "Conditions                   2\n",
       "Temperature (C)              2\n",
       "Relative Humidity (%)        3\n",
       "Conditions (standardized)    2\n",
       "dtype: int64"
      ]
     },
     "execution_count": 27,
     "metadata": {},
     "output_type": "execute_result"
    }
   ],
   "source": [
    "missings.sum()"
   ]
  },
  {
   "cell_type": "markdown",
   "metadata": {
    "slideshow": {
     "slide_type": "fragment"
    }
   },
   "source": [
    "If you need to fill your missing data, there are many tools that can be used, such as the `pandas` methods `fillna` and `interpolate`"
   ]
  },
  {
   "cell_type": "markdown",
   "metadata": {
    "slideshow": {
     "slide_type": "slide"
    }
   },
   "source": [
    "# Recap 3\n",
    "\n",
    "### Counting Unique Values\n",
    "\n",
    "Unique values in a Series: \n",
    "```\n",
    "series.unique()\n",
    "```\n",
    "\n",
    "Number of unique values in a Series:\n",
    "```\n",
    "series.nunique()\n",
    "```\n",
    "or you could use `len(series.unique())`\n",
    "\n",
    "\n",
    "Counts of each unique value in a Series\n",
    "- Excluding missing values:\n",
    "```\n",
    "series.value_counts()\n",
    "```\n",
    "- Including missing values:\n",
    "```\n",
    "series.value_counts(dropna=False)\n",
    "```\n",
    "\n",
    "### Bar Charts\n",
    "\n",
    "Plot a horizontal bar chart of a Series: \n",
    "```\n",
    "series.plot(kind='barh')\n",
    "```\n",
    "For a vertical bar chart, use `kind='bar'`.\n",
    "\n",
    "### Text Processing\n",
    "\n",
    "Apply string methods to a text Series&mdash;use string methods in `series.str`:\n",
    "```\n",
    "series_lower = series.str.lower()\n",
    "```\n",
    "Apply multiple methods with method chaining:\n",
    "```\n",
    "series_lower_stripped = series.str.lower().str.strip()\n",
    "```\n",
    "  \n",
    "  \n",
    "### Missing Data\n",
    "\n",
    "Locate missing values in a Series or DataFrame\n",
    "```\n",
    "data.isnull()\n",
    "```\n",
    "\n",
    "Calculate the total number of missing values in a Series, or in each column of a DataFrame: \n",
    "```\n",
    "data.isnull().sum()\n",
    "```"
   ]
  },
  {
   "cell_type": "markdown",
   "metadata": {
    "slideshow": {
     "slide_type": "slide"
    }
   },
   "source": [
    "# Exercise 3\n",
    "\n",
    "a) Familiarize yourself with the file `'data/weather_airport_stations.csv'` in the Jupyter Lab CSV viewer, and then read it into a new variable `weather_all`\n",
    "- Display a random sampling of 10 rows\n",
    "- How many rows and columns does the data have?\n",
    "- What are the lowest and highest temperatures in the data?\n",
    "\n",
    "b) How many unique Station Names and Datetimes are in the data? List the unique values.\n",
    "\n",
    "c) What are the three most common Conditions and the three most common Wind Directions?\n",
    "\n",
    "d) Which column has the most missing values? How many are missing in this column?\n",
    "\n",
    "#### Bonus exercises\n",
    "\n",
    "e) How many temperatures in `weather_all` are less than 0 and how many are greater than 20?\n",
    "- *Hint: review the comparison operators in the \"Booleans\" section of `Lesson_0.ipynb`*\n",
    "\n",
    "f) Work through the steps in the \"Automating Tasks with Scripts\" section in `Lesson_3.ipynb` to create and run a script in Jupyter Lab"
   ]
  }
 ],
 "metadata": {
  "celltoolbar": "Slideshow",
  "kernelspec": {
   "display_name": "Python [conda root]",
   "language": "python",
   "name": "conda-root-py"
  },
  "language_info": {
   "codemirror_mode": {
    "name": "ipython",
    "version": 3
   },
   "file_extension": ".py",
   "mimetype": "text/x-python",
   "name": "python",
   "nbconvert_exporter": "python",
   "pygments_lexer": "ipython3",
   "version": "3.6.4"
  },
  "livereveal": {
   "scroll": true,
   "theme": "solarized",
   "transition": "none"
  }
 },
 "nbformat": 4,
 "nbformat_minor": 2
}
