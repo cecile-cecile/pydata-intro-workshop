{
 "cells": [
  {
   "cell_type": "markdown",
   "metadata": {},
   "source": [
    "# Python Developers Survey 2017\n",
    "\n",
    "## Exploratory Data Analysis\n",
    "\n",
    "Data source: [Python Developers Survey 2017](https://www.jetbrains.com/research/python-developers-survey-2017/)\n",
    "\n",
    "This notebook demonstrates how the simple summary techniques we've learned in the [workshop](https://jenfly.github.io/pydata-intro-workshop/) can help you navigate and analyze a large CSV file. In this example, we will analyze responses to the survey questions \"What do you use Python for?\" and \"What do you use Python for *the most*?\"\n",
    "\n",
    "- The DataFrame attributes `shape`, `dtypes` and `columns` will help us quickly find and extract the columns of interest from a CSV file with a whopping **162 columns**!\n",
    "\n",
    "This example also demonstrates other handy techniques we learned in the workshop, such as:\n",
    "\n",
    "- Applying string methods to parse information from text data\n",
    "- Counting the unique values in a column with the `value_counts` method\n",
    "- Using a filter Series to extract a subset of data\n",
    "- Computing sums along rows and columns of a DataFrame"
   ]
  },
  {
   "cell_type": "markdown",
   "metadata": {},
   "source": [
    "### Initial Setup"
   ]
  },
  {
   "cell_type": "code",
   "execution_count": 1,
   "metadata": {},
   "outputs": [],
   "source": [
    "# Import libraries\n",
    "import pandas as pd\n",
    "import matplotlib.pyplot as plt\n",
    "import seaborn as sns\n",
    "\n",
    "# Display graphs inline\n",
    "%matplotlib inline\n",
    "\n",
    "# Use styles from the Seaborn library to make graphs look nicer\n",
    "sns.set()"
   ]
  },
  {
   "cell_type": "markdown",
   "metadata": {},
   "source": [
    "### Load Data\n",
    "\n",
    "#### Read the CSV file into a DataFrame"
   ]
  },
  {
   "cell_type": "code",
   "execution_count": 2,
   "metadata": {},
   "outputs": [
    {
     "data": {
      "text/html": [
       "<div>\n",
       "<style scoped>\n",
       "    .dataframe tbody tr th:only-of-type {\n",
       "        vertical-align: middle;\n",
       "    }\n",
       "\n",
       "    .dataframe tbody tr th {\n",
       "        vertical-align: top;\n",
       "    }\n",
       "\n",
       "    .dataframe thead th {\n",
       "        text-align: right;\n",
       "    }\n",
       "</style>\n",
       "<table border=\"1\" class=\"dataframe\">\n",
       "  <thead>\n",
       "    <tr style=\"text-align: right;\">\n",
       "      <th></th>\n",
       "      <th>Is Python the main language you use for your current projects?</th>\n",
       "      <th>None:What other language(s) do you use?</th>\n",
       "      <th>Java:What other language(s) do you use?</th>\n",
       "      <th>JavaScript:What other language(s) do you use?</th>\n",
       "      <th>C/C++:What other language(s) do you use?</th>\n",
       "      <th>PHP:What other language(s) do you use?</th>\n",
       "      <th>C#:What other language(s) do you use?</th>\n",
       "      <th>Ruby:What other language(s) do you use?</th>\n",
       "      <th>Bash / Shell:What other language(s) do you use?</th>\n",
       "      <th>Objective-C:What other language(s) do you use?</th>\n",
       "      <th>...</th>\n",
       "      <th>Technical support:Which of the following best describes your job role(s)?</th>\n",
       "      <th>Data analyst:Which of the following best describes your job role(s)?</th>\n",
       "      <th>Business analyst:Which of the following best describes your job role(s)?</th>\n",
       "      <th>Team lead:Which of the following best describes your job role(s)?</th>\n",
       "      <th>Product manager:Which of the following best describes your job role(s)?</th>\n",
       "      <th>CIO / CEO / CTO:Which of the following best describes your job role(s)?</th>\n",
       "      <th>Systems analyst:Which of the following best describes your job role(s)?</th>\n",
       "      <th>Other - Write In::Which of the following best describes your job role(s)?</th>\n",
       "      <th>Could you tell us your age range?</th>\n",
       "      <th>What country do you live in?</th>\n",
       "    </tr>\n",
       "  </thead>\n",
       "  <tbody>\n",
       "    <tr>\n",
       "      <th>0</th>\n",
       "      <td>Yes</td>\n",
       "      <td>NaN</td>\n",
       "      <td>NaN</td>\n",
       "      <td>JavaScript</td>\n",
       "      <td>NaN</td>\n",
       "      <td>PHP</td>\n",
       "      <td>NaN</td>\n",
       "      <td>NaN</td>\n",
       "      <td>Bash / Shell</td>\n",
       "      <td>NaN</td>\n",
       "      <td>...</td>\n",
       "      <td>NaN</td>\n",
       "      <td>NaN</td>\n",
       "      <td>NaN</td>\n",
       "      <td>NaN</td>\n",
       "      <td>NaN</td>\n",
       "      <td>NaN</td>\n",
       "      <td>NaN</td>\n",
       "      <td>NaN</td>\n",
       "      <td>60 or older</td>\n",
       "      <td>Italy</td>\n",
       "    </tr>\n",
       "    <tr>\n",
       "      <th>1</th>\n",
       "      <td>Yes</td>\n",
       "      <td>NaN</td>\n",
       "      <td>NaN</td>\n",
       "      <td>JavaScript</td>\n",
       "      <td>NaN</td>\n",
       "      <td>NaN</td>\n",
       "      <td>NaN</td>\n",
       "      <td>NaN</td>\n",
       "      <td>NaN</td>\n",
       "      <td>NaN</td>\n",
       "      <td>...</td>\n",
       "      <td>NaN</td>\n",
       "      <td>NaN</td>\n",
       "      <td>NaN</td>\n",
       "      <td>Team lead</td>\n",
       "      <td>NaN</td>\n",
       "      <td>NaN</td>\n",
       "      <td>NaN</td>\n",
       "      <td>NaN</td>\n",
       "      <td>40-49</td>\n",
       "      <td>United Kingdom</td>\n",
       "    </tr>\n",
       "    <tr>\n",
       "      <th>2</th>\n",
       "      <td>Yes</td>\n",
       "      <td>NaN</td>\n",
       "      <td>NaN</td>\n",
       "      <td>JavaScript</td>\n",
       "      <td>NaN</td>\n",
       "      <td>NaN</td>\n",
       "      <td>NaN</td>\n",
       "      <td>NaN</td>\n",
       "      <td>NaN</td>\n",
       "      <td>NaN</td>\n",
       "      <td>...</td>\n",
       "      <td>NaN</td>\n",
       "      <td>NaN</td>\n",
       "      <td>NaN</td>\n",
       "      <td>NaN</td>\n",
       "      <td>NaN</td>\n",
       "      <td>NaN</td>\n",
       "      <td>NaN</td>\n",
       "      <td>NaN</td>\n",
       "      <td>40-49</td>\n",
       "      <td>France</td>\n",
       "    </tr>\n",
       "    <tr>\n",
       "      <th>3</th>\n",
       "      <td>No, I don’t use Python for my current projects</td>\n",
       "      <td>NaN</td>\n",
       "      <td>NaN</td>\n",
       "      <td>NaN</td>\n",
       "      <td>NaN</td>\n",
       "      <td>NaN</td>\n",
       "      <td>C#</td>\n",
       "      <td>NaN</td>\n",
       "      <td>NaN</td>\n",
       "      <td>NaN</td>\n",
       "      <td>...</td>\n",
       "      <td>NaN</td>\n",
       "      <td>NaN</td>\n",
       "      <td>NaN</td>\n",
       "      <td>NaN</td>\n",
       "      <td>NaN</td>\n",
       "      <td>NaN</td>\n",
       "      <td>NaN</td>\n",
       "      <td>NaN</td>\n",
       "      <td>17 or younger</td>\n",
       "      <td>Spain</td>\n",
       "    </tr>\n",
       "    <tr>\n",
       "      <th>4</th>\n",
       "      <td>Yes</td>\n",
       "      <td>NaN</td>\n",
       "      <td>Java</td>\n",
       "      <td>NaN</td>\n",
       "      <td>NaN</td>\n",
       "      <td>NaN</td>\n",
       "      <td>NaN</td>\n",
       "      <td>NaN</td>\n",
       "      <td>NaN</td>\n",
       "      <td>NaN</td>\n",
       "      <td>...</td>\n",
       "      <td>NaN</td>\n",
       "      <td>NaN</td>\n",
       "      <td>NaN</td>\n",
       "      <td>NaN</td>\n",
       "      <td>NaN</td>\n",
       "      <td>NaN</td>\n",
       "      <td>NaN</td>\n",
       "      <td>NaN</td>\n",
       "      <td>18-20</td>\n",
       "      <td>Israel</td>\n",
       "    </tr>\n",
       "  </tbody>\n",
       "</table>\n",
       "<p>5 rows × 162 columns</p>\n",
       "</div>"
      ],
      "text/plain": [
       "  Is Python the main language you use for your current projects?  \\\n",
       "0                                                Yes               \n",
       "1                                                Yes               \n",
       "2                                                Yes               \n",
       "3     No, I don’t use Python for my current projects               \n",
       "4                                                Yes               \n",
       "\n",
       "  None:What other language(s) do you use?  \\\n",
       "0                                     NaN   \n",
       "1                                     NaN   \n",
       "2                                     NaN   \n",
       "3                                     NaN   \n",
       "4                                     NaN   \n",
       "\n",
       "  Java:What other language(s) do you use?  \\\n",
       "0                                     NaN   \n",
       "1                                     NaN   \n",
       "2                                     NaN   \n",
       "3                                     NaN   \n",
       "4                                    Java   \n",
       "\n",
       "  JavaScript:What other language(s) do you use?  \\\n",
       "0                                    JavaScript   \n",
       "1                                    JavaScript   \n",
       "2                                    JavaScript   \n",
       "3                                           NaN   \n",
       "4                                           NaN   \n",
       "\n",
       "  C/C++:What other language(s) do you use?  \\\n",
       "0                                      NaN   \n",
       "1                                      NaN   \n",
       "2                                      NaN   \n",
       "3                                      NaN   \n",
       "4                                      NaN   \n",
       "\n",
       "  PHP:What other language(s) do you use?  \\\n",
       "0                                    PHP   \n",
       "1                                    NaN   \n",
       "2                                    NaN   \n",
       "3                                    NaN   \n",
       "4                                    NaN   \n",
       "\n",
       "  C#:What other language(s) do you use?  \\\n",
       "0                                   NaN   \n",
       "1                                   NaN   \n",
       "2                                   NaN   \n",
       "3                                    C#   \n",
       "4                                   NaN   \n",
       "\n",
       "  Ruby:What other language(s) do you use?  \\\n",
       "0                                     NaN   \n",
       "1                                     NaN   \n",
       "2                                     NaN   \n",
       "3                                     NaN   \n",
       "4                                     NaN   \n",
       "\n",
       "  Bash / Shell:What other language(s) do you use?  \\\n",
       "0                                    Bash / Shell   \n",
       "1                                             NaN   \n",
       "2                                             NaN   \n",
       "3                                             NaN   \n",
       "4                                             NaN   \n",
       "\n",
       "  Objective-C:What other language(s) do you use?             ...               \\\n",
       "0                                            NaN             ...                \n",
       "1                                            NaN             ...                \n",
       "2                                            NaN             ...                \n",
       "3                                            NaN             ...                \n",
       "4                                            NaN             ...                \n",
       "\n",
       "  Technical support:Which of the following best describes your job role(s)?  \\\n",
       "0                                                NaN                          \n",
       "1                                                NaN                          \n",
       "2                                                NaN                          \n",
       "3                                                NaN                          \n",
       "4                                                NaN                          \n",
       "\n",
       "  Data analyst:Which of the following best describes your job role(s)?  \\\n",
       "0                                                NaN                     \n",
       "1                                                NaN                     \n",
       "2                                                NaN                     \n",
       "3                                                NaN                     \n",
       "4                                                NaN                     \n",
       "\n",
       "  Business analyst:Which of the following best describes your job role(s)?  \\\n",
       "0                                                NaN                         \n",
       "1                                                NaN                         \n",
       "2                                                NaN                         \n",
       "3                                                NaN                         \n",
       "4                                                NaN                         \n",
       "\n",
       "  Team lead:Which of the following best describes your job role(s)?  \\\n",
       "0                                                NaN                  \n",
       "1                                          Team lead                  \n",
       "2                                                NaN                  \n",
       "3                                                NaN                  \n",
       "4                                                NaN                  \n",
       "\n",
       "  Product manager:Which of the following best describes your job role(s)?  \\\n",
       "0                                                NaN                        \n",
       "1                                                NaN                        \n",
       "2                                                NaN                        \n",
       "3                                                NaN                        \n",
       "4                                                NaN                        \n",
       "\n",
       "  CIO / CEO / CTO:Which of the following best describes your job role(s)?  \\\n",
       "0                                                NaN                        \n",
       "1                                                NaN                        \n",
       "2                                                NaN                        \n",
       "3                                                NaN                        \n",
       "4                                                NaN                        \n",
       "\n",
       "  Systems analyst:Which of the following best describes your job role(s)?  \\\n",
       "0                                                NaN                        \n",
       "1                                                NaN                        \n",
       "2                                                NaN                        \n",
       "3                                                NaN                        \n",
       "4                                                NaN                        \n",
       "\n",
       "  Other - Write In::Which of the following best describes your job role(s)?  \\\n",
       "0                                                NaN                          \n",
       "1                                                NaN                          \n",
       "2                                                NaN                          \n",
       "3                                                NaN                          \n",
       "4                                                NaN                          \n",
       "\n",
       "  Could you tell us your age range? What country do you live in?  \n",
       "0                       60 or older                        Italy  \n",
       "1                             40-49               United Kingdom  \n",
       "2                             40-49                       France  \n",
       "3                     17 or younger                        Spain  \n",
       "4                             18-20                       Israel  \n",
       "\n",
       "[5 rows x 162 columns]"
      ]
     },
     "execution_count": 2,
     "metadata": {},
     "output_type": "execute_result"
    }
   ],
   "source": [
    "survey = pd.read_csv('data/pythondevsurvey2017_raw_data.csv')\n",
    "survey.head()"
   ]
  },
  {
   "cell_type": "markdown",
   "metadata": {},
   "source": [
    "#### How big is our DataFrame?"
   ]
  },
  {
   "cell_type": "code",
   "execution_count": 3,
   "metadata": {
    "scrolled": true
   },
   "outputs": [
    {
     "data": {
      "text/plain": [
       "(9506, 162)"
      ]
     },
     "execution_count": 3,
     "metadata": {},
     "output_type": "execute_result"
    }
   ],
   "source": [
    "survey.shape"
   ]
  },
  {
   "cell_type": "markdown",
   "metadata": {},
   "source": [
    "Yikes! The data has 9506 rows (i.e. 9506 total respondents to the survey) and 162 columns. Trying to make sense of such a huge number of columns in Excel would likely be an unwieldy and unpleasant task.\n",
    "\n",
    "Let's save the number of respondents to a variable so we can use it later:"
   ]
  },
  {
   "cell_type": "code",
   "execution_count": 4,
   "metadata": {},
   "outputs": [
    {
     "data": {
      "text/plain": [
       "9506"
      ]
     },
     "execution_count": 4,
     "metadata": {},
     "output_type": "execute_result"
    }
   ],
   "source": [
    "n_respondents = survey.shape[0]\n",
    "n_respondents"
   ]
  },
  {
   "cell_type": "markdown",
   "metadata": {},
   "source": [
    "### Data Columns\n",
    "\n",
    "Let's figure what the heck is in all these columns.  We can use the `dtypes` attribute to get the name and data type of each column. If we simply display `survey.dtypes` in the cell below, it will only show the first 30 rows and last 30 rows, with `...` in between. \n",
    "- We could tinker with some settings by running the code `pd.set_option('display.max_rows', 1000)` or using other solutions described [here](https://stackoverflow.com/questions/19124601/is-there-a-way-to-pretty-print-the-entire-pandas-series-dataframe), or we could use a `for` loop to print the items in `dtypes` in a slightly more compact way. I'll use the latter approach. \n",
    "- I'm also using [f-strings](https://realpython.com/python-f-strings/), a really neat feature of Python 3 (version 3.6 and later) as a shortcut to construct a string containing the values of variables."
   ]
  },
  {
   "cell_type": "code",
   "execution_count": 5,
   "metadata": {
    "scrolled": false
   },
   "outputs": [
    {
     "name": "stdout",
     "output_type": "stream",
     "text": [
      "object \t Is Python the main language you use for your current projects?\n",
      "object \t None:What other language(s) do you use?\n",
      "object \t Java:What other language(s) do you use?\n",
      "object \t JavaScript:What other language(s) do you use?\n",
      "object \t C/C++:What other language(s) do you use?\n",
      "object \t PHP:What other language(s) do you use?\n",
      "object \t C#:What other language(s) do you use?\n",
      "object \t Ruby:What other language(s) do you use?\n",
      "object \t Bash / Shell:What other language(s) do you use?\n",
      "object \t Objective-C:What other language(s) do you use?\n",
      "object \t Go:What other language(s) do you use?\n",
      "object \t Visual Basic:What other language(s) do you use?\n",
      "object \t Scala:What other language(s) do you use?\n",
      "object \t SQL:What other language(s) do you use?\n",
      "object \t Kotlin:What other language(s) do you use?\n",
      "object \t R:What other language(s) do you use?\n",
      "object \t Swift:What other language(s) do you use?\n",
      "object \t Clojure:What other language(s) do you use?\n",
      "object \t Perl:What other language(s) do you use?\n",
      "object \t Rust:What other language(s) do you use?\n",
      "object \t Groovy:What other language(s) do you use?\n",
      "object \t TypeScript:What other language(s) do you use?\n",
      "object \t CoffeeScript:What other language(s) do you use?\n",
      "object \t HTML/CSS:What other language(s) do you use?\n",
      "object \t Other - Write In::What other language(s) do you use?\n",
      "object \t Educational purposes: What do you use Python for?\n",
      "object \t Data analysis: What do you use Python for?\n",
      "object \t DevOps / System administration / Writing automation scripts: What do you use Python for?\n",
      "object \t Software testing / Writing automated tests: What do you use Python for?\n",
      "object \t Software prototyping: What do you use Python for?\n",
      "object \t Web development: What do you use Python for?\n",
      "object \t Machine learning: What do you use Python for?\n",
      "object \t Mobile development: What do you use Python for?\n",
      "object \t Desktop development: What do you use Python for?\n",
      "object \t Computer graphics: What do you use Python for?\n",
      "object \t Network programming: What do you use Python for?\n",
      "object \t Game development: What do you use Python for?\n",
      "object \t Multimedia applications development: What do you use Python for?\n",
      "object \t Embedded development: What do you use Python for?\n",
      "object \t Programming of web parsers / scrapers / crawlers: What do you use Python for?\n",
      "object \t Other - Write In:: What do you use Python for?\n",
      "object \t What do you use Python for the most?\n",
      "object \t Which version of Python do you use the most?\n",
      "object \t Installer from python.org:What do you typically use to upgrade your Python version?\n",
      "object \t Build from source:What do you typically use to upgrade your Python version?\n",
      "object \t Automatic upgrade via cloud provider:What do you typically use to upgrade your Python version?\n",
      "object \t Enthought:What do you typically use to upgrade your Python version?\n",
      "object \t Anaconda:What do you typically use to upgrade your Python version?\n",
      "object \t ActivePython:What do you typically use to upgrade your Python version?\n",
      "object \t Intel Distribution for Python:What do you typically use to upgrade your Python version?\n",
      "object \t OS-provided Python (via apt-get, yum, homebrew, etc.):What do you typically use to upgrade your Python version?\n",
      "object \t pyenv:What do you typically use to upgrade your Python version?\n",
      "object \t pythonz:What do you typically use to upgrade your Python version?\n",
      "object \t Other - Write In::What do you typically use to upgrade your Python version?\n",
      "object \t None:What framework(s) do you use in addition to Python?\n",
      "object \t Django:What framework(s) do you use in addition to Python?\n",
      "object \t Flask:What framework(s) do you use in addition to Python?\n",
      "object \t Tornado:What framework(s) do you use in addition to Python?\n",
      "object \t Bottle:What framework(s) do you use in addition to Python?\n",
      "object \t web2py:What framework(s) do you use in addition to Python?\n",
      "object \t NumPy / pandas / Matplotlib / scipy and similar:What framework(s) do you use in addition to Python?\n",
      "object \t Keras / Theano / TensorFlow / scikit-learn and similar:What framework(s) do you use in addition to Python?\n",
      "object \t Pillow:What framework(s) do you use in addition to Python?\n",
      "object \t PyQT / PyGTK / wxPython:What framework(s) do you use in addition to Python?\n",
      "object \t TkInter:What framework(s) do you use in addition to Python?\n",
      "object \t Pygame:What framework(s) do you use in addition to Python?\n",
      "object \t CherryPy:What framework(s) do you use in addition to Python?\n",
      "object \t Twisted:What framework(s) do you use in addition to Python?\n",
      "object \t Pyramid:What framework(s) do you use in addition to Python?\n",
      "object \t Requests:What framework(s) do you use in addition to Python?\n",
      "object \t asyncio:What framework(s) do you use in addition to Python?\n",
      "object \t Kivy:What framework(s) do you use in addition to Python?\n",
      "object \t six:What framework(s) do you use in addition to Python?\n",
      "object \t aiohttp:What framework(s) do you use in addition to Python?\n",
      "object \t Other - Write In::What framework(s) do you use in addition to Python?\n",
      "object \t None:What additional technology(s) do you use in addition to Python?\n",
      "object \t Jupyter Notebook:What additional technology(s) do you use in addition to Python?\n",
      "object \t Anaconda:What additional technology(s) do you use in addition to Python?\n",
      "object \t ORM (SQLAlchemy, PonyORM, etc.):What additional technology(s) do you use in addition to Python?\n",
      "object \t Docker:What additional technology(s) do you use in addition to Python?\n",
      "object \t Vagrant:What additional technology(s) do you use in addition to Python?\n",
      "object \t Cloud platforms (Google App Engine, AWS, RackSpace, Heroku and similar):What additional technology(s) do you use in addition to Python?\n",
      "object \t Hadoop, Spark, etc.:What additional technology(s) do you use in addition to Python?\n",
      "object \t Sphinx:What additional technology(s) do you use in addition to Python?\n",
      "object \t Buildout:What additional technology(s) do you use in addition to Python?\n",
      "object \t DevOps tools (Ansible, Chef, Puppet, etc.):What additional technology(s) do you use in addition to Python?\n",
      "object \t redis:What additional technology(s) do you use in addition to Python?\n",
      "object \t Other - Write In::What additional technology(s) do you use in addition to Python?\n",
      "object \t Google App Engine:What cloud platform(s) do you use?\n",
      "object \t AWS:What cloud platform(s) do you use?\n",
      "object \t Microsoft Azure:What cloud platform(s) do you use?\n",
      "object \t RackSpace:What cloud platform(s) do you use?\n",
      "object \t Heroku:What cloud platform(s) do you use?\n",
      "object \t DigitalOcean:What cloud platform(s) do you use?\n",
      "object \t Other - Write In::What cloud platform(s) do you use?\n",
      "object \t PyCharm Professional Edition:What editor(s)/IDE(s) have you considered for use in your Python development?\n",
      "object \t PyCharm Community Edition:What editor(s)/IDE(s) have you considered for use in your Python development?\n",
      "object \t Sublime Text:What editor(s)/IDE(s) have you considered for use in your Python development?\n",
      "object \t Vim:What editor(s)/IDE(s) have you considered for use in your Python development?\n",
      "object \t Atom:What editor(s)/IDE(s) have you considered for use in your Python development?\n",
      "object \t VS Code:What editor(s)/IDE(s) have you considered for use in your Python development?\n",
      "object \t Eclipse + Pydev:What editor(s)/IDE(s) have you considered for use in your Python development?\n",
      "object \t Aptana:What editor(s)/IDE(s) have you considered for use in your Python development?\n",
      "object \t Jupyter Notebook:What editor(s)/IDE(s) have you considered for use in your Python development?\n",
      "object \t IntelliJ IDEA:What editor(s)/IDE(s) have you considered for use in your Python development?\n",
      "object \t NotePad++:What editor(s)/IDE(s) have you considered for use in your Python development?\n",
      "object \t IDLE:What editor(s)/IDE(s) have you considered for use in your Python development?\n",
      "object \t Emacs:What editor(s)/IDE(s) have you considered for use in your Python development?\n",
      "object \t Python Tools for Visual Studio (PTVS):What editor(s)/IDE(s) have you considered for use in your Python development?\n",
      "object \t NetBeans:What editor(s)/IDE(s) have you considered for use in your Python development?\n",
      "object \t Spyder:What editor(s)/IDE(s) have you considered for use in your Python development?\n",
      "object \t Rodeo:What editor(s)/IDE(s) have you considered for use in your Python development?\n",
      "object \t Gedit:What editor(s)/IDE(s) have you considered for use in your Python development?\n",
      "object \t Ninja-IDE:What editor(s)/IDE(s) have you considered for use in your Python development?\n",
      "object \t Komodo Editor:What editor(s)/IDE(s) have you considered for use in your Python development?\n",
      "object \t Komodo IDE:What editor(s)/IDE(s) have you considered for use in your Python development?\n",
      "object \t Wing IDE:What editor(s)/IDE(s) have you considered for use in your Python development?\n",
      "object \t TextMate:What editor(s)/IDE(s) have you considered for use in your Python development?\n",
      "object \t Other - Write In::What editor(s)/IDE(s) have you considered for use in your Python development?\n",
      "object \t What is the main editor you use for your current Python development?\n",
      "object \t use autocompletion  in your editor:When developing in Python, how often do you…?\n",
      "object \t use the debugger:When developing in Python, how often do you…?\n",
      "object \t refactor your code:When developing in Python, how often do you…?\n",
      "object \t use VCS:When developing in Python, how often do you…?\n",
      "object \t use code linting (programs that analyze code for potential errors):When developing in Python, how often do you…?\n",
      "object \t use Python virtual environments for your projects:When developing in Python, how often do you…?\n",
      "object \t use SQL databases :When developing in Python, how often do you…?\n",
      "object \t use NoSQL databases:When developing in Python, how often do you…?\n",
      "object \t run / debug or edit code on remote machines (remote hosts, VMs, etc.):When developing in Python, how often do you…?\n",
      "object \t use a Python profiler:When developing in Python, how often do you…?\n",
      "object \t write tests for your code:When developing in Python, how often do you…?\n",
      "object \t use code coverage:When developing in Python, how often do you…?\n",
      "object \t use optional type hinting:When developing in Python, how often do you…?\n",
      "object \t use Continuous Integration tools:When developing in Python, how often do you…?\n",
      "object \t use Issue Trackers:When developing in Python, how often do you…?\n",
      "object \t Do you regularly work on multiple projects at the same time?\n",
      "object \t How did you first learn about your main editor?\n",
      "object \t How often do you use your main editor?\n",
      "object \t Are you missing any features in your main editor?\n",
      "float64 \t How likely is it that you would recommend your main editor to a friend or colleague?\n",
      "object \t What do you think is the ratio of these two numbers?:Please think about the total number of Python Web Developers in the world and the total number of Data Scientists using Python.\n",
      "object \t What do you think would be the most popular opinion?:Please think about the total number of Python Web Developers in the world and the total number of Data Scientists using Python.\n",
      "object \t Most of the time, do you...?\n",
      "object \t How many people are in your project team?\n",
      "object \t What is your employment status?\n",
      "object \t Choose one from the list::Which of the following industries best describes your company's business?\n",
      "object \t Choose one from the list::Which of the following industries do you develop for?\n",
      "object \t How long have you been working in the IT industry?\n",
      "object \t DBA:Which of the following best describes your job role(s)?\n",
      "object \t Architect:Which of the following best describes your job role(s)?\n",
      "object \t QA engineer:Which of the following best describes your job role(s)?\n",
      "object \t Developer / Programmer:Which of the following best describes your job role(s)?\n",
      "object \t Technical support:Which of the following best describes your job role(s)?\n",
      "object \t Data analyst:Which of the following best describes your job role(s)?\n",
      "object \t Business analyst:Which of the following best describes your job role(s)?\n",
      "object \t Team lead:Which of the following best describes your job role(s)?\n",
      "object \t Product manager:Which of the following best describes your job role(s)?\n",
      "object \t CIO / CEO / CTO:Which of the following best describes your job role(s)?\n",
      "object \t Systems analyst:Which of the following best describes your job role(s)?\n",
      "object \t Other - Write In::Which of the following best describes your job role(s)?\n",
      "object \t Could you tell us your age range?\n",
      "object \t What country do you live in?\n"
     ]
    }
   ],
   "source": [
    "# Iterate over the items in survey.dtypes\n",
    "for column, dtype in survey.dtypes.items():\n",
    "    # Print the data type and the column name, separated by a tab (\\t)\n",
    "    # -- The syntax below is equivalent to: print(str(dtype) + '\\t' + column)\n",
    "    print(f'{dtype} \\t {column}')"
   ]
  },
  {
   "cell_type": "markdown",
   "metadata": {},
   "source": [
    "Skimming through the column names, we can see there are a bunch of them ending with the string `'What do you use Python for?'`, for example:\n",
    "- `'Educational purposes: What do you use Python for?'`\n",
    "- `'Data analysis: What do you use Python for?'`\n",
    "- etc.\n",
    "\n",
    "These represent different multiple choice answers to the survey question \"What do you use Python for?\", where respondents were able to select more than one answer to the question. This kind of structure is quite common in the raw data you get from various online survey apps.\n",
    "\n",
    "After these columns, the next column name is: `'What do you use Python for the most?'`. We'll analyze the data in this column too."
   ]
  },
  {
   "cell_type": "markdown",
   "metadata": {},
   "source": [
    "### Answers to the question: \"What do you use Python for?\"\n",
    "\n",
    "#### (multiple choice survey question)\n",
    "\n",
    "We want to extract the subset of data containing answers to this question. To do this, we need to find all the columns whose name contains the phrase 'What do you use Python for?'\n",
    "- First we create a filter Series using the string method `endswith` on the column names in `survey.columns`"
   ]
  },
  {
   "cell_type": "code",
   "execution_count": 6,
   "metadata": {},
   "outputs": [
    {
     "data": {
      "text/plain": [
       "array([False, False, False, False, False, False, False, False, False,\n",
       "       False, False, False, False, False, False, False, False, False,\n",
       "       False, False, False, False, False, False, False,  True,  True,\n",
       "        True,  True,  True,  True,  True,  True,  True,  True,  True,\n",
       "        True,  True,  True,  True,  True, False, False, False, False,\n",
       "       False, False, False, False, False, False, False, False, False,\n",
       "       False, False, False, False, False, False, False, False, False,\n",
       "       False, False, False, False, False, False, False, False, False,\n",
       "       False, False, False, False, False, False, False, False, False,\n",
       "       False, False, False, False, False, False, False, False, False,\n",
       "       False, False, False, False, False, False, False, False, False,\n",
       "       False, False, False, False, False, False, False, False, False,\n",
       "       False, False, False, False, False, False, False, False, False,\n",
       "       False, False, False, False, False, False, False, False, False,\n",
       "       False, False, False, False, False, False, False, False, False,\n",
       "       False, False, False, False, False, False, False, False, False,\n",
       "       False, False, False, False, False, False, False, False, False,\n",
       "       False, False, False, False, False, False, False, False, False])"
      ]
     },
     "execution_count": 6,
     "metadata": {},
     "output_type": "execute_result"
    }
   ],
   "source": [
    "usage_filter = survey.columns.str.endswith('What do you use Python for?')\n",
    "usage_filter"
   ]
  },
  {
   "cell_type": "markdown",
   "metadata": {},
   "source": [
    "- Next, we use the filter to find the names of the relevant columns:"
   ]
  },
  {
   "cell_type": "code",
   "execution_count": 7,
   "metadata": {
    "scrolled": true
   },
   "outputs": [
    {
     "data": {
      "text/plain": [
       "Index(['Educational purposes: What do you use Python for?',\n",
       "       'Data analysis: What do you use Python for?',\n",
       "       'DevOps / System administration / Writing automation scripts: What do you use Python for?',\n",
       "       'Software testing / Writing automated tests: What do you use Python for?',\n",
       "       'Software prototyping: What do you use Python for?',\n",
       "       'Web development: What do you use Python for?',\n",
       "       'Machine learning: What do you use Python for?',\n",
       "       'Mobile development: What do you use Python for?',\n",
       "       'Desktop development: What do you use Python for?',\n",
       "       'Computer graphics: What do you use Python for?',\n",
       "       'Network programming: What do you use Python for?',\n",
       "       'Game development: What do you use Python for?',\n",
       "       'Multimedia applications development: What do you use Python for?',\n",
       "       'Embedded development: What do you use Python for?',\n",
       "       'Programming of web parsers / scrapers / crawlers: What do you use Python for?',\n",
       "       'Other - Write In:: What do you use Python for?'],\n",
       "      dtype='object')"
      ]
     },
     "execution_count": 7,
     "metadata": {},
     "output_type": "execute_result"
    }
   ],
   "source": [
    "cols_usage = survey.columns[usage_filter]\n",
    "cols_usage"
   ]
  },
  {
   "cell_type": "markdown",
   "metadata": {},
   "source": [
    "What values are in each of these columns?"
   ]
  },
  {
   "cell_type": "code",
   "execution_count": 8,
   "metadata": {},
   "outputs": [
    {
     "name": "stdout",
     "output_type": "stream",
     "text": [
      "NaN                     7227\n",
      "Educational purposes    2279\n",
      "Name: Educational purposes: What do you use Python for?, dtype: int64\n",
      "\n",
      "\n",
      "NaN              5449\n",
      "Data analysis    4057\n",
      "Name: Data analysis: What do you use Python for?, dtype: int64\n",
      "\n",
      "\n",
      "NaN                                                            6679\n",
      "DevOps / System administration / Writing automation scripts    2827\n",
      "Name: DevOps / System administration / Writing automation scripts: What do you use Python for?, dtype: int64\n",
      "\n",
      "\n",
      "NaN                                           7365\n",
      "Software testing / Writing automated tests    2141\n",
      "Name: Software testing / Writing automated tests: What do you use Python for?, dtype: int64\n",
      "\n",
      "\n",
      "NaN                     7727\n",
      "Software prototyping    1779\n",
      "Name: Software prototyping: What do you use Python for?, dtype: int64\n",
      "\n",
      "\n",
      "NaN                5515\n",
      "Web development    3991\n",
      "Name: Web development: What do you use Python for?, dtype: int64\n",
      "\n",
      "\n",
      "NaN                 6964\n",
      "Machine learning    2542\n",
      "Name: Machine learning: What do you use Python for?, dtype: int64\n",
      "\n",
      "\n",
      "NaN                   9052\n",
      "Mobile development     454\n",
      "Name: Mobile development: What do you use Python for?, dtype: int64\n",
      "\n",
      "\n",
      "NaN                    7907\n",
      "Desktop development    1599\n",
      "Name: Desktop development: What do you use Python for?, dtype: int64\n",
      "\n",
      "\n",
      "NaN                  8668\n",
      "Computer graphics     838\n",
      "Name: Computer graphics: What do you use Python for?, dtype: int64\n",
      "\n",
      "\n",
      "NaN                    7814\n",
      "Network programming    1692\n",
      "Name: Network programming: What do you use Python for?, dtype: int64\n",
      "\n",
      "\n",
      "NaN                 8809\n",
      "Game development     697\n",
      "Name: Game development: What do you use Python for?, dtype: int64\n",
      "\n",
      "\n",
      "NaN                                    9241\n",
      "Multimedia applications development     265\n",
      "Name: Multimedia applications development: What do you use Python for?, dtype: int64\n",
      "\n",
      "\n",
      "NaN                     8930\n",
      "Embedded development     576\n",
      "Name: Embedded development: What do you use Python for?, dtype: int64\n",
      "\n",
      "\n",
      "NaN                                                 6924\n",
      "Programming of web parsers / scrapers / crawlers    2582\n",
      "Name: Programming of web parsers / scrapers / crawlers: What do you use Python for?, dtype: int64\n",
      "\n",
      "\n",
      "NaN                  8961\n",
      "Other - Write In:     545\n",
      "Name: Other - Write In:: What do you use Python for?, dtype: int64\n",
      "\n",
      "\n"
     ]
    }
   ],
   "source": [
    "for col in cols_usage:\n",
    "    print(survey[col].value_counts(dropna=False))\n",
    "    print('\\n')"
   ]
  },
  {
   "cell_type": "markdown",
   "metadata": {},
   "source": [
    "The output above shows that the values in these columns are such that they can be stacked together into one giant Series, and then we can simply count the values in that Series using the `value_counts` method:"
   ]
  },
  {
   "cell_type": "code",
   "execution_count": 9,
   "metadata": {},
   "outputs": [
    {
     "name": "stdout",
     "output_type": "stream",
     "text": [
      "We have 28864 answers to this question, from the 9506 respondents\n",
      "The first 20 answers are:\n"
     ]
    },
    {
     "data": {
      "text/plain": [
       "['Educational purposes',\n",
       " 'Data analysis',\n",
       " 'DevOps / System administration / Writing automation scripts',\n",
       " 'Programming of web parsers / scrapers / crawlers',\n",
       " 'Data analysis',\n",
       " 'DevOps / System administration / Writing automation scripts',\n",
       " 'Web development',\n",
       " 'Network programming',\n",
       " 'Programming of web parsers / scrapers / crawlers',\n",
       " 'DevOps / System administration / Writing automation scripts',\n",
       " 'Web development',\n",
       " 'Data analysis',\n",
       " 'Software prototyping',\n",
       " 'Machine learning',\n",
       " 'Desktop development',\n",
       " 'Educational purposes',\n",
       " 'Data analysis',\n",
       " 'Web development',\n",
       " 'Mobile development',\n",
       " 'Network programming']"
      ]
     },
     "execution_count": 9,
     "metadata": {},
     "output_type": "execute_result"
    }
   ],
   "source": [
    "# Stack the columns into a giant Series\n",
    "usages = survey[cols_usage].stack()\n",
    "\n",
    "# Total number of answers to this survey question\n",
    "n_answers = len(usages)\n",
    "print(f'We have {n_answers} answers to this question, from the {n_respondents} respondents')\n",
    "\n",
    "# Display the first 20 items in the Series \n",
    "# (converting to a list first so that the output displays more nicely)\n",
    "print('The first 20 answers are:')\n",
    "list(usages.head(20))"
   ]
  },
  {
   "cell_type": "code",
   "execution_count": 10,
   "metadata": {},
   "outputs": [
    {
     "data": {
      "text/plain": [
       "Data analysis                                                  4057\n",
       "Web development                                                3991\n",
       "DevOps / System administration / Writing automation scripts    2827\n",
       "Programming of web parsers / scrapers / crawlers               2582\n",
       "Machine learning                                               2542\n",
       "Educational purposes                                           2279\n",
       "Software testing / Writing automated tests                     2141\n",
       "Software prototyping                                           1779\n",
       "Network programming                                            1692\n",
       "Desktop development                                            1599\n",
       "Computer graphics                                               838\n",
       "Game development                                                697\n",
       "Embedded development                                            576\n",
       "Other - Write In:                                               545\n",
       "Mobile development                                              454\n",
       "Multimedia applications development                             265\n",
       "dtype: int64"
      ]
     },
     "execution_count": 10,
     "metadata": {},
     "output_type": "execute_result"
    }
   ],
   "source": [
    "# Get the counts for each value\n",
    "usage_counts = usages.value_counts()\n",
    "usage_counts"
   ]
  },
  {
   "cell_type": "markdown",
   "metadata": {},
   "source": [
    "Let's calculate these totals as a fraction of the total number of respondents who answered the question \"What do you use Python for?\". This is a bit complicated, because the information is spread over multiple columns and we need to exclude rows where the respondent didn't answer the question at all.\n",
    "\n",
    "First, we calculate how many answers each respondent gave to this survey question:"
   ]
  },
  {
   "cell_type": "code",
   "execution_count": 11,
   "metadata": {},
   "outputs": [
    {
     "data": {
      "text/plain": [
       "0    4\n",
       "1    5\n",
       "2    2\n",
       "3    0\n",
       "4    4\n",
       "5    7\n",
       "6    7\n",
       "7    0\n",
       "8    7\n",
       "9    4\n",
       "dtype: int64"
      ]
     },
     "execution_count": 11,
     "metadata": {},
     "output_type": "execute_result"
    }
   ],
   "source": [
    "# Use the `notnull` method and sum across columns to calculate\n",
    "# how many answers each respondent provided for this question\n",
    "num_answers = survey[cols_usage].notnull().sum(axis=1)\n",
    "num_answers.head(10)"
   ]
  },
  {
   "cell_type": "code",
   "execution_count": 12,
   "metadata": {},
   "outputs": [
    {
     "data": {
      "text/plain": [
       "9506"
      ]
     },
     "execution_count": 12,
     "metadata": {},
     "output_type": "execute_result"
    }
   ],
   "source": [
    "len(num_answers)"
   ]
  },
  {
   "cell_type": "markdown",
   "metadata": {},
   "source": [
    "Each value in the Series `num_answers` correspondents to one respondent (9506 respondents in total). A value of 0 means the respondent didn't answer this survey question. Any value greater than 0 means that the respondent provided one or more answers to the question."
   ]
  },
  {
   "cell_type": "code",
   "execution_count": 13,
   "metadata": {},
   "outputs": [
    {
     "data": {
      "text/plain": [
       "3     1660\n",
       "2     1651\n",
       "0     1394\n",
       "4     1311\n",
       "1     1303\n",
       "5      847\n",
       "6      565\n",
       "7      356\n",
       "8      191\n",
       "9       96\n",
       "10      49\n",
       "12      28\n",
       "11      27\n",
       "15      13\n",
       "13       8\n",
       "14       4\n",
       "16       3\n",
       "dtype: int64"
      ]
     },
     "execution_count": 13,
     "metadata": {},
     "output_type": "execute_result"
    }
   ],
   "source": [
    "num_answers.value_counts()"
   ]
  },
  {
   "cell_type": "markdown",
   "metadata": {},
   "source": [
    "We can see that respondents provided up to 16 answers to the question, and the most common number of answers was 3."
   ]
  },
  {
   "cell_type": "markdown",
   "metadata": {},
   "source": [
    "Next, create a filter identifying whether or not a respondent answered the question:"
   ]
  },
  {
   "cell_type": "code",
   "execution_count": 14,
   "metadata": {
    "scrolled": true
   },
   "outputs": [
    {
     "data": {
      "text/plain": [
       "0     True\n",
       "1     True\n",
       "2     True\n",
       "3    False\n",
       "4     True\n",
       "dtype: bool"
      ]
     },
     "execution_count": 14,
     "metadata": {},
     "output_type": "execute_result"
    }
   ],
   "source": [
    "# Create a filter to identify which respondents had more than 0 answers to this question\n",
    "answered_ques = num_answers > 0\n",
    "answered_ques.head()"
   ]
  },
  {
   "cell_type": "markdown",
   "metadata": {},
   "source": [
    "To find the number of respondents who answered the question, we sum the values in the `answered_ques` Series:"
   ]
  },
  {
   "cell_type": "code",
   "execution_count": 15,
   "metadata": {},
   "outputs": [
    {
     "data": {
      "text/plain": [
       "8112"
      ]
     },
     "execution_count": 15,
     "metadata": {},
     "output_type": "execute_result"
    }
   ],
   "source": [
    "n_ques_respondents = answered_ques.sum()\n",
    "n_ques_respondents"
   ]
  },
  {
   "cell_type": "markdown",
   "metadata": {},
   "source": [
    "Finally, we can compute the totals for each Python usage as a fraction of the number of respondents who answered the survey question:"
   ]
  },
  {
   "cell_type": "code",
   "execution_count": 16,
   "metadata": {},
   "outputs": [
    {
     "data": {
      "text/plain": [
       "Data analysis                                                  0.500123\n",
       "Web development                                                0.491987\n",
       "DevOps / System administration / Writing automation scripts    0.348496\n",
       "Programming of web parsers / scrapers / crawlers               0.318294\n",
       "Machine learning                                               0.313363\n",
       "Educational purposes                                           0.280942\n",
       "Software testing / Writing automated tests                     0.263930\n",
       "Software prototyping                                           0.219305\n",
       "Network programming                                            0.208580\n",
       "Desktop development                                            0.197115\n",
       "Computer graphics                                              0.103304\n",
       "Game development                                               0.085922\n",
       "Embedded development                                           0.071006\n",
       "Other - Write In:                                              0.067184\n",
       "Mobile development                                             0.055966\n",
       "Multimedia applications development                            0.032668\n",
       "dtype: float64"
      ]
     },
     "execution_count": 16,
     "metadata": {},
     "output_type": "execute_result"
    }
   ],
   "source": [
    "usage_frac = usage_counts / n_ques_respondents\n",
    "usage_frac"
   ]
  },
  {
   "cell_type": "markdown",
   "metadata": {},
   "source": [
    "### Visualizing the Results\n",
    "\n",
    "Let's plot the results as a horizontal bar chart. First we'll define a function to create our plot, so that we can re-use it for other plots."
   ]
  },
  {
   "cell_type": "code",
   "execution_count": 17,
   "metadata": {},
   "outputs": [],
   "source": [
    "def plot_barh(series, title=None, figsize=(7, 7)):\n",
    "    \"\"\"Plot a horizontal bar chart with tick labels in percent format\"\"\"\n",
    "       \n",
    "    # Sort the series in ascending order, so that in the horizontal bar chart,\n",
    "    # the largest values are on top and smallest at the bottom\n",
    "    series_sorted = series.sort_values(ascending=True)\n",
    "    \n",
    "    # We will use dark blue from the Seaborn default colour palette\n",
    "    blue = sns.color_palette()[0]\n",
    "    \n",
    "    # Create a horizontal bar chart and customize the labels and formatting\n",
    "    ax = series_sorted.plot(kind='barh', color=blue, figsize=figsize)\n",
    "    ax.set_xticklabels([f'{val:.0%}' for val in ax.get_xticks()])\n",
    "    ax.tick_params(labelsize='large')\n",
    "    if title is not None:\n",
    "        ax.set_title(title, fontsize='large', fontweight='bold');"
   ]
  },
  {
   "cell_type": "markdown",
   "metadata": {},
   "source": [
    "#### Create the bar chart"
   ]
  },
  {
   "cell_type": "code",
   "execution_count": 18,
   "metadata": {
    "scrolled": false
   },
   "outputs": [
    {
     "data": {
      "image/png": "[encoded data removed]",
      "text/plain": [
       "<matplotlib.figure.Figure at 0x19e46693518>"
      ]
     },
     "metadata": {},
     "output_type": "display_data"
    }
   ],
   "source": [
    "plot_barh(usage_frac, title='What do you use Python for?\\n(multiple answers)')"
   ]
  },
  {
   "cell_type": "markdown",
   "metadata": {},
   "source": [
    "### Answers to the question: \"What do you use Python for *the most*?\"\n",
    "\n",
    "#### (single choice survey question)\n",
    "\n",
    "This data is easier to analyze because all the answers to the question are in a single column. All we need to do is extract the column and use the `value_counts` method to tally up the answers. For convenience, we can also use the keyword argument `normalize=True` to compute the totals directly as a fraction of the number of respondents. *(This approach wouldn't have worked in the previous section because the data was spread over multiple columns and there were multiple choices per respondent.)*"
   ]
  },
  {
   "cell_type": "code",
   "execution_count": 19,
   "metadata": {
    "scrolled": true
   },
   "outputs": [
    {
     "data": {
      "text/plain": [
       "Web development                                                0.260355\n",
       "Data analysis                                                  0.176282\n",
       "Educational purposes                                           0.094058\n",
       "DevOps / System administration / Writing automation scripts    0.092949\n",
       "Machine learning                                               0.085799\n",
       "Desktop development                                            0.056460\n",
       "Programming of web parsers / scrapers / crawlers               0.036982\n",
       "Other - Write In:                                              0.035010\n",
       "Software testing / Writing automated tests                     0.033900\n",
       "Network programming                                            0.033037\n",
       "Software prototyping                                           0.029709\n",
       "Game development                                               0.023545\n",
       "Computer graphics                                              0.017628\n",
       "Embedded development                                           0.014053\n",
       "Mobile development                                             0.006903\n",
       "Multimedia applications development                            0.003328\n",
       "Name: What do you use Python for the most?, dtype: float64"
      ]
     },
     "execution_count": 19,
     "metadata": {},
     "output_type": "execute_result"
    }
   ],
   "source": [
    "column = 'What do you use Python for the most?'\n",
    "primary_usage_frac = survey[column].value_counts(normalize=True)\n",
    "primary_usage_frac"
   ]
  },
  {
   "cell_type": "code",
   "execution_count": 20,
   "metadata": {},
   "outputs": [
    {
     "data": {
      "image/png": "[encoded data removed]",
      "text/plain": [
       "<matplotlib.figure.Figure at 0x19e42fc2240>"
      ]
     },
     "metadata": {},
     "output_type": "display_data"
    }
   ],
   "source": [
    "plot_barh(primary_usage_frac, title='What do you use Python for the most?\\n(single answer)')"
   ]
  },
  {
   "cell_type": "markdown",
   "metadata": {},
   "source": [
    "## Conclusions\n",
    "\n",
    "Web development and data analysis are clear frontrunners as the most popular types of Python development.\n",
    "- While **26% of developers indicated web development as their primary usage for Python**, 18% chose data analysis and 9% chose machine learning (a field of data science).\n",
    "  - Consolidating data analysis and machine learning together as a \"data science\" category reveals that **27% of developers use Python primarily for data science**.\n",
    "- Many developers use Python for more than one type of development. 50% of all respondents indicated that they use Python for data analysis, and 49% of all respondents use Python for web development.\n",
    "\n",
    "We can compare our results with: https://www.jetbrains.com/research/python-developers-survey-2017/#types-of-development. \n",
    "- Perfect match&mdash;hurray!"
   ]
  }
 ],
 "metadata": {
  "kernelspec": {
   "display_name": "Python [default]",
   "language": "python",
   "name": "python3"
  },
  "language_info": {
   "codemirror_mode": {
    "name": "ipython",
    "version": 3
   },
   "file_extension": ".py",
   "mimetype": "text/x-python",
   "name": "python",
   "nbconvert_exporter": "python",
   "pygments_lexer": "ipython3",
   "version": "3.6.4"
  }
 },
 "nbformat": 4,
 "nbformat_minor": 2
}
