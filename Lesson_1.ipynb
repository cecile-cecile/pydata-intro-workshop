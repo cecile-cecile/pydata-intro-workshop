{
 "cells": [
  {
   "cell_type": "markdown",
   "metadata": {
    "slideshow": {
     "slide_type": "slide"
    }
   },
   "source": [
    "# Lesson 1: Reading and Summarizing CSV Data"
   ]
  },
  {
   "cell_type": "markdown",
   "metadata": {
    "slideshow": {
     "slide_type": "slide"
    }
   },
   "source": [
    "## Intro to Pandas\n",
    "\n",
    "- `pandas` = Python Data Analysis Library (https://pandas.pydata.org/)\n",
    "- With `pandas` you can do pretty much everything you would in a spreadsheet, plus a whole lot more!"
   ]
  },
  {
   "cell_type": "markdown",
   "metadata": {
    "slideshow": {
     "slide_type": "fragment"
    }
   },
   "source": [
    "- Why Python + Pandas for spreadsheet data?\n",
    "  - Working with huge data files and complex calculations\n",
    "  - Dealing with messy and missing data\n",
    "  - Merging data from multiple files\n",
    "  - Timeseries analysis\n",
    "  - Automate repetitive tasks\n",
    "  - Huge variety of fully customized graphs for visualizing data"
   ]
  },
  {
   "cell_type": "markdown",
   "metadata": {
    "slideshow": {
     "slide_type": "slide"
    }
   },
   "source": [
    "Import the `pandas` library and give it the nickname `pd`"
   ]
  },
  {
   "cell_type": "code",
   "execution_count": 1,
   "metadata": {
    "slideshow": {
     "slide_type": "-"
    }
   },
   "outputs": [],
   "source": [
    "import pandas as pd"
   ]
  },
  {
   "cell_type": "markdown",
   "metadata": {
    "slideshow": {
     "slide_type": "fragment"
    }
   },
   "source": [
    "*Note: For learning purposes, we are importing each library as we introduce it. In general, it's good practice to collect all your `import` statements together and put them at the start of the notebook.*"
   ]
  },
  {
   "cell_type": "markdown",
   "metadata": {
    "slideshow": {
     "slide_type": "slide"
    }
   },
   "source": [
    "# Reading a CSV file\n",
    "\n",
    "Let's look at the file `weather_yvr.csv` in the sub-folder `data`\n",
    "\n",
    "- 24 hours of weather measurements at Vancouver Airport\n",
    "- View it in Jupyter Lab's CSV viewer"
   ]
  },
  {
   "cell_type": "markdown",
   "metadata": {
    "slideshow": {
     "slide_type": "slide"
    }
   },
   "source": [
    "We will read the CSV file into our notebook with the function `pd.read_csv`:\n",
    "- Try typing `pd.re` and then press `Tab` and select `read_csv` from the auto-complete options\n",
    "- Our input to the `read_csv` function is the file path (including sub-folder) as a string: `'data/weather_yvr.csv'`"
   ]
  },
  {
   "cell_type": "code",
   "execution_count": 2,
   "metadata": {
    "slideshow": {
     "slide_type": "-"
    }
   },
   "outputs": [
    {
     "data": {
      "text/html": [
       "<div>\n",
       "<style scoped>\n",
       "    .dataframe tbody tr th:only-of-type {\n",
       "        vertical-align: middle;\n",
       "    }\n",
       "\n",
       "    .dataframe tbody tr th {\n",
       "        vertical-align: top;\n",
       "    }\n",
       "\n",
       "    .dataframe thead th {\n",
       "        text-align: right;\n",
       "    }\n",
       "</style>\n",
       "<table border=\"1\" class=\"dataframe\">\n",
       "  <thead>\n",
       "    <tr style=\"text-align: right;\">\n",
       "      <th></th>\n",
       "      <th>Datetime</th>\n",
       "      <th>Hour of Day</th>\n",
       "      <th>Conditions</th>\n",
       "      <th>Temperature (C)</th>\n",
       "      <th>Relative Humidity (%)</th>\n",
       "    </tr>\n",
       "  </thead>\n",
       "  <tbody>\n",
       "    <tr>\n",
       "      <th>0</th>\n",
       "      <td>2018-05-21 22:00:00</td>\n",
       "      <td>22</td>\n",
       "      <td>Mainly Clear</td>\n",
       "      <td>14.8</td>\n",
       "      <td>75.0</td>\n",
       "    </tr>\n",
       "    <tr>\n",
       "      <th>1</th>\n",
       "      <td>2018-05-21 23:00:00</td>\n",
       "      <td>23</td>\n",
       "      <td>Clear</td>\n",
       "      <td>13.5</td>\n",
       "      <td>76.0</td>\n",
       "    </tr>\n",
       "    <tr>\n",
       "      <th>2</th>\n",
       "      <td>2018-05-22 00:00:00</td>\n",
       "      <td>0</td>\n",
       "      <td>Clear</td>\n",
       "      <td>13.1</td>\n",
       "      <td>77.0</td>\n",
       "    </tr>\n",
       "    <tr>\n",
       "      <th>3</th>\n",
       "      <td>2018-05-22 01:00:00</td>\n",
       "      <td>1</td>\n",
       "      <td>Clear</td>\n",
       "      <td>12.9</td>\n",
       "      <td>84.0</td>\n",
       "    </tr>\n",
       "    <tr>\n",
       "      <th>4</th>\n",
       "      <td>2018-05-22 02:00:00</td>\n",
       "      <td>2</td>\n",
       "      <td>Clear</td>\n",
       "      <td>12.2</td>\n",
       "      <td>88.0</td>\n",
       "    </tr>\n",
       "    <tr>\n",
       "      <th>5</th>\n",
       "      <td>2018-05-22 03:00:00</td>\n",
       "      <td>3</td>\n",
       "      <td>Clear</td>\n",
       "      <td>12.0</td>\n",
       "      <td>87.0</td>\n",
       "    </tr>\n",
       "    <tr>\n",
       "      <th>6</th>\n",
       "      <td>2018-05-22 04:00:00</td>\n",
       "      <td>4</td>\n",
       "      <td>Clear</td>\n",
       "      <td>11.9</td>\n",
       "      <td>88.0</td>\n",
       "    </tr>\n",
       "    <tr>\n",
       "      <th>7</th>\n",
       "      <td>2018-05-22 05:00:00</td>\n",
       "      <td>5</td>\n",
       "      <td>Fog</td>\n",
       "      <td>10.4</td>\n",
       "      <td>97.0</td>\n",
       "    </tr>\n",
       "    <tr>\n",
       "      <th>8</th>\n",
       "      <td>2018-05-22 06:00:00</td>\n",
       "      <td>6</td>\n",
       "      <td>Mainly Sunny</td>\n",
       "      <td>11.0</td>\n",
       "      <td>91.0</td>\n",
       "    </tr>\n",
       "    <tr>\n",
       "      <th>9</th>\n",
       "      <td>2018-05-22 07:00:00</td>\n",
       "      <td>7</td>\n",
       "      <td>Partly Cloudy</td>\n",
       "      <td>13.0</td>\n",
       "      <td>92.0</td>\n",
       "    </tr>\n",
       "    <tr>\n",
       "      <th>10</th>\n",
       "      <td>2018-05-22 08:00:00</td>\n",
       "      <td>8</td>\n",
       "      <td>Mainly Sunny</td>\n",
       "      <td>14.8</td>\n",
       "      <td>82.0</td>\n",
       "    </tr>\n",
       "    <tr>\n",
       "      <th>11</th>\n",
       "      <td>2018-05-22 09:00:00</td>\n",
       "      <td>9</td>\n",
       "      <td>Partly Cloudy</td>\n",
       "      <td>15.8</td>\n",
       "      <td>78.0</td>\n",
       "    </tr>\n",
       "    <tr>\n",
       "      <th>12</th>\n",
       "      <td>2018-05-22 10:00:00</td>\n",
       "      <td>10</td>\n",
       "      <td>Partly Cloudy</td>\n",
       "      <td>15.9</td>\n",
       "      <td>75.0</td>\n",
       "    </tr>\n",
       "    <tr>\n",
       "      <th>13</th>\n",
       "      <td>2018-05-22 11:00:00</td>\n",
       "      <td>11</td>\n",
       "      <td>Partly Cloudy</td>\n",
       "      <td>16.1</td>\n",
       "      <td>80.0</td>\n",
       "    </tr>\n",
       "    <tr>\n",
       "      <th>14</th>\n",
       "      <td>2018-05-22 12:00:00</td>\n",
       "      <td>12</td>\n",
       "      <td>Mainly Sunny</td>\n",
       "      <td>17.4</td>\n",
       "      <td>77.0</td>\n",
       "    </tr>\n",
       "    <tr>\n",
       "      <th>15</th>\n",
       "      <td>2018-05-22 13:00:00</td>\n",
       "      <td>13</td>\n",
       "      <td>Mainly Sunny</td>\n",
       "      <td>18.2</td>\n",
       "      <td>68.0</td>\n",
       "    </tr>\n",
       "    <tr>\n",
       "      <th>16</th>\n",
       "      <td>2018-05-22 14:00:00</td>\n",
       "      <td>14</td>\n",
       "      <td>Mainly Sunny</td>\n",
       "      <td>18.8</td>\n",
       "      <td>64.0</td>\n",
       "    </tr>\n",
       "    <tr>\n",
       "      <th>17</th>\n",
       "      <td>2018-05-22 15:00:00</td>\n",
       "      <td>15</td>\n",
       "      <td>Mainly Sunny</td>\n",
       "      <td>19.5</td>\n",
       "      <td>62.0</td>\n",
       "    </tr>\n",
       "    <tr>\n",
       "      <th>18</th>\n",
       "      <td>2018-05-22 16:00:00</td>\n",
       "      <td>16</td>\n",
       "      <td>Sunny</td>\n",
       "      <td>19.4</td>\n",
       "      <td>67.0</td>\n",
       "    </tr>\n",
       "    <tr>\n",
       "      <th>19</th>\n",
       "      <td>2018-05-22 17:00:00</td>\n",
       "      <td>17</td>\n",
       "      <td>Mainly Sunny</td>\n",
       "      <td>20.1</td>\n",
       "      <td>64.0</td>\n",
       "    </tr>\n",
       "    <tr>\n",
       "      <th>20</th>\n",
       "      <td>2018-05-22 18:00:00</td>\n",
       "      <td>18</td>\n",
       "      <td>Sunny</td>\n",
       "      <td>19.7</td>\n",
       "      <td>59.0</td>\n",
       "    </tr>\n",
       "    <tr>\n",
       "      <th>21</th>\n",
       "      <td>2018-05-22 19:00:00</td>\n",
       "      <td>19</td>\n",
       "      <td>Sunny</td>\n",
       "      <td>19.6</td>\n",
       "      <td>67.0</td>\n",
       "    </tr>\n",
       "    <tr>\n",
       "      <th>22</th>\n",
       "      <td>2018-05-22 20:00:00</td>\n",
       "      <td>20</td>\n",
       "      <td>Sunny</td>\n",
       "      <td>18.4</td>\n",
       "      <td>70.0</td>\n",
       "    </tr>\n",
       "    <tr>\n",
       "      <th>23</th>\n",
       "      <td>2018-05-22 21:00:00</td>\n",
       "      <td>21</td>\n",
       "      <td>Clear</td>\n",
       "      <td>16.1</td>\n",
       "      <td>84.0</td>\n",
       "    </tr>\n",
       "  </tbody>\n",
       "</table>\n",
       "</div>"
      ],
      "text/plain": [
       "               Datetime  Hour of Day     Conditions  Temperature (C)  \\\n",
       "0   2018-05-21 22:00:00           22   Mainly Clear             14.8   \n",
       "1   2018-05-21 23:00:00           23          Clear             13.5   \n",
       "2   2018-05-22 00:00:00            0          Clear             13.1   \n",
       "3   2018-05-22 01:00:00            1          Clear             12.9   \n",
       "4   2018-05-22 02:00:00            2          Clear             12.2   \n",
       "5   2018-05-22 03:00:00            3          Clear             12.0   \n",
       "6   2018-05-22 04:00:00            4          Clear             11.9   \n",
       "7   2018-05-22 05:00:00            5            Fog             10.4   \n",
       "8   2018-05-22 06:00:00            6   Mainly Sunny             11.0   \n",
       "9   2018-05-22 07:00:00            7  Partly Cloudy             13.0   \n",
       "10  2018-05-22 08:00:00            8   Mainly Sunny             14.8   \n",
       "11  2018-05-22 09:00:00            9  Partly Cloudy             15.8   \n",
       "12  2018-05-22 10:00:00           10  Partly Cloudy             15.9   \n",
       "13  2018-05-22 11:00:00           11  Partly Cloudy             16.1   \n",
       "14  2018-05-22 12:00:00           12   Mainly Sunny             17.4   \n",
       "15  2018-05-22 13:00:00           13   Mainly Sunny             18.2   \n",
       "16  2018-05-22 14:00:00           14   Mainly Sunny             18.8   \n",
       "17  2018-05-22 15:00:00           15   Mainly Sunny             19.5   \n",
       "18  2018-05-22 16:00:00           16          Sunny             19.4   \n",
       "19  2018-05-22 17:00:00           17   Mainly Sunny             20.1   \n",
       "20  2018-05-22 18:00:00           18          Sunny             19.7   \n",
       "21  2018-05-22 19:00:00           19          Sunny             19.6   \n",
       "22  2018-05-22 20:00:00           20          Sunny             18.4   \n",
       "23  2018-05-22 21:00:00           21          Clear             16.1   \n",
       "\n",
       "    Relative Humidity (%)  \n",
       "0                    75.0  \n",
       "1                    76.0  \n",
       "2                    77.0  \n",
       "3                    84.0  \n",
       "4                    88.0  \n",
       "5                    87.0  \n",
       "6                    88.0  \n",
       "7                    97.0  \n",
       "8                    91.0  \n",
       "9                    92.0  \n",
       "10                   82.0  \n",
       "11                   78.0  \n",
       "12                   75.0  \n",
       "13                   80.0  \n",
       "14                   77.0  \n",
       "15                   68.0  \n",
       "16                   64.0  \n",
       "17                   62.0  \n",
       "18                   67.0  \n",
       "19                   64.0  \n",
       "20                   59.0  \n",
       "21                   67.0  \n",
       "22                   70.0  \n",
       "23                   84.0  "
      ]
     },
     "execution_count": 2,
     "metadata": {},
     "output_type": "execute_result"
    }
   ],
   "source": [
    "pd.read_csv('data/weather_yvr.csv')"
   ]
  },
  {
   "cell_type": "markdown",
   "metadata": {
    "slideshow": {
     "slide_type": "fragment"
    }
   },
   "source": [
    "- We've displayed the data, but we can't do anything further with this on-screen display\n",
    "- We need to store the data in a variable"
   ]
  },
  {
   "cell_type": "markdown",
   "metadata": {
    "slideshow": {
     "slide_type": "slide"
    }
   },
   "source": [
    "Store the output of `pd.read_csv` in a variable `weather_yvr`:"
   ]
  },
  {
   "cell_type": "code",
   "execution_count": 3,
   "metadata": {
    "scrolled": false,
    "slideshow": {
     "slide_type": "fragment"
    }
   },
   "outputs": [],
   "source": [
    "weather_yvr = pd.read_csv('data/weather_yvr.csv')"
   ]
  },
  {
   "cell_type": "code",
   "execution_count": 4,
   "metadata": {
    "scrolled": false,
    "slideshow": {
     "slide_type": "fragment"
    }
   },
   "outputs": [
    {
     "data": {
      "text/html": [
       "<div>\n",
       "<style scoped>\n",
       "    .dataframe tbody tr th:only-of-type {\n",
       "        vertical-align: middle;\n",
       "    }\n",
       "\n",
       "    .dataframe tbody tr th {\n",
       "        vertical-align: top;\n",
       "    }\n",
       "\n",
       "    .dataframe thead th {\n",
       "        text-align: right;\n",
       "    }\n",
       "</style>\n",
       "<table border=\"1\" class=\"dataframe\">\n",
       "  <thead>\n",
       "    <tr style=\"text-align: right;\">\n",
       "      <th></th>\n",
       "      <th>Datetime</th>\n",
       "      <th>Hour of Day</th>\n",
       "      <th>Conditions</th>\n",
       "      <th>Temperature (C)</th>\n",
       "      <th>Relative Humidity (%)</th>\n",
       "    </tr>\n",
       "  </thead>\n",
       "  <tbody>\n",
       "    <tr>\n",
       "      <th>0</th>\n",
       "      <td>2018-05-21 22:00:00</td>\n",
       "      <td>22</td>\n",
       "      <td>Mainly Clear</td>\n",
       "      <td>14.8</td>\n",
       "      <td>75.0</td>\n",
       "    </tr>\n",
       "    <tr>\n",
       "      <th>1</th>\n",
       "      <td>2018-05-21 23:00:00</td>\n",
       "      <td>23</td>\n",
       "      <td>Clear</td>\n",
       "      <td>13.5</td>\n",
       "      <td>76.0</td>\n",
       "    </tr>\n",
       "    <tr>\n",
       "      <th>2</th>\n",
       "      <td>2018-05-22 00:00:00</td>\n",
       "      <td>0</td>\n",
       "      <td>Clear</td>\n",
       "      <td>13.1</td>\n",
       "      <td>77.0</td>\n",
       "    </tr>\n",
       "    <tr>\n",
       "      <th>3</th>\n",
       "      <td>2018-05-22 01:00:00</td>\n",
       "      <td>1</td>\n",
       "      <td>Clear</td>\n",
       "      <td>12.9</td>\n",
       "      <td>84.0</td>\n",
       "    </tr>\n",
       "    <tr>\n",
       "      <th>4</th>\n",
       "      <td>2018-05-22 02:00:00</td>\n",
       "      <td>2</td>\n",
       "      <td>Clear</td>\n",
       "      <td>12.2</td>\n",
       "      <td>88.0</td>\n",
       "    </tr>\n",
       "    <tr>\n",
       "      <th>5</th>\n",
       "      <td>2018-05-22 03:00:00</td>\n",
       "      <td>3</td>\n",
       "      <td>Clear</td>\n",
       "      <td>12.0</td>\n",
       "      <td>87.0</td>\n",
       "    </tr>\n",
       "    <tr>\n",
       "      <th>6</th>\n",
       "      <td>2018-05-22 04:00:00</td>\n",
       "      <td>4</td>\n",
       "      <td>Clear</td>\n",
       "      <td>11.9</td>\n",
       "      <td>88.0</td>\n",
       "    </tr>\n",
       "    <tr>\n",
       "      <th>7</th>\n",
       "      <td>2018-05-22 05:00:00</td>\n",
       "      <td>5</td>\n",
       "      <td>Fog</td>\n",
       "      <td>10.4</td>\n",
       "      <td>97.0</td>\n",
       "    </tr>\n",
       "    <tr>\n",
       "      <th>8</th>\n",
       "      <td>2018-05-22 06:00:00</td>\n",
       "      <td>6</td>\n",
       "      <td>Mainly Sunny</td>\n",
       "      <td>11.0</td>\n",
       "      <td>91.0</td>\n",
       "    </tr>\n",
       "    <tr>\n",
       "      <th>9</th>\n",
       "      <td>2018-05-22 07:00:00</td>\n",
       "      <td>7</td>\n",
       "      <td>Partly Cloudy</td>\n",
       "      <td>13.0</td>\n",
       "      <td>92.0</td>\n",
       "    </tr>\n",
       "    <tr>\n",
       "      <th>10</th>\n",
       "      <td>2018-05-22 08:00:00</td>\n",
       "      <td>8</td>\n",
       "      <td>Mainly Sunny</td>\n",
       "      <td>14.8</td>\n",
       "      <td>82.0</td>\n",
       "    </tr>\n",
       "    <tr>\n",
       "      <th>11</th>\n",
       "      <td>2018-05-22 09:00:00</td>\n",
       "      <td>9</td>\n",
       "      <td>Partly Cloudy</td>\n",
       "      <td>15.8</td>\n",
       "      <td>78.0</td>\n",
       "    </tr>\n",
       "    <tr>\n",
       "      <th>12</th>\n",
       "      <td>2018-05-22 10:00:00</td>\n",
       "      <td>10</td>\n",
       "      <td>Partly Cloudy</td>\n",
       "      <td>15.9</td>\n",
       "      <td>75.0</td>\n",
       "    </tr>\n",
       "    <tr>\n",
       "      <th>13</th>\n",
       "      <td>2018-05-22 11:00:00</td>\n",
       "      <td>11</td>\n",
       "      <td>Partly Cloudy</td>\n",
       "      <td>16.1</td>\n",
       "      <td>80.0</td>\n",
       "    </tr>\n",
       "    <tr>\n",
       "      <th>14</th>\n",
       "      <td>2018-05-22 12:00:00</td>\n",
       "      <td>12</td>\n",
       "      <td>Mainly Sunny</td>\n",
       "      <td>17.4</td>\n",
       "      <td>77.0</td>\n",
       "    </tr>\n",
       "    <tr>\n",
       "      <th>15</th>\n",
       "      <td>2018-05-22 13:00:00</td>\n",
       "      <td>13</td>\n",
       "      <td>Mainly Sunny</td>\n",
       "      <td>18.2</td>\n",
       "      <td>68.0</td>\n",
       "    </tr>\n",
       "    <tr>\n",
       "      <th>16</th>\n",
       "      <td>2018-05-22 14:00:00</td>\n",
       "      <td>14</td>\n",
       "      <td>Mainly Sunny</td>\n",
       "      <td>18.8</td>\n",
       "      <td>64.0</td>\n",
       "    </tr>\n",
       "    <tr>\n",
       "      <th>17</th>\n",
       "      <td>2018-05-22 15:00:00</td>\n",
       "      <td>15</td>\n",
       "      <td>Mainly Sunny</td>\n",
       "      <td>19.5</td>\n",
       "      <td>62.0</td>\n",
       "    </tr>\n",
       "    <tr>\n",
       "      <th>18</th>\n",
       "      <td>2018-05-22 16:00:00</td>\n",
       "      <td>16</td>\n",
       "      <td>Sunny</td>\n",
       "      <td>19.4</td>\n",
       "      <td>67.0</td>\n",
       "    </tr>\n",
       "    <tr>\n",
       "      <th>19</th>\n",
       "      <td>2018-05-22 17:00:00</td>\n",
       "      <td>17</td>\n",
       "      <td>Mainly Sunny</td>\n",
       "      <td>20.1</td>\n",
       "      <td>64.0</td>\n",
       "    </tr>\n",
       "    <tr>\n",
       "      <th>20</th>\n",
       "      <td>2018-05-22 18:00:00</td>\n",
       "      <td>18</td>\n",
       "      <td>Sunny</td>\n",
       "      <td>19.7</td>\n",
       "      <td>59.0</td>\n",
       "    </tr>\n",
       "    <tr>\n",
       "      <th>21</th>\n",
       "      <td>2018-05-22 19:00:00</td>\n",
       "      <td>19</td>\n",
       "      <td>Sunny</td>\n",
       "      <td>19.6</td>\n",
       "      <td>67.0</td>\n",
       "    </tr>\n",
       "    <tr>\n",
       "      <th>22</th>\n",
       "      <td>2018-05-22 20:00:00</td>\n",
       "      <td>20</td>\n",
       "      <td>Sunny</td>\n",
       "      <td>18.4</td>\n",
       "      <td>70.0</td>\n",
       "    </tr>\n",
       "    <tr>\n",
       "      <th>23</th>\n",
       "      <td>2018-05-22 21:00:00</td>\n",
       "      <td>21</td>\n",
       "      <td>Clear</td>\n",
       "      <td>16.1</td>\n",
       "      <td>84.0</td>\n",
       "    </tr>\n",
       "  </tbody>\n",
       "</table>\n",
       "</div>"
      ],
      "text/plain": [
       "               Datetime  Hour of Day     Conditions  Temperature (C)  \\\n",
       "0   2018-05-21 22:00:00           22   Mainly Clear             14.8   \n",
       "1   2018-05-21 23:00:00           23          Clear             13.5   \n",
       "2   2018-05-22 00:00:00            0          Clear             13.1   \n",
       "3   2018-05-22 01:00:00            1          Clear             12.9   \n",
       "4   2018-05-22 02:00:00            2          Clear             12.2   \n",
       "5   2018-05-22 03:00:00            3          Clear             12.0   \n",
       "6   2018-05-22 04:00:00            4          Clear             11.9   \n",
       "7   2018-05-22 05:00:00            5            Fog             10.4   \n",
       "8   2018-05-22 06:00:00            6   Mainly Sunny             11.0   \n",
       "9   2018-05-22 07:00:00            7  Partly Cloudy             13.0   \n",
       "10  2018-05-22 08:00:00            8   Mainly Sunny             14.8   \n",
       "11  2018-05-22 09:00:00            9  Partly Cloudy             15.8   \n",
       "12  2018-05-22 10:00:00           10  Partly Cloudy             15.9   \n",
       "13  2018-05-22 11:00:00           11  Partly Cloudy             16.1   \n",
       "14  2018-05-22 12:00:00           12   Mainly Sunny             17.4   \n",
       "15  2018-05-22 13:00:00           13   Mainly Sunny             18.2   \n",
       "16  2018-05-22 14:00:00           14   Mainly Sunny             18.8   \n",
       "17  2018-05-22 15:00:00           15   Mainly Sunny             19.5   \n",
       "18  2018-05-22 16:00:00           16          Sunny             19.4   \n",
       "19  2018-05-22 17:00:00           17   Mainly Sunny             20.1   \n",
       "20  2018-05-22 18:00:00           18          Sunny             19.7   \n",
       "21  2018-05-22 19:00:00           19          Sunny             19.6   \n",
       "22  2018-05-22 20:00:00           20          Sunny             18.4   \n",
       "23  2018-05-22 21:00:00           21          Clear             16.1   \n",
       "\n",
       "    Relative Humidity (%)  \n",
       "0                    75.0  \n",
       "1                    76.0  \n",
       "2                    77.0  \n",
       "3                    84.0  \n",
       "4                    88.0  \n",
       "5                    87.0  \n",
       "6                    88.0  \n",
       "7                    97.0  \n",
       "8                    91.0  \n",
       "9                    92.0  \n",
       "10                   82.0  \n",
       "11                   78.0  \n",
       "12                   75.0  \n",
       "13                   80.0  \n",
       "14                   77.0  \n",
       "15                   68.0  \n",
       "16                   64.0  \n",
       "17                   62.0  \n",
       "18                   67.0  \n",
       "19                   64.0  \n",
       "20                   59.0  \n",
       "21                   67.0  \n",
       "22                   70.0  \n",
       "23                   84.0  "
      ]
     },
     "execution_count": 4,
     "metadata": {},
     "output_type": "execute_result"
    }
   ],
   "source": [
    "weather_yvr"
   ]
  },
  {
   "cell_type": "markdown",
   "metadata": {
    "slideshow": {
     "slide_type": "fragment"
    }
   },
   "source": [
    "What type of variable is `weather_yvr`?"
   ]
  },
  {
   "cell_type": "code",
   "execution_count": 5,
   "metadata": {
    "slideshow": {
     "slide_type": "fragment"
    }
   },
   "outputs": [
    {
     "data": {
      "text/plain": [
       "pandas.core.frame.DataFrame"
      ]
     },
     "execution_count": 5,
     "metadata": {},
     "output_type": "execute_result"
    }
   ],
   "source": [
    "type(weather_yvr)"
   ]
  },
  {
   "cell_type": "markdown",
   "metadata": {
    "slideshow": {
     "slide_type": "fragment"
    }
   },
   "source": [
    "- `weather_yvr` is a **DataFrame**, a data type from the `pandas` library\n",
    "  - A DataFrame is a 2-dimensional array (like a table in a spreadsheet)"
   ]
  },
  {
   "cell_type": "markdown",
   "metadata": {
    "slideshow": {
     "slide_type": "fragment"
    }
   },
   "source": [
    "- When we display `weather_yvr`, the integer numbers in bold on the left are the DataFrame's **index**"
   ]
  },
  {
   "cell_type": "markdown",
   "metadata": {
    "slideshow": {
     "slide_type": "slide"
    }
   },
   "source": [
    "Using `print` to display `weather_yvr` looks a bit different than the IPython display shown in the previous slide"
   ]
  },
  {
   "cell_type": "code",
   "execution_count": 6,
   "metadata": {},
   "outputs": [
    {
     "name": "stdout",
     "output_type": "stream",
     "text": [
      "               Datetime  Hour of Day     Conditions  Temperature (C)  \\\n",
      "0   2018-05-21 22:00:00           22   Mainly Clear             14.8   \n",
      "1   2018-05-21 23:00:00           23          Clear             13.5   \n",
      "2   2018-05-22 00:00:00            0          Clear             13.1   \n",
      "3   2018-05-22 01:00:00            1          Clear             12.9   \n",
      "4   2018-05-22 02:00:00            2          Clear             12.2   \n",
      "5   2018-05-22 03:00:00            3          Clear             12.0   \n",
      "6   2018-05-22 04:00:00            4          Clear             11.9   \n",
      "7   2018-05-22 05:00:00            5            Fog             10.4   \n",
      "8   2018-05-22 06:00:00            6   Mainly Sunny             11.0   \n",
      "9   2018-05-22 07:00:00            7  Partly Cloudy             13.0   \n",
      "10  2018-05-22 08:00:00            8   Mainly Sunny             14.8   \n",
      "11  2018-05-22 09:00:00            9  Partly Cloudy             15.8   \n",
      "12  2018-05-22 10:00:00           10  Partly Cloudy             15.9   \n",
      "13  2018-05-22 11:00:00           11  Partly Cloudy             16.1   \n",
      "14  2018-05-22 12:00:00           12   Mainly Sunny             17.4   \n",
      "15  2018-05-22 13:00:00           13   Mainly Sunny             18.2   \n",
      "16  2018-05-22 14:00:00           14   Mainly Sunny             18.8   \n",
      "17  2018-05-22 15:00:00           15   Mainly Sunny             19.5   \n",
      "18  2018-05-22 16:00:00           16          Sunny             19.4   \n",
      "19  2018-05-22 17:00:00           17   Mainly Sunny             20.1   \n",
      "20  2018-05-22 18:00:00           18          Sunny             19.7   \n",
      "21  2018-05-22 19:00:00           19          Sunny             19.6   \n",
      "22  2018-05-22 20:00:00           20          Sunny             18.4   \n",
      "23  2018-05-22 21:00:00           21          Clear             16.1   \n",
      "\n",
      "    Relative Humidity (%)  \n",
      "0                    75.0  \n",
      "1                    76.0  \n",
      "2                    77.0  \n",
      "3                    84.0  \n",
      "4                    88.0  \n",
      "5                    87.0  \n",
      "6                    88.0  \n",
      "7                    97.0  \n",
      "8                    91.0  \n",
      "9                    92.0  \n",
      "10                   82.0  \n",
      "11                   78.0  \n",
      "12                   75.0  \n",
      "13                   80.0  \n",
      "14                   77.0  \n",
      "15                   68.0  \n",
      "16                   64.0  \n",
      "17                   62.0  \n",
      "18                   67.0  \n",
      "19                   64.0  \n",
      "20                   59.0  \n",
      "21                   67.0  \n",
      "22                   70.0  \n",
      "23                   84.0  \n"
     ]
    }
   ],
   "source": [
    "print(weather_yvr)"
   ]
  },
  {
   "cell_type": "markdown",
   "metadata": {
    "slideshow": {
     "slide_type": "slide"
    }
   },
   "source": [
    "# Data at a Glance\n",
    "\n",
    "`pandas` provides many ways to quickly and easily summarize your data:\n",
    "- How many rows and columns are there?\n",
    "- What are all the column names and what type of data is in each column?"
   ]
  },
  {
   "cell_type": "markdown",
   "metadata": {
    "slideshow": {
     "slide_type": "fragment"
    }
   },
   "source": [
    "- Numerical data: What is the average and range of the values?\n",
    "- Text data: What are the unique values and how often does each occur?\n",
    "- How many values are missing in each column?"
   ]
  },
  {
   "cell_type": "markdown",
   "metadata": {
    "slideshow": {
     "slide_type": "slide"
    }
   },
   "source": [
    "DataFrame methods:"
   ]
  },
  {
   "cell_type": "code",
   "execution_count": 7,
   "metadata": {
    "slideshow": {
     "slide_type": "fragment"
    }
   },
   "outputs": [
    {
     "data": {
      "text/plain": [
       "\u001b[1;31mSignature:\u001b[0m \u001b[0mweather_yvr\u001b[0m\u001b[1;33m.\u001b[0m\u001b[0mhead\u001b[0m\u001b[1;33m(\u001b[0m\u001b[0mn\u001b[0m\u001b[1;33m=\u001b[0m\u001b[1;36m5\u001b[0m\u001b[1;33m)\u001b[0m\u001b[1;33m\u001b[0m\u001b[0m\n",
       "\u001b[1;31mDocstring:\u001b[0m\n",
       "Return the first n rows.\n",
       "\n",
       "Parameters\n",
       "----------\n",
       "n : int, default 5\n",
       "    Number of rows to select.\n",
       "\n",
       "Returns\n",
       "-------\n",
       "obj_head : type of caller\n",
       "    The first n rows of the caller object.\n",
       "\u001b[1;31mFile:\u001b[0m      c:\\users\\jenfl\\anaconda3\\lib\\site-packages\\pandas\\core\\generic.py\n",
       "\u001b[1;31mType:\u001b[0m      method\n"
      ]
     },
     "metadata": {},
     "output_type": "display_data"
    }
   ],
   "source": [
    "weather_yvr.head?"
   ]
  },
  {
   "cell_type": "markdown",
   "metadata": {
    "slideshow": {
     "slide_type": "-"
    }
   },
   "source": [
    "- Type `weather_yvr.` followed by `Tab` to see other methods available for the DataFrame"
   ]
  },
  {
   "cell_type": "code",
   "execution_count": 8,
   "metadata": {
    "scrolled": false,
    "slideshow": {
     "slide_type": "fragment"
    }
   },
   "outputs": [
    {
     "data": {
      "text/html": [
       "<div>\n",
       "<style scoped>\n",
       "    .dataframe tbody tr th:only-of-type {\n",
       "        vertical-align: middle;\n",
       "    }\n",
       "\n",
       "    .dataframe tbody tr th {\n",
       "        vertical-align: top;\n",
       "    }\n",
       "\n",
       "    .dataframe thead th {\n",
       "        text-align: right;\n",
       "    }\n",
       "</style>\n",
       "<table border=\"1\" class=\"dataframe\">\n",
       "  <thead>\n",
       "    <tr style=\"text-align: right;\">\n",
       "      <th></th>\n",
       "      <th>Datetime</th>\n",
       "      <th>Hour of Day</th>\n",
       "      <th>Conditions</th>\n",
       "      <th>Temperature (C)</th>\n",
       "      <th>Relative Humidity (%)</th>\n",
       "    </tr>\n",
       "  </thead>\n",
       "  <tbody>\n",
       "    <tr>\n",
       "      <th>0</th>\n",
       "      <td>2018-05-21 22:00:00</td>\n",
       "      <td>22</td>\n",
       "      <td>Mainly Clear</td>\n",
       "      <td>14.8</td>\n",
       "      <td>75.0</td>\n",
       "    </tr>\n",
       "    <tr>\n",
       "      <th>1</th>\n",
       "      <td>2018-05-21 23:00:00</td>\n",
       "      <td>23</td>\n",
       "      <td>Clear</td>\n",
       "      <td>13.5</td>\n",
       "      <td>76.0</td>\n",
       "    </tr>\n",
       "    <tr>\n",
       "      <th>2</th>\n",
       "      <td>2018-05-22 00:00:00</td>\n",
       "      <td>0</td>\n",
       "      <td>Clear</td>\n",
       "      <td>13.1</td>\n",
       "      <td>77.0</td>\n",
       "    </tr>\n",
       "    <tr>\n",
       "      <th>3</th>\n",
       "      <td>2018-05-22 01:00:00</td>\n",
       "      <td>1</td>\n",
       "      <td>Clear</td>\n",
       "      <td>12.9</td>\n",
       "      <td>84.0</td>\n",
       "    </tr>\n",
       "    <tr>\n",
       "      <th>4</th>\n",
       "      <td>2018-05-22 02:00:00</td>\n",
       "      <td>2</td>\n",
       "      <td>Clear</td>\n",
       "      <td>12.2</td>\n",
       "      <td>88.0</td>\n",
       "    </tr>\n",
       "  </tbody>\n",
       "</table>\n",
       "</div>"
      ],
      "text/plain": [
       "              Datetime  Hour of Day    Conditions  Temperature (C)  \\\n",
       "0  2018-05-21 22:00:00           22  Mainly Clear             14.8   \n",
       "1  2018-05-21 23:00:00           23         Clear             13.5   \n",
       "2  2018-05-22 00:00:00            0         Clear             13.1   \n",
       "3  2018-05-22 01:00:00            1         Clear             12.9   \n",
       "4  2018-05-22 02:00:00            2         Clear             12.2   \n",
       "\n",
       "   Relative Humidity (%)  \n",
       "0                   75.0  \n",
       "1                   76.0  \n",
       "2                   77.0  \n",
       "3                   84.0  \n",
       "4                   88.0  "
      ]
     },
     "execution_count": 8,
     "metadata": {},
     "output_type": "execute_result"
    }
   ],
   "source": [
    "weather_yvr.head()"
   ]
  },
  {
   "cell_type": "code",
   "execution_count": 9,
   "metadata": {
    "slideshow": {
     "slide_type": "fragment"
    }
   },
   "outputs": [
    {
     "data": {
      "text/html": [
       "<div>\n",
       "<style scoped>\n",
       "    .dataframe tbody tr th:only-of-type {\n",
       "        vertical-align: middle;\n",
       "    }\n",
       "\n",
       "    .dataframe tbody tr th {\n",
       "        vertical-align: top;\n",
       "    }\n",
       "\n",
       "    .dataframe thead th {\n",
       "        text-align: right;\n",
       "    }\n",
       "</style>\n",
       "<table border=\"1\" class=\"dataframe\">\n",
       "  <thead>\n",
       "    <tr style=\"text-align: right;\">\n",
       "      <th></th>\n",
       "      <th>Datetime</th>\n",
       "      <th>Hour of Day</th>\n",
       "      <th>Conditions</th>\n",
       "      <th>Temperature (C)</th>\n",
       "      <th>Relative Humidity (%)</th>\n",
       "    </tr>\n",
       "  </thead>\n",
       "  <tbody>\n",
       "    <tr>\n",
       "      <th>0</th>\n",
       "      <td>2018-05-21 22:00:00</td>\n",
       "      <td>22</td>\n",
       "      <td>Mainly Clear</td>\n",
       "      <td>14.8</td>\n",
       "      <td>75.0</td>\n",
       "    </tr>\n",
       "    <tr>\n",
       "      <th>1</th>\n",
       "      <td>2018-05-21 23:00:00</td>\n",
       "      <td>23</td>\n",
       "      <td>Clear</td>\n",
       "      <td>13.5</td>\n",
       "      <td>76.0</td>\n",
       "    </tr>\n",
       "    <tr>\n",
       "      <th>2</th>\n",
       "      <td>2018-05-22 00:00:00</td>\n",
       "      <td>0</td>\n",
       "      <td>Clear</td>\n",
       "      <td>13.1</td>\n",
       "      <td>77.0</td>\n",
       "    </tr>\n",
       "  </tbody>\n",
       "</table>\n",
       "</div>"
      ],
      "text/plain": [
       "              Datetime  Hour of Day    Conditions  Temperature (C)  \\\n",
       "0  2018-05-21 22:00:00           22  Mainly Clear             14.8   \n",
       "1  2018-05-21 23:00:00           23         Clear             13.5   \n",
       "2  2018-05-22 00:00:00            0         Clear             13.1   \n",
       "\n",
       "   Relative Humidity (%)  \n",
       "0                   75.0  \n",
       "1                   76.0  \n",
       "2                   77.0  "
      ]
     },
     "execution_count": 9,
     "metadata": {},
     "output_type": "execute_result"
    }
   ],
   "source": [
    "weather_yvr.head(3)"
   ]
  },
  {
   "cell_type": "code",
   "execution_count": 10,
   "metadata": {
    "slideshow": {
     "slide_type": "slide"
    }
   },
   "outputs": [
    {
     "data": {
      "text/html": [
       "<div>\n",
       "<style scoped>\n",
       "    .dataframe tbody tr th:only-of-type {\n",
       "        vertical-align: middle;\n",
       "    }\n",
       "\n",
       "    .dataframe tbody tr th {\n",
       "        vertical-align: top;\n",
       "    }\n",
       "\n",
       "    .dataframe thead th {\n",
       "        text-align: right;\n",
       "    }\n",
       "</style>\n",
       "<table border=\"1\" class=\"dataframe\">\n",
       "  <thead>\n",
       "    <tr style=\"text-align: right;\">\n",
       "      <th></th>\n",
       "      <th>Datetime</th>\n",
       "      <th>Hour of Day</th>\n",
       "      <th>Conditions</th>\n",
       "      <th>Temperature (C)</th>\n",
       "      <th>Relative Humidity (%)</th>\n",
       "    </tr>\n",
       "  </thead>\n",
       "  <tbody>\n",
       "    <tr>\n",
       "      <th>19</th>\n",
       "      <td>2018-05-22 17:00:00</td>\n",
       "      <td>17</td>\n",
       "      <td>Mainly Sunny</td>\n",
       "      <td>20.1</td>\n",
       "      <td>64.0</td>\n",
       "    </tr>\n",
       "    <tr>\n",
       "      <th>20</th>\n",
       "      <td>2018-05-22 18:00:00</td>\n",
       "      <td>18</td>\n",
       "      <td>Sunny</td>\n",
       "      <td>19.7</td>\n",
       "      <td>59.0</td>\n",
       "    </tr>\n",
       "    <tr>\n",
       "      <th>21</th>\n",
       "      <td>2018-05-22 19:00:00</td>\n",
       "      <td>19</td>\n",
       "      <td>Sunny</td>\n",
       "      <td>19.6</td>\n",
       "      <td>67.0</td>\n",
       "    </tr>\n",
       "    <tr>\n",
       "      <th>22</th>\n",
       "      <td>2018-05-22 20:00:00</td>\n",
       "      <td>20</td>\n",
       "      <td>Sunny</td>\n",
       "      <td>18.4</td>\n",
       "      <td>70.0</td>\n",
       "    </tr>\n",
       "    <tr>\n",
       "      <th>23</th>\n",
       "      <td>2018-05-22 21:00:00</td>\n",
       "      <td>21</td>\n",
       "      <td>Clear</td>\n",
       "      <td>16.1</td>\n",
       "      <td>84.0</td>\n",
       "    </tr>\n",
       "  </tbody>\n",
       "</table>\n",
       "</div>"
      ],
      "text/plain": [
       "               Datetime  Hour of Day    Conditions  Temperature (C)  \\\n",
       "19  2018-05-22 17:00:00           17  Mainly Sunny             20.1   \n",
       "20  2018-05-22 18:00:00           18         Sunny             19.7   \n",
       "21  2018-05-22 19:00:00           19         Sunny             19.6   \n",
       "22  2018-05-22 20:00:00           20         Sunny             18.4   \n",
       "23  2018-05-22 21:00:00           21         Clear             16.1   \n",
       "\n",
       "    Relative Humidity (%)  \n",
       "19                   64.0  \n",
       "20                   59.0  \n",
       "21                   67.0  \n",
       "22                   70.0  \n",
       "23                   84.0  "
      ]
     },
     "execution_count": 10,
     "metadata": {},
     "output_type": "execute_result"
    }
   ],
   "source": [
    "weather_yvr.tail()"
   ]
  },
  {
   "cell_type": "code",
   "execution_count": 11,
   "metadata": {
    "slideshow": {
     "slide_type": "fragment"
    }
   },
   "outputs": [
    {
     "data": {
      "text/html": [
       "<div>\n",
       "<style scoped>\n",
       "    .dataframe tbody tr th:only-of-type {\n",
       "        vertical-align: middle;\n",
       "    }\n",
       "\n",
       "    .dataframe tbody tr th {\n",
       "        vertical-align: top;\n",
       "    }\n",
       "\n",
       "    .dataframe thead th {\n",
       "        text-align: right;\n",
       "    }\n",
       "</style>\n",
       "<table border=\"1\" class=\"dataframe\">\n",
       "  <thead>\n",
       "    <tr style=\"text-align: right;\">\n",
       "      <th></th>\n",
       "      <th>Datetime</th>\n",
       "      <th>Hour of Day</th>\n",
       "      <th>Conditions</th>\n",
       "      <th>Temperature (C)</th>\n",
       "      <th>Relative Humidity (%)</th>\n",
       "    </tr>\n",
       "  </thead>\n",
       "  <tbody>\n",
       "    <tr>\n",
       "      <th>23</th>\n",
       "      <td>2018-05-22 21:00:00</td>\n",
       "      <td>21</td>\n",
       "      <td>Clear</td>\n",
       "      <td>16.1</td>\n",
       "      <td>84.0</td>\n",
       "    </tr>\n",
       "    <tr>\n",
       "      <th>10</th>\n",
       "      <td>2018-05-22 08:00:00</td>\n",
       "      <td>8</td>\n",
       "      <td>Mainly Sunny</td>\n",
       "      <td>14.8</td>\n",
       "      <td>82.0</td>\n",
       "    </tr>\n",
       "    <tr>\n",
       "      <th>4</th>\n",
       "      <td>2018-05-22 02:00:00</td>\n",
       "      <td>2</td>\n",
       "      <td>Clear</td>\n",
       "      <td>12.2</td>\n",
       "      <td>88.0</td>\n",
       "    </tr>\n",
       "    <tr>\n",
       "      <th>21</th>\n",
       "      <td>2018-05-22 19:00:00</td>\n",
       "      <td>19</td>\n",
       "      <td>Sunny</td>\n",
       "      <td>19.6</td>\n",
       "      <td>67.0</td>\n",
       "    </tr>\n",
       "  </tbody>\n",
       "</table>\n",
       "</div>"
      ],
      "text/plain": [
       "               Datetime  Hour of Day    Conditions  Temperature (C)  \\\n",
       "23  2018-05-22 21:00:00           21         Clear             16.1   \n",
       "10  2018-05-22 08:00:00            8  Mainly Sunny             14.8   \n",
       "4   2018-05-22 02:00:00            2         Clear             12.2   \n",
       "21  2018-05-22 19:00:00           19         Sunny             19.6   \n",
       "\n",
       "    Relative Humidity (%)  \n",
       "23                   84.0  \n",
       "10                   82.0  \n",
       "4                    88.0  \n",
       "21                   67.0  "
      ]
     },
     "execution_count": 11,
     "metadata": {},
     "output_type": "execute_result"
    }
   ],
   "source": [
    "weather_yvr.sample(4)"
   ]
  },
  {
   "cell_type": "markdown",
   "metadata": {
    "slideshow": {
     "slide_type": "slide"
    }
   },
   "source": [
    "Number of rows and columns:"
   ]
  },
  {
   "cell_type": "code",
   "execution_count": 12,
   "metadata": {
    "slideshow": {
     "slide_type": "fragment"
    }
   },
   "outputs": [
    {
     "data": {
      "text/plain": [
       "(24, 5)"
      ]
     },
     "execution_count": 12,
     "metadata": {},
     "output_type": "execute_result"
    }
   ],
   "source": [
    "weather_yvr.shape"
   ]
  },
  {
   "cell_type": "markdown",
   "metadata": {
    "slideshow": {
     "slide_type": "fragment"
    }
   },
   "source": [
    "- The DataFrame `weather_yvr` has 24 rows and 5 columns\n",
    "- The index does not count as a column\n",
    "- Notice there are no parentheses at the end of `weather_yvr.shape`\n",
    "- `shape` is an **attribute** of the variable `weather_yvr`"
   ]
  },
  {
   "cell_type": "markdown",
   "metadata": {
    "slideshow": {
     "slide_type": "slide"
    }
   },
   "source": [
    "We can save `weather_yvr.shape` as a variable:"
   ]
  },
  {
   "cell_type": "code",
   "execution_count": 13,
   "metadata": {
    "slideshow": {
     "slide_type": "fragment"
    }
   },
   "outputs": [
    {
     "name": "stdout",
     "output_type": "stream",
     "text": [
      "(24, 5)\n"
     ]
    }
   ],
   "source": [
    "shape_yvr = weather_yvr.shape\n",
    "print(shape_yvr)"
   ]
  },
  {
   "cell_type": "code",
   "execution_count": 14,
   "metadata": {
    "slideshow": {
     "slide_type": "fragment"
    }
   },
   "outputs": [
    {
     "data": {
      "text/plain": [
       "tuple"
      ]
     },
     "execution_count": 14,
     "metadata": {},
     "output_type": "execute_result"
    }
   ],
   "source": [
    "type(shape_yvr)"
   ]
  },
  {
   "cell_type": "markdown",
   "metadata": {
    "slideshow": {
     "slide_type": "fragment"
    }
   },
   "source": [
    "A tuple is another data type, similar to a list\n",
    "- Items are enclosed in `()` instead of `[]`\n",
    "- Tuples are immutable&mdash;you can't modify individual items inside a tuple"
   ]
  },
  {
   "cell_type": "markdown",
   "metadata": {
    "slideshow": {
     "slide_type": "slide"
    }
   },
   "source": [
    "Unlike a list, which can contain items of different types, each column of a DataFrame must contain items of the same type."
   ]
  },
  {
   "cell_type": "markdown",
   "metadata": {
    "slideshow": {
     "slide_type": "fragment"
    }
   },
   "source": [
    "We can find out the names and data types of each column from the `dtypes` attribute:"
   ]
  },
  {
   "cell_type": "code",
   "execution_count": 15,
   "metadata": {
    "slideshow": {
     "slide_type": "-"
    }
   },
   "outputs": [
    {
     "data": {
      "text/plain": [
       "Datetime                  object\n",
       "Hour of Day                int64\n",
       "Conditions                object\n",
       "Temperature (C)          float64\n",
       "Relative Humidity (%)    float64\n",
       "dtype: object"
      ]
     },
     "execution_count": 15,
     "metadata": {},
     "output_type": "execute_result"
    }
   ],
   "source": [
    "weather_yvr.dtypes"
   ]
  },
  {
   "cell_type": "markdown",
   "metadata": {
    "slideshow": {
     "slide_type": "fragment"
    }
   },
   "source": [
    "- In a `pandas` DataFrame, a column containing text data (or containing a mix of text and numbers) is assigned a `dtype` of `object` and is treated as a column of strings"
   ]
  },
  {
   "cell_type": "markdown",
   "metadata": {
    "slideshow": {
     "slide_type": "fragment"
    }
   },
   "source": [
    "- `int64` and `float64` are integer and float, respectively\n",
    "  - The `64` at the end means that they are stored as 64-bit numbers in memory\n",
    "  - These data types are equivalent to `int` and `float` in Python (`pandas` is a just a bit more explicit in how it names them)"
   ]
  },
  {
   "cell_type": "markdown",
   "metadata": {
    "slideshow": {
     "slide_type": "slide"
    }
   },
   "source": [
    "If we just want a list of the column names, we can use the `columns` attribute:"
   ]
  },
  {
   "cell_type": "code",
   "execution_count": 16,
   "metadata": {
    "slideshow": {
     "slide_type": "fragment"
    }
   },
   "outputs": [
    {
     "data": {
      "text/plain": [
       "Index(['Datetime', 'Hour of Day', 'Conditions', 'Temperature (C)',\n",
       "       'Relative Humidity (%)'],\n",
       "      dtype='object')"
      ]
     },
     "execution_count": 16,
     "metadata": {},
     "output_type": "execute_result"
    }
   ],
   "source": [
    "weather_yvr.columns"
   ]
  },
  {
   "cell_type": "markdown",
   "metadata": {
    "slideshow": {
     "slide_type": "slide"
    }
   },
   "source": [
    "# Simple Summary Statistics"
   ]
  },
  {
   "cell_type": "code",
   "execution_count": 17,
   "metadata": {
    "scrolled": true,
    "slideshow": {
     "slide_type": "fragment"
    }
   },
   "outputs": [
    {
     "data": {
      "text/html": [
       "<div>\n",
       "<style scoped>\n",
       "    .dataframe tbody tr th:only-of-type {\n",
       "        vertical-align: middle;\n",
       "    }\n",
       "\n",
       "    .dataframe tbody tr th {\n",
       "        vertical-align: top;\n",
       "    }\n",
       "\n",
       "    .dataframe thead th {\n",
       "        text-align: right;\n",
       "    }\n",
       "</style>\n",
       "<table border=\"1\" class=\"dataframe\">\n",
       "  <thead>\n",
       "    <tr style=\"text-align: right;\">\n",
       "      <th></th>\n",
       "      <th>Hour of Day</th>\n",
       "      <th>Temperature (C)</th>\n",
       "      <th>Relative Humidity (%)</th>\n",
       "    </tr>\n",
       "  </thead>\n",
       "  <tbody>\n",
       "    <tr>\n",
       "      <th>count</th>\n",
       "      <td>24.000000</td>\n",
       "      <td>24.000000</td>\n",
       "      <td>24.000000</td>\n",
       "    </tr>\n",
       "    <tr>\n",
       "      <th>mean</th>\n",
       "      <td>11.500000</td>\n",
       "      <td>15.608333</td>\n",
       "      <td>77.166667</td>\n",
       "    </tr>\n",
       "    <tr>\n",
       "      <th>std</th>\n",
       "      <td>7.071068</td>\n",
       "      <td>3.119492</td>\n",
       "      <td>10.470109</td>\n",
       "    </tr>\n",
       "    <tr>\n",
       "      <th>min</th>\n",
       "      <td>0.000000</td>\n",
       "      <td>10.400000</td>\n",
       "      <td>59.000000</td>\n",
       "    </tr>\n",
       "    <tr>\n",
       "      <th>25%</th>\n",
       "      <td>5.750000</td>\n",
       "      <td>12.975000</td>\n",
       "      <td>67.750000</td>\n",
       "    </tr>\n",
       "    <tr>\n",
       "      <th>50%</th>\n",
       "      <td>11.500000</td>\n",
       "      <td>15.850000</td>\n",
       "      <td>77.000000</td>\n",
       "    </tr>\n",
       "    <tr>\n",
       "      <th>75%</th>\n",
       "      <td>17.250000</td>\n",
       "      <td>18.500000</td>\n",
       "      <td>84.750000</td>\n",
       "    </tr>\n",
       "    <tr>\n",
       "      <th>max</th>\n",
       "      <td>23.000000</td>\n",
       "      <td>20.100000</td>\n",
       "      <td>97.000000</td>\n",
       "    </tr>\n",
       "  </tbody>\n",
       "</table>\n",
       "</div>"
      ],
      "text/plain": [
       "       Hour of Day  Temperature (C)  Relative Humidity (%)\n",
       "count    24.000000        24.000000              24.000000\n",
       "mean     11.500000        15.608333              77.166667\n",
       "std       7.071068         3.119492              10.470109\n",
       "min       0.000000        10.400000              59.000000\n",
       "25%       5.750000        12.975000              67.750000\n",
       "50%      11.500000        15.850000              77.000000\n",
       "75%      17.250000        18.500000              84.750000\n",
       "max      23.000000        20.100000              97.000000"
      ]
     },
     "execution_count": 17,
     "metadata": {},
     "output_type": "execute_result"
    }
   ],
   "source": [
    "weather_yvr.describe()"
   ]
  },
  {
   "cell_type": "markdown",
   "metadata": {
    "slideshow": {
     "slide_type": "fragment"
    }
   },
   "source": [
    "- The `describe` method is a way to quickly summarize the averages, extremes, and variability of each numerical data column\n",
    "- You can look at each statistic individually with methods such as `mean`, `median`, `min`, `max`, and `std`"
   ]
  },
  {
   "cell_type": "code",
   "execution_count": 18,
   "metadata": {
    "slideshow": {
     "slide_type": "fragment"
    }
   },
   "outputs": [
    {
     "data": {
      "text/plain": [
       "Hour of Day              11.500000\n",
       "Temperature (C)          15.608333\n",
       "Relative Humidity (%)    77.166667\n",
       "dtype: float64"
      ]
     },
     "execution_count": 18,
     "metadata": {},
     "output_type": "execute_result"
    }
   ],
   "source": [
    "weather_yvr.mean()"
   ]
  },
  {
   "cell_type": "code",
   "execution_count": 19,
   "metadata": {
    "scrolled": false,
    "slideshow": {
     "slide_type": "slide"
    }
   },
   "outputs": [
    {
     "data": {
      "text/plain": [
       "Datetime                 2018-05-22 21:00:00\n",
       "Hour of Day                               23\n",
       "Conditions                             Sunny\n",
       "Temperature (C)                         20.1\n",
       "Relative Humidity (%)                     97\n",
       "dtype: object"
      ]
     },
     "execution_count": 19,
     "metadata": {},
     "output_type": "execute_result"
    }
   ],
   "source": [
    "weather_yvr.max()"
   ]
  },
  {
   "cell_type": "markdown",
   "metadata": {
    "slideshow": {
     "slide_type": "fragment"
    }
   },
   "source": [
    "The `max` method includes string data from the 'Datetime' and 'Conditions' columns in its calculations, which probably isn't what we want.\n",
    "\n",
    "Let's check out the documentation for `max`:"
   ]
  },
  {
   "cell_type": "code",
   "execution_count": 20,
   "metadata": {
    "slideshow": {
     "slide_type": "fragment"
    }
   },
   "outputs": [
    {
     "data": {
      "text/plain": [
       "\u001b[1;31mSignature:\u001b[0m \u001b[0mweather_yvr\u001b[0m\u001b[1;33m.\u001b[0m\u001b[0mmax\u001b[0m\u001b[1;33m(\u001b[0m\u001b[0maxis\u001b[0m\u001b[1;33m=\u001b[0m\u001b[1;32mNone\u001b[0m\u001b[1;33m,\u001b[0m \u001b[0mskipna\u001b[0m\u001b[1;33m=\u001b[0m\u001b[1;32mNone\u001b[0m\u001b[1;33m,\u001b[0m \u001b[0mlevel\u001b[0m\u001b[1;33m=\u001b[0m\u001b[1;32mNone\u001b[0m\u001b[1;33m,\u001b[0m \u001b[0mnumeric_only\u001b[0m\u001b[1;33m=\u001b[0m\u001b[1;32mNone\u001b[0m\u001b[1;33m,\u001b[0m \u001b[1;33m**\u001b[0m\u001b[0mkwargs\u001b[0m\u001b[1;33m)\u001b[0m\u001b[1;33m\u001b[0m\u001b[0m\n",
       "\u001b[1;31mDocstring:\u001b[0m\n",
       "This method returns the maximum of the values in the object.\n",
       "            If you want the *index* of the maximum, use ``idxmax``. This is\n",
       "            the equivalent of the ``numpy.ndarray`` method ``argmax``.\n",
       "\n",
       "Parameters\n",
       "----------\n",
       "axis : {index (0), columns (1)}\n",
       "skipna : boolean, default True\n",
       "    Exclude NA/null values when computing the result.\n",
       "level : int or level name, default None\n",
       "    If the axis is a MultiIndex (hierarchical), count along a\n",
       "    particular level, collapsing into a Series\n",
       "numeric_only : boolean, default None\n",
       "    Include only float, int, boolean columns. If None, will attempt to use\n",
       "    everything, then use only numeric data. Not implemented for Series.\n",
       "\n",
       "Returns\n",
       "-------\n",
       "max : Series or DataFrame (if level specified)\n",
       "\u001b[1;31mFile:\u001b[0m      c:\\users\\jenfl\\anaconda3\\lib\\site-packages\\pandas\\core\\generic.py\n",
       "\u001b[1;31mType:\u001b[0m      method\n"
      ]
     },
     "metadata": {},
     "output_type": "display_data"
    }
   ],
   "source": [
    "weather_yvr.max?"
   ]
  },
  {
   "cell_type": "markdown",
   "metadata": {
    "slideshow": {
     "slide_type": "slide"
    }
   },
   "source": [
    "We can use the **keyword argument** `numeric_only` with a Boolean value of `True` to include only the numeric columns:"
   ]
  },
  {
   "cell_type": "code",
   "execution_count": 21,
   "metadata": {},
   "outputs": [
    {
     "data": {
      "text/plain": [
       "Hour of Day              23.0\n",
       "Temperature (C)          20.1\n",
       "Relative Humidity (%)    97.0\n",
       "dtype: float64"
      ]
     },
     "execution_count": 21,
     "metadata": {},
     "output_type": "execute_result"
    }
   ],
   "source": [
    "weather_yvr.max(numeric_only=True)"
   ]
  },
  {
   "cell_type": "markdown",
   "metadata": {
    "slideshow": {
     "slide_type": "fragment"
    }
   },
   "source": [
    "Auto-complete works for keyword arguments too! You can start typing `nu` inside `weather_yvr.max()`, then press `Tab` and see what happens."
   ]
  },
  {
   "cell_type": "markdown",
   "metadata": {
    "slideshow": {
     "slide_type": "skip"
    }
   },
   "source": [
    "Try pressing `Shift` and `Tab` together after you type the opening `(` in `weather_yvr.max()`\n",
    "- A little window pops up showing a shortened version of the documentation, including the list of available keyword arguments"
   ]
  },
  {
   "cell_type": "markdown",
   "metadata": {
    "slideshow": {
     "slide_type": "slide"
    }
   },
   "source": [
    "# Lesson 1 Recap\n",
    "\n",
    "### Importing `pandas` Library\n",
    "```\n",
    "import pandas as pd\n",
    "```\n",
    "- Libraries only need to be imported once in a notebook\n",
    "- It's good practice to consolidate all your `import` commands together near the start of your notebook\n",
    "\n",
    "### Reading a CSV File\n",
    "\n",
    "To read a CSV file and store it as a DataFrame variable:\n",
    "```\n",
    "df = pd.read_csv('some_cool_data.csv')\n",
    "```\n",
    "\n",
    "### Quick and Easy Summaries of a DataFrame\n",
    "\n",
    "Number of rows and columns (rows first, columns second): \n",
    "```\n",
    "df.shape\n",
    "```\n",
    "\n",
    "Names and data types of each column: \n",
    "```\n",
    "df.dtypes\n",
    "```\n",
    "Just the names of each column:\n",
    "```\n",
    "df.columns\n",
    "```\n",
    "\n",
    "#### Rows at a Glance\n",
    "\n",
    "- First 5 rows:\n",
    "```\n",
    "df.head()\n",
    "```\n",
    "- Last 5 rows:\n",
    "```\n",
    "df.tail()\n",
    "```\n",
    "- A random sampling (1 row):\n",
    "```\n",
    "df.sample()\n",
    "```\n",
    "- The number of rows can be specified as an input to any of the above methods (e.g. `df.tail(7)` returns the last 7 rows)\n",
    "\n",
    "#### Summary Statistics\n",
    "\n",
    "Full set of summary statistics (min, max, mean, standard deviation, etc.) for each column of a DataFrame:\n",
    "```\n",
    "df.describe()\n",
    "```\n",
    "\n",
    "Mean value of each column:\n",
    "```\n",
    "df.mean()\n",
    "```\n",
    "\n",
    "And similarly for other summary statistics: `df.min()`, `df.max()`, `df.median()`, `df.std()`\n",
    "\n",
    "Optional keyword argument to `min` and `max` methods, to include only numerical data columns:\n",
    "```\n",
    "df.max(numeric_only=True)\n",
    "```"
   ]
  },
  {
   "cell_type": "markdown",
   "metadata": {
    "slideshow": {
     "slide_type": "slide"
    }
   },
   "source": [
    "# Exercise 1\n",
    "\n",
    "a) Read data for Saskatoon Airport from `'data/weather_yxe.csv'` into a new variable `weather_yxe` and display the first 7 rows.\n",
    "\n",
    "b) How many rows and columns does `weather_yxe` have? \n",
    "\n",
    "c) What are the names and data types of the columns?\n",
    "\n",
    "d) What are the minimum and maximum relative humidity in this data?\n",
    "\n",
    "##### Bonus exercises\n",
    "\n",
    "e) What is the mean wind speed during the first 8 hours (first 8 rows) of data?\n",
    "\n",
    "f) What are the minimum and maximum relative humidity during the last 10 hours of data?\n",
    "\n",
    "g) Display summary statistics for all columns for a random sampling of 12 hours of data."
   ]
  },
  {
   "cell_type": "markdown",
   "metadata": {
    "slideshow": {
     "slide_type": "slide"
    }
   },
   "source": [
    "a) Read data for Saskatoon Airport from `'data/weather_yxe.csv'` into a new variable `weather_yxe` and display the first 7 rows. "
   ]
  },
  {
   "cell_type": "markdown",
   "metadata": {
    "slideshow": {
     "slide_type": "slide"
    }
   },
   "source": [
    "# Interlude: So What?\n",
    "\n",
    "- Why bother with any of this? \n",
    "- Isn't it easier to do all these tasks in Excel?\n",
    "- Why would I care about the shape of a DataFrame, or printing out the column names and data types? \n",
    "  - Can't I just look at a spreadsheet and this information is obvious, without writing any code?"
   ]
  },
  {
   "cell_type": "markdown",
   "metadata": {
    "slideshow": {
     "slide_type": "slide"
    }
   },
   "source": [
    "There are plenty of cases in which Python is overkill and Excel (or other application) is the perfect tool for the job."
   ]
  },
  {
   "cell_type": "markdown",
   "metadata": {
    "slideshow": {
     "slide_type": "fragment"
    }
   },
   "source": [
    "In many other cases, for example when your data is large and unwieldy, even simple Python commands can hugely simplify tasks that would be very difficult and time consuming to do within a spreadsheet."
   ]
  },
  {
   "cell_type": "markdown",
   "metadata": {
    "slideshow": {
     "slide_type": "fragment"
    }
   },
   "source": [
    "- For an example, let's look at: `Example Notebook - Python Developers Survey`"
   ]
  }
 ],
 "metadata": {
  "celltoolbar": "Slideshow",
  "kernelspec": {
   "display_name": "Python [conda root]",
   "language": "python",
   "name": "conda-root-py"
  },
  "language_info": {
   "codemirror_mode": {
    "name": "ipython",
    "version": 3
   },
   "file_extension": ".py",
   "mimetype": "text/x-python",
   "name": "python",
   "nbconvert_exporter": "python",
   "pygments_lexer": "ipython3",
   "version": "3.6.4"
  },
  "livereveal": {
   "scroll": true,
   "theme": "solarized",
   "transition": "none"
  }
 },
 "nbformat": 4,
 "nbformat_minor": 2
}
