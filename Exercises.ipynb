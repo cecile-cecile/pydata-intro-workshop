{
 "cells": [
  {
   "cell_type": "markdown",
   "metadata": {},
   "source": [
    "# Exercises\n",
    "---"
   ]
  },
  {
   "cell_type": "markdown",
   "metadata": {},
   "source": [
    "## Exercise 1\n",
    "\n",
    "a) Read data for Saskatoon Airport from `'data/weather_yxe.csv'` into a new variable `weather_yxe` and display the first 7 rows.\n",
    "\n",
    "b) How many rows and columns does `weather_yxe` have? \n",
    "\n",
    "c) What are the names and data types of the columns?\n",
    "\n",
    "d) What are the minimum and maximum relative humidity in this data?\n",
    "\n",
    "#### Bonus exercises\n",
    "\n",
    "e) What is the mean wind speed during the first 8 hours (first 8 rows) of data?\n",
    "\n",
    "f) What are the minimum and maximum relative humidity during the last 10 hours of data?\n",
    "\n",
    "g) Display summary statistics for all columns for a random sampling of 12 hours of data.\n",
    "\n",
    "---"
   ]
  },
  {
   "cell_type": "markdown",
   "metadata": {},
   "source": [
    "## Exercise 2\n",
    "\n",
    "a) Add a column to your `weather_yvr` DataFrame which has the temperature in degrees Fahrenheit (to convert from Celsius to Fahrenheit, multiply the temperature in degrees C by 1.8 and add 32)\n",
    "\n",
    "b) Save the DataFrame with this extra column to a new CSV file\n",
    "\n",
    "c) Create a line plot of the temperature in degrees Fahrenheit\n",
    "\n",
    "\n",
    "#### Bonus exercises\n",
    "\n",
    "d) Work through the examples in the extra section \"Timeseries Data\" of Lesson 2\n",
    "\n",
    "e) Create a plot of the YVR temperature in Fahrenheit with the date and time as the x-axis, and figure size of 8\" wide by 5\" tall\n",
    "\n",
    "---"
   ]
  },
  {
   "cell_type": "markdown",
   "metadata": {},
   "source": [
    "## Exercise 3\n",
    "\n",
    "a) Familiarize yourself with the file `'data/weather_airport_stations.csv'` in the Jupyter Lab CSV viewer, and then read it into a new variable `weather_all`\n",
    "- Display a random sampling of 10 rows\n",
    "- How many rows and columns does the data have?\n",
    "- What are the lowest and highest temperatures in the data?\n",
    "\n",
    "b) How many unique Station Names and Datetimes are in the data? List the unique values.\n",
    "\n",
    "c) What are the three most common Conditions and the three most common Wind Directions?\n",
    "\n",
    "d) Which column has the most missing values? How many are missing in this column?\n",
    "\n",
    "#### Bonus exercises\n",
    "\n",
    "e) How many temperatures in `weather_all` are less than 0 and how many are greater than 20?\n",
    "- *Hint: review the comparison operators in the \"Booleans\" section of Lesson 0*\n",
    "\n",
    "f) Work through the steps in the \"Automating Tasks with Scripts\" section in `Lesson_3.ipynb` to create and run a script in Jupyter Lab\n",
    "\n",
    "---"
   ]
  },
  {
   "cell_type": "markdown",
   "metadata": {},
   "source": [
    "## Exercise 4\n",
    "\n",
    "a) What is the fastest wind speed in `weather_all`, and at what station and datetime did it occur? What were the wind direction, temperature, and weather conditions (raining / sunny / etc.) that accompanied this fastest wind speed?\n",
    "\n",
    "b) How many stations had wind speeds greater than 30 km/hr? Which stations were they?\n",
    "\n",
    "#### Bonus exercises\n",
    "\n",
    "c) What were the top three windiest stations, based on their maximum wind speeds? What were the maximum wind speeds at each of these stations?\n",
    "\n",
    "d) Do the top three stations from (c) change if you rank your stations based on mean wind speed instead of maximum wind speed?"
   ]
  }
 ],
 "metadata": {
  "kernelspec": {
   "display_name": "Python [default]",
   "language": "python",
   "name": "python3"
  },
  "language_info": {
   "codemirror_mode": {
    "name": "ipython",
    "version": 3
   },
   "file_extension": ".py",
   "mimetype": "text/x-python",
   "name": "python",
   "nbconvert_exporter": "python",
   "pygments_lexer": "ipython3",
   "version": "3.6.4"
  }
 },
 "nbformat": 4,
 "nbformat_minor": 2
}
