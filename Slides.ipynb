{
 "cells": [
  {
   "cell_type": "markdown",
   "metadata": {
    "slideshow": {
     "slide_type": "slide"
    }
   },
   "source": [
    "<center>\n",
    "\n",
    "<h1>Intro to Data Analysis in Python</h1>\n",
    "\n",
    "<h2>PyLadies Vancouver Workshop</h2>\n",
    "\n",
    "<img src=\"img/logo-pyladies.jpeg\" width=\"200px\"></img>\n",
    "\n",
    "</center>"
   ]
  },
  {
   "cell_type": "markdown",
   "metadata": {
    "slideshow": {
     "slide_type": "slide"
    }
   },
   "source": [
    "## About Me\n",
    "\n",
    "Hi, I'm Jennifer!"
   ]
  },
  {
   "cell_type": "markdown",
   "metadata": {
    "slideshow": {
     "slide_type": "fragment"
    }
   },
   "source": [
    "- Environmental scientist at UBC\n",
    "- Used to code in Matlab and it was crushing my soul\n",
    "- Switched to Python, fell in love, and never looked back!*\n",
    "\n",
    "<small>*It was actually a little more complicated than that, as I'll explain shortly</small>"
   ]
  },
  {
   "cell_type": "markdown",
   "metadata": {
    "slideshow": {
     "slide_type": "slide"
    }
   },
   "source": [
    "## Agenda\n",
    "\n",
    "#### 1. Getting oriented\n",
    "\n",
    "- Navigating the Python world as a data geek\n",
    "- Human-centered, interactive tools: IPython and Jupyter\n",
    "- Quick recap of Python basics"
   ]
  },
  {
   "cell_type": "markdown",
   "metadata": {
    "slideshow": {
     "slide_type": "fragment"
    }
   },
   "source": [
    "#### 2. The power of Pandas\n",
    "\n",
    "- Loading and summarizing spreadsheet data\n",
    "- Creating graphs\n",
    "- Diving deeper into data analysis"
   ]
  },
  {
   "cell_type": "markdown",
   "metadata": {
    "slideshow": {
     "slide_type": "fragment"
    }
   },
   "source": [
    "#### 3. Onwards and upwards\n",
    "\n",
    "- Visual storytelling with data: a brief tour of the Python landscape\n",
    "- Next steps, ideas, and inspiration"
   ]
  },
  {
   "cell_type": "markdown",
   "metadata": {
    "slideshow": {
     "slide_type": "fragment"
    }
   },
   "source": [
    "- Environmental scientist at UBC\n",
    "- Used to code in Matlab and it was crushing my soul\n",
    "- Switched to Python, fell in love, and never looked back!*\n",
    "\n",
    "<small>*It was actually a little more complicated than that, as I'll explain shortly</small>"
   ]
  },
  {
   "cell_type": "markdown",
   "metadata": {
    "slideshow": {
     "slide_type": "slide"
    }
   },
   "source": [
    "## Navigating the Python world...\n",
    "### ... as a data geek\n"
   ]
  },
  {
   "cell_type": "markdown",
   "metadata": {
    "slideshow": {
     "slide_type": "slide"
    }
   },
   "source": [
    "## PyData Ecosystem\n",
    "\n",
    "Image of Python logo - mention built-in functions (e.g. print(), abs(), sorted()) and built-in libraries (e.g. random, datetime)"
   ]
  },
  {
   "cell_type": "markdown",
   "metadata": {
    "slideshow": {
     "slide_type": "notes"
    }
   },
   "source": [
    "## IPython Shell"
   ]
  },
  {
   "cell_type": "code",
   "execution_count": 25,
   "metadata": {
    "slideshow": {
     "slide_type": "notes"
    }
   },
   "outputs": [
    {
     "name": "stdout",
     "output_type": "stream",
     "text": [
      "Hello world!\n"
     ]
    }
   ],
   "source": [
    "print('Hello world!')"
   ]
  },
  {
   "cell_type": "markdown",
   "metadata": {},
   "source": [
    "## Built-in functions"
   ]
  },
  {
   "cell_type": "code",
   "execution_count": 32,
   "metadata": {},
   "outputs": [],
   "source": [
    "round?"
   ]
  },
  {
   "cell_type": "code",
   "execution_count": 33,
   "metadata": {},
   "outputs": [
    {
     "data": {
      "text/plain": [
       "3.14"
      ]
     },
     "execution_count": 33,
     "metadata": {},
     "output_type": "execute_result"
    }
   ],
   "source": [
    "round(3.14159, 2)"
   ]
  },
  {
   "cell_type": "code",
   "execution_count": 31,
   "metadata": {},
   "outputs": [],
   "source": [
    "sorted?"
   ]
  },
  {
   "cell_type": "code",
   "execution_count": 28,
   "metadata": {},
   "outputs": [],
   "source": [
    "range?"
   ]
  },
  {
   "cell_type": "code",
   "execution_count": 29,
   "metadata": {},
   "outputs": [
    {
     "data": {
      "text/plain": [
       "range(0, 10)"
      ]
     },
     "execution_count": 29,
     "metadata": {},
     "output_type": "execute_result"
    }
   ],
   "source": [
    "range(10)"
   ]
  },
  {
   "cell_type": "code",
   "execution_count": 30,
   "metadata": {},
   "outputs": [
    {
     "data": {
      "text/plain": [
       "[0, 1, 2, 3, 4, 5, 6, 7, 8, 9]"
      ]
     },
     "execution_count": 30,
     "metadata": {},
     "output_type": "execute_result"
    }
   ],
   "source": [
    "list(range(10))"
   ]
  },
  {
   "cell_type": "markdown",
   "metadata": {
    "slideshow": {
     "slide_type": "notes"
    }
   },
   "source": [
    "## Python Basics\n",
    "\n",
    "In no particular order yet:\n",
    "\n",
    "- Variable types - integer, float, string, Boolean, None, list\n",
    "- Basic math operations, reassigning variables (e.g. `a = a + 1`)\n",
    "- Functions and methods, sorted(), chaining methods\n",
    "- Lists - indexing, slicing, concatenation and other operations, append(), extend(), remove(), range(), copies vs. pointers, nested lists, square brackets vs. parentheses, membership testing with `in`\n",
    "- Tuples and zip(), set()\n",
    "\n",
    "- Loops - iterating over lists, counting with enumerate(), indentation\n",
    "- Conditionals and logic - if statements, logical operators, \"in\", \"and\", \"or\", \"not\"\n",
    "- Dictionaries\n",
    "- Strings - indexing, slicing, concatenation, long strings, upper(), lower(), capitalize(), startswith(), endswith(), find(), replace()\n",
    "- Defining functions - e.g. shouting() -- upper case and periods to exclamation points"
   ]
  },
  {
   "cell_type": "code",
   "execution_count": 52,
   "metadata": {},
   "outputs": [
    {
     "name": "stdout",
     "output_type": "stream",
     "text": [
      "-18\n"
     ]
    }
   ],
   "source": [
    "x = -20\n",
    "print(x + 2)"
   ]
  },
  {
   "cell_type": "code",
   "execution_count": 51,
   "metadata": {},
   "outputs": [
    {
     "data": {
      "text/plain": [
       "20"
      ]
     },
     "execution_count": 51,
     "metadata": {},
     "output_type": "execute_result"
    }
   ],
   "source": [
    "abs(x)"
   ]
  },
  {
   "cell_type": "code",
   "execution_count": 76,
   "metadata": {},
   "outputs": [
    {
     "name": "stdout",
     "output_type": "stream",
     "text": [
      "['dog', 'cat', 'rabbit', 'duck', 'goose']\n",
      "['cat', 'dog', 'duck', 'goose', 'rabbit']\n"
     ]
    }
   ],
   "source": [
    "animals = ['dog', 'cat', 'rabbit', 'duck', 'goose']\n",
    "print(animals)\n",
    "print(sorted(animals))"
   ]
  },
  {
   "cell_type": "code",
   "execution_count": 77,
   "metadata": {},
   "outputs": [
    {
     "data": {
      "text/plain": [
       "['dog', 'cat', 'rabbit']"
      ]
     },
     "execution_count": 77,
     "metadata": {},
     "output_type": "execute_result"
    }
   ],
   "source": [
    "mammals = animals[:3]\n",
    "mammals"
   ]
  },
  {
   "cell_type": "code",
   "execution_count": 78,
   "metadata": {},
   "outputs": [
    {
     "data": {
      "text/plain": [
       "['dog', 'CAT', 'rabbit']"
      ]
     },
     "execution_count": 78,
     "metadata": {},
     "output_type": "execute_result"
    }
   ],
   "source": [
    "mammals[1] = 'CAT'\n",
    "mammals"
   ]
  },
  {
   "cell_type": "code",
   "execution_count": 79,
   "metadata": {},
   "outputs": [
    {
     "data": {
      "text/plain": [
       "['dog', 'cat', 'rabbit', 'duck', 'goose']"
      ]
     },
     "execution_count": 79,
     "metadata": {},
     "output_type": "execute_result"
    }
   ],
   "source": [
    "animals"
   ]
  },
  {
   "cell_type": "code",
   "execution_count": null,
   "metadata": {},
   "outputs": [],
   "source": []
  },
  {
   "cell_type": "markdown",
   "metadata": {},
   "source": [
    "## Built-in libraries"
   ]
  },
  {
   "cell_type": "code",
   "execution_count": 1,
   "metadata": {},
   "outputs": [],
   "source": [
    "import calendar"
   ]
  },
  {
   "cell_type": "code",
   "execution_count": 8,
   "metadata": {},
   "outputs": [],
   "source": [
    "calendar.isleap?"
   ]
  },
  {
   "cell_type": "code",
   "execution_count": 9,
   "metadata": {},
   "outputs": [
    {
     "data": {
      "text/plain": [
       "False"
      ]
     },
     "execution_count": 9,
     "metadata": {},
     "output_type": "execute_result"
    }
   ],
   "source": [
    "calendar.isleap(2018)"
   ]
  },
  {
   "cell_type": "code",
   "execution_count": 24,
   "metadata": {},
   "outputs": [],
   "source": [
    "calendar.weekday?"
   ]
  },
  {
   "cell_type": "code",
   "execution_count": 12,
   "metadata": {},
   "outputs": [
    {
     "data": {
      "text/plain": [
       "5"
      ]
     },
     "execution_count": 12,
     "metadata": {},
     "output_type": "execute_result"
    }
   ],
   "source": [
    "calendar.weekday(2018, 5, 26)"
   ]
  },
  {
   "cell_type": "code",
   "execution_count": 14,
   "metadata": {},
   "outputs": [
    {
     "data": {
      "text/plain": [
       "datetime.date(2018, 5, 22)"
      ]
     },
     "execution_count": 14,
     "metadata": {},
     "output_type": "execute_result"
    }
   ],
   "source": [
    "from datetime import date\n",
    "date.today()"
   ]
  },
  {
   "cell_type": "code",
   "execution_count": 7,
   "metadata": {
    "slideshow": {
     "slide_type": "fragment"
    }
   },
   "outputs": [
    {
     "data": {
      "text/plain": [
       "0.5221095490284775"
      ]
     },
     "execution_count": 7,
     "metadata": {},
     "output_type": "execute_result"
    }
   ],
   "source": [
    "import random\n",
    "\n",
    "# Random decimal number in the interval [0, 1) (including 0, excluding 1)\n",
    "x1 = random.random()\n",
    "x1"
   ]
  },
  {
   "cell_type": "code",
   "execution_count": 9,
   "metadata": {
    "slideshow": {
     "slide_type": "fragment"
    }
   },
   "outputs": [
    {
     "name": "stdout",
     "output_type": "stream",
     "text": [
      "94\n"
     ]
    }
   ],
   "source": [
    "# Random integer in the range [a,b], including both end points\n",
    "num = random.randint(1, 100)\n",
    "print(num)\n"
   ]
  },
  {
   "cell_type": "code",
   "execution_count": null,
   "metadata": {
    "collapsed": true
   },
   "outputs": [],
   "source": []
  },
  {
   "cell_type": "markdown",
   "metadata": {
    "slideshow": {
     "slide_type": "notes"
    }
   },
   "source": [
    "\n",
    "\n",
    "\n"
   ]
  },
  {
   "cell_type": "markdown",
   "metadata": {
    "slideshow": {
     "slide_type": "notes"
    }
   },
   "source": []
  },
  {
   "cell_type": "markdown",
   "metadata": {},
   "source": []
  },
  {
   "cell_type": "code",
   "execution_count": 36,
   "metadata": {},
   "outputs": [],
   "source": [
    "import pandas as pd"
   ]
  },
  {
   "cell_type": "code",
   "execution_count": 37,
   "metadata": {},
   "outputs": [],
   "source": [
    "pd.read_csv?"
   ]
  },
  {
   "cell_type": "code",
   "execution_count": 80,
   "metadata": {},
   "outputs": [
    {
     "data": {
      "text/html": [
       "<div>\n",
       "<style scoped>\n",
       "    .dataframe tbody tr th:only-of-type {\n",
       "        vertical-align: middle;\n",
       "    }\n",
       "\n",
       "    .dataframe tbody tr th {\n",
       "        vertical-align: top;\n",
       "    }\n",
       "\n",
       "    .dataframe thead th {\n",
       "        text-align: right;\n",
       "    }\n",
       "</style>\n",
       "<table border=\"1\" class=\"dataframe\">\n",
       "  <thead>\n",
       "    <tr style=\"text-align: right;\">\n",
       "      <th></th>\n",
       "      <th>Datetime</th>\n",
       "      <th>Conditions</th>\n",
       "      <th>Temperature (C)</th>\n",
       "      <th>Relativehumidity(%)</th>\n",
       "    </tr>\n",
       "  </thead>\n",
       "  <tbody>\n",
       "    <tr>\n",
       "      <th>0</th>\n",
       "      <td>2018-05-21 00:00:00</td>\n",
       "      <td>Mostly Cloudy</td>\n",
       "      <td>12.9</td>\n",
       "      <td>78</td>\n",
       "    </tr>\n",
       "    <tr>\n",
       "      <th>1</th>\n",
       "      <td>2018-05-21 01:00:00</td>\n",
       "      <td>Mostly Cloudy</td>\n",
       "      <td>12.4</td>\n",
       "      <td>79</td>\n",
       "    </tr>\n",
       "    <tr>\n",
       "      <th>2</th>\n",
       "      <td>2018-05-21 02:00:00</td>\n",
       "      <td>Mostly Cloudy</td>\n",
       "      <td>12.8</td>\n",
       "      <td>83</td>\n",
       "    </tr>\n",
       "    <tr>\n",
       "      <th>3</th>\n",
       "      <td>2018-05-21 03:00:00</td>\n",
       "      <td>Cloudy</td>\n",
       "      <td>12.6</td>\n",
       "      <td>85</td>\n",
       "    </tr>\n",
       "    <tr>\n",
       "      <th>4</th>\n",
       "      <td>2018-05-21 04:00:00</td>\n",
       "      <td>Cloudy</td>\n",
       "      <td>12.3</td>\n",
       "      <td>84</td>\n",
       "    </tr>\n",
       "    <tr>\n",
       "      <th>5</th>\n",
       "      <td>2018-05-21 05:00:00</td>\n",
       "      <td>Cloudy</td>\n",
       "      <td>12.2</td>\n",
       "      <td>83</td>\n",
       "    </tr>\n",
       "    <tr>\n",
       "      <th>6</th>\n",
       "      <td>2018-05-21 06:00:00</td>\n",
       "      <td>Cloudy</td>\n",
       "      <td>12.3</td>\n",
       "      <td>83</td>\n",
       "    </tr>\n",
       "    <tr>\n",
       "      <th>7</th>\n",
       "      <td>2018-05-21 07:00:00</td>\n",
       "      <td>Mostly Cloudy</td>\n",
       "      <td>12.6</td>\n",
       "      <td>80</td>\n",
       "    </tr>\n",
       "    <tr>\n",
       "      <th>8</th>\n",
       "      <td>2018-05-21 08:00:00</td>\n",
       "      <td>Mostly Cloudy</td>\n",
       "      <td>13.1</td>\n",
       "      <td>79</td>\n",
       "    </tr>\n",
       "    <tr>\n",
       "      <th>9</th>\n",
       "      <td>2018-05-21 09:00:00</td>\n",
       "      <td>Mostly Cloudy</td>\n",
       "      <td>13.6</td>\n",
       "      <td>81</td>\n",
       "    </tr>\n",
       "    <tr>\n",
       "      <th>10</th>\n",
       "      <td>2018-05-21 10:00:00</td>\n",
       "      <td>Mostly Cloudy</td>\n",
       "      <td>14.0</td>\n",
       "      <td>83</td>\n",
       "    </tr>\n",
       "    <tr>\n",
       "      <th>11</th>\n",
       "      <td>2018-05-21 11:00:00</td>\n",
       "      <td>Mostly Cloudy</td>\n",
       "      <td>15.4</td>\n",
       "      <td>79</td>\n",
       "    </tr>\n",
       "    <tr>\n",
       "      <th>12</th>\n",
       "      <td>2018-05-21 12:00:00</td>\n",
       "      <td>Mostly Cloudy</td>\n",
       "      <td>15.9</td>\n",
       "      <td>74</td>\n",
       "    </tr>\n",
       "    <tr>\n",
       "      <th>13</th>\n",
       "      <td>2018-05-21 13:00:00</td>\n",
       "      <td>Mostly Cloudy</td>\n",
       "      <td>16.3</td>\n",
       "      <td>73</td>\n",
       "    </tr>\n",
       "    <tr>\n",
       "      <th>14</th>\n",
       "      <td>2018-05-21 14:00:00</td>\n",
       "      <td>Mostly Cloudy</td>\n",
       "      <td>16.4</td>\n",
       "      <td>74</td>\n",
       "    </tr>\n",
       "    <tr>\n",
       "      <th>15</th>\n",
       "      <td>2018-05-21 15:00:00</td>\n",
       "      <td>Partly Cloudy</td>\n",
       "      <td>17.4</td>\n",
       "      <td>70</td>\n",
       "    </tr>\n",
       "    <tr>\n",
       "      <th>16</th>\n",
       "      <td>2018-05-21 16:00:00</td>\n",
       "      <td>Partly Cloudy</td>\n",
       "      <td>18.4</td>\n",
       "      <td>66</td>\n",
       "    </tr>\n",
       "    <tr>\n",
       "      <th>17</th>\n",
       "      <td>2018-05-21 17:00:00</td>\n",
       "      <td>Mainly Sunny</td>\n",
       "      <td>18.7</td>\n",
       "      <td>62</td>\n",
       "    </tr>\n",
       "    <tr>\n",
       "      <th>18</th>\n",
       "      <td>2018-05-21 18:00:00</td>\n",
       "      <td>Mainly Sunny</td>\n",
       "      <td>18.4</td>\n",
       "      <td>58</td>\n",
       "    </tr>\n",
       "    <tr>\n",
       "      <th>19</th>\n",
       "      <td>2018-05-21 19:00:00</td>\n",
       "      <td>Mainly Sunny</td>\n",
       "      <td>17.7</td>\n",
       "      <td>62</td>\n",
       "    </tr>\n",
       "    <tr>\n",
       "      <th>20</th>\n",
       "      <td>2018-05-21 20:00:00</td>\n",
       "      <td>Mainly Sunny</td>\n",
       "      <td>16.8</td>\n",
       "      <td>66</td>\n",
       "    </tr>\n",
       "    <tr>\n",
       "      <th>21</th>\n",
       "      <td>2018-05-21 21:00:00</td>\n",
       "      <td>Mainly Clear</td>\n",
       "      <td>14.0</td>\n",
       "      <td>80</td>\n",
       "    </tr>\n",
       "    <tr>\n",
       "      <th>22</th>\n",
       "      <td>2018-05-21 22:00:00</td>\n",
       "      <td>Mainly Clear</td>\n",
       "      <td>14.8</td>\n",
       "      <td>75</td>\n",
       "    </tr>\n",
       "    <tr>\n",
       "      <th>23</th>\n",
       "      <td>2018-05-21 23:00:00</td>\n",
       "      <td>Clear</td>\n",
       "      <td>13.5</td>\n",
       "      <td>76</td>\n",
       "    </tr>\n",
       "  </tbody>\n",
       "</table>\n",
       "</div>"
      ],
      "text/plain": [
       "               Datetime     Conditions  Temperature (C)  Relativehumidity(%)\n",
       "0   2018-05-21 00:00:00  Mostly Cloudy             12.9                   78\n",
       "1   2018-05-21 01:00:00  Mostly Cloudy             12.4                   79\n",
       "2   2018-05-21 02:00:00  Mostly Cloudy             12.8                   83\n",
       "3   2018-05-21 03:00:00         Cloudy             12.6                   85\n",
       "4   2018-05-21 04:00:00         Cloudy             12.3                   84\n",
       "5   2018-05-21 05:00:00         Cloudy             12.2                   83\n",
       "6   2018-05-21 06:00:00         Cloudy             12.3                   83\n",
       "7   2018-05-21 07:00:00  Mostly Cloudy             12.6                   80\n",
       "8   2018-05-21 08:00:00  Mostly Cloudy             13.1                   79\n",
       "9   2018-05-21 09:00:00  Mostly Cloudy             13.6                   81\n",
       "10  2018-05-21 10:00:00  Mostly Cloudy             14.0                   83\n",
       "11  2018-05-21 11:00:00  Mostly Cloudy             15.4                   79\n",
       "12  2018-05-21 12:00:00  Mostly Cloudy             15.9                   74\n",
       "13  2018-05-21 13:00:00  Mostly Cloudy             16.3                   73\n",
       "14  2018-05-21 14:00:00  Mostly Cloudy             16.4                   74\n",
       "15  2018-05-21 15:00:00  Partly Cloudy             17.4                   70\n",
       "16  2018-05-21 16:00:00  Partly Cloudy             18.4                   66\n",
       "17  2018-05-21 17:00:00   Mainly Sunny             18.7                   62\n",
       "18  2018-05-21 18:00:00   Mainly Sunny             18.4                   58\n",
       "19  2018-05-21 19:00:00   Mainly Sunny             17.7                   62\n",
       "20  2018-05-21 20:00:00   Mainly Sunny             16.8                   66\n",
       "21  2018-05-21 21:00:00   Mainly Clear             14.0                   80\n",
       "22  2018-05-21 22:00:00   Mainly Clear             14.8                   75\n",
       "23  2018-05-21 23:00:00          Clear             13.5                   76"
      ]
     },
     "execution_count": 80,
     "metadata": {},
     "output_type": "execute_result"
    }
   ],
   "source": [
    "weather = pd.read_csv('./data/weather_YVR.csv')\n",
    "weather"
   ]
  },
  {
   "cell_type": "code",
   "execution_count": 53,
   "metadata": {},
   "outputs": [
    {
     "data": {
      "text/html": [
       "<div>\n",
       "<style scoped>\n",
       "    .dataframe tbody tr th:only-of-type {\n",
       "        vertical-align: middle;\n",
       "    }\n",
       "\n",
       "    .dataframe tbody tr th {\n",
       "        vertical-align: top;\n",
       "    }\n",
       "\n",
       "    .dataframe thead th {\n",
       "        text-align: right;\n",
       "    }\n",
       "</style>\n",
       "<table border=\"1\" class=\"dataframe\">\n",
       "  <thead>\n",
       "    <tr style=\"text-align: right;\">\n",
       "      <th></th>\n",
       "      <th>Datetime</th>\n",
       "      <th>Conditions</th>\n",
       "      <th>Temperature (C)</th>\n",
       "      <th>Relativehumidity(%)</th>\n",
       "    </tr>\n",
       "  </thead>\n",
       "  <tbody>\n",
       "    <tr>\n",
       "      <th>0</th>\n",
       "      <td>2018-05-21 00:00:00</td>\n",
       "      <td>Mostly Cloudy</td>\n",
       "      <td>12.9</td>\n",
       "      <td>78</td>\n",
       "    </tr>\n",
       "    <tr>\n",
       "      <th>1</th>\n",
       "      <td>2018-05-21 01:00:00</td>\n",
       "      <td>Mostly Cloudy</td>\n",
       "      <td>12.4</td>\n",
       "      <td>79</td>\n",
       "    </tr>\n",
       "    <tr>\n",
       "      <th>2</th>\n",
       "      <td>2018-05-21 02:00:00</td>\n",
       "      <td>Mostly Cloudy</td>\n",
       "      <td>12.8</td>\n",
       "      <td>83</td>\n",
       "    </tr>\n",
       "    <tr>\n",
       "      <th>3</th>\n",
       "      <td>2018-05-21 03:00:00</td>\n",
       "      <td>Cloudy</td>\n",
       "      <td>12.6</td>\n",
       "      <td>85</td>\n",
       "    </tr>\n",
       "    <tr>\n",
       "      <th>4</th>\n",
       "      <td>2018-05-21 04:00:00</td>\n",
       "      <td>Cloudy</td>\n",
       "      <td>12.3</td>\n",
       "      <td>84</td>\n",
       "    </tr>\n",
       "  </tbody>\n",
       "</table>\n",
       "</div>"
      ],
      "text/plain": [
       "              Datetime     Conditions  Temperature (C)  Relativehumidity(%)\n",
       "0  2018-05-21 00:00:00  Mostly Cloudy             12.9                   78\n",
       "1  2018-05-21 01:00:00  Mostly Cloudy             12.4                   79\n",
       "2  2018-05-21 02:00:00  Mostly Cloudy             12.8                   83\n",
       "3  2018-05-21 03:00:00         Cloudy             12.6                   85\n",
       "4  2018-05-21 04:00:00         Cloudy             12.3                   84"
      ]
     },
     "execution_count": 53,
     "metadata": {},
     "output_type": "execute_result"
    }
   ],
   "source": [
    "weather.head()"
   ]
  },
  {
   "cell_type": "code",
   "execution_count": 54,
   "metadata": {},
   "outputs": [
    {
     "data": {
      "text/html": [
       "<div>\n",
       "<style scoped>\n",
       "    .dataframe tbody tr th:only-of-type {\n",
       "        vertical-align: middle;\n",
       "    }\n",
       "\n",
       "    .dataframe tbody tr th {\n",
       "        vertical-align: top;\n",
       "    }\n",
       "\n",
       "    .dataframe thead th {\n",
       "        text-align: right;\n",
       "    }\n",
       "</style>\n",
       "<table border=\"1\" class=\"dataframe\">\n",
       "  <thead>\n",
       "    <tr style=\"text-align: right;\">\n",
       "      <th></th>\n",
       "      <th>Datetime</th>\n",
       "      <th>Conditions</th>\n",
       "      <th>Temperature (C)</th>\n",
       "      <th>Relativehumidity(%)</th>\n",
       "    </tr>\n",
       "  </thead>\n",
       "  <tbody>\n",
       "    <tr>\n",
       "      <th>0</th>\n",
       "      <td>2018-05-21 00:00:00</td>\n",
       "      <td>Mostly Cloudy</td>\n",
       "      <td>12.9</td>\n",
       "      <td>78</td>\n",
       "    </tr>\n",
       "    <tr>\n",
       "      <th>1</th>\n",
       "      <td>2018-05-21 01:00:00</td>\n",
       "      <td>Mostly Cloudy</td>\n",
       "      <td>12.4</td>\n",
       "      <td>79</td>\n",
       "    </tr>\n",
       "    <tr>\n",
       "      <th>2</th>\n",
       "      <td>2018-05-21 02:00:00</td>\n",
       "      <td>Mostly Cloudy</td>\n",
       "      <td>12.8</td>\n",
       "      <td>83</td>\n",
       "    </tr>\n",
       "  </tbody>\n",
       "</table>\n",
       "</div>"
      ],
      "text/plain": [
       "              Datetime     Conditions  Temperature (C)  Relativehumidity(%)\n",
       "0  2018-05-21 00:00:00  Mostly Cloudy             12.9                   78\n",
       "1  2018-05-21 01:00:00  Mostly Cloudy             12.4                   79\n",
       "2  2018-05-21 02:00:00  Mostly Cloudy             12.8                   83"
      ]
     },
     "execution_count": 54,
     "metadata": {},
     "output_type": "execute_result"
    }
   ],
   "source": [
    "weather.head(3)"
   ]
  },
  {
   "cell_type": "code",
   "execution_count": 55,
   "metadata": {},
   "outputs": [
    {
     "data": {
      "text/html": [
       "<div>\n",
       "<style scoped>\n",
       "    .dataframe tbody tr th:only-of-type {\n",
       "        vertical-align: middle;\n",
       "    }\n",
       "\n",
       "    .dataframe tbody tr th {\n",
       "        vertical-align: top;\n",
       "    }\n",
       "\n",
       "    .dataframe thead th {\n",
       "        text-align: right;\n",
       "    }\n",
       "</style>\n",
       "<table border=\"1\" class=\"dataframe\">\n",
       "  <thead>\n",
       "    <tr style=\"text-align: right;\">\n",
       "      <th></th>\n",
       "      <th>Datetime</th>\n",
       "      <th>Conditions</th>\n",
       "      <th>Temperature (C)</th>\n",
       "      <th>Relativehumidity(%)</th>\n",
       "    </tr>\n",
       "  </thead>\n",
       "  <tbody>\n",
       "    <tr>\n",
       "      <th>17</th>\n",
       "      <td>2018-05-21 17:00:00</td>\n",
       "      <td>Mainly Sunny</td>\n",
       "      <td>18.7</td>\n",
       "      <td>62</td>\n",
       "    </tr>\n",
       "    <tr>\n",
       "      <th>18</th>\n",
       "      <td>2018-05-21 18:00:00</td>\n",
       "      <td>Mainly Sunny</td>\n",
       "      <td>18.4</td>\n",
       "      <td>58</td>\n",
       "    </tr>\n",
       "    <tr>\n",
       "      <th>19</th>\n",
       "      <td>2018-05-21 19:00:00</td>\n",
       "      <td>Mainly Sunny</td>\n",
       "      <td>17.7</td>\n",
       "      <td>62</td>\n",
       "    </tr>\n",
       "    <tr>\n",
       "      <th>20</th>\n",
       "      <td>2018-05-21 20:00:00</td>\n",
       "      <td>Mainly Sunny</td>\n",
       "      <td>16.8</td>\n",
       "      <td>66</td>\n",
       "    </tr>\n",
       "    <tr>\n",
       "      <th>21</th>\n",
       "      <td>2018-05-21 21:00:00</td>\n",
       "      <td>Mainly Clear</td>\n",
       "      <td>14.0</td>\n",
       "      <td>80</td>\n",
       "    </tr>\n",
       "    <tr>\n",
       "      <th>22</th>\n",
       "      <td>2018-05-21 22:00:00</td>\n",
       "      <td>Mainly Clear</td>\n",
       "      <td>14.8</td>\n",
       "      <td>75</td>\n",
       "    </tr>\n",
       "    <tr>\n",
       "      <th>23</th>\n",
       "      <td>2018-05-21 23:00:00</td>\n",
       "      <td>Clear</td>\n",
       "      <td>13.5</td>\n",
       "      <td>76</td>\n",
       "    </tr>\n",
       "  </tbody>\n",
       "</table>\n",
       "</div>"
      ],
      "text/plain": [
       "               Datetime    Conditions  Temperature (C)  Relativehumidity(%)\n",
       "17  2018-05-21 17:00:00  Mainly Sunny             18.7                   62\n",
       "18  2018-05-21 18:00:00  Mainly Sunny             18.4                   58\n",
       "19  2018-05-21 19:00:00  Mainly Sunny             17.7                   62\n",
       "20  2018-05-21 20:00:00  Mainly Sunny             16.8                   66\n",
       "21  2018-05-21 21:00:00  Mainly Clear             14.0                   80\n",
       "22  2018-05-21 22:00:00  Mainly Clear             14.8                   75\n",
       "23  2018-05-21 23:00:00         Clear             13.5                   76"
      ]
     },
     "execution_count": 55,
     "metadata": {},
     "output_type": "execute_result"
    }
   ],
   "source": [
    "weather.tail(7)"
   ]
  },
  {
   "cell_type": "code",
   "execution_count": 56,
   "metadata": {},
   "outputs": [
    {
     "data": {
      "text/html": [
       "<div>\n",
       "<style scoped>\n",
       "    .dataframe tbody tr th:only-of-type {\n",
       "        vertical-align: middle;\n",
       "    }\n",
       "\n",
       "    .dataframe tbody tr th {\n",
       "        vertical-align: top;\n",
       "    }\n",
       "\n",
       "    .dataframe thead th {\n",
       "        text-align: right;\n",
       "    }\n",
       "</style>\n",
       "<table border=\"1\" class=\"dataframe\">\n",
       "  <thead>\n",
       "    <tr style=\"text-align: right;\">\n",
       "      <th></th>\n",
       "      <th>Datetime</th>\n",
       "      <th>Conditions</th>\n",
       "      <th>Temperature (C)</th>\n",
       "      <th>Relativehumidity(%)</th>\n",
       "    </tr>\n",
       "  </thead>\n",
       "  <tbody>\n",
       "    <tr>\n",
       "      <th>22</th>\n",
       "      <td>2018-05-21 22:00:00</td>\n",
       "      <td>Mainly Clear</td>\n",
       "      <td>14.8</td>\n",
       "      <td>75</td>\n",
       "    </tr>\n",
       "    <tr>\n",
       "      <th>6</th>\n",
       "      <td>2018-05-21 06:00:00</td>\n",
       "      <td>Cloudy</td>\n",
       "      <td>12.3</td>\n",
       "      <td>83</td>\n",
       "    </tr>\n",
       "    <tr>\n",
       "      <th>4</th>\n",
       "      <td>2018-05-21 04:00:00</td>\n",
       "      <td>Cloudy</td>\n",
       "      <td>12.3</td>\n",
       "      <td>84</td>\n",
       "    </tr>\n",
       "    <tr>\n",
       "      <th>16</th>\n",
       "      <td>2018-05-21 16:00:00</td>\n",
       "      <td>Partly Cloudy</td>\n",
       "      <td>18.4</td>\n",
       "      <td>66</td>\n",
       "    </tr>\n",
       "  </tbody>\n",
       "</table>\n",
       "</div>"
      ],
      "text/plain": [
       "               Datetime     Conditions  Temperature (C)  Relativehumidity(%)\n",
       "22  2018-05-21 22:00:00   Mainly Clear             14.8                   75\n",
       "6   2018-05-21 06:00:00         Cloudy             12.3                   83\n",
       "4   2018-05-21 04:00:00         Cloudy             12.3                   84\n",
       "16  2018-05-21 16:00:00  Partly Cloudy             18.4                   66"
      ]
     },
     "execution_count": 56,
     "metadata": {},
     "output_type": "execute_result"
    }
   ],
   "source": [
    "weather.sample(4)"
   ]
  },
  {
   "cell_type": "code",
   "execution_count": 82,
   "metadata": {},
   "outputs": [
    {
     "data": {
      "text/html": [
       "<div>\n",
       "<style scoped>\n",
       "    .dataframe tbody tr th:only-of-type {\n",
       "        vertical-align: middle;\n",
       "    }\n",
       "\n",
       "    .dataframe tbody tr th {\n",
       "        vertical-align: top;\n",
       "    }\n",
       "\n",
       "    .dataframe thead th {\n",
       "        text-align: right;\n",
       "    }\n",
       "</style>\n",
       "<table border=\"1\" class=\"dataframe\">\n",
       "  <thead>\n",
       "    <tr style=\"text-align: right;\">\n",
       "      <th></th>\n",
       "      <th>Temperature (C)</th>\n",
       "      <th>Relativehumidity(%)</th>\n",
       "    </tr>\n",
       "  </thead>\n",
       "  <tbody>\n",
       "    <tr>\n",
       "      <th>count</th>\n",
       "      <td>24.000000</td>\n",
       "      <td>24.000000</td>\n",
       "    </tr>\n",
       "    <tr>\n",
       "      <th>mean</th>\n",
       "      <td>14.770833</td>\n",
       "      <td>75.541667</td>\n",
       "    </tr>\n",
       "    <tr>\n",
       "      <th>std</th>\n",
       "      <td>2.248377</td>\n",
       "      <td>7.785042</td>\n",
       "    </tr>\n",
       "    <tr>\n",
       "      <th>min</th>\n",
       "      <td>12.200000</td>\n",
       "      <td>58.000000</td>\n",
       "    </tr>\n",
       "    <tr>\n",
       "      <th>25%</th>\n",
       "      <td>12.750000</td>\n",
       "      <td>72.250000</td>\n",
       "    </tr>\n",
       "    <tr>\n",
       "      <th>50%</th>\n",
       "      <td>14.000000</td>\n",
       "      <td>78.500000</td>\n",
       "    </tr>\n",
       "    <tr>\n",
       "      <th>75%</th>\n",
       "      <td>16.500000</td>\n",
       "      <td>81.500000</td>\n",
       "    </tr>\n",
       "    <tr>\n",
       "      <th>max</th>\n",
       "      <td>18.700000</td>\n",
       "      <td>85.000000</td>\n",
       "    </tr>\n",
       "  </tbody>\n",
       "</table>\n",
       "</div>"
      ],
      "text/plain": [
       "       Temperature (C)  Relativehumidity(%)\n",
       "count        24.000000            24.000000\n",
       "mean         14.770833            75.541667\n",
       "std           2.248377             7.785042\n",
       "min          12.200000            58.000000\n",
       "25%          12.750000            72.250000\n",
       "50%          14.000000            78.500000\n",
       "75%          16.500000            81.500000\n",
       "max          18.700000            85.000000"
      ]
     },
     "execution_count": 82,
     "metadata": {},
     "output_type": "execute_result"
    }
   ],
   "source": [
    "weather.describe()"
   ]
  },
  {
   "cell_type": "code",
   "execution_count": 83,
   "metadata": {},
   "outputs": [
    {
     "data": {
      "text/plain": [
       "Datetime               2018-05-21 23:00:00\n",
       "Conditions                   Partly Cloudy\n",
       "Temperature (C)                       18.7\n",
       "Relativehumidity(%)                     85\n",
       "dtype: object"
      ]
     },
     "execution_count": 83,
     "metadata": {},
     "output_type": "execute_result"
    }
   ],
   "source": [
    "weather.max()"
   ]
  },
  {
   "cell_type": "code",
   "execution_count": 84,
   "metadata": {},
   "outputs": [
    {
     "data": {
      "text/plain": [
       "Mostly Cloudy    11\n",
       "Mainly Sunny      4\n",
       "Cloudy            4\n",
       "Partly Cloudy     2\n",
       "Mainly Clear      2\n",
       "Clear             1\n",
       "Name: Conditions, dtype: int64"
      ]
     },
     "execution_count": 84,
     "metadata": {},
     "output_type": "execute_result"
    }
   ],
   "source": [
    "weather['Conditions'].value_counts()"
   ]
  },
  {
   "cell_type": "markdown",
   "metadata": {},
   "source": [
    "## Filters"
   ]
  },
  {
   "cell_type": "code",
   "execution_count": 85,
   "metadata": {},
   "outputs": [
    {
     "data": {
      "text/plain": [
       "0     False\n",
       "1     False\n",
       "2     False\n",
       "3     False\n",
       "4     False\n",
       "5     False\n",
       "6     False\n",
       "7     False\n",
       "8     False\n",
       "9     False\n",
       "10    False\n",
       "11    False\n",
       "12    False\n",
       "13    False\n",
       "14    False\n",
       "15    False\n",
       "16    False\n",
       "17     True\n",
       "18     True\n",
       "19     True\n",
       "20     True\n",
       "21    False\n",
       "22    False\n",
       "23    False\n",
       "Name: Conditions, dtype: bool"
      ]
     },
     "execution_count": 85,
     "metadata": {},
     "output_type": "execute_result"
    }
   ],
   "source": [
    "mainly_sunny = weather['Conditions'] == 'Mainly Sunny'\n",
    "mainly_sunny"
   ]
  },
  {
   "cell_type": "code",
   "execution_count": 86,
   "metadata": {},
   "outputs": [
    {
     "data": {
      "text/html": [
       "<div>\n",
       "<style scoped>\n",
       "    .dataframe tbody tr th:only-of-type {\n",
       "        vertical-align: middle;\n",
       "    }\n",
       "\n",
       "    .dataframe tbody tr th {\n",
       "        vertical-align: top;\n",
       "    }\n",
       "\n",
       "    .dataframe thead th {\n",
       "        text-align: right;\n",
       "    }\n",
       "</style>\n",
       "<table border=\"1\" class=\"dataframe\">\n",
       "  <thead>\n",
       "    <tr style=\"text-align: right;\">\n",
       "      <th></th>\n",
       "      <th>Datetime</th>\n",
       "      <th>Conditions</th>\n",
       "      <th>Temperature (C)</th>\n",
       "      <th>Relativehumidity(%)</th>\n",
       "    </tr>\n",
       "  </thead>\n",
       "  <tbody>\n",
       "    <tr>\n",
       "      <th>17</th>\n",
       "      <td>2018-05-21 17:00:00</td>\n",
       "      <td>Mainly Sunny</td>\n",
       "      <td>18.7</td>\n",
       "      <td>62</td>\n",
       "    </tr>\n",
       "    <tr>\n",
       "      <th>18</th>\n",
       "      <td>2018-05-21 18:00:00</td>\n",
       "      <td>Mainly Sunny</td>\n",
       "      <td>18.4</td>\n",
       "      <td>58</td>\n",
       "    </tr>\n",
       "    <tr>\n",
       "      <th>19</th>\n",
       "      <td>2018-05-21 19:00:00</td>\n",
       "      <td>Mainly Sunny</td>\n",
       "      <td>17.7</td>\n",
       "      <td>62</td>\n",
       "    </tr>\n",
       "    <tr>\n",
       "      <th>20</th>\n",
       "      <td>2018-05-21 20:00:00</td>\n",
       "      <td>Mainly Sunny</td>\n",
       "      <td>16.8</td>\n",
       "      <td>66</td>\n",
       "    </tr>\n",
       "  </tbody>\n",
       "</table>\n",
       "</div>"
      ],
      "text/plain": [
       "               Datetime    Conditions  Temperature (C)  Relativehumidity(%)\n",
       "17  2018-05-21 17:00:00  Mainly Sunny             18.7                   62\n",
       "18  2018-05-21 18:00:00  Mainly Sunny             18.4                   58\n",
       "19  2018-05-21 19:00:00  Mainly Sunny             17.7                   62\n",
       "20  2018-05-21 20:00:00  Mainly Sunny             16.8                   66"
      ]
     },
     "execution_count": 86,
     "metadata": {},
     "output_type": "execute_result"
    }
   ],
   "source": [
    "weather[mainly_sunny]"
   ]
  },
  {
   "cell_type": "code",
   "execution_count": 87,
   "metadata": {},
   "outputs": [
    {
     "data": {
      "text/html": [
       "<div>\n",
       "<style scoped>\n",
       "    .dataframe tbody tr th:only-of-type {\n",
       "        vertical-align: middle;\n",
       "    }\n",
       "\n",
       "    .dataframe tbody tr th {\n",
       "        vertical-align: top;\n",
       "    }\n",
       "\n",
       "    .dataframe thead th {\n",
       "        text-align: right;\n",
       "    }\n",
       "</style>\n",
       "<table border=\"1\" class=\"dataframe\">\n",
       "  <thead>\n",
       "    <tr style=\"text-align: right;\">\n",
       "      <th></th>\n",
       "      <th>Datetime</th>\n",
       "      <th>Conditions</th>\n",
       "      <th>Temperature (C)</th>\n",
       "      <th>Relativehumidity(%)</th>\n",
       "    </tr>\n",
       "  </thead>\n",
       "  <tbody>\n",
       "    <tr>\n",
       "      <th>21</th>\n",
       "      <td>2018-05-21 21:00:00</td>\n",
       "      <td>Mainly Clear</td>\n",
       "      <td>14.0</td>\n",
       "      <td>80</td>\n",
       "    </tr>\n",
       "    <tr>\n",
       "      <th>22</th>\n",
       "      <td>2018-05-21 22:00:00</td>\n",
       "      <td>Mainly Clear</td>\n",
       "      <td>14.8</td>\n",
       "      <td>75</td>\n",
       "    </tr>\n",
       "  </tbody>\n",
       "</table>\n",
       "</div>"
      ],
      "text/plain": [
       "               Datetime    Conditions  Temperature (C)  Relativehumidity(%)\n",
       "21  2018-05-21 21:00:00  Mainly Clear             14.0                   80\n",
       "22  2018-05-21 22:00:00  Mainly Clear             14.8                   75"
      ]
     },
     "execution_count": 87,
     "metadata": {},
     "output_type": "execute_result"
    }
   ],
   "source": [
    "mainly_clear = weather['Conditions'] == 'Mainly Clear'\n",
    "weather[mainly_clear]"
   ]
  },
  {
   "cell_type": "code",
   "execution_count": 88,
   "metadata": {},
   "outputs": [
    {
     "name": "stdout",
     "output_type": "stream",
     "text": [
      "23 degrees C equals 73.4 degrees F\n"
     ]
    }
   ],
   "source": [
    "temp_C = 23\n",
    "temp_F = (1.8 * temp_C) + 32\n",
    "# Note: parentheses not necessary in this case, but good habit to get into\n",
    "print(f'{temp_C} degrees C equals {temp_F} degrees F')"
   ]
  },
  {
   "cell_type": "code",
   "execution_count": 89,
   "metadata": {},
   "outputs": [
    {
     "data": {
      "text/html": [
       "<div>\n",
       "<style scoped>\n",
       "    .dataframe tbody tr th:only-of-type {\n",
       "        vertical-align: middle;\n",
       "    }\n",
       "\n",
       "    .dataframe tbody tr th {\n",
       "        vertical-align: top;\n",
       "    }\n",
       "\n",
       "    .dataframe thead th {\n",
       "        text-align: right;\n",
       "    }\n",
       "</style>\n",
       "<table border=\"1\" class=\"dataframe\">\n",
       "  <thead>\n",
       "    <tr style=\"text-align: right;\">\n",
       "      <th></th>\n",
       "      <th>Datetime</th>\n",
       "      <th>Conditions</th>\n",
       "      <th>Temperature (C)</th>\n",
       "      <th>Relativehumidity(%)</th>\n",
       "      <th>Temperature (F)</th>\n",
       "    </tr>\n",
       "  </thead>\n",
       "  <tbody>\n",
       "    <tr>\n",
       "      <th>0</th>\n",
       "      <td>2018-05-21 00:00:00</td>\n",
       "      <td>Mostly Cloudy</td>\n",
       "      <td>12.9</td>\n",
       "      <td>78</td>\n",
       "      <td>55.22</td>\n",
       "    </tr>\n",
       "    <tr>\n",
       "      <th>1</th>\n",
       "      <td>2018-05-21 01:00:00</td>\n",
       "      <td>Mostly Cloudy</td>\n",
       "      <td>12.4</td>\n",
       "      <td>79</td>\n",
       "      <td>54.32</td>\n",
       "    </tr>\n",
       "    <tr>\n",
       "      <th>2</th>\n",
       "      <td>2018-05-21 02:00:00</td>\n",
       "      <td>Mostly Cloudy</td>\n",
       "      <td>12.8</td>\n",
       "      <td>83</td>\n",
       "      <td>55.04</td>\n",
       "    </tr>\n",
       "    <tr>\n",
       "      <th>3</th>\n",
       "      <td>2018-05-21 03:00:00</td>\n",
       "      <td>Cloudy</td>\n",
       "      <td>12.6</td>\n",
       "      <td>85</td>\n",
       "      <td>54.68</td>\n",
       "    </tr>\n",
       "    <tr>\n",
       "      <th>4</th>\n",
       "      <td>2018-05-21 04:00:00</td>\n",
       "      <td>Cloudy</td>\n",
       "      <td>12.3</td>\n",
       "      <td>84</td>\n",
       "      <td>54.14</td>\n",
       "    </tr>\n",
       "  </tbody>\n",
       "</table>\n",
       "</div>"
      ],
      "text/plain": [
       "              Datetime     Conditions  Temperature (C)  Relativehumidity(%)  \\\n",
       "0  2018-05-21 00:00:00  Mostly Cloudy             12.9                   78   \n",
       "1  2018-05-21 01:00:00  Mostly Cloudy             12.4                   79   \n",
       "2  2018-05-21 02:00:00  Mostly Cloudy             12.8                   83   \n",
       "3  2018-05-21 03:00:00         Cloudy             12.6                   85   \n",
       "4  2018-05-21 04:00:00         Cloudy             12.3                   84   \n",
       "\n",
       "   Temperature (F)  \n",
       "0            55.22  \n",
       "1            54.32  \n",
       "2            55.04  \n",
       "3            54.68  \n",
       "4            54.14  "
      ]
     },
     "execution_count": 89,
     "metadata": {},
     "output_type": "execute_result"
    }
   ],
   "source": [
    "weather['Temperature (F)'] = (1.8 * weather['Temperature (C)']) + 32\n",
    "weather.head()"
   ]
  },
  {
   "cell_type": "code",
   "execution_count": 90,
   "metadata": {},
   "outputs": [
    {
     "data": {
      "text/plain": [
       "0     55.22\n",
       "1     54.32\n",
       "2     55.04\n",
       "3     54.68\n",
       "4     54.14\n",
       "5     53.96\n",
       "6     54.14\n",
       "7     54.68\n",
       "8     55.58\n",
       "9     56.48\n",
       "10    57.20\n",
       "11    59.72\n",
       "12    60.62\n",
       "13    61.34\n",
       "14    61.52\n",
       "15    63.32\n",
       "16    65.12\n",
       "17    65.66\n",
       "18    65.12\n",
       "19    63.86\n",
       "20    62.24\n",
       "21    57.20\n",
       "22    58.64\n",
       "23    56.30\n",
       "Name: Temperature (F), dtype: float64"
      ]
     },
     "execution_count": 90,
     "metadata": {},
     "output_type": "execute_result"
    }
   ],
   "source": [
    "weather['Temperature (F)']"
   ]
  },
  {
   "cell_type": "code",
   "execution_count": 91,
   "metadata": {},
   "outputs": [],
   "source": [
    "weather2 = weather"
   ]
  },
  {
   "cell_type": "code",
   "execution_count": 92,
   "metadata": {},
   "outputs": [
    {
     "data": {
      "text/html": [
       "<div>\n",
       "<style scoped>\n",
       "    .dataframe tbody tr th:only-of-type {\n",
       "        vertical-align: middle;\n",
       "    }\n",
       "\n",
       "    .dataframe tbody tr th {\n",
       "        vertical-align: top;\n",
       "    }\n",
       "\n",
       "    .dataframe thead th {\n",
       "        text-align: right;\n",
       "    }\n",
       "</style>\n",
       "<table border=\"1\" class=\"dataframe\">\n",
       "  <thead>\n",
       "    <tr style=\"text-align: right;\">\n",
       "      <th></th>\n",
       "      <th>Datetime</th>\n",
       "      <th>Conditions</th>\n",
       "      <th>Temperature (C)</th>\n",
       "      <th>Relativehumidity(%)</th>\n",
       "      <th>Temperature (F)</th>\n",
       "    </tr>\n",
       "  </thead>\n",
       "  <tbody>\n",
       "    <tr>\n",
       "      <th>0</th>\n",
       "      <td>2018-05-21 00:00:00</td>\n",
       "      <td>Raining cats and dogs</td>\n",
       "      <td>12.9</td>\n",
       "      <td>78</td>\n",
       "      <td>55.22</td>\n",
       "    </tr>\n",
       "    <tr>\n",
       "      <th>1</th>\n",
       "      <td>2018-05-21 01:00:00</td>\n",
       "      <td>Raining cats and dogs</td>\n",
       "      <td>12.4</td>\n",
       "      <td>79</td>\n",
       "      <td>54.32</td>\n",
       "    </tr>\n",
       "    <tr>\n",
       "      <th>2</th>\n",
       "      <td>2018-05-21 02:00:00</td>\n",
       "      <td>Raining cats and dogs</td>\n",
       "      <td>12.8</td>\n",
       "      <td>83</td>\n",
       "      <td>55.04</td>\n",
       "    </tr>\n",
       "    <tr>\n",
       "      <th>3</th>\n",
       "      <td>2018-05-21 03:00:00</td>\n",
       "      <td>Raining cats and dogs</td>\n",
       "      <td>12.6</td>\n",
       "      <td>85</td>\n",
       "      <td>54.68</td>\n",
       "    </tr>\n",
       "    <tr>\n",
       "      <th>4</th>\n",
       "      <td>2018-05-21 04:00:00</td>\n",
       "      <td>Raining cats and dogs</td>\n",
       "      <td>12.3</td>\n",
       "      <td>84</td>\n",
       "      <td>54.14</td>\n",
       "    </tr>\n",
       "    <tr>\n",
       "      <th>5</th>\n",
       "      <td>2018-05-21 05:00:00</td>\n",
       "      <td>Raining cats and dogs</td>\n",
       "      <td>12.2</td>\n",
       "      <td>83</td>\n",
       "      <td>53.96</td>\n",
       "    </tr>\n",
       "    <tr>\n",
       "      <th>6</th>\n",
       "      <td>2018-05-21 06:00:00</td>\n",
       "      <td>Raining cats and dogs</td>\n",
       "      <td>12.3</td>\n",
       "      <td>83</td>\n",
       "      <td>54.14</td>\n",
       "    </tr>\n",
       "    <tr>\n",
       "      <th>7</th>\n",
       "      <td>2018-05-21 07:00:00</td>\n",
       "      <td>Raining cats and dogs</td>\n",
       "      <td>12.6</td>\n",
       "      <td>80</td>\n",
       "      <td>54.68</td>\n",
       "    </tr>\n",
       "    <tr>\n",
       "      <th>8</th>\n",
       "      <td>2018-05-21 08:00:00</td>\n",
       "      <td>Raining cats and dogs</td>\n",
       "      <td>13.1</td>\n",
       "      <td>79</td>\n",
       "      <td>55.58</td>\n",
       "    </tr>\n",
       "    <tr>\n",
       "      <th>9</th>\n",
       "      <td>2018-05-21 09:00:00</td>\n",
       "      <td>Raining cats and dogs</td>\n",
       "      <td>13.6</td>\n",
       "      <td>81</td>\n",
       "      <td>56.48</td>\n",
       "    </tr>\n",
       "    <tr>\n",
       "      <th>10</th>\n",
       "      <td>2018-05-21 10:00:00</td>\n",
       "      <td>Raining cats and dogs</td>\n",
       "      <td>14.0</td>\n",
       "      <td>83</td>\n",
       "      <td>57.20</td>\n",
       "    </tr>\n",
       "    <tr>\n",
       "      <th>11</th>\n",
       "      <td>2018-05-21 11:00:00</td>\n",
       "      <td>Raining cats and dogs</td>\n",
       "      <td>15.4</td>\n",
       "      <td>79</td>\n",
       "      <td>59.72</td>\n",
       "    </tr>\n",
       "    <tr>\n",
       "      <th>12</th>\n",
       "      <td>2018-05-21 12:00:00</td>\n",
       "      <td>Raining cats and dogs</td>\n",
       "      <td>15.9</td>\n",
       "      <td>74</td>\n",
       "      <td>60.62</td>\n",
       "    </tr>\n",
       "    <tr>\n",
       "      <th>13</th>\n",
       "      <td>2018-05-21 13:00:00</td>\n",
       "      <td>Raining cats and dogs</td>\n",
       "      <td>16.3</td>\n",
       "      <td>73</td>\n",
       "      <td>61.34</td>\n",
       "    </tr>\n",
       "    <tr>\n",
       "      <th>14</th>\n",
       "      <td>2018-05-21 14:00:00</td>\n",
       "      <td>Raining cats and dogs</td>\n",
       "      <td>16.4</td>\n",
       "      <td>74</td>\n",
       "      <td>61.52</td>\n",
       "    </tr>\n",
       "    <tr>\n",
       "      <th>15</th>\n",
       "      <td>2018-05-21 15:00:00</td>\n",
       "      <td>Raining cats and dogs</td>\n",
       "      <td>17.4</td>\n",
       "      <td>70</td>\n",
       "      <td>63.32</td>\n",
       "    </tr>\n",
       "    <tr>\n",
       "      <th>16</th>\n",
       "      <td>2018-05-21 16:00:00</td>\n",
       "      <td>Raining cats and dogs</td>\n",
       "      <td>18.4</td>\n",
       "      <td>66</td>\n",
       "      <td>65.12</td>\n",
       "    </tr>\n",
       "    <tr>\n",
       "      <th>17</th>\n",
       "      <td>2018-05-21 17:00:00</td>\n",
       "      <td>Raining cats and dogs</td>\n",
       "      <td>18.7</td>\n",
       "      <td>62</td>\n",
       "      <td>65.66</td>\n",
       "    </tr>\n",
       "    <tr>\n",
       "      <th>18</th>\n",
       "      <td>2018-05-21 18:00:00</td>\n",
       "      <td>Raining cats and dogs</td>\n",
       "      <td>18.4</td>\n",
       "      <td>58</td>\n",
       "      <td>65.12</td>\n",
       "    </tr>\n",
       "    <tr>\n",
       "      <th>19</th>\n",
       "      <td>2018-05-21 19:00:00</td>\n",
       "      <td>Raining cats and dogs</td>\n",
       "      <td>17.7</td>\n",
       "      <td>62</td>\n",
       "      <td>63.86</td>\n",
       "    </tr>\n",
       "    <tr>\n",
       "      <th>20</th>\n",
       "      <td>2018-05-21 20:00:00</td>\n",
       "      <td>Raining cats and dogs</td>\n",
       "      <td>16.8</td>\n",
       "      <td>66</td>\n",
       "      <td>62.24</td>\n",
       "    </tr>\n",
       "    <tr>\n",
       "      <th>21</th>\n",
       "      <td>2018-05-21 21:00:00</td>\n",
       "      <td>Raining cats and dogs</td>\n",
       "      <td>14.0</td>\n",
       "      <td>80</td>\n",
       "      <td>57.20</td>\n",
       "    </tr>\n",
       "    <tr>\n",
       "      <th>22</th>\n",
       "      <td>2018-05-21 22:00:00</td>\n",
       "      <td>Raining cats and dogs</td>\n",
       "      <td>14.8</td>\n",
       "      <td>75</td>\n",
       "      <td>58.64</td>\n",
       "    </tr>\n",
       "    <tr>\n",
       "      <th>23</th>\n",
       "      <td>2018-05-21 23:00:00</td>\n",
       "      <td>Raining cats and dogs</td>\n",
       "      <td>13.5</td>\n",
       "      <td>76</td>\n",
       "      <td>56.30</td>\n",
       "    </tr>\n",
       "  </tbody>\n",
       "</table>\n",
       "</div>"
      ],
      "text/plain": [
       "               Datetime             Conditions  Temperature (C)  \\\n",
       "0   2018-05-21 00:00:00  Raining cats and dogs             12.9   \n",
       "1   2018-05-21 01:00:00  Raining cats and dogs             12.4   \n",
       "2   2018-05-21 02:00:00  Raining cats and dogs             12.8   \n",
       "3   2018-05-21 03:00:00  Raining cats and dogs             12.6   \n",
       "4   2018-05-21 04:00:00  Raining cats and dogs             12.3   \n",
       "5   2018-05-21 05:00:00  Raining cats and dogs             12.2   \n",
       "6   2018-05-21 06:00:00  Raining cats and dogs             12.3   \n",
       "7   2018-05-21 07:00:00  Raining cats and dogs             12.6   \n",
       "8   2018-05-21 08:00:00  Raining cats and dogs             13.1   \n",
       "9   2018-05-21 09:00:00  Raining cats and dogs             13.6   \n",
       "10  2018-05-21 10:00:00  Raining cats and dogs             14.0   \n",
       "11  2018-05-21 11:00:00  Raining cats and dogs             15.4   \n",
       "12  2018-05-21 12:00:00  Raining cats and dogs             15.9   \n",
       "13  2018-05-21 13:00:00  Raining cats and dogs             16.3   \n",
       "14  2018-05-21 14:00:00  Raining cats and dogs             16.4   \n",
       "15  2018-05-21 15:00:00  Raining cats and dogs             17.4   \n",
       "16  2018-05-21 16:00:00  Raining cats and dogs             18.4   \n",
       "17  2018-05-21 17:00:00  Raining cats and dogs             18.7   \n",
       "18  2018-05-21 18:00:00  Raining cats and dogs             18.4   \n",
       "19  2018-05-21 19:00:00  Raining cats and dogs             17.7   \n",
       "20  2018-05-21 20:00:00  Raining cats and dogs             16.8   \n",
       "21  2018-05-21 21:00:00  Raining cats and dogs             14.0   \n",
       "22  2018-05-21 22:00:00  Raining cats and dogs             14.8   \n",
       "23  2018-05-21 23:00:00  Raining cats and dogs             13.5   \n",
       "\n",
       "    Relativehumidity(%)  Temperature (F)  \n",
       "0                    78            55.22  \n",
       "1                    79            54.32  \n",
       "2                    83            55.04  \n",
       "3                    85            54.68  \n",
       "4                    84            54.14  \n",
       "5                    83            53.96  \n",
       "6                    83            54.14  \n",
       "7                    80            54.68  \n",
       "8                    79            55.58  \n",
       "9                    81            56.48  \n",
       "10                   83            57.20  \n",
       "11                   79            59.72  \n",
       "12                   74            60.62  \n",
       "13                   73            61.34  \n",
       "14                   74            61.52  \n",
       "15                   70            63.32  \n",
       "16                   66            65.12  \n",
       "17                   62            65.66  \n",
       "18                   58            65.12  \n",
       "19                   62            63.86  \n",
       "20                   66            62.24  \n",
       "21                   80            57.20  \n",
       "22                   75            58.64  \n",
       "23                   76            56.30  "
      ]
     },
     "execution_count": 92,
     "metadata": {},
     "output_type": "execute_result"
    }
   ],
   "source": [
    "weather2['Conditions'] = 'Raining cats and dogs'\n",
    "weather2"
   ]
  },
  {
   "cell_type": "code",
   "execution_count": 93,
   "metadata": {},
   "outputs": [
    {
     "data": {
      "text/html": [
       "<div>\n",
       "<style scoped>\n",
       "    .dataframe tbody tr th:only-of-type {\n",
       "        vertical-align: middle;\n",
       "    }\n",
       "\n",
       "    .dataframe tbody tr th {\n",
       "        vertical-align: top;\n",
       "    }\n",
       "\n",
       "    .dataframe thead th {\n",
       "        text-align: right;\n",
       "    }\n",
       "</style>\n",
       "<table border=\"1\" class=\"dataframe\">\n",
       "  <thead>\n",
       "    <tr style=\"text-align: right;\">\n",
       "      <th></th>\n",
       "      <th>Datetime</th>\n",
       "      <th>Conditions</th>\n",
       "      <th>Temperature (C)</th>\n",
       "      <th>Relativehumidity(%)</th>\n",
       "      <th>Temperature (F)</th>\n",
       "    </tr>\n",
       "  </thead>\n",
       "  <tbody>\n",
       "    <tr>\n",
       "      <th>0</th>\n",
       "      <td>2018-05-21 00:00:00</td>\n",
       "      <td>Raining cats and dogs</td>\n",
       "      <td>12.9</td>\n",
       "      <td>78</td>\n",
       "      <td>55.22</td>\n",
       "    </tr>\n",
       "    <tr>\n",
       "      <th>1</th>\n",
       "      <td>2018-05-21 01:00:00</td>\n",
       "      <td>Raining cats and dogs</td>\n",
       "      <td>12.4</td>\n",
       "      <td>79</td>\n",
       "      <td>54.32</td>\n",
       "    </tr>\n",
       "    <tr>\n",
       "      <th>2</th>\n",
       "      <td>2018-05-21 02:00:00</td>\n",
       "      <td>Raining cats and dogs</td>\n",
       "      <td>12.8</td>\n",
       "      <td>83</td>\n",
       "      <td>55.04</td>\n",
       "    </tr>\n",
       "    <tr>\n",
       "      <th>3</th>\n",
       "      <td>2018-05-21 03:00:00</td>\n",
       "      <td>Raining cats and dogs</td>\n",
       "      <td>12.6</td>\n",
       "      <td>85</td>\n",
       "      <td>54.68</td>\n",
       "    </tr>\n",
       "    <tr>\n",
       "      <th>4</th>\n",
       "      <td>2018-05-21 04:00:00</td>\n",
       "      <td>Raining cats and dogs</td>\n",
       "      <td>12.3</td>\n",
       "      <td>84</td>\n",
       "      <td>54.14</td>\n",
       "    </tr>\n",
       "    <tr>\n",
       "      <th>5</th>\n",
       "      <td>2018-05-21 05:00:00</td>\n",
       "      <td>Raining cats and dogs</td>\n",
       "      <td>12.2</td>\n",
       "      <td>83</td>\n",
       "      <td>53.96</td>\n",
       "    </tr>\n",
       "    <tr>\n",
       "      <th>6</th>\n",
       "      <td>2018-05-21 06:00:00</td>\n",
       "      <td>Raining cats and dogs</td>\n",
       "      <td>12.3</td>\n",
       "      <td>83</td>\n",
       "      <td>54.14</td>\n",
       "    </tr>\n",
       "    <tr>\n",
       "      <th>7</th>\n",
       "      <td>2018-05-21 07:00:00</td>\n",
       "      <td>Raining cats and dogs</td>\n",
       "      <td>12.6</td>\n",
       "      <td>80</td>\n",
       "      <td>54.68</td>\n",
       "    </tr>\n",
       "    <tr>\n",
       "      <th>8</th>\n",
       "      <td>2018-05-21 08:00:00</td>\n",
       "      <td>Raining cats and dogs</td>\n",
       "      <td>13.1</td>\n",
       "      <td>79</td>\n",
       "      <td>55.58</td>\n",
       "    </tr>\n",
       "    <tr>\n",
       "      <th>9</th>\n",
       "      <td>2018-05-21 09:00:00</td>\n",
       "      <td>Raining cats and dogs</td>\n",
       "      <td>13.6</td>\n",
       "      <td>81</td>\n",
       "      <td>56.48</td>\n",
       "    </tr>\n",
       "    <tr>\n",
       "      <th>10</th>\n",
       "      <td>2018-05-21 10:00:00</td>\n",
       "      <td>Raining cats and dogs</td>\n",
       "      <td>14.0</td>\n",
       "      <td>83</td>\n",
       "      <td>57.20</td>\n",
       "    </tr>\n",
       "    <tr>\n",
       "      <th>11</th>\n",
       "      <td>2018-05-21 11:00:00</td>\n",
       "      <td>Raining cats and dogs</td>\n",
       "      <td>15.4</td>\n",
       "      <td>79</td>\n",
       "      <td>59.72</td>\n",
       "    </tr>\n",
       "    <tr>\n",
       "      <th>12</th>\n",
       "      <td>2018-05-21 12:00:00</td>\n",
       "      <td>Raining cats and dogs</td>\n",
       "      <td>15.9</td>\n",
       "      <td>74</td>\n",
       "      <td>60.62</td>\n",
       "    </tr>\n",
       "    <tr>\n",
       "      <th>13</th>\n",
       "      <td>2018-05-21 13:00:00</td>\n",
       "      <td>Raining cats and dogs</td>\n",
       "      <td>16.3</td>\n",
       "      <td>73</td>\n",
       "      <td>61.34</td>\n",
       "    </tr>\n",
       "    <tr>\n",
       "      <th>14</th>\n",
       "      <td>2018-05-21 14:00:00</td>\n",
       "      <td>Raining cats and dogs</td>\n",
       "      <td>16.4</td>\n",
       "      <td>74</td>\n",
       "      <td>61.52</td>\n",
       "    </tr>\n",
       "    <tr>\n",
       "      <th>15</th>\n",
       "      <td>2018-05-21 15:00:00</td>\n",
       "      <td>Raining cats and dogs</td>\n",
       "      <td>17.4</td>\n",
       "      <td>70</td>\n",
       "      <td>63.32</td>\n",
       "    </tr>\n",
       "    <tr>\n",
       "      <th>16</th>\n",
       "      <td>2018-05-21 16:00:00</td>\n",
       "      <td>Raining cats and dogs</td>\n",
       "      <td>18.4</td>\n",
       "      <td>66</td>\n",
       "      <td>65.12</td>\n",
       "    </tr>\n",
       "    <tr>\n",
       "      <th>17</th>\n",
       "      <td>2018-05-21 17:00:00</td>\n",
       "      <td>Raining cats and dogs</td>\n",
       "      <td>18.7</td>\n",
       "      <td>62</td>\n",
       "      <td>65.66</td>\n",
       "    </tr>\n",
       "    <tr>\n",
       "      <th>18</th>\n",
       "      <td>2018-05-21 18:00:00</td>\n",
       "      <td>Raining cats and dogs</td>\n",
       "      <td>18.4</td>\n",
       "      <td>58</td>\n",
       "      <td>65.12</td>\n",
       "    </tr>\n",
       "    <tr>\n",
       "      <th>19</th>\n",
       "      <td>2018-05-21 19:00:00</td>\n",
       "      <td>Raining cats and dogs</td>\n",
       "      <td>17.7</td>\n",
       "      <td>62</td>\n",
       "      <td>63.86</td>\n",
       "    </tr>\n",
       "    <tr>\n",
       "      <th>20</th>\n",
       "      <td>2018-05-21 20:00:00</td>\n",
       "      <td>Raining cats and dogs</td>\n",
       "      <td>16.8</td>\n",
       "      <td>66</td>\n",
       "      <td>62.24</td>\n",
       "    </tr>\n",
       "    <tr>\n",
       "      <th>21</th>\n",
       "      <td>2018-05-21 21:00:00</td>\n",
       "      <td>Raining cats and dogs</td>\n",
       "      <td>14.0</td>\n",
       "      <td>80</td>\n",
       "      <td>57.20</td>\n",
       "    </tr>\n",
       "    <tr>\n",
       "      <th>22</th>\n",
       "      <td>2018-05-21 22:00:00</td>\n",
       "      <td>Raining cats and dogs</td>\n",
       "      <td>14.8</td>\n",
       "      <td>75</td>\n",
       "      <td>58.64</td>\n",
       "    </tr>\n",
       "    <tr>\n",
       "      <th>23</th>\n",
       "      <td>2018-05-21 23:00:00</td>\n",
       "      <td>Raining cats and dogs</td>\n",
       "      <td>13.5</td>\n",
       "      <td>76</td>\n",
       "      <td>56.30</td>\n",
       "    </tr>\n",
       "  </tbody>\n",
       "</table>\n",
       "</div>"
      ],
      "text/plain": [
       "               Datetime             Conditions  Temperature (C)  \\\n",
       "0   2018-05-21 00:00:00  Raining cats and dogs             12.9   \n",
       "1   2018-05-21 01:00:00  Raining cats and dogs             12.4   \n",
       "2   2018-05-21 02:00:00  Raining cats and dogs             12.8   \n",
       "3   2018-05-21 03:00:00  Raining cats and dogs             12.6   \n",
       "4   2018-05-21 04:00:00  Raining cats and dogs             12.3   \n",
       "5   2018-05-21 05:00:00  Raining cats and dogs             12.2   \n",
       "6   2018-05-21 06:00:00  Raining cats and dogs             12.3   \n",
       "7   2018-05-21 07:00:00  Raining cats and dogs             12.6   \n",
       "8   2018-05-21 08:00:00  Raining cats and dogs             13.1   \n",
       "9   2018-05-21 09:00:00  Raining cats and dogs             13.6   \n",
       "10  2018-05-21 10:00:00  Raining cats and dogs             14.0   \n",
       "11  2018-05-21 11:00:00  Raining cats and dogs             15.4   \n",
       "12  2018-05-21 12:00:00  Raining cats and dogs             15.9   \n",
       "13  2018-05-21 13:00:00  Raining cats and dogs             16.3   \n",
       "14  2018-05-21 14:00:00  Raining cats and dogs             16.4   \n",
       "15  2018-05-21 15:00:00  Raining cats and dogs             17.4   \n",
       "16  2018-05-21 16:00:00  Raining cats and dogs             18.4   \n",
       "17  2018-05-21 17:00:00  Raining cats and dogs             18.7   \n",
       "18  2018-05-21 18:00:00  Raining cats and dogs             18.4   \n",
       "19  2018-05-21 19:00:00  Raining cats and dogs             17.7   \n",
       "20  2018-05-21 20:00:00  Raining cats and dogs             16.8   \n",
       "21  2018-05-21 21:00:00  Raining cats and dogs             14.0   \n",
       "22  2018-05-21 22:00:00  Raining cats and dogs             14.8   \n",
       "23  2018-05-21 23:00:00  Raining cats and dogs             13.5   \n",
       "\n",
       "    Relativehumidity(%)  Temperature (F)  \n",
       "0                    78            55.22  \n",
       "1                    79            54.32  \n",
       "2                    83            55.04  \n",
       "3                    85            54.68  \n",
       "4                    84            54.14  \n",
       "5                    83            53.96  \n",
       "6                    83            54.14  \n",
       "7                    80            54.68  \n",
       "8                    79            55.58  \n",
       "9                    81            56.48  \n",
       "10                   83            57.20  \n",
       "11                   79            59.72  \n",
       "12                   74            60.62  \n",
       "13                   73            61.34  \n",
       "14                   74            61.52  \n",
       "15                   70            63.32  \n",
       "16                   66            65.12  \n",
       "17                   62            65.66  \n",
       "18                   58            65.12  \n",
       "19                   62            63.86  \n",
       "20                   66            62.24  \n",
       "21                   80            57.20  \n",
       "22                   75            58.64  \n",
       "23                   76            56.30  "
      ]
     },
     "execution_count": 93,
     "metadata": {},
     "output_type": "execute_result"
    }
   ],
   "source": [
    "# Our original dataframe is modified too!\n",
    "# If we try to re-run any of the code in earlier cells, such as\n",
    "# weather['Conditions'].value_counts(), the results will be wrong\n",
    "weather"
   ]
  },
  {
   "cell_type": "code",
   "execution_count": null,
   "metadata": {},
   "outputs": [],
   "source": []
  }
 ],
 "metadata": {
  "celltoolbar": "Slideshow",
  "kernelspec": {
   "display_name": "Python [conda root]",
   "language": "python",
   "name": "conda-root-py"
  },
  "language_info": {
   "codemirror_mode": {
    "name": "ipython",
    "version": 3
   },
   "file_extension": ".py",
   "mimetype": "text/x-python",
   "name": "python",
   "nbconvert_exporter": "python",
   "pygments_lexer": "ipython3",
   "version": "3.6.4"
  },
  "livereveal": {
   "scroll": true,
   "theme": "serif",
   "transition": "none"
  }
 },
 "nbformat": 4,
 "nbformat_minor": 2
}
