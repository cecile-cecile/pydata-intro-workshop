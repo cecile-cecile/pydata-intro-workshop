{
 "cells": [
  {
   "cell_type": "markdown",
   "metadata": {
    "slideshow": {
     "slide_type": "slide"
    }
   },
   "source": [
    "# Lesson 4: Sorting, Aggregation, and Subsets"
   ]
  },
  {
   "cell_type": "markdown",
   "metadata": {
    "slideshow": {
     "slide_type": "skip"
    }
   },
   "source": [
    "# Initial Setup\n",
    "\n",
    "Import libraries and initialize variables to pick up where we left off in Lesson 3."
   ]
  },
  {
   "cell_type": "code",
   "execution_count": 1,
   "metadata": {
    "slideshow": {
     "slide_type": "skip"
    }
   },
   "outputs": [],
   "source": [
    "import pandas as pd\n",
    "\n",
    "%matplotlib inline"
   ]
  },
  {
   "cell_type": "code",
   "execution_count": 2,
   "metadata": {
    "slideshow": {
     "slide_type": "skip"
    }
   },
   "outputs": [],
   "source": [
    "weather_all = pd.read_csv('data/weather_airport_stations.csv')"
   ]
  },
  {
   "cell_type": "markdown",
   "metadata": {
    "slideshow": {
     "slide_type": "slide"
    }
   },
   "source": [
    "# Sorting\n",
    "\n",
    "- It's often convenient to have our data in a sorted form\n",
    "- We can also use sorting to answer questions about the extreme (highest / lowest) values in our data"
   ]
  },
  {
   "cell_type": "markdown",
   "metadata": {
    "slideshow": {
     "slide_type": "fragment"
    }
   },
   "source": [
    "We can sort an entire DataFrame based on the values in a column using the `sort_values` method:"
   ]
  },
  {
   "cell_type": "code",
   "execution_count": 3,
   "metadata": {
    "slideshow": {
     "slide_type": "fragment"
    }
   },
   "outputs": [
    {
     "data": {
      "text/html": [
       "<div>\n",
       "<style scoped>\n",
       "    .dataframe tbody tr th:only-of-type {\n",
       "        vertical-align: middle;\n",
       "    }\n",
       "\n",
       "    .dataframe tbody tr th {\n",
       "        vertical-align: top;\n",
       "    }\n",
       "\n",
       "    .dataframe thead th {\n",
       "        text-align: right;\n",
       "    }\n",
       "</style>\n",
       "<table border=\"1\" class=\"dataframe\">\n",
       "  <thead>\n",
       "    <tr style=\"text-align: right;\">\n",
       "      <th></th>\n",
       "      <th>Datetime</th>\n",
       "      <th>Timezone</th>\n",
       "      <th>Hour of Day</th>\n",
       "      <th>Station ID</th>\n",
       "      <th>Station Name</th>\n",
       "      <th>Latitude</th>\n",
       "      <th>Longitude</th>\n",
       "      <th>Conditions</th>\n",
       "      <th>Temperature (C)</th>\n",
       "      <th>Relative Humidity (%)</th>\n",
       "      <th>Dew Point (C)</th>\n",
       "      <th>Humidex (C)</th>\n",
       "      <th>Pressure (kPa)</th>\n",
       "      <th>Visibility (km)</th>\n",
       "      <th>Wind Direction</th>\n",
       "      <th>Wind Speed (km/hr)</th>\n",
       "      <th>Wind Chill (C)</th>\n",
       "    </tr>\n",
       "  </thead>\n",
       "  <tbody>\n",
       "    <tr>\n",
       "      <th>125</th>\n",
       "      <td>2018-05-22 6:00</td>\n",
       "      <td>Canada/Eastern</td>\n",
       "      <td>6</td>\n",
       "      <td>YFB</td>\n",
       "      <td>Iqaluit Airport</td>\n",
       "      <td>63.76</td>\n",
       "      <td>-68.56</td>\n",
       "      <td>Light Snow</td>\n",
       "      <td>-7.1</td>\n",
       "      <td>77.0</td>\n",
       "      <td>-11.0</td>\n",
       "      <td>NaN</td>\n",
       "      <td>101.0</td>\n",
       "      <td>24.0</td>\n",
       "      <td>NW</td>\n",
       "      <td>22.0</td>\n",
       "      <td>-15</td>\n",
       "    </tr>\n",
       "    <tr>\n",
       "      <th>124</th>\n",
       "      <td>2018-05-22 5:00</td>\n",
       "      <td>Canada/Eastern</td>\n",
       "      <td>5</td>\n",
       "      <td>YFB</td>\n",
       "      <td>Iqaluit Airport</td>\n",
       "      <td>63.76</td>\n",
       "      <td>-68.56</td>\n",
       "      <td>Light Snow</td>\n",
       "      <td>-7.0</td>\n",
       "      <td>76.0</td>\n",
       "      <td>-10.0</td>\n",
       "      <td>NaN</td>\n",
       "      <td>101.1</td>\n",
       "      <td>24.0</td>\n",
       "      <td>NW</td>\n",
       "      <td>23.0</td>\n",
       "      <td>-15</td>\n",
       "    </tr>\n",
       "    <tr>\n",
       "      <th>126</th>\n",
       "      <td>2018-05-22 7:00</td>\n",
       "      <td>Canada/Eastern</td>\n",
       "      <td>7</td>\n",
       "      <td>YFB</td>\n",
       "      <td>Iqaluit Airport</td>\n",
       "      <td>63.76</td>\n",
       "      <td>-68.56</td>\n",
       "      <td>Light Snow</td>\n",
       "      <td>-6.9</td>\n",
       "      <td>73.0</td>\n",
       "      <td>-11.0</td>\n",
       "      <td>NaN</td>\n",
       "      <td>101.0</td>\n",
       "      <td>10.0</td>\n",
       "      <td>NNW</td>\n",
       "      <td>26.0</td>\n",
       "      <td>-15</td>\n",
       "    </tr>\n",
       "    <tr>\n",
       "      <th>122</th>\n",
       "      <td>2018-05-22 3:00</td>\n",
       "      <td>Canada/Eastern</td>\n",
       "      <td>3</td>\n",
       "      <td>YFB</td>\n",
       "      <td>Iqaluit Airport</td>\n",
       "      <td>63.76</td>\n",
       "      <td>-68.56</td>\n",
       "      <td>Light Snow</td>\n",
       "      <td>-6.6</td>\n",
       "      <td>83.0</td>\n",
       "      <td>-9.0</td>\n",
       "      <td>NaN</td>\n",
       "      <td>101.1</td>\n",
       "      <td>16.0</td>\n",
       "      <td>NW</td>\n",
       "      <td>16.0</td>\n",
       "      <td>-13</td>\n",
       "    </tr>\n",
       "    <tr>\n",
       "      <th>123</th>\n",
       "      <td>2018-05-22 4:00</td>\n",
       "      <td>Canada/Eastern</td>\n",
       "      <td>4</td>\n",
       "      <td>YFB</td>\n",
       "      <td>Iqaluit Airport</td>\n",
       "      <td>63.76</td>\n",
       "      <td>-68.56</td>\n",
       "      <td>Light Snow</td>\n",
       "      <td>-6.6</td>\n",
       "      <td>78.0</td>\n",
       "      <td>-10.0</td>\n",
       "      <td>NaN</td>\n",
       "      <td>101.0</td>\n",
       "      <td>32.0</td>\n",
       "      <td>NW</td>\n",
       "      <td>25.0</td>\n",
       "      <td>-14</td>\n",
       "    </tr>\n",
       "  </tbody>\n",
       "</table>\n",
       "</div>"
      ],
      "text/plain": [
       "            Datetime        Timezone  Hour of Day Station ID     Station Name  \\\n",
       "125  2018-05-22 6:00  Canada/Eastern            6        YFB  Iqaluit Airport   \n",
       "124  2018-05-22 5:00  Canada/Eastern            5        YFB  Iqaluit Airport   \n",
       "126  2018-05-22 7:00  Canada/Eastern            7        YFB  Iqaluit Airport   \n",
       "122  2018-05-22 3:00  Canada/Eastern            3        YFB  Iqaluit Airport   \n",
       "123  2018-05-22 4:00  Canada/Eastern            4        YFB  Iqaluit Airport   \n",
       "\n",
       "     Latitude  Longitude  Conditions  Temperature (C)  Relative Humidity (%)  \\\n",
       "125     63.76     -68.56  Light Snow             -7.1                   77.0   \n",
       "124     63.76     -68.56  Light Snow             -7.0                   76.0   \n",
       "126     63.76     -68.56  Light Snow             -6.9                   73.0   \n",
       "122     63.76     -68.56  Light Snow             -6.6                   83.0   \n",
       "123     63.76     -68.56  Light Snow             -6.6                   78.0   \n",
       "\n",
       "     Dew Point (C)  Humidex (C)  Pressure (kPa)  Visibility (km)  \\\n",
       "125          -11.0          NaN           101.0             24.0   \n",
       "124          -10.0          NaN           101.1             24.0   \n",
       "126          -11.0          NaN           101.0             10.0   \n",
       "122           -9.0          NaN           101.1             16.0   \n",
       "123          -10.0          NaN           101.0             32.0   \n",
       "\n",
       "    Wind Direction  Wind Speed (km/hr) Wind Chill (C)  \n",
       "125             NW                22.0            -15  \n",
       "124             NW                23.0            -15  \n",
       "126            NNW                26.0            -15  \n",
       "122             NW                16.0            -13  \n",
       "123             NW                25.0            -14  "
      ]
     },
     "execution_count": 3,
     "metadata": {},
     "output_type": "execute_result"
    }
   ],
   "source": [
    "weather_sorted = weather_all.sort_values('Temperature (C)')\n",
    "weather_sorted.head()"
   ]
  },
  {
   "cell_type": "markdown",
   "metadata": {
    "slideshow": {
     "slide_type": "fragment"
    }
   },
   "source": [
    "- The above code does not modify our original DataFrame `weather_all`\n",
    "- Looking at `weather_sorted`, we can answer questions like:\n",
    "  - What station(s) and datetimes had the coldest temperatures?\n",
    "  - What were the weather conditions and other measurements (relative humidity, pressure, etc.) during these coldest temperatures?"
   ]
  },
  {
   "cell_type": "markdown",
   "metadata": {
    "slideshow": {
     "slide_type": "slide"
    }
   },
   "source": [
    "- `sort_values` sorts in ascending order (lowest to highest) by default\n",
    "- We can switch this using the `ascending` keyword argument:"
   ]
  },
  {
   "cell_type": "code",
   "execution_count": 4,
   "metadata": {
    "slideshow": {
     "slide_type": "fragment"
    }
   },
   "outputs": [
    {
     "data": {
      "text/html": [
       "<div>\n",
       "<style scoped>\n",
       "    .dataframe tbody tr th:only-of-type {\n",
       "        vertical-align: middle;\n",
       "    }\n",
       "\n",
       "    .dataframe tbody tr th {\n",
       "        vertical-align: top;\n",
       "    }\n",
       "\n",
       "    .dataframe thead th {\n",
       "        text-align: right;\n",
       "    }\n",
       "</style>\n",
       "<table border=\"1\" class=\"dataframe\">\n",
       "  <thead>\n",
       "    <tr style=\"text-align: right;\">\n",
       "      <th></th>\n",
       "      <th>Datetime</th>\n",
       "      <th>Timezone</th>\n",
       "      <th>Hour of Day</th>\n",
       "      <th>Station ID</th>\n",
       "      <th>Station Name</th>\n",
       "      <th>Latitude</th>\n",
       "      <th>Longitude</th>\n",
       "      <th>Conditions</th>\n",
       "      <th>Temperature (C)</th>\n",
       "      <th>Relative Humidity (%)</th>\n",
       "      <th>Dew Point (C)</th>\n",
       "      <th>Humidex (C)</th>\n",
       "      <th>Pressure (kPa)</th>\n",
       "      <th>Visibility (km)</th>\n",
       "      <th>Wind Direction</th>\n",
       "      <th>Wind Speed (km/hr)</th>\n",
       "      <th>Wind Chill (C)</th>\n",
       "    </tr>\n",
       "  </thead>\n",
       "  <tbody>\n",
       "    <tr>\n",
       "      <th>231</th>\n",
       "      <td>2018-05-22 14:00</td>\n",
       "      <td>Canada/Central</td>\n",
       "      <td>14</td>\n",
       "      <td>YQR</td>\n",
       "      <td>Regina Int'l Airport</td>\n",
       "      <td>50.43</td>\n",
       "      <td>-104.67</td>\n",
       "      <td>Mostly Cloudy</td>\n",
       "      <td>28.6</td>\n",
       "      <td>23.0</td>\n",
       "      <td>6.0</td>\n",
       "      <td>NaN</td>\n",
       "      <td>101.1</td>\n",
       "      <td>24.0</td>\n",
       "      <td>NW</td>\n",
       "      <td>21.0</td>\n",
       "      <td>NaN</td>\n",
       "    </tr>\n",
       "    <tr>\n",
       "      <th>234</th>\n",
       "      <td>2018-05-22 17:00</td>\n",
       "      <td>Canada/Central</td>\n",
       "      <td>17</td>\n",
       "      <td>YQR</td>\n",
       "      <td>Regina Int'l Airport</td>\n",
       "      <td>50.43</td>\n",
       "      <td>-104.67</td>\n",
       "      <td>Mostly Cloudy</td>\n",
       "      <td>28.5</td>\n",
       "      <td>23.0</td>\n",
       "      <td>6.0</td>\n",
       "      <td>NaN</td>\n",
       "      <td>101.2</td>\n",
       "      <td>24.0</td>\n",
       "      <td>ESE</td>\n",
       "      <td>20.0</td>\n",
       "      <td>NaN</td>\n",
       "    </tr>\n",
       "    <tr>\n",
       "      <th>256</th>\n",
       "      <td>2018-05-22 16:00</td>\n",
       "      <td>Canada/Central</td>\n",
       "      <td>16</td>\n",
       "      <td>YWG</td>\n",
       "      <td>Winnipeg Richardson Int'l Airport</td>\n",
       "      <td>49.91</td>\n",
       "      <td>-97.24</td>\n",
       "      <td>Mostly Cloudy</td>\n",
       "      <td>28.5</td>\n",
       "      <td>26.0</td>\n",
       "      <td>7.0</td>\n",
       "      <td>NaN</td>\n",
       "      <td>101.3</td>\n",
       "      <td>24.0</td>\n",
       "      <td>SSE</td>\n",
       "      <td>21.0</td>\n",
       "      <td>NaN</td>\n",
       "    </tr>\n",
       "    <tr>\n",
       "      <th>278</th>\n",
       "      <td>2018-05-22 15:00</td>\n",
       "      <td>Canada/Eastern</td>\n",
       "      <td>15</td>\n",
       "      <td>YQT</td>\n",
       "      <td>Thunder Bay Airport</td>\n",
       "      <td>48.37</td>\n",
       "      <td>-89.32</td>\n",
       "      <td>Mostly Cloudy</td>\n",
       "      <td>28.2</td>\n",
       "      <td>17.0</td>\n",
       "      <td>1.0</td>\n",
       "      <td>NaN</td>\n",
       "      <td>101.4</td>\n",
       "      <td>32.0</td>\n",
       "      <td>SW</td>\n",
       "      <td>22.0</td>\n",
       "      <td>NaN</td>\n",
       "    </tr>\n",
       "    <tr>\n",
       "      <th>257</th>\n",
       "      <td>2018-05-22 17:00</td>\n",
       "      <td>Canada/Central</td>\n",
       "      <td>17</td>\n",
       "      <td>YWG</td>\n",
       "      <td>Winnipeg Richardson Int'l Airport</td>\n",
       "      <td>49.91</td>\n",
       "      <td>-97.24</td>\n",
       "      <td>Mostly Cloudy</td>\n",
       "      <td>28.2</td>\n",
       "      <td>28.0</td>\n",
       "      <td>8.0</td>\n",
       "      <td>29.0</td>\n",
       "      <td>101.3</td>\n",
       "      <td>24.0</td>\n",
       "      <td>S</td>\n",
       "      <td>9.0</td>\n",
       "      <td>NaN</td>\n",
       "    </tr>\n",
       "  </tbody>\n",
       "</table>\n",
       "</div>"
      ],
      "text/plain": [
       "             Datetime        Timezone  Hour of Day Station ID  \\\n",
       "231  2018-05-22 14:00  Canada/Central           14        YQR   \n",
       "234  2018-05-22 17:00  Canada/Central           17        YQR   \n",
       "256  2018-05-22 16:00  Canada/Central           16        YWG   \n",
       "278  2018-05-22 15:00  Canada/Eastern           15        YQT   \n",
       "257  2018-05-22 17:00  Canada/Central           17        YWG   \n",
       "\n",
       "                          Station Name  Latitude  Longitude     Conditions  \\\n",
       "231               Regina Int'l Airport     50.43    -104.67  Mostly Cloudy   \n",
       "234               Regina Int'l Airport     50.43    -104.67  Mostly Cloudy   \n",
       "256  Winnipeg Richardson Int'l Airport     49.91     -97.24  Mostly Cloudy   \n",
       "278                Thunder Bay Airport     48.37     -89.32  Mostly Cloudy   \n",
       "257  Winnipeg Richardson Int'l Airport     49.91     -97.24  Mostly Cloudy   \n",
       "\n",
       "     Temperature (C)  Relative Humidity (%)  Dew Point (C)  Humidex (C)  \\\n",
       "231             28.6                   23.0            6.0          NaN   \n",
       "234             28.5                   23.0            6.0          NaN   \n",
       "256             28.5                   26.0            7.0          NaN   \n",
       "278             28.2                   17.0            1.0          NaN   \n",
       "257             28.2                   28.0            8.0         29.0   \n",
       "\n",
       "     Pressure (kPa)  Visibility (km) Wind Direction  Wind Speed (km/hr)  \\\n",
       "231           101.1             24.0             NW                21.0   \n",
       "234           101.2             24.0            ESE                20.0   \n",
       "256           101.3             24.0            SSE                21.0   \n",
       "278           101.4             32.0             SW                22.0   \n",
       "257           101.3             24.0              S                 9.0   \n",
       "\n",
       "    Wind Chill (C)  \n",
       "231            NaN  \n",
       "234            NaN  \n",
       "256            NaN  \n",
       "278            NaN  \n",
       "257            NaN  "
      ]
     },
     "execution_count": 4,
     "metadata": {},
     "output_type": "execute_result"
    }
   ],
   "source": [
    "column = 'Temperature (C)'\n",
    "weather_all.sort_values(column, ascending=False).head()"
   ]
  },
  {
   "cell_type": "markdown",
   "metadata": {
    "slideshow": {
     "slide_type": "slide"
    }
   },
   "source": [
    "# Aggregation\n",
    "\n",
    "- So far we have looked at statistics for entire columns of a DataFrame\n",
    "- With aggregation, we can answer questions about sub-groups within columns, such as:\n",
    "  - What are the mean, minimum, and maximum temperatures at each station in `weather_all`?"
   ]
  },
  {
   "cell_type": "markdown",
   "metadata": {
    "slideshow": {
     "slide_type": "fragment"
    }
   },
   "source": [
    "We can aggregate data with the `groupby` method chained with an aggregation method (e.g., `mean`, `sum`, `max`, `min`, `count`)\n",
    "- For example, find the mean values for each station:"
   ]
  },
  {
   "cell_type": "code",
   "execution_count": 5,
   "metadata": {
    "slideshow": {
     "slide_type": "fragment"
    }
   },
   "outputs": [
    {
     "data": {
      "text/html": [
       "<div>\n",
       "<style scoped>\n",
       "    .dataframe tbody tr th:only-of-type {\n",
       "        vertical-align: middle;\n",
       "    }\n",
       "\n",
       "    .dataframe tbody tr th {\n",
       "        vertical-align: top;\n",
       "    }\n",
       "\n",
       "    .dataframe thead th {\n",
       "        text-align: right;\n",
       "    }\n",
       "</style>\n",
       "<table border=\"1\" class=\"dataframe\">\n",
       "  <thead>\n",
       "    <tr style=\"text-align: right;\">\n",
       "      <th></th>\n",
       "      <th>Hour of Day</th>\n",
       "      <th>Latitude</th>\n",
       "      <th>Longitude</th>\n",
       "      <th>Temperature (C)</th>\n",
       "      <th>Relative Humidity (%)</th>\n",
       "      <th>Dew Point (C)</th>\n",
       "      <th>Humidex (C)</th>\n",
       "      <th>Pressure (kPa)</th>\n",
       "      <th>Visibility (km)</th>\n",
       "      <th>Wind Speed (km/hr)</th>\n",
       "    </tr>\n",
       "    <tr>\n",
       "      <th>Station Name</th>\n",
       "      <th></th>\n",
       "      <th></th>\n",
       "      <th></th>\n",
       "      <th></th>\n",
       "      <th></th>\n",
       "      <th></th>\n",
       "      <th></th>\n",
       "      <th></th>\n",
       "      <th></th>\n",
       "      <th></th>\n",
       "    </tr>\n",
       "  </thead>\n",
       "  <tbody>\n",
       "    <tr>\n",
       "      <th>Calgary Int'l Airport</th>\n",
       "      <td>11.5</td>\n",
       "      <td>51.12</td>\n",
       "      <td>-114.01</td>\n",
       "      <td>18.554167</td>\n",
       "      <td>42.666667</td>\n",
       "      <td>4.541667</td>\n",
       "      <td>NaN</td>\n",
       "      <td>101.537500</td>\n",
       "      <td>43.333333</td>\n",
       "      <td>11.375000</td>\n",
       "    </tr>\n",
       "    <tr>\n",
       "      <th>Charlottetown Airport</th>\n",
       "      <td>11.5</td>\n",
       "      <td>46.29</td>\n",
       "      <td>-63.12</td>\n",
       "      <td>10.291667</td>\n",
       "      <td>54.791667</td>\n",
       "      <td>0.500000</td>\n",
       "      <td>NaN</td>\n",
       "      <td>101.887500</td>\n",
       "      <td>24.000000</td>\n",
       "      <td>15.750000</td>\n",
       "    </tr>\n",
       "    <tr>\n",
       "      <th>Edmonton Int'l Airport</th>\n",
       "      <td>11.5</td>\n",
       "      <td>53.31</td>\n",
       "      <td>-113.58</td>\n",
       "      <td>17.950000</td>\n",
       "      <td>48.041667</td>\n",
       "      <td>5.083333</td>\n",
       "      <td>22.000000</td>\n",
       "      <td>101.400000</td>\n",
       "      <td>24.000000</td>\n",
       "      <td>7.791667</td>\n",
       "    </tr>\n",
       "    <tr>\n",
       "      <th>Fredericton Int'l Airport</th>\n",
       "      <td>11.5</td>\n",
       "      <td>45.87</td>\n",
       "      <td>-66.54</td>\n",
       "      <td>12.973913</td>\n",
       "      <td>53.695652</td>\n",
       "      <td>2.260870</td>\n",
       "      <td>NaN</td>\n",
       "      <td>101.821739</td>\n",
       "      <td>16.000000</td>\n",
       "      <td>16.260870</td>\n",
       "    </tr>\n",
       "    <tr>\n",
       "      <th>Halifax Stanfield Int'l Airport</th>\n",
       "      <td>11.5</td>\n",
       "      <td>44.88</td>\n",
       "      <td>-63.51</td>\n",
       "      <td>11.787500</td>\n",
       "      <td>48.166667</td>\n",
       "      <td>-0.217391</td>\n",
       "      <td>NaN</td>\n",
       "      <td>102.091667</td>\n",
       "      <td>24.000000</td>\n",
       "      <td>16.000000</td>\n",
       "    </tr>\n",
       "    <tr>\n",
       "      <th>Iqaluit Airport</th>\n",
       "      <td>11.5</td>\n",
       "      <td>63.76</td>\n",
       "      <td>-68.56</td>\n",
       "      <td>-5.283333</td>\n",
       "      <td>79.750000</td>\n",
       "      <td>-8.291667</td>\n",
       "      <td>NaN</td>\n",
       "      <td>100.937500</td>\n",
       "      <td>21.583333</td>\n",
       "      <td>31.708333</td>\n",
       "    </tr>\n",
       "    <tr>\n",
       "      <th>Montreal-Trudeau Int'l Airport</th>\n",
       "      <td>11.5</td>\n",
       "      <td>45.47</td>\n",
       "      <td>-73.74</td>\n",
       "      <td>16.508333</td>\n",
       "      <td>67.333333</td>\n",
       "      <td>9.916667</td>\n",
       "      <td>23.000000</td>\n",
       "      <td>101.595833</td>\n",
       "      <td>26.875000</td>\n",
       "      <td>11.041667</td>\n",
       "    </tr>\n",
       "    <tr>\n",
       "      <th>Ottawa Macdonald-Cartier Int'l Airport</th>\n",
       "      <td>11.5</td>\n",
       "      <td>45.32</td>\n",
       "      <td>-75.67</td>\n",
       "      <td>14.441667</td>\n",
       "      <td>77.208333</td>\n",
       "      <td>10.250000</td>\n",
       "      <td>NaN</td>\n",
       "      <td>101.616667</td>\n",
       "      <td>22.716667</td>\n",
       "      <td>7.458333</td>\n",
       "    </tr>\n",
       "    <tr>\n",
       "      <th>Prince George Airport</th>\n",
       "      <td>11.5</td>\n",
       "      <td>53.88</td>\n",
       "      <td>-122.68</td>\n",
       "      <td>15.300000</td>\n",
       "      <td>60.916667</td>\n",
       "      <td>6.166667</td>\n",
       "      <td>22.500000</td>\n",
       "      <td>101.362500</td>\n",
       "      <td>15.791667</td>\n",
       "      <td>6.666667</td>\n",
       "    </tr>\n",
       "    <tr>\n",
       "      <th>Quebec Lesage Int'l Airport</th>\n",
       "      <td>11.5</td>\n",
       "      <td>46.79</td>\n",
       "      <td>-71.39</td>\n",
       "      <td>15.941667</td>\n",
       "      <td>52.416667</td>\n",
       "      <td>5.791667</td>\n",
       "      <td>24.250000</td>\n",
       "      <td>101.579167</td>\n",
       "      <td>37.333333</td>\n",
       "      <td>15.625000</td>\n",
       "    </tr>\n",
       "    <tr>\n",
       "      <th>Regina Int'l Airport</th>\n",
       "      <td>11.5</td>\n",
       "      <td>50.43</td>\n",
       "      <td>-104.67</td>\n",
       "      <td>20.308333</td>\n",
       "      <td>46.166667</td>\n",
       "      <td>7.500000</td>\n",
       "      <td>23.000000</td>\n",
       "      <td>101.183333</td>\n",
       "      <td>24.000000</td>\n",
       "      <td>10.708333</td>\n",
       "    </tr>\n",
       "    <tr>\n",
       "      <th>Saskatoon Diefenbaker Int'l Airport</th>\n",
       "      <td>11.5</td>\n",
       "      <td>52.17</td>\n",
       "      <td>-106.70</td>\n",
       "      <td>19.104167</td>\n",
       "      <td>49.833333</td>\n",
       "      <td>7.291667</td>\n",
       "      <td>24.000000</td>\n",
       "      <td>101.295833</td>\n",
       "      <td>23.791667</td>\n",
       "      <td>10.541667</td>\n",
       "    </tr>\n",
       "    <tr>\n",
       "      <th>St. John's Int'l Airport</th>\n",
       "      <td>11.5</td>\n",
       "      <td>47.62</td>\n",
       "      <td>-52.75</td>\n",
       "      <td>4.408333</td>\n",
       "      <td>77.958333</td>\n",
       "      <td>0.791667</td>\n",
       "      <td>NaN</td>\n",
       "      <td>101.479167</td>\n",
       "      <td>24.000000</td>\n",
       "      <td>23.500000</td>\n",
       "    </tr>\n",
       "    <tr>\n",
       "      <th>Thunder Bay Airport</th>\n",
       "      <td>11.5</td>\n",
       "      <td>48.37</td>\n",
       "      <td>-89.32</td>\n",
       "      <td>16.141667</td>\n",
       "      <td>48.750000</td>\n",
       "      <td>2.291667</td>\n",
       "      <td>NaN</td>\n",
       "      <td>101.520833</td>\n",
       "      <td>29.333333</td>\n",
       "      <td>11.625000</td>\n",
       "    </tr>\n",
       "    <tr>\n",
       "      <th>Toronto Pearson Int'l Airport</th>\n",
       "      <td>11.5</td>\n",
       "      <td>43.68</td>\n",
       "      <td>-79.63</td>\n",
       "      <td>14.087500</td>\n",
       "      <td>83.375000</td>\n",
       "      <td>11.083333</td>\n",
       "      <td>NaN</td>\n",
       "      <td>101.520833</td>\n",
       "      <td>11.500000</td>\n",
       "      <td>6.833333</td>\n",
       "    </tr>\n",
       "    <tr>\n",
       "      <th>Vancouver Int'l Airport</th>\n",
       "      <td>11.5</td>\n",
       "      <td>49.19</td>\n",
       "      <td>-123.18</td>\n",
       "      <td>15.608333</td>\n",
       "      <td>77.166667</td>\n",
       "      <td>11.500000</td>\n",
       "      <td>23.000000</td>\n",
       "      <td>101.400000</td>\n",
       "      <td>44.000000</td>\n",
       "      <td>8.041667</td>\n",
       "    </tr>\n",
       "    <tr>\n",
       "      <th>Victoria Int'l Airport</th>\n",
       "      <td>11.5</td>\n",
       "      <td>48.65</td>\n",
       "      <td>-123.43</td>\n",
       "      <td>15.920833</td>\n",
       "      <td>73.041667</td>\n",
       "      <td>10.833333</td>\n",
       "      <td>23.714286</td>\n",
       "      <td>101.383333</td>\n",
       "      <td>43.333333</td>\n",
       "      <td>7.416667</td>\n",
       "    </tr>\n",
       "    <tr>\n",
       "      <th>Whitehorse Airport</th>\n",
       "      <td>11.5</td>\n",
       "      <td>60.71</td>\n",
       "      <td>-135.07</td>\n",
       "      <td>9.166667</td>\n",
       "      <td>54.583333</td>\n",
       "      <td>-0.416667</td>\n",
       "      <td>NaN</td>\n",
       "      <td>100.670833</td>\n",
       "      <td>57.333333</td>\n",
       "      <td>18.875000</td>\n",
       "    </tr>\n",
       "    <tr>\n",
       "      <th>Winnipeg Richardson Int'l Airport</th>\n",
       "      <td>11.5</td>\n",
       "      <td>49.91</td>\n",
       "      <td>-97.24</td>\n",
       "      <td>20.758333</td>\n",
       "      <td>48.583333</td>\n",
       "      <td>8.583333</td>\n",
       "      <td>26.777778</td>\n",
       "      <td>101.366667</td>\n",
       "      <td>22.916667</td>\n",
       "      <td>15.958333</td>\n",
       "    </tr>\n",
       "    <tr>\n",
       "      <th>Yellowknife Airport</th>\n",
       "      <td>11.5</td>\n",
       "      <td>62.46</td>\n",
       "      <td>-114.44</td>\n",
       "      <td>15.479167</td>\n",
       "      <td>47.000000</td>\n",
       "      <td>3.958333</td>\n",
       "      <td>NaN</td>\n",
       "      <td>100.487500</td>\n",
       "      <td>24.000000</td>\n",
       "      <td>18.166667</td>\n",
       "    </tr>\n",
       "  </tbody>\n",
       "</table>\n",
       "</div>"
      ],
      "text/plain": [
       "                                        Hour of Day  Latitude  Longitude  \\\n",
       "Station Name                                                               \n",
       "Calgary Int'l Airport                          11.5     51.12    -114.01   \n",
       "Charlottetown Airport                          11.5     46.29     -63.12   \n",
       "Edmonton Int'l Airport                         11.5     53.31    -113.58   \n",
       "Fredericton Int'l Airport                      11.5     45.87     -66.54   \n",
       "Halifax Stanfield Int'l Airport                11.5     44.88     -63.51   \n",
       "Iqaluit Airport                                11.5     63.76     -68.56   \n",
       "Montreal-Trudeau Int'l Airport                 11.5     45.47     -73.74   \n",
       "Ottawa Macdonald-Cartier Int'l Airport         11.5     45.32     -75.67   \n",
       "Prince George Airport                          11.5     53.88    -122.68   \n",
       "Quebec Lesage Int'l Airport                    11.5     46.79     -71.39   \n",
       "Regina Int'l Airport                           11.5     50.43    -104.67   \n",
       "Saskatoon Diefenbaker Int'l Airport            11.5     52.17    -106.70   \n",
       "St. John's Int'l Airport                       11.5     47.62     -52.75   \n",
       "Thunder Bay Airport                            11.5     48.37     -89.32   \n",
       "Toronto Pearson Int'l Airport                  11.5     43.68     -79.63   \n",
       "Vancouver Int'l Airport                        11.5     49.19    -123.18   \n",
       "Victoria Int'l Airport                         11.5     48.65    -123.43   \n",
       "Whitehorse Airport                             11.5     60.71    -135.07   \n",
       "Winnipeg Richardson Int'l Airport              11.5     49.91     -97.24   \n",
       "Yellowknife Airport                            11.5     62.46    -114.44   \n",
       "\n",
       "                                        Temperature (C)  \\\n",
       "Station Name                                              \n",
       "Calgary Int'l Airport                         18.554167   \n",
       "Charlottetown Airport                         10.291667   \n",
       "Edmonton Int'l Airport                        17.950000   \n",
       "Fredericton Int'l Airport                     12.973913   \n",
       "Halifax Stanfield Int'l Airport               11.787500   \n",
       "Iqaluit Airport                               -5.283333   \n",
       "Montreal-Trudeau Int'l Airport                16.508333   \n",
       "Ottawa Macdonald-Cartier Int'l Airport        14.441667   \n",
       "Prince George Airport                         15.300000   \n",
       "Quebec Lesage Int'l Airport                   15.941667   \n",
       "Regina Int'l Airport                          20.308333   \n",
       "Saskatoon Diefenbaker Int'l Airport           19.104167   \n",
       "St. John's Int'l Airport                       4.408333   \n",
       "Thunder Bay Airport                           16.141667   \n",
       "Toronto Pearson Int'l Airport                 14.087500   \n",
       "Vancouver Int'l Airport                       15.608333   \n",
       "Victoria Int'l Airport                        15.920833   \n",
       "Whitehorse Airport                             9.166667   \n",
       "Winnipeg Richardson Int'l Airport             20.758333   \n",
       "Yellowknife Airport                           15.479167   \n",
       "\n",
       "                                        Relative Humidity (%)  Dew Point (C)  \\\n",
       "Station Name                                                                   \n",
       "Calgary Int'l Airport                               42.666667       4.541667   \n",
       "Charlottetown Airport                               54.791667       0.500000   \n",
       "Edmonton Int'l Airport                              48.041667       5.083333   \n",
       "Fredericton Int'l Airport                           53.695652       2.260870   \n",
       "Halifax Stanfield Int'l Airport                     48.166667      -0.217391   \n",
       "Iqaluit Airport                                     79.750000      -8.291667   \n",
       "Montreal-Trudeau Int'l Airport                      67.333333       9.916667   \n",
       "Ottawa Macdonald-Cartier Int'l Airport              77.208333      10.250000   \n",
       "Prince George Airport                               60.916667       6.166667   \n",
       "Quebec Lesage Int'l Airport                         52.416667       5.791667   \n",
       "Regina Int'l Airport                                46.166667       7.500000   \n",
       "Saskatoon Diefenbaker Int'l Airport                 49.833333       7.291667   \n",
       "St. John's Int'l Airport                            77.958333       0.791667   \n",
       "Thunder Bay Airport                                 48.750000       2.291667   \n",
       "Toronto Pearson Int'l Airport                       83.375000      11.083333   \n",
       "Vancouver Int'l Airport                             77.166667      11.500000   \n",
       "Victoria Int'l Airport                              73.041667      10.833333   \n",
       "Whitehorse Airport                                  54.583333      -0.416667   \n",
       "Winnipeg Richardson Int'l Airport                   48.583333       8.583333   \n",
       "Yellowknife Airport                                 47.000000       3.958333   \n",
       "\n",
       "                                        Humidex (C)  Pressure (kPa)  \\\n",
       "Station Name                                                          \n",
       "Calgary Int'l Airport                           NaN      101.537500   \n",
       "Charlottetown Airport                           NaN      101.887500   \n",
       "Edmonton Int'l Airport                    22.000000      101.400000   \n",
       "Fredericton Int'l Airport                       NaN      101.821739   \n",
       "Halifax Stanfield Int'l Airport                 NaN      102.091667   \n",
       "Iqaluit Airport                                 NaN      100.937500   \n",
       "Montreal-Trudeau Int'l Airport            23.000000      101.595833   \n",
       "Ottawa Macdonald-Cartier Int'l Airport          NaN      101.616667   \n",
       "Prince George Airport                     22.500000      101.362500   \n",
       "Quebec Lesage Int'l Airport               24.250000      101.579167   \n",
       "Regina Int'l Airport                      23.000000      101.183333   \n",
       "Saskatoon Diefenbaker Int'l Airport       24.000000      101.295833   \n",
       "St. John's Int'l Airport                        NaN      101.479167   \n",
       "Thunder Bay Airport                             NaN      101.520833   \n",
       "Toronto Pearson Int'l Airport                   NaN      101.520833   \n",
       "Vancouver Int'l Airport                   23.000000      101.400000   \n",
       "Victoria Int'l Airport                    23.714286      101.383333   \n",
       "Whitehorse Airport                              NaN      100.670833   \n",
       "Winnipeg Richardson Int'l Airport         26.777778      101.366667   \n",
       "Yellowknife Airport                             NaN      100.487500   \n",
       "\n",
       "                                        Visibility (km)  Wind Speed (km/hr)  \n",
       "Station Name                                                                 \n",
       "Calgary Int'l Airport                         43.333333           11.375000  \n",
       "Charlottetown Airport                         24.000000           15.750000  \n",
       "Edmonton Int'l Airport                        24.000000            7.791667  \n",
       "Fredericton Int'l Airport                     16.000000           16.260870  \n",
       "Halifax Stanfield Int'l Airport               24.000000           16.000000  \n",
       "Iqaluit Airport                               21.583333           31.708333  \n",
       "Montreal-Trudeau Int'l Airport                26.875000           11.041667  \n",
       "Ottawa Macdonald-Cartier Int'l Airport        22.716667            7.458333  \n",
       "Prince George Airport                         15.791667            6.666667  \n",
       "Quebec Lesage Int'l Airport                   37.333333           15.625000  \n",
       "Regina Int'l Airport                          24.000000           10.708333  \n",
       "Saskatoon Diefenbaker Int'l Airport           23.791667           10.541667  \n",
       "St. John's Int'l Airport                      24.000000           23.500000  \n",
       "Thunder Bay Airport                           29.333333           11.625000  \n",
       "Toronto Pearson Int'l Airport                 11.500000            6.833333  \n",
       "Vancouver Int'l Airport                       44.000000            8.041667  \n",
       "Victoria Int'l Airport                        43.333333            7.416667  \n",
       "Whitehorse Airport                            57.333333           18.875000  \n",
       "Winnipeg Richardson Int'l Airport             22.916667           15.958333  \n",
       "Yellowknife Airport                           24.000000           18.166667  "
      ]
     },
     "execution_count": 5,
     "metadata": {},
     "output_type": "execute_result"
    }
   ],
   "source": [
    "station_means = weather_all.groupby('Station Name').mean()\n",
    "station_means"
   ]
  },
  {
   "cell_type": "markdown",
   "metadata": {
    "slideshow": {
     "slide_type": "fragment"
    }
   },
   "source": [
    "For more complex aggregations, there is a `pivot_table` method."
   ]
  },
  {
   "cell_type": "markdown",
   "metadata": {
    "slideshow": {
     "slide_type": "slide"
    }
   },
   "source": [
    "Create a bar chart of the mean temperature at each station:"
   ]
  },
  {
   "cell_type": "code",
   "execution_count": 6,
   "metadata": {
    "slideshow": {
     "slide_type": "fragment"
    }
   },
   "outputs": [
    {
     "data": {
      "text/plain": [
       "Station Name\n",
       "Calgary Int'l Airport                     18.554167\n",
       "Charlottetown Airport                     10.291667\n",
       "Edmonton Int'l Airport                    17.950000\n",
       "Fredericton Int'l Airport                 12.973913\n",
       "Halifax Stanfield Int'l Airport           11.787500\n",
       "Iqaluit Airport                           -5.283333\n",
       "Montreal-Trudeau Int'l Airport            16.508333\n",
       "Ottawa Macdonald-Cartier Int'l Airport    14.441667\n",
       "Prince George Airport                     15.300000\n",
       "Quebec Lesage Int'l Airport               15.941667\n",
       "Regina Int'l Airport                      20.308333\n",
       "Saskatoon Diefenbaker Int'l Airport       19.104167\n",
       "St. John's Int'l Airport                   4.408333\n",
       "Thunder Bay Airport                       16.141667\n",
       "Toronto Pearson Int'l Airport             14.087500\n",
       "Vancouver Int'l Airport                   15.608333\n",
       "Victoria Int'l Airport                    15.920833\n",
       "Whitehorse Airport                         9.166667\n",
       "Winnipeg Richardson Int'l Airport         20.758333\n",
       "Yellowknife Airport                       15.479167\n",
       "Name: Temperature (C), dtype: float64"
      ]
     },
     "execution_count": 6,
     "metadata": {},
     "output_type": "execute_result"
    }
   ],
   "source": [
    "temp_means = station_means['Temperature (C)']\n",
    "temp_means"
   ]
  },
  {
   "cell_type": "code",
   "execution_count": 7,
   "metadata": {
    "slideshow": {
     "slide_type": "fragment"
    }
   },
   "outputs": [
    {
     "data": {
      "image/png": "[encoded data removed]",
      "text/plain": [
       "<matplotlib.figure.Figure at 0x19ecadc6ac8>"
      ]
     },
     "metadata": {},
     "output_type": "display_data"
    }
   ],
   "source": [
    "temp_means.plot(kind='bar', color='0.5', figsize=(12, 5));"
   ]
  },
  {
   "cell_type": "markdown",
   "metadata": {
    "slideshow": {
     "slide_type": "slide"
    }
   },
   "source": [
    "We can use the `sort_values` method on the `temp_means` Series to find out which station had the highest mean temperature:"
   ]
  },
  {
   "cell_type": "code",
   "execution_count": 8,
   "metadata": {
    "slideshow": {
     "slide_type": "fragment"
    }
   },
   "outputs": [
    {
     "data": {
      "text/plain": [
       "Station Name\n",
       "Winnipeg Richardson Int'l Airport         20.758333\n",
       "Regina Int'l Airport                      20.308333\n",
       "Saskatoon Diefenbaker Int'l Airport       19.104167\n",
       "Calgary Int'l Airport                     18.554167\n",
       "Edmonton Int'l Airport                    17.950000\n",
       "Montreal-Trudeau Int'l Airport            16.508333\n",
       "Thunder Bay Airport                       16.141667\n",
       "Quebec Lesage Int'l Airport               15.941667\n",
       "Victoria Int'l Airport                    15.920833\n",
       "Vancouver Int'l Airport                   15.608333\n",
       "Yellowknife Airport                       15.479167\n",
       "Prince George Airport                     15.300000\n",
       "Ottawa Macdonald-Cartier Int'l Airport    14.441667\n",
       "Toronto Pearson Int'l Airport             14.087500\n",
       "Fredericton Int'l Airport                 12.973913\n",
       "Halifax Stanfield Int'l Airport           11.787500\n",
       "Charlottetown Airport                     10.291667\n",
       "Whitehorse Airport                         9.166667\n",
       "St. John's Int'l Airport                   4.408333\n",
       "Iqaluit Airport                           -5.283333\n",
       "Name: Temperature (C), dtype: float64"
      ]
     },
     "execution_count": 8,
     "metadata": {},
     "output_type": "execute_result"
    }
   ],
   "source": [
    "temp_means.sort_values(ascending=False)"
   ]
  },
  {
   "cell_type": "markdown",
   "metadata": {
    "slideshow": {
     "slide_type": "slide"
    }
   },
   "source": [
    "# Data Subsets\n",
    "\n",
    "- So far we've been working with entire DataFrames and individual columns\n",
    "- We can also extract other subsets of a DataFrame:\n",
    "  - Multiple columns\n",
    "  - Select rows based on row numbers or row labels\n",
    "  - Select rows based on a criteria"
   ]
  },
  {
   "cell_type": "markdown",
   "metadata": {
    "slideshow": {
     "slide_type": "slide"
    }
   },
   "source": [
    "## Selecting columns of a DataFrame"
   ]
  },
  {
   "cell_type": "code",
   "execution_count": 9,
   "metadata": {
    "scrolled": true,
    "slideshow": {
     "slide_type": "fragment"
    }
   },
   "outputs": [
    {
     "data": {
      "text/html": [
       "<div>\n",
       "<style scoped>\n",
       "    .dataframe tbody tr th:only-of-type {\n",
       "        vertical-align: middle;\n",
       "    }\n",
       "\n",
       "    .dataframe tbody tr th {\n",
       "        vertical-align: top;\n",
       "    }\n",
       "\n",
       "    .dataframe thead th {\n",
       "        text-align: right;\n",
       "    }\n",
       "</style>\n",
       "<table border=\"1\" class=\"dataframe\">\n",
       "  <thead>\n",
       "    <tr style=\"text-align: right;\">\n",
       "      <th></th>\n",
       "      <th>Datetime</th>\n",
       "      <th>Timezone</th>\n",
       "      <th>Hour of Day</th>\n",
       "      <th>Station ID</th>\n",
       "      <th>Station Name</th>\n",
       "      <th>Latitude</th>\n",
       "      <th>Longitude</th>\n",
       "      <th>Conditions</th>\n",
       "      <th>Temperature (C)</th>\n",
       "      <th>Relative Humidity (%)</th>\n",
       "      <th>Dew Point (C)</th>\n",
       "      <th>Humidex (C)</th>\n",
       "      <th>Pressure (kPa)</th>\n",
       "      <th>Visibility (km)</th>\n",
       "      <th>Wind Direction</th>\n",
       "      <th>Wind Speed (km/hr)</th>\n",
       "      <th>Wind Chill (C)</th>\n",
       "    </tr>\n",
       "  </thead>\n",
       "  <tbody>\n",
       "    <tr>\n",
       "      <th>0</th>\n",
       "      <td>2018-05-21 22:00</td>\n",
       "      <td>Canada/Pacific</td>\n",
       "      <td>22</td>\n",
       "      <td>YVR</td>\n",
       "      <td>Vancouver Int'l Airport</td>\n",
       "      <td>49.19</td>\n",
       "      <td>-123.18</td>\n",
       "      <td>Mainly Clear</td>\n",
       "      <td>14.8</td>\n",
       "      <td>75.0</td>\n",
       "      <td>10.0</td>\n",
       "      <td>NaN</td>\n",
       "      <td>101.6</td>\n",
       "      <td>48.0</td>\n",
       "      <td>N</td>\n",
       "      <td>5.0</td>\n",
       "      <td>NaN</td>\n",
       "    </tr>\n",
       "    <tr>\n",
       "      <th>1</th>\n",
       "      <td>2018-05-21 23:00</td>\n",
       "      <td>Canada/Pacific</td>\n",
       "      <td>23</td>\n",
       "      <td>YVR</td>\n",
       "      <td>Vancouver Int'l Airport</td>\n",
       "      <td>49.19</td>\n",
       "      <td>-123.18</td>\n",
       "      <td>Clear</td>\n",
       "      <td>13.5</td>\n",
       "      <td>76.0</td>\n",
       "      <td>9.0</td>\n",
       "      <td>NaN</td>\n",
       "      <td>101.6</td>\n",
       "      <td>32.0</td>\n",
       "      <td>NaN</td>\n",
       "      <td>0.0</td>\n",
       "      <td>NaN</td>\n",
       "    </tr>\n",
       "    <tr>\n",
       "      <th>2</th>\n",
       "      <td>2018-05-22 0:00</td>\n",
       "      <td>Canada/Pacific</td>\n",
       "      <td>0</td>\n",
       "      <td>YVR</td>\n",
       "      <td>Vancouver Int'l Airport</td>\n",
       "      <td>49.19</td>\n",
       "      <td>-123.18</td>\n",
       "      <td>Clear</td>\n",
       "      <td>13.1</td>\n",
       "      <td>77.0</td>\n",
       "      <td>9.0</td>\n",
       "      <td>NaN</td>\n",
       "      <td>101.6</td>\n",
       "      <td>32.0</td>\n",
       "      <td>E</td>\n",
       "      <td>11.0</td>\n",
       "      <td>NaN</td>\n",
       "    </tr>\n",
       "    <tr>\n",
       "      <th>3</th>\n",
       "      <td>2018-05-22 1:00</td>\n",
       "      <td>Canada/Pacific</td>\n",
       "      <td>1</td>\n",
       "      <td>YVR</td>\n",
       "      <td>Vancouver Int'l Airport</td>\n",
       "      <td>49.19</td>\n",
       "      <td>-123.18</td>\n",
       "      <td>Clear</td>\n",
       "      <td>12.9</td>\n",
       "      <td>84.0</td>\n",
       "      <td>10.0</td>\n",
       "      <td>NaN</td>\n",
       "      <td>101.6</td>\n",
       "      <td>32.0</td>\n",
       "      <td>E</td>\n",
       "      <td>8.0</td>\n",
       "      <td>NaN</td>\n",
       "    </tr>\n",
       "    <tr>\n",
       "      <th>4</th>\n",
       "      <td>2018-05-22 2:00</td>\n",
       "      <td>Canada/Pacific</td>\n",
       "      <td>2</td>\n",
       "      <td>YVR</td>\n",
       "      <td>Vancouver Int'l Airport</td>\n",
       "      <td>49.19</td>\n",
       "      <td>-123.18</td>\n",
       "      <td>Clear</td>\n",
       "      <td>12.2</td>\n",
       "      <td>88.0</td>\n",
       "      <td>10.0</td>\n",
       "      <td>NaN</td>\n",
       "      <td>101.6</td>\n",
       "      <td>32.0</td>\n",
       "      <td>E</td>\n",
       "      <td>12.0</td>\n",
       "      <td>NaN</td>\n",
       "    </tr>\n",
       "  </tbody>\n",
       "</table>\n",
       "</div>"
      ],
      "text/plain": [
       "           Datetime        Timezone  Hour of Day Station ID  \\\n",
       "0  2018-05-21 22:00  Canada/Pacific           22        YVR   \n",
       "1  2018-05-21 23:00  Canada/Pacific           23        YVR   \n",
       "2   2018-05-22 0:00  Canada/Pacific            0        YVR   \n",
       "3   2018-05-22 1:00  Canada/Pacific            1        YVR   \n",
       "4   2018-05-22 2:00  Canada/Pacific            2        YVR   \n",
       "\n",
       "              Station Name  Latitude  Longitude    Conditions  \\\n",
       "0  Vancouver Int'l Airport     49.19    -123.18  Mainly Clear   \n",
       "1  Vancouver Int'l Airport     49.19    -123.18         Clear   \n",
       "2  Vancouver Int'l Airport     49.19    -123.18         Clear   \n",
       "3  Vancouver Int'l Airport     49.19    -123.18         Clear   \n",
       "4  Vancouver Int'l Airport     49.19    -123.18         Clear   \n",
       "\n",
       "   Temperature (C)  Relative Humidity (%)  Dew Point (C)  Humidex (C)  \\\n",
       "0             14.8                   75.0           10.0          NaN   \n",
       "1             13.5                   76.0            9.0          NaN   \n",
       "2             13.1                   77.0            9.0          NaN   \n",
       "3             12.9                   84.0           10.0          NaN   \n",
       "4             12.2                   88.0           10.0          NaN   \n",
       "\n",
       "   Pressure (kPa)  Visibility (km) Wind Direction  Wind Speed (km/hr)  \\\n",
       "0           101.6             48.0              N                 5.0   \n",
       "1           101.6             32.0            NaN                 0.0   \n",
       "2           101.6             32.0              E                11.0   \n",
       "3           101.6             32.0              E                 8.0   \n",
       "4           101.6             32.0              E                12.0   \n",
       "\n",
       "  Wind Chill (C)  \n",
       "0            NaN  \n",
       "1            NaN  \n",
       "2            NaN  \n",
       "3            NaN  \n",
       "4            NaN  "
      ]
     },
     "execution_count": 9,
     "metadata": {},
     "output_type": "execute_result"
    }
   ],
   "source": [
    "weather_all.head()"
   ]
  },
  {
   "cell_type": "markdown",
   "metadata": {
    "slideshow": {
     "slide_type": "fragment"
    }
   },
   "source": [
    "Get a subset of the DataFrame with only the columns `'Station Name'`, `'Wind Speed (km/hr)'` and `'Temperature (C)'`, in that order:"
   ]
  },
  {
   "cell_type": "code",
   "execution_count": 10,
   "metadata": {
    "slideshow": {
     "slide_type": "fragment"
    }
   },
   "outputs": [
    {
     "data": {
      "text/html": [
       "<div>\n",
       "<style scoped>\n",
       "    .dataframe tbody tr th:only-of-type {\n",
       "        vertical-align: middle;\n",
       "    }\n",
       "\n",
       "    .dataframe tbody tr th {\n",
       "        vertical-align: top;\n",
       "    }\n",
       "\n",
       "    .dataframe thead th {\n",
       "        text-align: right;\n",
       "    }\n",
       "</style>\n",
       "<table border=\"1\" class=\"dataframe\">\n",
       "  <thead>\n",
       "    <tr style=\"text-align: right;\">\n",
       "      <th></th>\n",
       "      <th>Station Name</th>\n",
       "      <th>Wind Speed (km/hr)</th>\n",
       "      <th>Temperature (C)</th>\n",
       "    </tr>\n",
       "  </thead>\n",
       "  <tbody>\n",
       "    <tr>\n",
       "      <th>0</th>\n",
       "      <td>Vancouver Int'l Airport</td>\n",
       "      <td>5.0</td>\n",
       "      <td>14.8</td>\n",
       "    </tr>\n",
       "    <tr>\n",
       "      <th>1</th>\n",
       "      <td>Vancouver Int'l Airport</td>\n",
       "      <td>0.0</td>\n",
       "      <td>13.5</td>\n",
       "    </tr>\n",
       "    <tr>\n",
       "      <th>2</th>\n",
       "      <td>Vancouver Int'l Airport</td>\n",
       "      <td>11.0</td>\n",
       "      <td>13.1</td>\n",
       "    </tr>\n",
       "    <tr>\n",
       "      <th>3</th>\n",
       "      <td>Vancouver Int'l Airport</td>\n",
       "      <td>8.0</td>\n",
       "      <td>12.9</td>\n",
       "    </tr>\n",
       "    <tr>\n",
       "      <th>4</th>\n",
       "      <td>Vancouver Int'l Airport</td>\n",
       "      <td>12.0</td>\n",
       "      <td>12.2</td>\n",
       "    </tr>\n",
       "  </tbody>\n",
       "</table>\n",
       "</div>"
      ],
      "text/plain": [
       "              Station Name  Wind Speed (km/hr)  Temperature (C)\n",
       "0  Vancouver Int'l Airport                 5.0             14.8\n",
       "1  Vancouver Int'l Airport                 0.0             13.5\n",
       "2  Vancouver Int'l Airport                11.0             13.1\n",
       "3  Vancouver Int'l Airport                 8.0             12.9\n",
       "4  Vancouver Int'l Airport                12.0             12.2"
      ]
     },
     "execution_count": 10,
     "metadata": {},
     "output_type": "execute_result"
    }
   ],
   "source": [
    "columns = ['Station Name', 'Wind Speed (km/hr)', 'Temperature (C)']\n",
    "winds_temp = weather_all[columns]\n",
    "winds_temp.head()"
   ]
  },
  {
   "cell_type": "markdown",
   "metadata": {
    "slideshow": {
     "slide_type": "fragment"
    }
   },
   "source": [
    "With a subset such as `winds_temp`, we can display summaries for just the columns we're interested in. For example, aggregate to find the maximum wind speed and temperature at each station:"
   ]
  },
  {
   "cell_type": "code",
   "execution_count": 11,
   "metadata": {
    "scrolled": false,
    "slideshow": {
     "slide_type": "fragment"
    }
   },
   "outputs": [
    {
     "data": {
      "text/html": [
       "<div>\n",
       "<style scoped>\n",
       "    .dataframe tbody tr th:only-of-type {\n",
       "        vertical-align: middle;\n",
       "    }\n",
       "\n",
       "    .dataframe tbody tr th {\n",
       "        vertical-align: top;\n",
       "    }\n",
       "\n",
       "    .dataframe thead th {\n",
       "        text-align: right;\n",
       "    }\n",
       "</style>\n",
       "<table border=\"1\" class=\"dataframe\">\n",
       "  <thead>\n",
       "    <tr style=\"text-align: right;\">\n",
       "      <th></th>\n",
       "      <th>Wind Speed (km/hr)</th>\n",
       "      <th>Temperature (C)</th>\n",
       "    </tr>\n",
       "    <tr>\n",
       "      <th>Station Name</th>\n",
       "      <th></th>\n",
       "      <th></th>\n",
       "    </tr>\n",
       "  </thead>\n",
       "  <tbody>\n",
       "    <tr>\n",
       "      <th>Calgary Int'l Airport</th>\n",
       "      <td>21.0</td>\n",
       "      <td>25.5</td>\n",
       "    </tr>\n",
       "    <tr>\n",
       "      <th>Charlottetown Airport</th>\n",
       "      <td>32.0</td>\n",
       "      <td>17.7</td>\n",
       "    </tr>\n",
       "    <tr>\n",
       "      <th>Edmonton Int'l Airport</th>\n",
       "      <td>16.0</td>\n",
       "      <td>27.4</td>\n",
       "    </tr>\n",
       "    <tr>\n",
       "      <th>Fredericton Int'l Airport</th>\n",
       "      <td>35.0</td>\n",
       "      <td>21.8</td>\n",
       "    </tr>\n",
       "    <tr>\n",
       "      <th>Halifax Stanfield Int'l Airport</th>\n",
       "      <td>31.0</td>\n",
       "      <td>15.9</td>\n",
       "    </tr>\n",
       "    <tr>\n",
       "      <th>Iqaluit Airport</th>\n",
       "      <td>54.0</td>\n",
       "      <td>-2.8</td>\n",
       "    </tr>\n",
       "    <tr>\n",
       "      <th>Montreal-Trudeau Int'l Airport</th>\n",
       "      <td>25.0</td>\n",
       "      <td>22.4</td>\n",
       "    </tr>\n",
       "    <tr>\n",
       "      <th>Ottawa Macdonald-Cartier Int'l Airport</th>\n",
       "      <td>13.0</td>\n",
       "      <td>18.0</td>\n",
       "    </tr>\n",
       "    <tr>\n",
       "      <th>Prince George Airport</th>\n",
       "      <td>18.0</td>\n",
       "      <td>26.5</td>\n",
       "    </tr>\n",
       "    <tr>\n",
       "      <th>Quebec Lesage Int'l Airport</th>\n",
       "      <td>39.0</td>\n",
       "      <td>25.6</td>\n",
       "    </tr>\n",
       "    <tr>\n",
       "      <th>Regina Int'l Airport</th>\n",
       "      <td>26.0</td>\n",
       "      <td>28.6</td>\n",
       "    </tr>\n",
       "    <tr>\n",
       "      <th>Saskatoon Diefenbaker Int'l Airport</th>\n",
       "      <td>20.0</td>\n",
       "      <td>26.6</td>\n",
       "    </tr>\n",
       "    <tr>\n",
       "      <th>St. John's Int'l Airport</th>\n",
       "      <td>33.0</td>\n",
       "      <td>6.0</td>\n",
       "    </tr>\n",
       "    <tr>\n",
       "      <th>Thunder Bay Airport</th>\n",
       "      <td>28.0</td>\n",
       "      <td>28.2</td>\n",
       "    </tr>\n",
       "    <tr>\n",
       "      <th>Toronto Pearson Int'l Airport</th>\n",
       "      <td>17.0</td>\n",
       "      <td>17.4</td>\n",
       "    </tr>\n",
       "    <tr>\n",
       "      <th>Vancouver Int'l Airport</th>\n",
       "      <td>15.0</td>\n",
       "      <td>20.1</td>\n",
       "    </tr>\n",
       "    <tr>\n",
       "      <th>Victoria Int'l Airport</th>\n",
       "      <td>14.0</td>\n",
       "      <td>22.6</td>\n",
       "    </tr>\n",
       "    <tr>\n",
       "      <th>Whitehorse Airport</th>\n",
       "      <td>42.0</td>\n",
       "      <td>13.8</td>\n",
       "    </tr>\n",
       "    <tr>\n",
       "      <th>Winnipeg Richardson Int'l Airport</th>\n",
       "      <td>27.0</td>\n",
       "      <td>28.5</td>\n",
       "    </tr>\n",
       "    <tr>\n",
       "      <th>Yellowknife Airport</th>\n",
       "      <td>31.0</td>\n",
       "      <td>23.1</td>\n",
       "    </tr>\n",
       "  </tbody>\n",
       "</table>\n",
       "</div>"
      ],
      "text/plain": [
       "                                        Wind Speed (km/hr)  Temperature (C)\n",
       "Station Name                                                               \n",
       "Calgary Int'l Airport                                 21.0             25.5\n",
       "Charlottetown Airport                                 32.0             17.7\n",
       "Edmonton Int'l Airport                                16.0             27.4\n",
       "Fredericton Int'l Airport                             35.0             21.8\n",
       "Halifax Stanfield Int'l Airport                       31.0             15.9\n",
       "Iqaluit Airport                                       54.0             -2.8\n",
       "Montreal-Trudeau Int'l Airport                        25.0             22.4\n",
       "Ottawa Macdonald-Cartier Int'l Airport                13.0             18.0\n",
       "Prince George Airport                                 18.0             26.5\n",
       "Quebec Lesage Int'l Airport                           39.0             25.6\n",
       "Regina Int'l Airport                                  26.0             28.6\n",
       "Saskatoon Diefenbaker Int'l Airport                   20.0             26.6\n",
       "St. John's Int'l Airport                              33.0              6.0\n",
       "Thunder Bay Airport                                   28.0             28.2\n",
       "Toronto Pearson Int'l Airport                         17.0             17.4\n",
       "Vancouver Int'l Airport                               15.0             20.1\n",
       "Victoria Int'l Airport                                14.0             22.6\n",
       "Whitehorse Airport                                    42.0             13.8\n",
       "Winnipeg Richardson Int'l Airport                     27.0             28.5\n",
       "Yellowknife Airport                                   31.0             23.1"
      ]
     },
     "execution_count": 11,
     "metadata": {},
     "output_type": "execute_result"
    }
   ],
   "source": [
    "winds_temp.groupby('Station Name').max()"
   ]
  },
  {
   "cell_type": "markdown",
   "metadata": {
    "slideshow": {
     "slide_type": "slide"
    }
   },
   "source": [
    "## Selecting rows of a DataFrame\n",
    "- Selecting rows based on position or row label is actually a fairly complex topic, which we won't cover today\n",
    "- Let's look at how to select rows based on a criteria\n",
    "  - Similar to applying a filter in Excel"
   ]
  },
  {
   "cell_type": "markdown",
   "metadata": {
    "slideshow": {
     "slide_type": "slide"
    }
   },
   "source": [
    "Where is it snowing?\n",
    "- Use the string method `contains` on the `'Conditions'` column"
   ]
  },
  {
   "cell_type": "code",
   "execution_count": 12,
   "metadata": {
    "slideshow": {
     "slide_type": "fragment"
    }
   },
   "outputs": [
    {
     "name": "stdout",
     "output_type": "stream",
     "text": [
      "480\n"
     ]
    },
    {
     "data": {
      "text/plain": [
       "0    False\n",
       "1    False\n",
       "2    False\n",
       "3    False\n",
       "4    False\n",
       "Name: Conditions, dtype: object"
      ]
     },
     "execution_count": 12,
     "metadata": {},
     "output_type": "execute_result"
    }
   ],
   "source": [
    "snowing = weather_all['Conditions'].str.contains('Snow')\n",
    "print(len(snowing))\n",
    "snowing.head()"
   ]
  },
  {
   "cell_type": "markdown",
   "metadata": {
    "slideshow": {
     "slide_type": "fragment"
    }
   },
   "source": [
    "- `snowing` is a Boolean Series of length equal to the number of rows of `weather_all`\n",
    "- The index of `snowing` is equal to the index of `weather_all`\n",
    "- We can sum the Series to find out how many rows with snowing conditions are in our data:"
   ]
  },
  {
   "cell_type": "code",
   "execution_count": 13,
   "metadata": {
    "slideshow": {
     "slide_type": "fragment"
    }
   },
   "outputs": [
    {
     "data": {
      "text/plain": [
       "15"
      ]
     },
     "execution_count": 13,
     "metadata": {},
     "output_type": "execute_result"
    }
   ],
   "source": [
    "num_snowing = snowing.sum()\n",
    "num_snowing"
   ]
  },
  {
   "cell_type": "markdown",
   "metadata": {
    "slideshow": {
     "slide_type": "fragment"
    }
   },
   "source": [
    "Alternatively, we could also use `value_counts` to tally up the snowing conditions:"
   ]
  },
  {
   "cell_type": "code",
   "execution_count": 14,
   "metadata": {
    "slideshow": {
     "slide_type": "fragment"
    }
   },
   "outputs": [
    {
     "data": {
      "text/plain": [
       "False    464\n",
       "True      15\n",
       "NaN        1\n",
       "Name: Conditions, dtype: int64"
      ]
     },
     "execution_count": 14,
     "metadata": {},
     "output_type": "execute_result"
    }
   ],
   "source": [
    "snowing.value_counts(dropna=False)"
   ]
  },
  {
   "cell_type": "markdown",
   "metadata": {
    "slideshow": {
     "slide_type": "fragment"
    }
   },
   "source": [
    "We can use `snowing` as a **filter** to extract the rows with snowing weather conditions\n",
    "- However, our filter can only contain `True` or `False` values\n",
    "- We need to fill the missing value (`NaN`)\n",
    "  - Use the `fillna` method to fill the missing with a value of `False`"
   ]
  },
  {
   "cell_type": "code",
   "execution_count": 15,
   "metadata": {
    "slideshow": {
     "slide_type": "fragment"
    }
   },
   "outputs": [
    {
     "data": {
      "text/plain": [
       "False    465\n",
       "True      15\n",
       "Name: Conditions, dtype: int64"
      ]
     },
     "execution_count": 15,
     "metadata": {},
     "output_type": "execute_result"
    }
   ],
   "source": [
    "snowing_filled = snowing.fillna(False)\n",
    "snowing_filled.value_counts(dropna=False)"
   ]
  },
  {
   "cell_type": "markdown",
   "metadata": {
    "slideshow": {
     "slide_type": "slide"
    }
   },
   "source": [
    "Now we're ready to apply our filter and find out where it's snowing:"
   ]
  },
  {
   "cell_type": "code",
   "execution_count": 16,
   "metadata": {
    "slideshow": {
     "slide_type": "fragment"
    }
   },
   "outputs": [
    {
     "data": {
      "text/html": [
       "<div>\n",
       "<style scoped>\n",
       "    .dataframe tbody tr th:only-of-type {\n",
       "        vertical-align: middle;\n",
       "    }\n",
       "\n",
       "    .dataframe tbody tr th {\n",
       "        vertical-align: top;\n",
       "    }\n",
       "\n",
       "    .dataframe thead th {\n",
       "        text-align: right;\n",
       "    }\n",
       "</style>\n",
       "<table border=\"1\" class=\"dataframe\">\n",
       "  <thead>\n",
       "    <tr style=\"text-align: right;\">\n",
       "      <th></th>\n",
       "      <th>Datetime</th>\n",
       "      <th>Timezone</th>\n",
       "      <th>Hour of Day</th>\n",
       "      <th>Station ID</th>\n",
       "      <th>Station Name</th>\n",
       "      <th>Latitude</th>\n",
       "      <th>Longitude</th>\n",
       "      <th>Conditions</th>\n",
       "      <th>Temperature (C)</th>\n",
       "      <th>Relative Humidity (%)</th>\n",
       "      <th>Dew Point (C)</th>\n",
       "      <th>Humidex (C)</th>\n",
       "      <th>Pressure (kPa)</th>\n",
       "      <th>Visibility (km)</th>\n",
       "      <th>Wind Direction</th>\n",
       "      <th>Wind Speed (km/hr)</th>\n",
       "      <th>Wind Chill (C)</th>\n",
       "    </tr>\n",
       "  </thead>\n",
       "  <tbody>\n",
       "    <tr>\n",
       "      <th>120</th>\n",
       "      <td>2018-05-22 1:00</td>\n",
       "      <td>Canada/Eastern</td>\n",
       "      <td>1</td>\n",
       "      <td>YFB</td>\n",
       "      <td>Iqaluit Airport</td>\n",
       "      <td>63.76</td>\n",
       "      <td>-68.56</td>\n",
       "      <td>Light Snow</td>\n",
       "      <td>-6.3</td>\n",
       "      <td>80.0</td>\n",
       "      <td>-9.0</td>\n",
       "      <td>NaN</td>\n",
       "      <td>101.1</td>\n",
       "      <td>24.0</td>\n",
       "      <td>NNW</td>\n",
       "      <td>19.0</td>\n",
       "      <td>-13</td>\n",
       "    </tr>\n",
       "    <tr>\n",
       "      <th>121</th>\n",
       "      <td>2018-05-22 2:00</td>\n",
       "      <td>Canada/Eastern</td>\n",
       "      <td>2</td>\n",
       "      <td>YFB</td>\n",
       "      <td>Iqaluit Airport</td>\n",
       "      <td>63.76</td>\n",
       "      <td>-68.56</td>\n",
       "      <td>Light Snow</td>\n",
       "      <td>-6.4</td>\n",
       "      <td>81.0</td>\n",
       "      <td>-9.0</td>\n",
       "      <td>NaN</td>\n",
       "      <td>101.1</td>\n",
       "      <td>24.0</td>\n",
       "      <td>NNW</td>\n",
       "      <td>20.0</td>\n",
       "      <td>-13</td>\n",
       "    </tr>\n",
       "    <tr>\n",
       "      <th>122</th>\n",
       "      <td>2018-05-22 3:00</td>\n",
       "      <td>Canada/Eastern</td>\n",
       "      <td>3</td>\n",
       "      <td>YFB</td>\n",
       "      <td>Iqaluit Airport</td>\n",
       "      <td>63.76</td>\n",
       "      <td>-68.56</td>\n",
       "      <td>Light Snow</td>\n",
       "      <td>-6.6</td>\n",
       "      <td>83.0</td>\n",
       "      <td>-9.0</td>\n",
       "      <td>NaN</td>\n",
       "      <td>101.1</td>\n",
       "      <td>16.0</td>\n",
       "      <td>NW</td>\n",
       "      <td>16.0</td>\n",
       "      <td>-13</td>\n",
       "    </tr>\n",
       "    <tr>\n",
       "      <th>123</th>\n",
       "      <td>2018-05-22 4:00</td>\n",
       "      <td>Canada/Eastern</td>\n",
       "      <td>4</td>\n",
       "      <td>YFB</td>\n",
       "      <td>Iqaluit Airport</td>\n",
       "      <td>63.76</td>\n",
       "      <td>-68.56</td>\n",
       "      <td>Light Snow</td>\n",
       "      <td>-6.6</td>\n",
       "      <td>78.0</td>\n",
       "      <td>-10.0</td>\n",
       "      <td>NaN</td>\n",
       "      <td>101.0</td>\n",
       "      <td>32.0</td>\n",
       "      <td>NW</td>\n",
       "      <td>25.0</td>\n",
       "      <td>-14</td>\n",
       "    </tr>\n",
       "    <tr>\n",
       "      <th>124</th>\n",
       "      <td>2018-05-22 5:00</td>\n",
       "      <td>Canada/Eastern</td>\n",
       "      <td>5</td>\n",
       "      <td>YFB</td>\n",
       "      <td>Iqaluit Airport</td>\n",
       "      <td>63.76</td>\n",
       "      <td>-68.56</td>\n",
       "      <td>Light Snow</td>\n",
       "      <td>-7.0</td>\n",
       "      <td>76.0</td>\n",
       "      <td>-10.0</td>\n",
       "      <td>NaN</td>\n",
       "      <td>101.1</td>\n",
       "      <td>24.0</td>\n",
       "      <td>NW</td>\n",
       "      <td>23.0</td>\n",
       "      <td>-15</td>\n",
       "    </tr>\n",
       "    <tr>\n",
       "      <th>125</th>\n",
       "      <td>2018-05-22 6:00</td>\n",
       "      <td>Canada/Eastern</td>\n",
       "      <td>6</td>\n",
       "      <td>YFB</td>\n",
       "      <td>Iqaluit Airport</td>\n",
       "      <td>63.76</td>\n",
       "      <td>-68.56</td>\n",
       "      <td>Light Snow</td>\n",
       "      <td>-7.1</td>\n",
       "      <td>77.0</td>\n",
       "      <td>-11.0</td>\n",
       "      <td>NaN</td>\n",
       "      <td>101.0</td>\n",
       "      <td>24.0</td>\n",
       "      <td>NW</td>\n",
       "      <td>22.0</td>\n",
       "      <td>-15</td>\n",
       "    </tr>\n",
       "    <tr>\n",
       "      <th>126</th>\n",
       "      <td>2018-05-22 7:00</td>\n",
       "      <td>Canada/Eastern</td>\n",
       "      <td>7</td>\n",
       "      <td>YFB</td>\n",
       "      <td>Iqaluit Airport</td>\n",
       "      <td>63.76</td>\n",
       "      <td>-68.56</td>\n",
       "      <td>Light Snow</td>\n",
       "      <td>-6.9</td>\n",
       "      <td>73.0</td>\n",
       "      <td>-11.0</td>\n",
       "      <td>NaN</td>\n",
       "      <td>101.0</td>\n",
       "      <td>10.0</td>\n",
       "      <td>NNW</td>\n",
       "      <td>26.0</td>\n",
       "      <td>-15</td>\n",
       "    </tr>\n",
       "    <tr>\n",
       "      <th>127</th>\n",
       "      <td>2018-05-22 8:00</td>\n",
       "      <td>Canada/Eastern</td>\n",
       "      <td>8</td>\n",
       "      <td>YFB</td>\n",
       "      <td>Iqaluit Airport</td>\n",
       "      <td>63.76</td>\n",
       "      <td>-68.56</td>\n",
       "      <td>Light Snow</td>\n",
       "      <td>-6.5</td>\n",
       "      <td>77.0</td>\n",
       "      <td>-10.0</td>\n",
       "      <td>NaN</td>\n",
       "      <td>101.0</td>\n",
       "      <td>10.0</td>\n",
       "      <td>NW</td>\n",
       "      <td>24.0</td>\n",
       "      <td>-14</td>\n",
       "    </tr>\n",
       "    <tr>\n",
       "      <th>128</th>\n",
       "      <td>2018-05-22 9:00</td>\n",
       "      <td>Canada/Eastern</td>\n",
       "      <td>9</td>\n",
       "      <td>YFB</td>\n",
       "      <td>Iqaluit Airport</td>\n",
       "      <td>63.76</td>\n",
       "      <td>-68.56</td>\n",
       "      <td>Light Snow</td>\n",
       "      <td>-6.5</td>\n",
       "      <td>78.0</td>\n",
       "      <td>-10.0</td>\n",
       "      <td>NaN</td>\n",
       "      <td>101.0</td>\n",
       "      <td>10.0</td>\n",
       "      <td>NNW</td>\n",
       "      <td>31.0</td>\n",
       "      <td>-15</td>\n",
       "    </tr>\n",
       "    <tr>\n",
       "      <th>129</th>\n",
       "      <td>2018-05-22 10:00</td>\n",
       "      <td>Canada/Eastern</td>\n",
       "      <td>10</td>\n",
       "      <td>YFB</td>\n",
       "      <td>Iqaluit Airport</td>\n",
       "      <td>63.76</td>\n",
       "      <td>-68.56</td>\n",
       "      <td>Light Snow</td>\n",
       "      <td>-6.0</td>\n",
       "      <td>80.0</td>\n",
       "      <td>-9.0</td>\n",
       "      <td>NaN</td>\n",
       "      <td>101.0</td>\n",
       "      <td>6.0</td>\n",
       "      <td>NNW</td>\n",
       "      <td>25.0</td>\n",
       "      <td>-14</td>\n",
       "    </tr>\n",
       "    <tr>\n",
       "      <th>130</th>\n",
       "      <td>2018-05-22 11:00</td>\n",
       "      <td>Canada/Eastern</td>\n",
       "      <td>11</td>\n",
       "      <td>YFB</td>\n",
       "      <td>Iqaluit Airport</td>\n",
       "      <td>63.76</td>\n",
       "      <td>-68.56</td>\n",
       "      <td>Light Snow</td>\n",
       "      <td>-5.0</td>\n",
       "      <td>78.0</td>\n",
       "      <td>-8.0</td>\n",
       "      <td>NaN</td>\n",
       "      <td>100.9</td>\n",
       "      <td>10.0</td>\n",
       "      <td>NNW</td>\n",
       "      <td>36.0</td>\n",
       "      <td>-14</td>\n",
       "    </tr>\n",
       "    <tr>\n",
       "      <th>131</th>\n",
       "      <td>2018-05-22 12:00</td>\n",
       "      <td>Canada/Eastern</td>\n",
       "      <td>12</td>\n",
       "      <td>YFB</td>\n",
       "      <td>Iqaluit Airport</td>\n",
       "      <td>63.76</td>\n",
       "      <td>-68.56</td>\n",
       "      <td>Light Snow</td>\n",
       "      <td>-4.7</td>\n",
       "      <td>78.0</td>\n",
       "      <td>-8.0</td>\n",
       "      <td>NaN</td>\n",
       "      <td>100.9</td>\n",
       "      <td>10.0</td>\n",
       "      <td>NNW</td>\n",
       "      <td>35.0</td>\n",
       "      <td>-13</td>\n",
       "    </tr>\n",
       "    <tr>\n",
       "      <th>132</th>\n",
       "      <td>2018-05-22 13:00</td>\n",
       "      <td>Canada/Eastern</td>\n",
       "      <td>13</td>\n",
       "      <td>YFB</td>\n",
       "      <td>Iqaluit Airport</td>\n",
       "      <td>63.76</td>\n",
       "      <td>-68.56</td>\n",
       "      <td>Light Snow</td>\n",
       "      <td>-3.9</td>\n",
       "      <td>78.0</td>\n",
       "      <td>-7.0</td>\n",
       "      <td>NaN</td>\n",
       "      <td>100.8</td>\n",
       "      <td>16.0</td>\n",
       "      <td>NW</td>\n",
       "      <td>34.0</td>\n",
       "      <td>-12</td>\n",
       "    </tr>\n",
       "    <tr>\n",
       "      <th>135</th>\n",
       "      <td>2018-05-22 16:00</td>\n",
       "      <td>Canada/Eastern</td>\n",
       "      <td>16</td>\n",
       "      <td>YFB</td>\n",
       "      <td>Iqaluit Airport</td>\n",
       "      <td>63.76</td>\n",
       "      <td>-68.56</td>\n",
       "      <td>Light Snow</td>\n",
       "      <td>-3.6</td>\n",
       "      <td>81.0</td>\n",
       "      <td>-6.0</td>\n",
       "      <td>NaN</td>\n",
       "      <td>100.8</td>\n",
       "      <td>24.0</td>\n",
       "      <td>NW</td>\n",
       "      <td>48.0</td>\n",
       "      <td>-13</td>\n",
       "    </tr>\n",
       "    <tr>\n",
       "      <th>143</th>\n",
       "      <td>2018-05-23 0:00</td>\n",
       "      <td>Canada/Eastern</td>\n",
       "      <td>0</td>\n",
       "      <td>YFB</td>\n",
       "      <td>Iqaluit Airport</td>\n",
       "      <td>63.76</td>\n",
       "      <td>-68.56</td>\n",
       "      <td>Light Snow</td>\n",
       "      <td>-5.5</td>\n",
       "      <td>83.0</td>\n",
       "      <td>-8.0</td>\n",
       "      <td>NaN</td>\n",
       "      <td>100.9</td>\n",
       "      <td>24.0</td>\n",
       "      <td>WNW</td>\n",
       "      <td>16.0</td>\n",
       "      <td>-11</td>\n",
       "    </tr>\n",
       "  </tbody>\n",
       "</table>\n",
       "</div>"
      ],
      "text/plain": [
       "             Datetime        Timezone  Hour of Day Station ID  \\\n",
       "120   2018-05-22 1:00  Canada/Eastern            1        YFB   \n",
       "121   2018-05-22 2:00  Canada/Eastern            2        YFB   \n",
       "122   2018-05-22 3:00  Canada/Eastern            3        YFB   \n",
       "123   2018-05-22 4:00  Canada/Eastern            4        YFB   \n",
       "124   2018-05-22 5:00  Canada/Eastern            5        YFB   \n",
       "125   2018-05-22 6:00  Canada/Eastern            6        YFB   \n",
       "126   2018-05-22 7:00  Canada/Eastern            7        YFB   \n",
       "127   2018-05-22 8:00  Canada/Eastern            8        YFB   \n",
       "128   2018-05-22 9:00  Canada/Eastern            9        YFB   \n",
       "129  2018-05-22 10:00  Canada/Eastern           10        YFB   \n",
       "130  2018-05-22 11:00  Canada/Eastern           11        YFB   \n",
       "131  2018-05-22 12:00  Canada/Eastern           12        YFB   \n",
       "132  2018-05-22 13:00  Canada/Eastern           13        YFB   \n",
       "135  2018-05-22 16:00  Canada/Eastern           16        YFB   \n",
       "143   2018-05-23 0:00  Canada/Eastern            0        YFB   \n",
       "\n",
       "        Station Name  Latitude  Longitude  Conditions  Temperature (C)  \\\n",
       "120  Iqaluit Airport     63.76     -68.56  Light Snow             -6.3   \n",
       "121  Iqaluit Airport     63.76     -68.56  Light Snow             -6.4   \n",
       "122  Iqaluit Airport     63.76     -68.56  Light Snow             -6.6   \n",
       "123  Iqaluit Airport     63.76     -68.56  Light Snow             -6.6   \n",
       "124  Iqaluit Airport     63.76     -68.56  Light Snow             -7.0   \n",
       "125  Iqaluit Airport     63.76     -68.56  Light Snow             -7.1   \n",
       "126  Iqaluit Airport     63.76     -68.56  Light Snow             -6.9   \n",
       "127  Iqaluit Airport     63.76     -68.56  Light Snow             -6.5   \n",
       "128  Iqaluit Airport     63.76     -68.56  Light Snow             -6.5   \n",
       "129  Iqaluit Airport     63.76     -68.56  Light Snow             -6.0   \n",
       "130  Iqaluit Airport     63.76     -68.56  Light Snow             -5.0   \n",
       "131  Iqaluit Airport     63.76     -68.56  Light Snow             -4.7   \n",
       "132  Iqaluit Airport     63.76     -68.56  Light Snow             -3.9   \n",
       "135  Iqaluit Airport     63.76     -68.56  Light Snow             -3.6   \n",
       "143  Iqaluit Airport     63.76     -68.56  Light Snow             -5.5   \n",
       "\n",
       "     Relative Humidity (%)  Dew Point (C)  Humidex (C)  Pressure (kPa)  \\\n",
       "120                   80.0           -9.0          NaN           101.1   \n",
       "121                   81.0           -9.0          NaN           101.1   \n",
       "122                   83.0           -9.0          NaN           101.1   \n",
       "123                   78.0          -10.0          NaN           101.0   \n",
       "124                   76.0          -10.0          NaN           101.1   \n",
       "125                   77.0          -11.0          NaN           101.0   \n",
       "126                   73.0          -11.0          NaN           101.0   \n",
       "127                   77.0          -10.0          NaN           101.0   \n",
       "128                   78.0          -10.0          NaN           101.0   \n",
       "129                   80.0           -9.0          NaN           101.0   \n",
       "130                   78.0           -8.0          NaN           100.9   \n",
       "131                   78.0           -8.0          NaN           100.9   \n",
       "132                   78.0           -7.0          NaN           100.8   \n",
       "135                   81.0           -6.0          NaN           100.8   \n",
       "143                   83.0           -8.0          NaN           100.9   \n",
       "\n",
       "     Visibility (km) Wind Direction  Wind Speed (km/hr) Wind Chill (C)  \n",
       "120             24.0            NNW                19.0            -13  \n",
       "121             24.0            NNW                20.0            -13  \n",
       "122             16.0             NW                16.0            -13  \n",
       "123             32.0             NW                25.0            -14  \n",
       "124             24.0             NW                23.0            -15  \n",
       "125             24.0             NW                22.0            -15  \n",
       "126             10.0            NNW                26.0            -15  \n",
       "127             10.0             NW                24.0            -14  \n",
       "128             10.0            NNW                31.0            -15  \n",
       "129              6.0            NNW                25.0            -14  \n",
       "130             10.0            NNW                36.0            -14  \n",
       "131             10.0            NNW                35.0            -13  \n",
       "132             16.0             NW                34.0            -12  \n",
       "135             24.0             NW                48.0            -13  \n",
       "143             24.0            WNW                16.0            -11  "
      ]
     },
     "execution_count": 16,
     "metadata": {},
     "output_type": "execute_result"
    }
   ],
   "source": [
    "weather_snowing = weather_all[snowing_filled]\n",
    "weather_snowing"
   ]
  },
  {
   "cell_type": "code",
   "execution_count": 17,
   "metadata": {
    "slideshow": {
     "slide_type": "fragment"
    }
   },
   "outputs": [
    {
     "data": {
      "text/plain": [
       "array(['Iqaluit Airport'], dtype=object)"
      ]
     },
     "execution_count": 17,
     "metadata": {},
     "output_type": "execute_result"
    }
   ],
   "source": [
    "weather_snowing['Station Name'].unique()"
   ]
  },
  {
   "cell_type": "markdown",
   "metadata": {
    "slideshow": {
     "slide_type": "-"
    }
   },
   "source": [
    "It's snowing at one station&mdash;Iqaluit Airport!"
   ]
  },
  {
   "cell_type": "markdown",
   "metadata": {
    "slideshow": {
     "slide_type": "slide"
    }
   },
   "source": [
    "- How many stations have temperatures greater than 20 C?\n",
    "- Which station had the highest number of hours with temperatures greater than 20 C?"
   ]
  },
  {
   "cell_type": "markdown",
   "metadata": {
    "slideshow": {
     "slide_type": "fragment"
    }
   },
   "source": [
    "Use a comparison operator to create a filter:"
   ]
  },
  {
   "cell_type": "code",
   "execution_count": 18,
   "metadata": {
    "slideshow": {
     "slide_type": "fragment"
    }
   },
   "outputs": [
    {
     "data": {
      "text/plain": [
       "0    False\n",
       "1    False\n",
       "2    False\n",
       "3    False\n",
       "4    False\n",
       "Name: Temperature (C), dtype: bool"
      ]
     },
     "execution_count": 18,
     "metadata": {},
     "output_type": "execute_result"
    }
   ],
   "source": [
    "temp_warm = weather_all['Temperature (C)'] > 20\n",
    "temp_warm.head()"
   ]
  },
  {
   "cell_type": "markdown",
   "metadata": {
    "slideshow": {
     "slide_type": "fragment"
    }
   },
   "source": [
    "See how many `True` and `False` are in our filter, and check for missings:"
   ]
  },
  {
   "cell_type": "code",
   "execution_count": 19,
   "metadata": {
    "scrolled": true,
    "slideshow": {
     "slide_type": "fragment"
    }
   },
   "outputs": [
    {
     "data": {
      "text/plain": [
       "False    373\n",
       "True     107\n",
       "Name: Temperature (C), dtype: int64"
      ]
     },
     "execution_count": 19,
     "metadata": {},
     "output_type": "execute_result"
    }
   ],
   "source": [
    "temp_warm.value_counts(dropna=False)"
   ]
  },
  {
   "cell_type": "markdown",
   "metadata": {
    "slideshow": {
     "slide_type": "fragment"
    }
   },
   "source": [
    "Temperatures are greater than 20 C in 107 rows of our data, but this doesn't tell us the number of stations, since each station might have multiple rows (multiple hours) with temperatures greater than 20 C."
   ]
  },
  {
   "cell_type": "markdown",
   "metadata": {
    "slideshow": {
     "slide_type": "slide"
    }
   },
   "source": [
    "Use the filter `temp_warm` to extract the rows of `weather_all` which have temperatures greater than 20 C:"
   ]
  },
  {
   "cell_type": "code",
   "execution_count": 20,
   "metadata": {
    "slideshow": {
     "slide_type": "fragment"
    }
   },
   "outputs": [
    {
     "data": {
      "text/html": [
       "<div>\n",
       "<style scoped>\n",
       "    .dataframe tbody tr th:only-of-type {\n",
       "        vertical-align: middle;\n",
       "    }\n",
       "\n",
       "    .dataframe tbody tr th {\n",
       "        vertical-align: top;\n",
       "    }\n",
       "\n",
       "    .dataframe thead th {\n",
       "        text-align: right;\n",
       "    }\n",
       "</style>\n",
       "<table border=\"1\" class=\"dataframe\">\n",
       "  <thead>\n",
       "    <tr style=\"text-align: right;\">\n",
       "      <th></th>\n",
       "      <th>Datetime</th>\n",
       "      <th>Timezone</th>\n",
       "      <th>Hour of Day</th>\n",
       "      <th>Station ID</th>\n",
       "      <th>Station Name</th>\n",
       "      <th>Latitude</th>\n",
       "      <th>Longitude</th>\n",
       "      <th>Conditions</th>\n",
       "      <th>Temperature (C)</th>\n",
       "      <th>Relative Humidity (%)</th>\n",
       "      <th>Dew Point (C)</th>\n",
       "      <th>Humidex (C)</th>\n",
       "      <th>Pressure (kPa)</th>\n",
       "      <th>Visibility (km)</th>\n",
       "      <th>Wind Direction</th>\n",
       "      <th>Wind Speed (km/hr)</th>\n",
       "      <th>Wind Chill (C)</th>\n",
       "    </tr>\n",
       "  </thead>\n",
       "  <tbody>\n",
       "    <tr>\n",
       "      <th>19</th>\n",
       "      <td>2018-05-22 17:00</td>\n",
       "      <td>Canada/Pacific</td>\n",
       "      <td>17</td>\n",
       "      <td>YVR</td>\n",
       "      <td>Vancouver Int'l Airport</td>\n",
       "      <td>49.19</td>\n",
       "      <td>-123.18</td>\n",
       "      <td>Mainly Sunny</td>\n",
       "      <td>20.1</td>\n",
       "      <td>64.0</td>\n",
       "      <td>13.0</td>\n",
       "      <td>23.0</td>\n",
       "      <td>101.1</td>\n",
       "      <td>48.0</td>\n",
       "      <td>WSW</td>\n",
       "      <td>9.0</td>\n",
       "      <td>NaN</td>\n",
       "    </tr>\n",
       "    <tr>\n",
       "      <th>39</th>\n",
       "      <td>2018-05-22 13:00</td>\n",
       "      <td>Canada/Pacific</td>\n",
       "      <td>13</td>\n",
       "      <td>YYJ</td>\n",
       "      <td>Victoria Int'l Airport</td>\n",
       "      <td>48.65</td>\n",
       "      <td>-123.43</td>\n",
       "      <td>Mainly Sunny</td>\n",
       "      <td>20.5</td>\n",
       "      <td>56.0</td>\n",
       "      <td>12.0</td>\n",
       "      <td>23.0</td>\n",
       "      <td>101.4</td>\n",
       "      <td>32.0</td>\n",
       "      <td>E</td>\n",
       "      <td>12.0</td>\n",
       "      <td>NaN</td>\n",
       "    </tr>\n",
       "    <tr>\n",
       "      <th>40</th>\n",
       "      <td>2018-05-22 14:00</td>\n",
       "      <td>Canada/Pacific</td>\n",
       "      <td>14</td>\n",
       "      <td>YYJ</td>\n",
       "      <td>Victoria Int'l Airport</td>\n",
       "      <td>48.65</td>\n",
       "      <td>-123.43</td>\n",
       "      <td>Mainly Sunny</td>\n",
       "      <td>22.6</td>\n",
       "      <td>52.0</td>\n",
       "      <td>13.0</td>\n",
       "      <td>25.0</td>\n",
       "      <td>101.3</td>\n",
       "      <td>32.0</td>\n",
       "      <td>E</td>\n",
       "      <td>8.0</td>\n",
       "      <td>NaN</td>\n",
       "    </tr>\n",
       "  </tbody>\n",
       "</table>\n",
       "</div>"
      ],
      "text/plain": [
       "            Datetime        Timezone  Hour of Day Station ID  \\\n",
       "19  2018-05-22 17:00  Canada/Pacific           17        YVR   \n",
       "39  2018-05-22 13:00  Canada/Pacific           13        YYJ   \n",
       "40  2018-05-22 14:00  Canada/Pacific           14        YYJ   \n",
       "\n",
       "               Station Name  Latitude  Longitude    Conditions  \\\n",
       "19  Vancouver Int'l Airport     49.19    -123.18  Mainly Sunny   \n",
       "39   Victoria Int'l Airport     48.65    -123.43  Mainly Sunny   \n",
       "40   Victoria Int'l Airport     48.65    -123.43  Mainly Sunny   \n",
       "\n",
       "    Temperature (C)  Relative Humidity (%)  Dew Point (C)  Humidex (C)  \\\n",
       "19             20.1                   64.0           13.0         23.0   \n",
       "39             20.5                   56.0           12.0         23.0   \n",
       "40             22.6                   52.0           13.0         25.0   \n",
       "\n",
       "    Pressure (kPa)  Visibility (km) Wind Direction  Wind Speed (km/hr)  \\\n",
       "19           101.1             48.0            WSW                 9.0   \n",
       "39           101.4             32.0              E                12.0   \n",
       "40           101.3             32.0              E                 8.0   \n",
       "\n",
       "   Wind Chill (C)  \n",
       "19            NaN  \n",
       "39            NaN  \n",
       "40            NaN  "
      ]
     },
     "execution_count": 20,
     "metadata": {},
     "output_type": "execute_result"
    }
   ],
   "source": [
    "weather_warm = weather_all[temp_warm]\n",
    "weather_warm.head(3)"
   ]
  },
  {
   "cell_type": "markdown",
   "metadata": {
    "slideshow": {
     "slide_type": "fragment"
    }
   },
   "source": [
    "The number of stations with temperature greater than 20 C is:"
   ]
  },
  {
   "cell_type": "code",
   "execution_count": 21,
   "metadata": {
    "slideshow": {
     "slide_type": "fragment"
    }
   },
   "outputs": [
    {
     "data": {
      "text/plain": [
       "13"
      ]
     },
     "execution_count": 21,
     "metadata": {},
     "output_type": "execute_result"
    }
   ],
   "source": [
    "weather_warm['Station Name'].nunique()"
   ]
  },
  {
   "cell_type": "markdown",
   "metadata": {
    "slideshow": {
     "slide_type": "slide"
    }
   },
   "source": [
    "List these stations and the number of hours at each station with temperatures greater than 20 C:"
   ]
  },
  {
   "cell_type": "code",
   "execution_count": 22,
   "metadata": {
    "slideshow": {
     "slide_type": "fragment"
    }
   },
   "outputs": [
    {
     "data": {
      "text/plain": [
       "Winnipeg Richardson Int'l Airport      13\n",
       "Edmonton Int'l Airport                 12\n",
       "Calgary Int'l Airport                  12\n",
       "Thunder Bay Airport                    11\n",
       "Regina Int'l Airport                   11\n",
       "Saskatoon Diefenbaker Int'l Airport    10\n",
       "Prince George Airport                   9\n",
       "Quebec Lesage Int'l Airport             7\n",
       "Victoria Int'l Airport                  7\n",
       "Yellowknife Airport                     5\n",
       "Fredericton Int'l Airport               5\n",
       "Montreal-Trudeau Int'l Airport          4\n",
       "Vancouver Int'l Airport                 1\n",
       "Name: Station Name, dtype: int64"
      ]
     },
     "execution_count": 22,
     "metadata": {},
     "output_type": "execute_result"
    }
   ],
   "source": [
    "weather_warm['Station Name'].value_counts()"
   ]
  },
  {
   "cell_type": "markdown",
   "metadata": {
    "slideshow": {
     "slide_type": "fragment"
    }
   },
   "source": [
    "Winnipeg Richardson Int'l Airport had the highest occurrence (13 hours) of temperatures greater than 20 C"
   ]
  },
  {
   "cell_type": "markdown",
   "metadata": {
    "slideshow": {
     "slide_type": "slide"
    }
   },
   "source": [
    "# Lesson 4 Recap\n",
    "\n",
    "### Sorting\n",
    "\n",
    "Sort a DataFrame based on the values in the column `'Column B'`:\n",
    "```\n",
    "df.sort_values('Column B')\n",
    "```\n",
    "To sort in descending order, use the keyword argument `ascending=False`\n",
    "\n",
    "\n",
    "### Aggregation\n",
    "\n",
    "For basic aggregation operations, use the `groupby` method chained with an aggregation method (e.g., `mean`, `sum`, `max`, `min`, `count`).\n",
    "\n",
    "For example, to find the mean values for data grouped by `'Column B'`: `\n",
    "```\n",
    "df.groupby('Column B').mean()\n",
    "```\n",
    "\n",
    "### Subsets\n",
    "\n",
    "#### Selecting Columns\n",
    "\n",
    "To select a subset of columns from a DataFrame: \n",
    "```\n",
    "df_sub = df[['Column C', 'Column A', 'Column B']]\n",
    "```\n",
    "\n",
    "#### Selecting Rows with a Filter\n",
    "\n",
    "To select a subset of rows with a filter:\n",
    "  - Create a filter (Boolean Series)\n",
    "  - Fill any missings in the filter using the `fillna` method (if necessary)\n",
    "  - Use the filter to extract the desired rows from the DataFrame\n",
    "\n",
    "Filter Example 1: string method `contains` with text data\n",
    "```\n",
    "snowing = weather_all['Conditions'].str.contains('Snow')\n",
    "snowing = snowing.fillna(False)\n",
    "weather_snowing = weather_all[snowing]\n",
    "```\n",
    "\n",
    "Filter Example 2: comparison operator with numerical data\n",
    "```\n",
    "temp_warm = weather_all['Temperature (C)'] > 20\n",
    "temp_warm = temp_warm.fillna(False)\n",
    "weather_warm = weather_all[temp_warm]\n",
    "```"
   ]
  },
  {
   "cell_type": "markdown",
   "metadata": {
    "slideshow": {
     "slide_type": "slide"
    }
   },
   "source": [
    "# Exercise 4\n",
    "\n",
    "a) What is the fastest wind speed in `weather_all`, and at what station and datetime did it occur? What were the wind direction, temperature, and weather conditions (raining / sunny / etc.) that accompanied this fastest wind speed?\n",
    "\n",
    "b) How many stations had wind speeds greater than 30 km/hr? Which stations were they?\n",
    "\n",
    "#### Bonus exercises\n",
    "\n",
    "c) What were the top three windiest stations, based on their maximum wind speeds? What were the maximum wind speeds at each of these stations?\n",
    "\n",
    "d) Do the top three stations from (c) change if you rank your stations based on mean wind speed instead of maximum wind speed?"
   ]
  }
 ],
 "metadata": {
  "celltoolbar": "Slideshow",
  "kernelspec": {
   "display_name": "Python [conda root]",
   "language": "python",
   "name": "conda-root-py"
  },
  "language_info": {
   "codemirror_mode": {
    "name": "ipython",
    "version": 3
   },
   "file_extension": ".py",
   "mimetype": "text/x-python",
   "name": "python",
   "nbconvert_exporter": "python",
   "pygments_lexer": "ipython3",
   "version": "3.6.4"
  },
  "livereveal": {
   "scroll": true,
   "theme": "solarized",
   "transition": "none"
  }
 },
 "nbformat": 4,
 "nbformat_minor": 2
}
