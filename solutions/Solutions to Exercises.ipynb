{
 "cells": [
  {
   "cell_type": "markdown",
   "metadata": {},
   "source": [
    "# Solutions to Exercises\n",
    "\n",
    "For each exercise, the solutions below show one possible way of solving it, but you might have used a different approach, and that's great! There is almost always more than one way to solve any particular problem in Python.\n",
    "\n",
    "**Note**: To run this notebook, you'll need to either a) move it up one level, out of the `solutions` folder to the main `pydata-intro-workshop` folder, or b) adjust the file paths in the code below (e.g., change `'data/weather_yxe.csv'` to `'../data/weather_yxe.csv'`).\n",
    "\n",
    "## Initial Setup"
   ]
  },
  {
   "cell_type": "code",
   "execution_count": 1,
   "metadata": {},
   "outputs": [],
   "source": [
    "import pandas as pd\n",
    "\n",
    "%matplotlib inline"
   ]
  },
  {
   "cell_type": "markdown",
   "metadata": {},
   "source": [
    "---\n",
    "\n",
    "## Exercise 1\n",
    "\n",
    "1.a) Read data for Saskatoon Airport from `'data/weather_yxe.csv'` into a new variable `weather_yxe` and display the first 7 rows."
   ]
  },
  {
   "cell_type": "code",
   "execution_count": 2,
   "metadata": {},
   "outputs": [
    {
     "data": {
      "text/html": [
       "<div>\n",
       "<style scoped>\n",
       "    .dataframe tbody tr th:only-of-type {\n",
       "        vertical-align: middle;\n",
       "    }\n",
       "\n",
       "    .dataframe tbody tr th {\n",
       "        vertical-align: top;\n",
       "    }\n",
       "\n",
       "    .dataframe thead th {\n",
       "        text-align: right;\n",
       "    }\n",
       "</style>\n",
       "<table border=\"1\" class=\"dataframe\">\n",
       "  <thead>\n",
       "    <tr style=\"text-align: right;\">\n",
       "      <th></th>\n",
       "      <th>Datetime</th>\n",
       "      <th>Hour of Day</th>\n",
       "      <th>Conditions</th>\n",
       "      <th>Temperature (C)</th>\n",
       "      <th>Relative Humidity (%)</th>\n",
       "      <th>Dew Point (C)</th>\n",
       "      <th>Humidex (C)</th>\n",
       "      <th>Pressure (kPa)</th>\n",
       "      <th>Visibility (km)</th>\n",
       "      <th>Wind Direction</th>\n",
       "      <th>Wind Speed (km/hr)</th>\n",
       "      <th>Wind Chill (C)</th>\n",
       "    </tr>\n",
       "  </thead>\n",
       "  <tbody>\n",
       "    <tr>\n",
       "      <th>0</th>\n",
       "      <td>2018-05-21 23:00:00</td>\n",
       "      <td>23</td>\n",
       "      <td>Partly Cloudy</td>\n",
       "      <td>17.6</td>\n",
       "      <td>45.0</td>\n",
       "      <td>6.0</td>\n",
       "      <td>NaN</td>\n",
       "      <td>100.9</td>\n",
       "      <td>24.0</td>\n",
       "      <td>NE</td>\n",
       "      <td>17.0</td>\n",
       "      <td>NaN</td>\n",
       "    </tr>\n",
       "    <tr>\n",
       "      <th>1</th>\n",
       "      <td>2018-05-22 00:00:00</td>\n",
       "      <td>0</td>\n",
       "      <td>Mainly Clear</td>\n",
       "      <td>16.0</td>\n",
       "      <td>52.0</td>\n",
       "      <td>6.0</td>\n",
       "      <td>NaN</td>\n",
       "      <td>101.0</td>\n",
       "      <td>24.0</td>\n",
       "      <td>ENE</td>\n",
       "      <td>10.0</td>\n",
       "      <td>NaN</td>\n",
       "    </tr>\n",
       "    <tr>\n",
       "      <th>2</th>\n",
       "      <td>2018-05-22 01:00:00</td>\n",
       "      <td>1</td>\n",
       "      <td>Mainly Clear</td>\n",
       "      <td>13.1</td>\n",
       "      <td>61.0</td>\n",
       "      <td>6.0</td>\n",
       "      <td>NaN</td>\n",
       "      <td>101.0</td>\n",
       "      <td>24.0</td>\n",
       "      <td>NNE</td>\n",
       "      <td>11.0</td>\n",
       "      <td>NaN</td>\n",
       "    </tr>\n",
       "    <tr>\n",
       "      <th>3</th>\n",
       "      <td>2018-05-22 02:00:00</td>\n",
       "      <td>2</td>\n",
       "      <td>Mainly Clear</td>\n",
       "      <td>12.3</td>\n",
       "      <td>66.0</td>\n",
       "      <td>6.0</td>\n",
       "      <td>NaN</td>\n",
       "      <td>101.0</td>\n",
       "      <td>24.0</td>\n",
       "      <td>N</td>\n",
       "      <td>11.0</td>\n",
       "      <td>NaN</td>\n",
       "    </tr>\n",
       "    <tr>\n",
       "      <th>4</th>\n",
       "      <td>2018-05-22 03:00:00</td>\n",
       "      <td>3</td>\n",
       "      <td>Mainly Clear</td>\n",
       "      <td>12.3</td>\n",
       "      <td>70.0</td>\n",
       "      <td>7.0</td>\n",
       "      <td>NaN</td>\n",
       "      <td>101.1</td>\n",
       "      <td>24.0</td>\n",
       "      <td>NNE</td>\n",
       "      <td>16.0</td>\n",
       "      <td>NaN</td>\n",
       "    </tr>\n",
       "    <tr>\n",
       "      <th>5</th>\n",
       "      <td>2018-05-22 04:00:00</td>\n",
       "      <td>4</td>\n",
       "      <td>Mainly Clear</td>\n",
       "      <td>12.2</td>\n",
       "      <td>76.0</td>\n",
       "      <td>8.0</td>\n",
       "      <td>NaN</td>\n",
       "      <td>101.1</td>\n",
       "      <td>24.0</td>\n",
       "      <td>NNE</td>\n",
       "      <td>16.0</td>\n",
       "      <td>NaN</td>\n",
       "    </tr>\n",
       "    <tr>\n",
       "      <th>6</th>\n",
       "      <td>2018-05-22 05:00:00</td>\n",
       "      <td>5</td>\n",
       "      <td>Partly Cloudy</td>\n",
       "      <td>12.1</td>\n",
       "      <td>79.0</td>\n",
       "      <td>9.0</td>\n",
       "      <td>NaN</td>\n",
       "      <td>101.1</td>\n",
       "      <td>24.0</td>\n",
       "      <td>ENE</td>\n",
       "      <td>16.0</td>\n",
       "      <td>NaN</td>\n",
       "    </tr>\n",
       "  </tbody>\n",
       "</table>\n",
       "</div>"
      ],
      "text/plain": [
       "              Datetime  Hour of Day     Conditions  Temperature (C)  \\\n",
       "0  2018-05-21 23:00:00           23  Partly Cloudy             17.6   \n",
       "1  2018-05-22 00:00:00            0   Mainly Clear             16.0   \n",
       "2  2018-05-22 01:00:00            1   Mainly Clear             13.1   \n",
       "3  2018-05-22 02:00:00            2   Mainly Clear             12.3   \n",
       "4  2018-05-22 03:00:00            3   Mainly Clear             12.3   \n",
       "5  2018-05-22 04:00:00            4   Mainly Clear             12.2   \n",
       "6  2018-05-22 05:00:00            5  Partly Cloudy             12.1   \n",
       "\n",
       "   Relative Humidity (%)  Dew Point (C)  Humidex (C)  Pressure (kPa)  \\\n",
       "0                   45.0            6.0          NaN           100.9   \n",
       "1                   52.0            6.0          NaN           101.0   \n",
       "2                   61.0            6.0          NaN           101.0   \n",
       "3                   66.0            6.0          NaN           101.0   \n",
       "4                   70.0            7.0          NaN           101.1   \n",
       "5                   76.0            8.0          NaN           101.1   \n",
       "6                   79.0            9.0          NaN           101.1   \n",
       "\n",
       "   Visibility (km) Wind Direction  Wind Speed (km/hr)  Wind Chill (C)  \n",
       "0             24.0             NE                17.0             NaN  \n",
       "1             24.0            ENE                10.0             NaN  \n",
       "2             24.0            NNE                11.0             NaN  \n",
       "3             24.0              N                11.0             NaN  \n",
       "4             24.0            NNE                16.0             NaN  \n",
       "5             24.0            NNE                16.0             NaN  \n",
       "6             24.0            ENE                16.0             NaN  "
      ]
     },
     "execution_count": 2,
     "metadata": {},
     "output_type": "execute_result"
    }
   ],
   "source": [
    "weather_yxe = pd.read_csv('data/weather_yxe.csv')\n",
    "weather_yxe.head(7)"
   ]
  },
  {
   "cell_type": "markdown",
   "metadata": {},
   "source": [
    "- Note the strange value `NaN` in the `'Humidex (C)'` and `'Wind Chill (C)'` columns. If you look at the data file in the CSV viewer, you will see that they correspond with blank cells in the table. `NaN` stands for \"not a number\" and is the value `pandas` uses for any missing data."
   ]
  },
  {
   "cell_type": "markdown",
   "metadata": {},
   "source": [
    "1.b) How many rows and columns does `weather_yxe` have? "
   ]
  },
  {
   "cell_type": "code",
   "execution_count": 3,
   "metadata": {},
   "outputs": [
    {
     "data": {
      "text/plain": [
       "(24, 12)"
      ]
     },
     "execution_count": 3,
     "metadata": {},
     "output_type": "execute_result"
    }
   ],
   "source": [
    "weather_yxe.shape"
   ]
  },
  {
   "cell_type": "markdown",
   "metadata": {},
   "source": [
    "- The DataFrame has 24 rows and 12 columns"
   ]
  },
  {
   "cell_type": "markdown",
   "metadata": {},
   "source": [
    "1.c) What are the names and data types of the columns?"
   ]
  },
  {
   "cell_type": "code",
   "execution_count": 4,
   "metadata": {},
   "outputs": [
    {
     "data": {
      "text/plain": [
       "Datetime                  object\n",
       "Hour of Day                int64\n",
       "Conditions                object\n",
       "Temperature (C)          float64\n",
       "Relative Humidity (%)    float64\n",
       "Dew Point (C)            float64\n",
       "Humidex (C)              float64\n",
       "Pressure (kPa)           float64\n",
       "Visibility (km)          float64\n",
       "Wind Direction            object\n",
       "Wind Speed (km/hr)       float64\n",
       "Wind Chill (C)           float64\n",
       "dtype: object"
      ]
     },
     "execution_count": 4,
     "metadata": {},
     "output_type": "execute_result"
    }
   ],
   "source": [
    "weather_yxe.dtypes"
   ]
  },
  {
   "cell_type": "markdown",
   "metadata": {},
   "source": [
    "- `Datetime`, `Condition`, and `Wind Direction` are type `object` (string)\n",
    "- `Hour of Day` is integer\n",
    "- The remaining columns are floats"
   ]
  },
  {
   "cell_type": "markdown",
   "metadata": {},
   "source": [
    "1.d) What are the minimum and maximum relative humidity in this data?\n",
    "\n",
    "- We can either use `max` and `min`, or use `describe` to display both min and max (among other statistics). With either approach, we can look up the relevant numbers from the output that is displayed. Here's the `min` and `max` version:"
   ]
  },
  {
   "cell_type": "code",
   "execution_count": 5,
   "metadata": {},
   "outputs": [
    {
     "data": {
      "text/plain": [
       "Datetime                 2018-05-21 23:00:00\n",
       "Hour of Day                                0\n",
       "Conditions                      Mainly Clear\n",
       "Temperature (C)                         12.1\n",
       "Relative Humidity (%)                     23\n",
       "Dew Point (C)                              4\n",
       "Humidex (C)                               24\n",
       "Pressure (kPa)                         100.9\n",
       "Visibility (km)                           19\n",
       "Wind Speed (km/hr)                         0\n",
       "Wind Chill (C)                           NaN\n",
       "dtype: object"
      ]
     },
     "execution_count": 5,
     "metadata": {},
     "output_type": "execute_result"
    }
   ],
   "source": [
    "weather_yxe.min()"
   ]
  },
  {
   "cell_type": "code",
   "execution_count": 6,
   "metadata": {},
   "outputs": [
    {
     "data": {
      "text/plain": [
       "Datetime                                 2018-05-22 22:00:00\n",
       "Hour of Day                                               23\n",
       "Conditions               Thunderstorm with light rainshowers\n",
       "Temperature (C)                                         26.6\n",
       "Relative Humidity (%)                                     79\n",
       "Dew Point (C)                                             11\n",
       "Humidex (C)                                               24\n",
       "Pressure (kPa)                                         101.5\n",
       "Visibility (km)                                           24\n",
       "Wind Speed (km/hr)                                        20\n",
       "Wind Chill (C)                                           NaN\n",
       "dtype: object"
      ]
     },
     "execution_count": 6,
     "metadata": {},
     "output_type": "execute_result"
    }
   ],
   "source": [
    "weather_yxe.max()"
   ]
  },
  {
   "cell_type": "markdown",
   "metadata": {},
   "source": [
    "- The minimum relative humidity is 23% and the maximum is 79%."
   ]
  },
  {
   "cell_type": "markdown",
   "metadata": {},
   "source": [
    "#### Bonus exercises\n",
    "\n",
    "1.e) What is the mean wind speed during the first 8 hours (first 8 rows) of data?\n",
    "\n",
    "- We can assign the output of `weather_yxe.head(8)` to a new variable `first_eight`, and then apply the `mean` method to `first_eight`:"
   ]
  },
  {
   "cell_type": "code",
   "execution_count": 7,
   "metadata": {},
   "outputs": [
    {
     "data": {
      "text/plain": [
       "Hour of Day                5.500\n",
       "Temperature (C)           13.850\n",
       "Relative Humidity (%)     64.750\n",
       "Dew Point (C)              7.250\n",
       "Humidex (C)                  NaN\n",
       "Pressure (kPa)           101.050\n",
       "Visibility (km)           23.375\n",
       "Wind Speed (km/hr)        14.625\n",
       "Wind Chill (C)               NaN\n",
       "dtype: float64"
      ]
     },
     "execution_count": 7,
     "metadata": {},
     "output_type": "execute_result"
    }
   ],
   "source": [
    "first_eight = weather_yxe.head(8)\n",
    "first_eight.mean()"
   ]
  },
  {
   "cell_type": "markdown",
   "metadata": {},
   "source": [
    "- The mean wind speed in the first 8 hours is 14.625 km/hr."
   ]
  },
  {
   "cell_type": "markdown",
   "metadata": {},
   "source": [
    "1.f) What are the minimum and maximum relative humidity during the last 10 hours of data?\n",
    "\n",
    "- We can use the `min` and `max` methods, or use `describe` to display both at once. We could create a new variable `last_ten = weather_yxe.tail(10)`, as in the previous example, or we can skip that step and \"chain\" the methods together:"
   ]
  },
  {
   "cell_type": "code",
   "execution_count": 8,
   "metadata": {},
   "outputs": [
    {
     "data": {
      "text/html": [
       "<div>\n",
       "<style scoped>\n",
       "    .dataframe tbody tr th:only-of-type {\n",
       "        vertical-align: middle;\n",
       "    }\n",
       "\n",
       "    .dataframe tbody tr th {\n",
       "        vertical-align: top;\n",
       "    }\n",
       "\n",
       "    .dataframe thead th {\n",
       "        text-align: right;\n",
       "    }\n",
       "</style>\n",
       "<table border=\"1\" class=\"dataframe\">\n",
       "  <thead>\n",
       "    <tr style=\"text-align: right;\">\n",
       "      <th></th>\n",
       "      <th>Hour of Day</th>\n",
       "      <th>Temperature (C)</th>\n",
       "      <th>Relative Humidity (%)</th>\n",
       "      <th>Dew Point (C)</th>\n",
       "      <th>Humidex (C)</th>\n",
       "      <th>Pressure (kPa)</th>\n",
       "      <th>Visibility (km)</th>\n",
       "      <th>Wind Speed (km/hr)</th>\n",
       "      <th>Wind Chill (C)</th>\n",
       "    </tr>\n",
       "  </thead>\n",
       "  <tbody>\n",
       "    <tr>\n",
       "      <th>count</th>\n",
       "      <td>10.00000</td>\n",
       "      <td>10.000000</td>\n",
       "      <td>10.000000</td>\n",
       "      <td>10.000000</td>\n",
       "      <td>1.0</td>\n",
       "      <td>10.000000</td>\n",
       "      <td>10.0</td>\n",
       "      <td>10.000000</td>\n",
       "      <td>0.0</td>\n",
       "    </tr>\n",
       "    <tr>\n",
       "      <th>mean</th>\n",
       "      <td>17.50000</td>\n",
       "      <td>24.040000</td>\n",
       "      <td>31.700000</td>\n",
       "      <td>6.000000</td>\n",
       "      <td>24.0</td>\n",
       "      <td>101.410000</td>\n",
       "      <td>24.0</td>\n",
       "      <td>9.700000</td>\n",
       "      <td>NaN</td>\n",
       "    </tr>\n",
       "    <tr>\n",
       "      <th>std</th>\n",
       "      <td>3.02765</td>\n",
       "      <td>3.320375</td>\n",
       "      <td>8.654479</td>\n",
       "      <td>1.154701</td>\n",
       "      <td>NaN</td>\n",
       "      <td>0.056765</td>\n",
       "      <td>0.0</td>\n",
       "      <td>4.498148</td>\n",
       "      <td>NaN</td>\n",
       "    </tr>\n",
       "    <tr>\n",
       "      <th>min</th>\n",
       "      <td>13.00000</td>\n",
       "      <td>16.500000</td>\n",
       "      <td>23.000000</td>\n",
       "      <td>4.000000</td>\n",
       "      <td>24.0</td>\n",
       "      <td>101.300000</td>\n",
       "      <td>24.0</td>\n",
       "      <td>0.000000</td>\n",
       "      <td>NaN</td>\n",
       "    </tr>\n",
       "    <tr>\n",
       "      <th>25%</th>\n",
       "      <td>15.25000</td>\n",
       "      <td>23.650000</td>\n",
       "      <td>25.500000</td>\n",
       "      <td>5.250000</td>\n",
       "      <td>24.0</td>\n",
       "      <td>101.400000</td>\n",
       "      <td>24.0</td>\n",
       "      <td>7.250000</td>\n",
       "      <td>NaN</td>\n",
       "    </tr>\n",
       "    <tr>\n",
       "      <th>50%</th>\n",
       "      <td>17.50000</td>\n",
       "      <td>25.250000</td>\n",
       "      <td>29.000000</td>\n",
       "      <td>6.000000</td>\n",
       "      <td>24.0</td>\n",
       "      <td>101.400000</td>\n",
       "      <td>24.0</td>\n",
       "      <td>11.000000</td>\n",
       "      <td>NaN</td>\n",
       "    </tr>\n",
       "    <tr>\n",
       "      <th>75%</th>\n",
       "      <td>19.75000</td>\n",
       "      <td>26.250000</td>\n",
       "      <td>34.250000</td>\n",
       "      <td>6.750000</td>\n",
       "      <td>24.0</td>\n",
       "      <td>101.400000</td>\n",
       "      <td>24.0</td>\n",
       "      <td>13.000000</td>\n",
       "      <td>NaN</td>\n",
       "    </tr>\n",
       "    <tr>\n",
       "      <th>max</th>\n",
       "      <td>22.00000</td>\n",
       "      <td>26.600000</td>\n",
       "      <td>51.000000</td>\n",
       "      <td>8.000000</td>\n",
       "      <td>24.0</td>\n",
       "      <td>101.500000</td>\n",
       "      <td>24.0</td>\n",
       "      <td>14.000000</td>\n",
       "      <td>NaN</td>\n",
       "    </tr>\n",
       "  </tbody>\n",
       "</table>\n",
       "</div>"
      ],
      "text/plain": [
       "       Hour of Day  Temperature (C)  Relative Humidity (%)  Dew Point (C)  \\\n",
       "count     10.00000        10.000000              10.000000      10.000000   \n",
       "mean      17.50000        24.040000              31.700000       6.000000   \n",
       "std        3.02765         3.320375               8.654479       1.154701   \n",
       "min       13.00000        16.500000              23.000000       4.000000   \n",
       "25%       15.25000        23.650000              25.500000       5.250000   \n",
       "50%       17.50000        25.250000              29.000000       6.000000   \n",
       "75%       19.75000        26.250000              34.250000       6.750000   \n",
       "max       22.00000        26.600000              51.000000       8.000000   \n",
       "\n",
       "       Humidex (C)  Pressure (kPa)  Visibility (km)  Wind Speed (km/hr)  \\\n",
       "count          1.0       10.000000             10.0           10.000000   \n",
       "mean          24.0      101.410000             24.0            9.700000   \n",
       "std            NaN        0.056765              0.0            4.498148   \n",
       "min           24.0      101.300000             24.0            0.000000   \n",
       "25%           24.0      101.400000             24.0            7.250000   \n",
       "50%           24.0      101.400000             24.0           11.000000   \n",
       "75%           24.0      101.400000             24.0           13.000000   \n",
       "max           24.0      101.500000             24.0           14.000000   \n",
       "\n",
       "       Wind Chill (C)  \n",
       "count             0.0  \n",
       "mean              NaN  \n",
       "std               NaN  \n",
       "min               NaN  \n",
       "25%               NaN  \n",
       "50%               NaN  \n",
       "75%               NaN  \n",
       "max               NaN  "
      ]
     },
     "execution_count": 8,
     "metadata": {},
     "output_type": "execute_result"
    }
   ],
   "source": [
    "weather_yxe.tail(10).describe()"
   ]
  },
  {
   "cell_type": "markdown",
   "metadata": {},
   "source": [
    "- The minimum and maximum relative humidity during the last 10 hours are 23% and 51%, respectively."
   ]
  },
  {
   "cell_type": "markdown",
   "metadata": {},
   "source": [
    "1.g) Display summary statistics for all columns for a random sampling of 12 hours of data.\n",
    "\n",
    "- Since the `sample` method gives a different random sampling each time, the numbers will be different in your output compared to the example solution below."
   ]
  },
  {
   "cell_type": "code",
   "execution_count": 9,
   "metadata": {},
   "outputs": [
    {
     "data": {
      "text/html": [
       "<div>\n",
       "<style scoped>\n",
       "    .dataframe tbody tr th:only-of-type {\n",
       "        vertical-align: middle;\n",
       "    }\n",
       "\n",
       "    .dataframe tbody tr th {\n",
       "        vertical-align: top;\n",
       "    }\n",
       "\n",
       "    .dataframe thead th {\n",
       "        text-align: right;\n",
       "    }\n",
       "</style>\n",
       "<table border=\"1\" class=\"dataframe\">\n",
       "  <thead>\n",
       "    <tr style=\"text-align: right;\">\n",
       "      <th></th>\n",
       "      <th>Hour of Day</th>\n",
       "      <th>Temperature (C)</th>\n",
       "      <th>Relative Humidity (%)</th>\n",
       "      <th>Dew Point (C)</th>\n",
       "      <th>Humidex (C)</th>\n",
       "      <th>Pressure (kPa)</th>\n",
       "      <th>Visibility (km)</th>\n",
       "      <th>Wind Speed (km/hr)</th>\n",
       "      <th>Wind Chill (C)</th>\n",
       "    </tr>\n",
       "  </thead>\n",
       "  <tbody>\n",
       "    <tr>\n",
       "      <th>count</th>\n",
       "      <td>12.000000</td>\n",
       "      <td>12.000000</td>\n",
       "      <td>12.000000</td>\n",
       "      <td>12.000000</td>\n",
       "      <td>1.0</td>\n",
       "      <td>12.000000</td>\n",
       "      <td>12.000000</td>\n",
       "      <td>12.000000</td>\n",
       "      <td>0.0</td>\n",
       "    </tr>\n",
       "    <tr>\n",
       "      <th>mean</th>\n",
       "      <td>12.333333</td>\n",
       "      <td>20.083333</td>\n",
       "      <td>46.833333</td>\n",
       "      <td>7.000000</td>\n",
       "      <td>24.0</td>\n",
       "      <td>101.291667</td>\n",
       "      <td>23.583333</td>\n",
       "      <td>11.583333</td>\n",
       "      <td>NaN</td>\n",
       "    </tr>\n",
       "    <tr>\n",
       "      <th>std</th>\n",
       "      <td>7.364946</td>\n",
       "      <td>6.215206</td>\n",
       "      <td>22.073568</td>\n",
       "      <td>2.044949</td>\n",
       "      <td>NaN</td>\n",
       "      <td>0.150504</td>\n",
       "      <td>1.443376</td>\n",
       "      <td>5.230302</td>\n",
       "      <td>NaN</td>\n",
       "    </tr>\n",
       "    <tr>\n",
       "      <th>min</th>\n",
       "      <td>1.000000</td>\n",
       "      <td>12.200000</td>\n",
       "      <td>23.000000</td>\n",
       "      <td>4.000000</td>\n",
       "      <td>24.0</td>\n",
       "      <td>101.000000</td>\n",
       "      <td>19.000000</td>\n",
       "      <td>0.000000</td>\n",
       "      <td>NaN</td>\n",
       "    </tr>\n",
       "    <tr>\n",
       "      <th>25%</th>\n",
       "      <td>5.500000</td>\n",
       "      <td>13.925000</td>\n",
       "      <td>26.500000</td>\n",
       "      <td>5.750000</td>\n",
       "      <td>24.0</td>\n",
       "      <td>101.175000</td>\n",
       "      <td>24.000000</td>\n",
       "      <td>9.500000</td>\n",
       "      <td>NaN</td>\n",
       "    </tr>\n",
       "    <tr>\n",
       "      <th>50%</th>\n",
       "      <td>15.500000</td>\n",
       "      <td>21.700000</td>\n",
       "      <td>38.000000</td>\n",
       "      <td>7.000000</td>\n",
       "      <td>24.0</td>\n",
       "      <td>101.400000</td>\n",
       "      <td>24.000000</td>\n",
       "      <td>12.500000</td>\n",
       "      <td>NaN</td>\n",
       "    </tr>\n",
       "    <tr>\n",
       "      <th>75%</th>\n",
       "      <td>18.250000</td>\n",
       "      <td>26.150000</td>\n",
       "      <td>69.250000</td>\n",
       "      <td>8.000000</td>\n",
       "      <td>24.0</td>\n",
       "      <td>101.400000</td>\n",
       "      <td>24.000000</td>\n",
       "      <td>14.500000</td>\n",
       "      <td>NaN</td>\n",
       "    </tr>\n",
       "    <tr>\n",
       "      <th>max</th>\n",
       "      <td>21.000000</td>\n",
       "      <td>26.600000</td>\n",
       "      <td>78.000000</td>\n",
       "      <td>11.000000</td>\n",
       "      <td>24.0</td>\n",
       "      <td>101.400000</td>\n",
       "      <td>24.000000</td>\n",
       "      <td>20.000000</td>\n",
       "      <td>NaN</td>\n",
       "    </tr>\n",
       "  </tbody>\n",
       "</table>\n",
       "</div>"
      ],
      "text/plain": [
       "       Hour of Day  Temperature (C)  Relative Humidity (%)  Dew Point (C)  \\\n",
       "count    12.000000        12.000000              12.000000      12.000000   \n",
       "mean     12.333333        20.083333              46.833333       7.000000   \n",
       "std       7.364946         6.215206              22.073568       2.044949   \n",
       "min       1.000000        12.200000              23.000000       4.000000   \n",
       "25%       5.500000        13.925000              26.500000       5.750000   \n",
       "50%      15.500000        21.700000              38.000000       7.000000   \n",
       "75%      18.250000        26.150000              69.250000       8.000000   \n",
       "max      21.000000        26.600000              78.000000      11.000000   \n",
       "\n",
       "       Humidex (C)  Pressure (kPa)  Visibility (km)  Wind Speed (km/hr)  \\\n",
       "count          1.0       12.000000        12.000000           12.000000   \n",
       "mean          24.0      101.291667        23.583333           11.583333   \n",
       "std            NaN        0.150504         1.443376            5.230302   \n",
       "min           24.0      101.000000        19.000000            0.000000   \n",
       "25%           24.0      101.175000        24.000000            9.500000   \n",
       "50%           24.0      101.400000        24.000000           12.500000   \n",
       "75%           24.0      101.400000        24.000000           14.500000   \n",
       "max           24.0      101.400000        24.000000           20.000000   \n",
       "\n",
       "       Wind Chill (C)  \n",
       "count             0.0  \n",
       "mean              NaN  \n",
       "std               NaN  \n",
       "min               NaN  \n",
       "25%               NaN  \n",
       "50%               NaN  \n",
       "75%               NaN  \n",
       "max               NaN  "
      ]
     },
     "execution_count": 9,
     "metadata": {},
     "output_type": "execute_result"
    }
   ],
   "source": [
    "weather_yxe.sample(12).describe()"
   ]
  },
  {
   "cell_type": "markdown",
   "metadata": {},
   "source": [
    "---\n",
    "\n",
    "## Exercise 2\n",
    "\n",
    "##### Initial setup\n",
    "\n",
    "The code below initializes the variable `weather_yvr` in this notebook to match what you would have in your `Workshop.ipynb` notebook at this point during the lesson (with an extra column for fractional relative humidity):"
   ]
  },
  {
   "cell_type": "code",
   "execution_count": 10,
   "metadata": {},
   "outputs": [],
   "source": [
    "weather_yvr = pd.read_csv('data/weather_yvr.csv')\n",
    "weather_yvr['Relative Humidity (fraction)'] = weather_yvr['Relative Humidity (%)'] / 100"
   ]
  },
  {
   "cell_type": "markdown",
   "metadata": {},
   "source": [
    "2.a) Add a column to your `weather_yvr` DataFrame which has the temperature in degrees Fahrenheit (to convert from Celsius to Fahrenheit, multiply the temperature in degrees C by 1.8 and add 32)"
   ]
  },
  {
   "cell_type": "code",
   "execution_count": 11,
   "metadata": {},
   "outputs": [
    {
     "data": {
      "text/html": [
       "<div>\n",
       "<style scoped>\n",
       "    .dataframe tbody tr th:only-of-type {\n",
       "        vertical-align: middle;\n",
       "    }\n",
       "\n",
       "    .dataframe tbody tr th {\n",
       "        vertical-align: top;\n",
       "    }\n",
       "\n",
       "    .dataframe thead th {\n",
       "        text-align: right;\n",
       "    }\n",
       "</style>\n",
       "<table border=\"1\" class=\"dataframe\">\n",
       "  <thead>\n",
       "    <tr style=\"text-align: right;\">\n",
       "      <th></th>\n",
       "      <th>Datetime</th>\n",
       "      <th>Hour of Day</th>\n",
       "      <th>Conditions</th>\n",
       "      <th>Temperature (C)</th>\n",
       "      <th>Relative Humidity (%)</th>\n",
       "      <th>Relative Humidity (fraction)</th>\n",
       "      <th>Temperature (F)</th>\n",
       "    </tr>\n",
       "  </thead>\n",
       "  <tbody>\n",
       "    <tr>\n",
       "      <th>0</th>\n",
       "      <td>2018-05-21 22:00:00</td>\n",
       "      <td>22</td>\n",
       "      <td>Mainly Clear</td>\n",
       "      <td>14.8</td>\n",
       "      <td>75.0</td>\n",
       "      <td>0.75</td>\n",
       "      <td>58.64</td>\n",
       "    </tr>\n",
       "    <tr>\n",
       "      <th>1</th>\n",
       "      <td>2018-05-21 23:00:00</td>\n",
       "      <td>23</td>\n",
       "      <td>Clear</td>\n",
       "      <td>13.5</td>\n",
       "      <td>76.0</td>\n",
       "      <td>0.76</td>\n",
       "      <td>56.30</td>\n",
       "    </tr>\n",
       "    <tr>\n",
       "      <th>2</th>\n",
       "      <td>2018-05-22 00:00:00</td>\n",
       "      <td>0</td>\n",
       "      <td>Clear</td>\n",
       "      <td>13.1</td>\n",
       "      <td>77.0</td>\n",
       "      <td>0.77</td>\n",
       "      <td>55.58</td>\n",
       "    </tr>\n",
       "    <tr>\n",
       "      <th>3</th>\n",
       "      <td>2018-05-22 01:00:00</td>\n",
       "      <td>1</td>\n",
       "      <td>Clear</td>\n",
       "      <td>12.9</td>\n",
       "      <td>84.0</td>\n",
       "      <td>0.84</td>\n",
       "      <td>55.22</td>\n",
       "    </tr>\n",
       "    <tr>\n",
       "      <th>4</th>\n",
       "      <td>2018-05-22 02:00:00</td>\n",
       "      <td>2</td>\n",
       "      <td>Clear</td>\n",
       "      <td>12.2</td>\n",
       "      <td>88.0</td>\n",
       "      <td>0.88</td>\n",
       "      <td>53.96</td>\n",
       "    </tr>\n",
       "  </tbody>\n",
       "</table>\n",
       "</div>"
      ],
      "text/plain": [
       "              Datetime  Hour of Day    Conditions  Temperature (C)  \\\n",
       "0  2018-05-21 22:00:00           22  Mainly Clear             14.8   \n",
       "1  2018-05-21 23:00:00           23         Clear             13.5   \n",
       "2  2018-05-22 00:00:00            0         Clear             13.1   \n",
       "3  2018-05-22 01:00:00            1         Clear             12.9   \n",
       "4  2018-05-22 02:00:00            2         Clear             12.2   \n",
       "\n",
       "   Relative Humidity (%)  Relative Humidity (fraction)  Temperature (F)  \n",
       "0                   75.0                          0.75            58.64  \n",
       "1                   76.0                          0.76            56.30  \n",
       "2                   77.0                          0.77            55.58  \n",
       "3                   84.0                          0.84            55.22  \n",
       "4                   88.0                          0.88            53.96  "
      ]
     },
     "execution_count": 11,
     "metadata": {},
     "output_type": "execute_result"
    }
   ],
   "source": [
    "weather_yvr['Temperature (F)'] = 1.8 * weather_yvr['Temperature (C)'] + 32\n",
    "weather_yvr.head()"
   ]
  },
  {
   "cell_type": "markdown",
   "metadata": {},
   "source": [
    "2.b) Save the DataFrame with this extra column to a new CSV file"
   ]
  },
  {
   "cell_type": "code",
   "execution_count": 12,
   "metadata": {},
   "outputs": [],
   "source": [
    "weather_yvr.to_csv('data/weather_yvr_extra2.csv', index=False)"
   ]
  },
  {
   "cell_type": "markdown",
   "metadata": {},
   "source": [
    "2.c) Create a line plot of the temperature in degrees Fahrenheit"
   ]
  },
  {
   "cell_type": "code",
   "execution_count": 13,
   "metadata": {},
   "outputs": [
    {
     "data": {
      "image/png": "[encoded data removed]",
      "text/plain": [
       "<matplotlib.figure.Figure at 0x20728987b00>"
      ]
     },
     "metadata": {},
     "output_type": "display_data"
    }
   ],
   "source": [
    "weather_yvr['Temperature (F)'].plot();"
   ]
  },
  {
   "cell_type": "markdown",
   "metadata": {},
   "source": [
    "#### Bonus exercises\n",
    "\n",
    "2.d) Work through the examples in the extra section \"Timeseries Data\" of Lesson 2"
   ]
  },
  {
   "cell_type": "markdown",
   "metadata": {},
   "source": [
    "2.e) Create a plot of the YVR temperature in Fahrenheit with the date and time as the x-axis, and figure size of 8\" wide by 5\" tall\n",
    "\n",
    "- There are a couple of ways of approaching this problem. One option is to use our existing `weather_yvr` variable, which already has a Fahrenheit temperature column, convert the `'Datetime'` column to `datetime` data type, and set the `'Datetime'` column as the index:"
   ]
  },
  {
   "cell_type": "code",
   "execution_count": 14,
   "metadata": {},
   "outputs": [
    {
     "data": {
      "text/html": [
       "<div>\n",
       "<style scoped>\n",
       "    .dataframe tbody tr th:only-of-type {\n",
       "        vertical-align: middle;\n",
       "    }\n",
       "\n",
       "    .dataframe tbody tr th {\n",
       "        vertical-align: top;\n",
       "    }\n",
       "\n",
       "    .dataframe thead th {\n",
       "        text-align: right;\n",
       "    }\n",
       "</style>\n",
       "<table border=\"1\" class=\"dataframe\">\n",
       "  <thead>\n",
       "    <tr style=\"text-align: right;\">\n",
       "      <th></th>\n",
       "      <th>Hour of Day</th>\n",
       "      <th>Conditions</th>\n",
       "      <th>Temperature (C)</th>\n",
       "      <th>Relative Humidity (%)</th>\n",
       "      <th>Relative Humidity (fraction)</th>\n",
       "      <th>Temperature (F)</th>\n",
       "    </tr>\n",
       "    <tr>\n",
       "      <th>Datetime</th>\n",
       "      <th></th>\n",
       "      <th></th>\n",
       "      <th></th>\n",
       "      <th></th>\n",
       "      <th></th>\n",
       "      <th></th>\n",
       "    </tr>\n",
       "  </thead>\n",
       "  <tbody>\n",
       "    <tr>\n",
       "      <th>2018-05-21 22:00:00</th>\n",
       "      <td>22</td>\n",
       "      <td>Mainly Clear</td>\n",
       "      <td>14.8</td>\n",
       "      <td>75.0</td>\n",
       "      <td>0.75</td>\n",
       "      <td>58.64</td>\n",
       "    </tr>\n",
       "    <tr>\n",
       "      <th>2018-05-21 23:00:00</th>\n",
       "      <td>23</td>\n",
       "      <td>Clear</td>\n",
       "      <td>13.5</td>\n",
       "      <td>76.0</td>\n",
       "      <td>0.76</td>\n",
       "      <td>56.30</td>\n",
       "    </tr>\n",
       "    <tr>\n",
       "      <th>2018-05-22 00:00:00</th>\n",
       "      <td>0</td>\n",
       "      <td>Clear</td>\n",
       "      <td>13.1</td>\n",
       "      <td>77.0</td>\n",
       "      <td>0.77</td>\n",
       "      <td>55.58</td>\n",
       "    </tr>\n",
       "    <tr>\n",
       "      <th>2018-05-22 01:00:00</th>\n",
       "      <td>1</td>\n",
       "      <td>Clear</td>\n",
       "      <td>12.9</td>\n",
       "      <td>84.0</td>\n",
       "      <td>0.84</td>\n",
       "      <td>55.22</td>\n",
       "    </tr>\n",
       "    <tr>\n",
       "      <th>2018-05-22 02:00:00</th>\n",
       "      <td>2</td>\n",
       "      <td>Clear</td>\n",
       "      <td>12.2</td>\n",
       "      <td>88.0</td>\n",
       "      <td>0.88</td>\n",
       "      <td>53.96</td>\n",
       "    </tr>\n",
       "  </tbody>\n",
       "</table>\n",
       "</div>"
      ],
      "text/plain": [
       "                     Hour of Day    Conditions  Temperature (C)  \\\n",
       "Datetime                                                          \n",
       "2018-05-21 22:00:00           22  Mainly Clear             14.8   \n",
       "2018-05-21 23:00:00           23         Clear             13.5   \n",
       "2018-05-22 00:00:00            0         Clear             13.1   \n",
       "2018-05-22 01:00:00            1         Clear             12.9   \n",
       "2018-05-22 02:00:00            2         Clear             12.2   \n",
       "\n",
       "                     Relative Humidity (%)  Relative Humidity (fraction)  \\\n",
       "Datetime                                                                   \n",
       "2018-05-21 22:00:00                   75.0                          0.75   \n",
       "2018-05-21 23:00:00                   76.0                          0.76   \n",
       "2018-05-22 00:00:00                   77.0                          0.77   \n",
       "2018-05-22 01:00:00                   84.0                          0.84   \n",
       "2018-05-22 02:00:00                   88.0                          0.88   \n",
       "\n",
       "                     Temperature (F)  \n",
       "Datetime                              \n",
       "2018-05-21 22:00:00            58.64  \n",
       "2018-05-21 23:00:00            56.30  \n",
       "2018-05-22 00:00:00            55.58  \n",
       "2018-05-22 01:00:00            55.22  \n",
       "2018-05-22 02:00:00            53.96  "
      ]
     },
     "execution_count": 14,
     "metadata": {},
     "output_type": "execute_result"
    }
   ],
   "source": [
    "# First create a new DataFrame which is a copy of weather_yvr\n",
    "#  Alternatively, you could modify the weather_yvr DataFrame directly, but then if you re-ran\n",
    "#  any of the previous cells in this notebook you would get very different output, so it would \n",
    "#  be confusing.\n",
    "weather_yvr_dt = weather_yvr.copy()\n",
    "\n",
    "# Convert the 'Datetime' column to datetime format\n",
    "weather_yvr_dt['Datetime'] = pd.to_datetime(weather_yvr_dt['Datetime'])\n",
    "\n",
    "# Set the 'Datetime' column as the index\n",
    "weather_yvr_dt = weather_yvr_dt.set_index('Datetime')\n",
    "weather_yvr_dt.head()"
   ]
  },
  {
   "cell_type": "markdown",
   "metadata": {},
   "source": [
    "- Alternatively, you could re-read the CSV file using the `index_col` and `parse_dates` keyword arguments, and then add the Fahrenheit temperature column:\n",
    "\n",
    "```\n",
    "weather_yvr_dt = pd.read_csv('data/weather_yvr.csv', index_col=0, parse_dates=True)\n",
    "weather_yvr_dt['Temperature (F)'] = 1.8 * weather_yvr_dt['Temperature (C)'] + 32\n",
    "weather_yvr_dt.head()\n",
    "```\n",
    "\n",
    "- Plot the timeseries:"
   ]
  },
  {
   "cell_type": "code",
   "execution_count": 15,
   "metadata": {},
   "outputs": [
    {
     "data": {
      "image/png": "[encoded data removed]",
      "text/plain": [
       "<matplotlib.figure.Figure at 0x207289ed4a8>"
      ]
     },
     "metadata": {},
     "output_type": "display_data"
    }
   ],
   "source": [
    "weather_yvr_dt['Temperature (F)'].plot(figsize=(8, 5));"
   ]
  },
  {
   "cell_type": "markdown",
   "metadata": {},
   "source": [
    "---\n",
    "\n",
    "## Exercise 3\n",
    "\n",
    "3.a) Familiarize yourself with the file `'data/weather_airport_stations.csv'` in the Jupyter Lab CSV viewer, and then read it into a new variable `weather_all`\n",
    "- Display a random sampling of 10 rows\n",
    "- How many rows and columns does the data have?\n",
    "- What are the lowest and highest temperatures in the data?"
   ]
  },
  {
   "cell_type": "code",
   "execution_count": 16,
   "metadata": {},
   "outputs": [
    {
     "data": {
      "text/html": [
       "<div>\n",
       "<style scoped>\n",
       "    .dataframe tbody tr th:only-of-type {\n",
       "        vertical-align: middle;\n",
       "    }\n",
       "\n",
       "    .dataframe tbody tr th {\n",
       "        vertical-align: top;\n",
       "    }\n",
       "\n",
       "    .dataframe thead th {\n",
       "        text-align: right;\n",
       "    }\n",
       "</style>\n",
       "<table border=\"1\" class=\"dataframe\">\n",
       "  <thead>\n",
       "    <tr style=\"text-align: right;\">\n",
       "      <th></th>\n",
       "      <th>Datetime</th>\n",
       "      <th>Timezone</th>\n",
       "      <th>Hour of Day</th>\n",
       "      <th>Station ID</th>\n",
       "      <th>Station Name</th>\n",
       "      <th>Latitude</th>\n",
       "      <th>Longitude</th>\n",
       "      <th>Conditions</th>\n",
       "      <th>Temperature (C)</th>\n",
       "      <th>Relative Humidity (%)</th>\n",
       "      <th>Dew Point (C)</th>\n",
       "      <th>Humidex (C)</th>\n",
       "      <th>Pressure (kPa)</th>\n",
       "      <th>Visibility (km)</th>\n",
       "      <th>Wind Direction</th>\n",
       "      <th>Wind Speed (km/hr)</th>\n",
       "      <th>Wind Chill (C)</th>\n",
       "    </tr>\n",
       "  </thead>\n",
       "  <tbody>\n",
       "    <tr>\n",
       "      <th>209</th>\n",
       "      <td>2018-05-22 16:00</td>\n",
       "      <td>Canada/Central</td>\n",
       "      <td>16</td>\n",
       "      <td>YXE</td>\n",
       "      <td>Saskatoon Diefenbaker Int'l Airport</td>\n",
       "      <td>52.17</td>\n",
       "      <td>-106.70</td>\n",
       "      <td>Partly Cloudy</td>\n",
       "      <td>26.1</td>\n",
       "      <td>27.0</td>\n",
       "      <td>6.0</td>\n",
       "      <td>NaN</td>\n",
       "      <td>101.4</td>\n",
       "      <td>24.0</td>\n",
       "      <td>N</td>\n",
       "      <td>6.0</td>\n",
       "      <td>NaN</td>\n",
       "    </tr>\n",
       "    <tr>\n",
       "      <th>144</th>\n",
       "      <td>2018-05-21 23:00</td>\n",
       "      <td>Canada/Mountain</td>\n",
       "      <td>23</td>\n",
       "      <td>YEG</td>\n",
       "      <td>Edmonton Int'l Airport</td>\n",
       "      <td>53.31</td>\n",
       "      <td>-113.58</td>\n",
       "      <td>Partly Cloudy</td>\n",
       "      <td>16.0</td>\n",
       "      <td>50.0</td>\n",
       "      <td>6.0</td>\n",
       "      <td>NaN</td>\n",
       "      <td>101.2</td>\n",
       "      <td>24.0</td>\n",
       "      <td>NNE</td>\n",
       "      <td>6.0</td>\n",
       "      <td>NaN</td>\n",
       "    </tr>\n",
       "    <tr>\n",
       "      <th>107</th>\n",
       "      <td>2018-05-22 10:00</td>\n",
       "      <td>Canada/Mountain</td>\n",
       "      <td>10</td>\n",
       "      <td>YZF</td>\n",
       "      <td>Yellowknife Airport</td>\n",
       "      <td>62.46</td>\n",
       "      <td>-114.44</td>\n",
       "      <td>Mostly Cloudy</td>\n",
       "      <td>12.5</td>\n",
       "      <td>58.0</td>\n",
       "      <td>5.0</td>\n",
       "      <td>NaN</td>\n",
       "      <td>100.5</td>\n",
       "      <td>24.0</td>\n",
       "      <td>S</td>\n",
       "      <td>9.0</td>\n",
       "      <td>NaN</td>\n",
       "    </tr>\n",
       "    <tr>\n",
       "      <th>230</th>\n",
       "      <td>2018-05-22 13:00</td>\n",
       "      <td>Canada/Central</td>\n",
       "      <td>13</td>\n",
       "      <td>YQR</td>\n",
       "      <td>Regina Int'l Airport</td>\n",
       "      <td>50.43</td>\n",
       "      <td>-104.67</td>\n",
       "      <td>Mostly Cloudy</td>\n",
       "      <td>27.3</td>\n",
       "      <td>26.0</td>\n",
       "      <td>6.0</td>\n",
       "      <td>NaN</td>\n",
       "      <td>101.2</td>\n",
       "      <td>24.0</td>\n",
       "      <td>NW</td>\n",
       "      <td>5.0</td>\n",
       "      <td>NaN</td>\n",
       "    </tr>\n",
       "    <tr>\n",
       "      <th>458</th>\n",
       "      <td>2018-05-22 4:30</td>\n",
       "      <td>Canada/Newfoundland</td>\n",
       "      <td>4</td>\n",
       "      <td>YYT</td>\n",
       "      <td>St. John's Int'l Airport</td>\n",
       "      <td>47.62</td>\n",
       "      <td>-52.75</td>\n",
       "      <td>Mainly Clear</td>\n",
       "      <td>3.6</td>\n",
       "      <td>92.0</td>\n",
       "      <td>3.0</td>\n",
       "      <td>NaN</td>\n",
       "      <td>100.7</td>\n",
       "      <td>24.0</td>\n",
       "      <td>W</td>\n",
       "      <td>26.0</td>\n",
       "      <td>NaN</td>\n",
       "    </tr>\n",
       "    <tr>\n",
       "      <th>114</th>\n",
       "      <td>2018-05-22 17:00</td>\n",
       "      <td>Canada/Mountain</td>\n",
       "      <td>17</td>\n",
       "      <td>YZF</td>\n",
       "      <td>Yellowknife Airport</td>\n",
       "      <td>62.46</td>\n",
       "      <td>-114.44</td>\n",
       "      <td>Mostly Cloudy</td>\n",
       "      <td>23.1</td>\n",
       "      <td>30.0</td>\n",
       "      <td>5.0</td>\n",
       "      <td>NaN</td>\n",
       "      <td>100.4</td>\n",
       "      <td>24.0</td>\n",
       "      <td>SSW</td>\n",
       "      <td>16.0</td>\n",
       "      <td>NaN</td>\n",
       "    </tr>\n",
       "    <tr>\n",
       "      <th>315</th>\n",
       "      <td>2018-05-22 4:00</td>\n",
       "      <td>Canada/Eastern</td>\n",
       "      <td>4</td>\n",
       "      <td>YOW</td>\n",
       "      <td>Ottawa Macdonald-Cartier Int'l Airport</td>\n",
       "      <td>45.32</td>\n",
       "      <td>-75.67</td>\n",
       "      <td>Mostly Cloudy</td>\n",
       "      <td>12.3</td>\n",
       "      <td>73.0</td>\n",
       "      <td>8.0</td>\n",
       "      <td>NaN</td>\n",
       "      <td>101.9</td>\n",
       "      <td>24.0</td>\n",
       "      <td>S</td>\n",
       "      <td>10.0</td>\n",
       "      <td>NaN</td>\n",
       "    </tr>\n",
       "    <tr>\n",
       "      <th>196</th>\n",
       "      <td>2018-05-22 3:00</td>\n",
       "      <td>Canada/Central</td>\n",
       "      <td>3</td>\n",
       "      <td>YXE</td>\n",
       "      <td>Saskatoon Diefenbaker Int'l Airport</td>\n",
       "      <td>52.17</td>\n",
       "      <td>-106.70</td>\n",
       "      <td>Mainly Clear</td>\n",
       "      <td>12.3</td>\n",
       "      <td>70.0</td>\n",
       "      <td>7.0</td>\n",
       "      <td>NaN</td>\n",
       "      <td>101.1</td>\n",
       "      <td>24.0</td>\n",
       "      <td>NNE</td>\n",
       "      <td>16.0</td>\n",
       "      <td>NaN</td>\n",
       "    </tr>\n",
       "    <tr>\n",
       "      <th>436</th>\n",
       "      <td>2018-05-22 6:00</td>\n",
       "      <td>Canada/Atlantic</td>\n",
       "      <td>6</td>\n",
       "      <td>YYG</td>\n",
       "      <td>Charlottetown Airport</td>\n",
       "      <td>46.29</td>\n",
       "      <td>-63.12</td>\n",
       "      <td>Mainly Sunny</td>\n",
       "      <td>0.2</td>\n",
       "      <td>96.0</td>\n",
       "      <td>-1.0</td>\n",
       "      <td>NaN</td>\n",
       "      <td>102.2</td>\n",
       "      <td>24.0</td>\n",
       "      <td>N</td>\n",
       "      <td>2.0</td>\n",
       "      <td>*</td>\n",
       "    </tr>\n",
       "    <tr>\n",
       "      <th>322</th>\n",
       "      <td>2018-05-22 11:00</td>\n",
       "      <td>Canada/Eastern</td>\n",
       "      <td>11</td>\n",
       "      <td>YOW</td>\n",
       "      <td>Ottawa Macdonald-Cartier Int'l Airport</td>\n",
       "      <td>45.32</td>\n",
       "      <td>-75.67</td>\n",
       "      <td>Mostly Cloudy</td>\n",
       "      <td>16.9</td>\n",
       "      <td>62.0</td>\n",
       "      <td>10.0</td>\n",
       "      <td>NaN</td>\n",
       "      <td>101.7</td>\n",
       "      <td>24.0</td>\n",
       "      <td>S</td>\n",
       "      <td>8.0</td>\n",
       "      <td>NaN</td>\n",
       "    </tr>\n",
       "  </tbody>\n",
       "</table>\n",
       "</div>"
      ],
      "text/plain": [
       "             Datetime             Timezone  Hour of Day Station ID  \\\n",
       "209  2018-05-22 16:00       Canada/Central           16        YXE   \n",
       "144  2018-05-21 23:00      Canada/Mountain           23        YEG   \n",
       "107  2018-05-22 10:00      Canada/Mountain           10        YZF   \n",
       "230  2018-05-22 13:00       Canada/Central           13        YQR   \n",
       "458   2018-05-22 4:30  Canada/Newfoundland            4        YYT   \n",
       "114  2018-05-22 17:00      Canada/Mountain           17        YZF   \n",
       "315   2018-05-22 4:00       Canada/Eastern            4        YOW   \n",
       "196   2018-05-22 3:00       Canada/Central            3        YXE   \n",
       "436   2018-05-22 6:00      Canada/Atlantic            6        YYG   \n",
       "322  2018-05-22 11:00       Canada/Eastern           11        YOW   \n",
       "\n",
       "                               Station Name  Latitude  Longitude  \\\n",
       "209     Saskatoon Diefenbaker Int'l Airport     52.17    -106.70   \n",
       "144                  Edmonton Int'l Airport     53.31    -113.58   \n",
       "107                     Yellowknife Airport     62.46    -114.44   \n",
       "230                    Regina Int'l Airport     50.43    -104.67   \n",
       "458                St. John's Int'l Airport     47.62     -52.75   \n",
       "114                     Yellowknife Airport     62.46    -114.44   \n",
       "315  Ottawa Macdonald-Cartier Int'l Airport     45.32     -75.67   \n",
       "196     Saskatoon Diefenbaker Int'l Airport     52.17    -106.70   \n",
       "436                   Charlottetown Airport     46.29     -63.12   \n",
       "322  Ottawa Macdonald-Cartier Int'l Airport     45.32     -75.67   \n",
       "\n",
       "        Conditions  Temperature (C)  Relative Humidity (%)  Dew Point (C)  \\\n",
       "209  Partly Cloudy             26.1                   27.0            6.0   \n",
       "144  Partly Cloudy             16.0                   50.0            6.0   \n",
       "107  Mostly Cloudy             12.5                   58.0            5.0   \n",
       "230  Mostly Cloudy             27.3                   26.0            6.0   \n",
       "458   Mainly Clear              3.6                   92.0            3.0   \n",
       "114  Mostly Cloudy             23.1                   30.0            5.0   \n",
       "315  Mostly Cloudy             12.3                   73.0            8.0   \n",
       "196   Mainly Clear             12.3                   70.0            7.0   \n",
       "436   Mainly Sunny              0.2                   96.0           -1.0   \n",
       "322  Mostly Cloudy             16.9                   62.0           10.0   \n",
       "\n",
       "     Humidex (C)  Pressure (kPa)  Visibility (km) Wind Direction  \\\n",
       "209          NaN           101.4             24.0              N   \n",
       "144          NaN           101.2             24.0            NNE   \n",
       "107          NaN           100.5             24.0              S   \n",
       "230          NaN           101.2             24.0             NW   \n",
       "458          NaN           100.7             24.0              W   \n",
       "114          NaN           100.4             24.0            SSW   \n",
       "315          NaN           101.9             24.0              S   \n",
       "196          NaN           101.1             24.0            NNE   \n",
       "436          NaN           102.2             24.0              N   \n",
       "322          NaN           101.7             24.0              S   \n",
       "\n",
       "     Wind Speed (km/hr) Wind Chill (C)  \n",
       "209                 6.0            NaN  \n",
       "144                 6.0            NaN  \n",
       "107                 9.0            NaN  \n",
       "230                 5.0            NaN  \n",
       "458                26.0            NaN  \n",
       "114                16.0            NaN  \n",
       "315                10.0            NaN  \n",
       "196                16.0            NaN  \n",
       "436                 2.0              *  \n",
       "322                 8.0            NaN  "
      ]
     },
     "execution_count": 16,
     "metadata": {},
     "output_type": "execute_result"
    }
   ],
   "source": [
    "weather_all = pd.read_csv('data/weather_airport_stations.csv')\n",
    "weather_all.sample(10)"
   ]
  },
  {
   "cell_type": "code",
   "execution_count": 17,
   "metadata": {},
   "outputs": [
    {
     "data": {
      "text/plain": [
       "(480, 17)"
      ]
     },
     "execution_count": 17,
     "metadata": {},
     "output_type": "execute_result"
    }
   ],
   "source": [
    "weather_all.shape"
   ]
  },
  {
   "cell_type": "markdown",
   "metadata": {},
   "source": [
    "- The data has 480 rows and 17 columns."
   ]
  },
  {
   "cell_type": "markdown",
   "metadata": {},
   "source": [
    "To find the lowest and highest temperatures, we can use the `describe` method on the `'Temperature (C)'` column:"
   ]
  },
  {
   "cell_type": "code",
   "execution_count": 18,
   "metadata": {},
   "outputs": [
    {
     "data": {
      "text/plain": [
       "count    479.000000\n",
       "mean      13.974530\n",
       "std        7.892156\n",
       "min       -7.100000\n",
       "25%       10.000000\n",
       "50%       14.400000\n",
       "75%       19.150000\n",
       "max       28.600000\n",
       "Name: Temperature (C), dtype: float64"
      ]
     },
     "execution_count": 18,
     "metadata": {},
     "output_type": "execute_result"
    }
   ],
   "source": [
    "weather_all['Temperature (C)'].describe()"
   ]
  },
  {
   "cell_type": "markdown",
   "metadata": {},
   "source": [
    "- The lowest temperature is -7.1 C and the highest is 28.6 C:"
   ]
  },
  {
   "cell_type": "markdown",
   "metadata": {},
   "source": [
    "Alternatively, we could use the `min` and `max` methods on the `'Temperature (C)'` column to return only the numbers we're looking for:"
   ]
  },
  {
   "cell_type": "code",
   "execution_count": 19,
   "metadata": {},
   "outputs": [
    {
     "data": {
      "text/plain": [
       "-7.1"
      ]
     },
     "execution_count": 19,
     "metadata": {},
     "output_type": "execute_result"
    }
   ],
   "source": [
    "weather_all['Temperature (C)'].min()"
   ]
  },
  {
   "cell_type": "code",
   "execution_count": 20,
   "metadata": {},
   "outputs": [
    {
     "data": {
      "text/plain": [
       "28.6"
      ]
     },
     "execution_count": 20,
     "metadata": {},
     "output_type": "execute_result"
    }
   ],
   "source": [
    "weather_all['Temperature (C)'].max()"
   ]
  },
  {
   "cell_type": "markdown",
   "metadata": {},
   "source": [
    "3.b) How many unique Station Names and Datetimes are in the data? List the unique values."
   ]
  },
  {
   "cell_type": "code",
   "execution_count": 21,
   "metadata": {},
   "outputs": [
    {
     "data": {
      "text/plain": [
       "20"
      ]
     },
     "execution_count": 21,
     "metadata": {},
     "output_type": "execute_result"
    }
   ],
   "source": [
    "# Using the nunique method\n",
    "weather_all['Station Name'].nunique()"
   ]
  },
  {
   "cell_type": "markdown",
   "metadata": {},
   "source": [
    "- There are 20 unique station names, listed below:"
   ]
  },
  {
   "cell_type": "code",
   "execution_count": 22,
   "metadata": {},
   "outputs": [
    {
     "data": {
      "text/plain": [
       "array([\"Vancouver Int'l Airport\", \"Victoria Int'l Airport\",\n",
       "       'Prince George Airport', 'Whitehorse Airport',\n",
       "       'Yellowknife Airport', 'Iqaluit Airport', \"Edmonton Int'l Airport\",\n",
       "       \"Calgary Int'l Airport\", \"Saskatoon Diefenbaker Int'l Airport\",\n",
       "       \"Regina Int'l Airport\", \"Winnipeg Richardson Int'l Airport\",\n",
       "       'Thunder Bay Airport', \"Toronto Pearson Int'l Airport\",\n",
       "       \"Ottawa Macdonald-Cartier Int'l Airport\",\n",
       "       \"Montreal-Trudeau Int'l Airport\", \"Quebec Lesage Int'l Airport\",\n",
       "       \"Fredericton Int'l Airport\", \"Halifax Stanfield Int'l Airport\",\n",
       "       'Charlottetown Airport', \"St. John's Int'l Airport\"], dtype=object)"
      ]
     },
     "execution_count": 22,
     "metadata": {},
     "output_type": "execute_result"
    }
   ],
   "source": [
    "weather_all['Station Name'].unique()"
   ]
  },
  {
   "cell_type": "code",
   "execution_count": 23,
   "metadata": {},
   "outputs": [
    {
     "data": {
      "text/plain": [
       "52"
      ]
     },
     "execution_count": 23,
     "metadata": {},
     "output_type": "execute_result"
    }
   ],
   "source": [
    "# Using the unique method and len function\n",
    "datetimes_unique = weather_all['Datetime'].unique()\n",
    "len(datetimes_unique)"
   ]
  },
  {
   "cell_type": "markdown",
   "metadata": {},
   "source": [
    "- There are 52 unique datetimes, listed below:"
   ]
  },
  {
   "cell_type": "code",
   "execution_count": 24,
   "metadata": {},
   "outputs": [
    {
     "data": {
      "text/plain": [
       "array(['2018-05-21 22:00', '2018-05-21 23:00', '2018-05-22 0:00',\n",
       "       '2018-05-22 1:00', '2018-05-22 2:00', '2018-05-22 3:00',\n",
       "       '2018-05-22 4:00', '2018-05-22 5:00', '2018-05-22 6:00',\n",
       "       '2018-05-22 7:00', '2018-05-22 8:00', '2018-05-22 9:00',\n",
       "       '2018-05-22 10:00', '2018-05-22 11:00', '2018-05-22 12:00',\n",
       "       '2018-05-22 13:00', '2018-05-22 14:00', '2018-05-22 15:00',\n",
       "       '2018-05-22 16:00', '2018-05-22 17:00', '2018-05-22 18:00',\n",
       "       '2018-05-22 19:00', '2018-05-22 20:00', '2018-05-22 21:00',\n",
       "       '2018-05-22 22:00', '2018-05-22 23:00', '2018-05-23 0:00',\n",
       "       '2018-05-23 1:00', '2018-05-22 2:30', '2018-05-22 3:30',\n",
       "       '2018-05-22 4:30', '2018-05-22 5:30', '2018-05-22 6:30',\n",
       "       '2018-05-22 7:30', '2018-05-22 8:30', '2018-05-22 9:30',\n",
       "       '2018-05-22 10:30', '2018-05-22 11:30', '2018-05-22 12:30',\n",
       "       '2018-05-22 13:30', '2018-05-22 14:30', '2018-05-22 15:30',\n",
       "       '2018-05-22 16:30', '2018-05-22 17:30', '2018-05-22 18:30',\n",
       "       '2018-05-22 19:30', '2018-05-22 20:30', '2018-05-22 21:30',\n",
       "       '2018-05-22 22:30', '2018-05-22 23:30', '2018-05-23 0:30',\n",
       "       '2018-05-23 1:30'], dtype=object)"
      ]
     },
     "execution_count": 24,
     "metadata": {},
     "output_type": "execute_result"
    }
   ],
   "source": [
    "datetimes_unique"
   ]
  },
  {
   "cell_type": "markdown",
   "metadata": {},
   "source": [
    "3.c) What are the three most common Conditions and the three most common Wind Directions?\n",
    "\n",
    "- We can display the counts for all values with the `value_counts` method, and see which ones are top three:"
   ]
  },
  {
   "cell_type": "code",
   "execution_count": 25,
   "metadata": {},
   "outputs": [
    {
     "data": {
      "text/plain": [
       "Mostly Cloudy                          148\n",
       "Partly Cloudy                           90\n",
       "Mainly Sunny                            48\n",
       "Mainly Clear                            37\n",
       "Clear                                   35\n",
       "Sunny                                   34\n",
       "Cloudy                                  31\n",
       "Light Rain                              16\n",
       "Light Snow                              15\n",
       "Mist                                    11\n",
       "Light Drizzle                            5\n",
       "Light Rainshower                         4\n",
       "Fog                                      4\n",
       "Thunderstorm with light rainshowers      1\n",
       "Name: Conditions, dtype: int64"
      ]
     },
     "execution_count": 25,
     "metadata": {},
     "output_type": "execute_result"
    }
   ],
   "source": [
    "weather_all['Conditions'].value_counts()"
   ]
  },
  {
   "cell_type": "markdown",
   "metadata": {},
   "source": [
    "- If we want to display *only* the top three, we can chain the `head` method:"
   ]
  },
  {
   "cell_type": "code",
   "execution_count": 26,
   "metadata": {},
   "outputs": [
    {
     "data": {
      "text/plain": [
       "Mostly Cloudy    148\n",
       "Partly Cloudy     90\n",
       "Mainly Sunny      48\n",
       "Name: Conditions, dtype: int64"
      ]
     },
     "execution_count": 26,
     "metadata": {},
     "output_type": "execute_result"
    }
   ],
   "source": [
    "weather_all['Conditions'].value_counts().head(3)"
   ]
  },
  {
   "cell_type": "code",
   "execution_count": 27,
   "metadata": {},
   "outputs": [
    {
     "data": {
      "text/plain": [
       "S      67\n",
       "SSW    62\n",
       "SSE    44\n",
       "Name: Wind Direction, dtype: int64"
      ]
     },
     "execution_count": 27,
     "metadata": {},
     "output_type": "execute_result"
    }
   ],
   "source": [
    "weather_all['Wind Direction'].value_counts().head(3)"
   ]
  },
  {
   "cell_type": "markdown",
   "metadata": {},
   "source": [
    "- Three most common Conditions: Mostly Cloudy, Partly Cloudy, Mainly Sunny\n",
    "- Three most common Wind Directions: S, SSW, SSE"
   ]
  },
  {
   "cell_type": "markdown",
   "metadata": {},
   "source": [
    "3.d) Which column has the most missing values? How many are missing in this column?"
   ]
  },
  {
   "cell_type": "code",
   "execution_count": 28,
   "metadata": {},
   "outputs": [
    {
     "data": {
      "text/plain": [
       "Datetime                   0\n",
       "Timezone                   0\n",
       "Hour of Day                0\n",
       "Station ID                 0\n",
       "Station Name               0\n",
       "Latitude                   0\n",
       "Longitude                  0\n",
       "Conditions                 1\n",
       "Temperature (C)            1\n",
       "Relative Humidity (%)      1\n",
       "Dew Point (C)              2\n",
       "Humidex (C)              446\n",
       "Pressure (kPa)             1\n",
       "Visibility (km)            1\n",
       "Wind Direction            14\n",
       "Wind Speed (km/hr)         1\n",
       "Wind Chill (C)           432\n",
       "dtype: int64"
      ]
     },
     "execution_count": 28,
     "metadata": {},
     "output_type": "execute_result"
    }
   ],
   "source": [
    "weather_all.isnull().sum()"
   ]
  },
  {
   "cell_type": "markdown",
   "metadata": {},
   "source": [
    "- The 'Humidex (C)' column has the most missing values (446)."
   ]
  },
  {
   "cell_type": "markdown",
   "metadata": {},
   "source": [
    "#### Bonus exercises\n",
    "\n",
    "3.e) How many temperatures in `weather_all` are less than 0 and how many are greater than 20?\n",
    "- *Hint: review the comparison operators in the \"Booleans\" section of Lesson 0*"
   ]
  },
  {
   "cell_type": "code",
   "execution_count": 29,
   "metadata": {},
   "outputs": [],
   "source": [
    "# Assign the 'Temperature (C)' column to a variable\n",
    "temp = weather_all['Temperature (C)']"
   ]
  },
  {
   "cell_type": "code",
   "execution_count": 30,
   "metadata": {},
   "outputs": [
    {
     "data": {
      "text/plain": [
       "0    False\n",
       "1    False\n",
       "2    False\n",
       "3    False\n",
       "4    False\n",
       "Name: Temperature (C), dtype: bool"
      ]
     },
     "execution_count": 30,
     "metadata": {},
     "output_type": "execute_result"
    }
   ],
   "source": [
    "# Use the comparison operator < to create a Series of Booleans\n",
    "# representing whether a temperature is less than zero (True) or not (False)\n",
    "temp_lt_0 = temp < 0\n",
    "temp_lt_0.head()"
   ]
  },
  {
   "cell_type": "code",
   "execution_count": 31,
   "metadata": {},
   "outputs": [
    {
     "data": {
      "text/plain": [
       "25"
      ]
     },
     "execution_count": 31,
     "metadata": {},
     "output_type": "execute_result"
    }
   ],
   "source": [
    "# Sum the Boolean values in the Series to obtain the total number of temperatures less than 0\n",
    "temp_lt_0.sum()"
   ]
  },
  {
   "cell_type": "markdown",
   "metadata": {},
   "source": [
    "- There are 25 temperatures less than 0 C."
   ]
  },
  {
   "cell_type": "code",
   "execution_count": 32,
   "metadata": {},
   "outputs": [
    {
     "data": {
      "text/plain": [
       "0    False\n",
       "1    False\n",
       "2    False\n",
       "3    False\n",
       "4    False\n",
       "Name: Temperature (C), dtype: bool"
      ]
     },
     "execution_count": 32,
     "metadata": {},
     "output_type": "execute_result"
    }
   ],
   "source": [
    "# Boolean Series for temperature greather than 20\n",
    "temp_gt_20 = temp > 20\n",
    "temp_gt_20.head()"
   ]
  },
  {
   "cell_type": "code",
   "execution_count": 33,
   "metadata": {},
   "outputs": [
    {
     "data": {
      "text/plain": [
       "107"
      ]
     },
     "execution_count": 33,
     "metadata": {},
     "output_type": "execute_result"
    }
   ],
   "source": [
    "# Calculate the total\n",
    "temp_gt_20.sum()"
   ]
  },
  {
   "cell_type": "markdown",
   "metadata": {},
   "source": [
    "- There are 107 temperatures greater than 20 C."
   ]
  },
  {
   "cell_type": "markdown",
   "metadata": {},
   "source": [
    "3.f) Work through the steps in the \"Automating Tasks with Scripts\" section in Lesson 3 to create and run a script in Jupyter Lab\n",
    "\n",
    "---"
   ]
  },
  {
   "cell_type": "markdown",
   "metadata": {},
   "source": [
    "## Exercise 4\n",
    "\n",
    "4.a) What is the fastest wind speed in `weather_all`, and at what station and datetime did it occur? What were the wind direction, temperature, and weather conditions (raining / sunny / etc.) that accompanied this fastest wind speed?"
   ]
  },
  {
   "cell_type": "code",
   "execution_count": 34,
   "metadata": {},
   "outputs": [
    {
     "data": {
      "text/html": [
       "<div>\n",
       "<style scoped>\n",
       "    .dataframe tbody tr th:only-of-type {\n",
       "        vertical-align: middle;\n",
       "    }\n",
       "\n",
       "    .dataframe tbody tr th {\n",
       "        vertical-align: top;\n",
       "    }\n",
       "\n",
       "    .dataframe thead th {\n",
       "        text-align: right;\n",
       "    }\n",
       "</style>\n",
       "<table border=\"1\" class=\"dataframe\">\n",
       "  <thead>\n",
       "    <tr style=\"text-align: right;\">\n",
       "      <th></th>\n",
       "      <th>Datetime</th>\n",
       "      <th>Timezone</th>\n",
       "      <th>Hour of Day</th>\n",
       "      <th>Station ID</th>\n",
       "      <th>Station Name</th>\n",
       "      <th>Latitude</th>\n",
       "      <th>Longitude</th>\n",
       "      <th>Conditions</th>\n",
       "      <th>Temperature (C)</th>\n",
       "      <th>Relative Humidity (%)</th>\n",
       "      <th>Dew Point (C)</th>\n",
       "      <th>Humidex (C)</th>\n",
       "      <th>Pressure (kPa)</th>\n",
       "      <th>Visibility (km)</th>\n",
       "      <th>Wind Direction</th>\n",
       "      <th>Wind Speed (km/hr)</th>\n",
       "      <th>Wind Chill (C)</th>\n",
       "    </tr>\n",
       "  </thead>\n",
       "  <tbody>\n",
       "    <tr>\n",
       "      <th>138</th>\n",
       "      <td>2018-05-22 19:00</td>\n",
       "      <td>Canada/Eastern</td>\n",
       "      <td>19</td>\n",
       "      <td>YFB</td>\n",
       "      <td>Iqaluit Airport</td>\n",
       "      <td>63.76</td>\n",
       "      <td>-68.56</td>\n",
       "      <td>Partly Cloudy</td>\n",
       "      <td>-4.0</td>\n",
       "      <td>84.0</td>\n",
       "      <td>-6.0</td>\n",
       "      <td>NaN</td>\n",
       "      <td>100.8</td>\n",
       "      <td>32.0</td>\n",
       "      <td>NNW</td>\n",
       "      <td>54.0</td>\n",
       "      <td>-14</td>\n",
       "    </tr>\n",
       "  </tbody>\n",
       "</table>\n",
       "</div>"
      ],
      "text/plain": [
       "             Datetime        Timezone  Hour of Day Station ID  \\\n",
       "138  2018-05-22 19:00  Canada/Eastern           19        YFB   \n",
       "\n",
       "        Station Name  Latitude  Longitude     Conditions  Temperature (C)  \\\n",
       "138  Iqaluit Airport     63.76     -68.56  Partly Cloudy             -4.0   \n",
       "\n",
       "     Relative Humidity (%)  Dew Point (C)  Humidex (C)  Pressure (kPa)  \\\n",
       "138                   84.0           -6.0          NaN           100.8   \n",
       "\n",
       "     Visibility (km) Wind Direction  Wind Speed (km/hr) Wind Chill (C)  \n",
       "138             32.0            NNW                54.0            -14  "
      ]
     },
     "execution_count": 34,
     "metadata": {},
     "output_type": "execute_result"
    }
   ],
   "source": [
    "weather_all.sort_values('Wind Speed (km/hr)', ascending=False).head(1)"
   ]
  },
  {
   "cell_type": "markdown",
   "metadata": {},
   "source": [
    "- The fastest wind speed was 54 km/hr at Iqaluit Airport at 2018-05-22 19:00. Wind direction was NNW, temperature -4 C, and weather conditions partly cloudy."
   ]
  },
  {
   "cell_type": "markdown",
   "metadata": {},
   "source": [
    "If we only wanted to display the specific information we're interested in, we could extract a subset of columns:"
   ]
  },
  {
   "cell_type": "code",
   "execution_count": 35,
   "metadata": {},
   "outputs": [
    {
     "data": {
      "text/html": [
       "<div>\n",
       "<style scoped>\n",
       "    .dataframe tbody tr th:only-of-type {\n",
       "        vertical-align: middle;\n",
       "    }\n",
       "\n",
       "    .dataframe tbody tr th {\n",
       "        vertical-align: top;\n",
       "    }\n",
       "\n",
       "    .dataframe thead th {\n",
       "        text-align: right;\n",
       "    }\n",
       "</style>\n",
       "<table border=\"1\" class=\"dataframe\">\n",
       "  <thead>\n",
       "    <tr style=\"text-align: right;\">\n",
       "      <th></th>\n",
       "      <th>Datetime</th>\n",
       "      <th>Station Name</th>\n",
       "      <th>Wind Direction</th>\n",
       "      <th>Wind Speed (km/hr)</th>\n",
       "      <th>Temperature (C)</th>\n",
       "      <th>Conditions</th>\n",
       "    </tr>\n",
       "  </thead>\n",
       "  <tbody>\n",
       "    <tr>\n",
       "      <th>138</th>\n",
       "      <td>2018-05-22 19:00</td>\n",
       "      <td>Iqaluit Airport</td>\n",
       "      <td>NNW</td>\n",
       "      <td>54.0</td>\n",
       "      <td>-4.0</td>\n",
       "      <td>Partly Cloudy</td>\n",
       "    </tr>\n",
       "  </tbody>\n",
       "</table>\n",
       "</div>"
      ],
      "text/plain": [
       "             Datetime     Station Name Wind Direction  Wind Speed (km/hr)  \\\n",
       "138  2018-05-22 19:00  Iqaluit Airport            NNW                54.0   \n",
       "\n",
       "     Temperature (C)     Conditions  \n",
       "138             -4.0  Partly Cloudy  "
      ]
     },
     "execution_count": 35,
     "metadata": {},
     "output_type": "execute_result"
    }
   ],
   "source": [
    "columns = ['Datetime', 'Station Name', 'Wind Direction', 'Wind Speed (km/hr)', \n",
    "           'Temperature (C)', 'Conditions']\n",
    "weather_all[columns].sort_values('Wind Speed (km/hr)', ascending=False).head(1)"
   ]
  },
  {
   "cell_type": "markdown",
   "metadata": {},
   "source": [
    "4.b) How many stations had wind speeds greater than 30 km/hr? Which stations were they?"
   ]
  },
  {
   "cell_type": "code",
   "execution_count": 36,
   "metadata": {},
   "outputs": [
    {
     "data": {
      "text/html": [
       "<div>\n",
       "<style scoped>\n",
       "    .dataframe tbody tr th:only-of-type {\n",
       "        vertical-align: middle;\n",
       "    }\n",
       "\n",
       "    .dataframe tbody tr th {\n",
       "        vertical-align: top;\n",
       "    }\n",
       "\n",
       "    .dataframe thead th {\n",
       "        text-align: right;\n",
       "    }\n",
       "</style>\n",
       "<table border=\"1\" class=\"dataframe\">\n",
       "  <thead>\n",
       "    <tr style=\"text-align: right;\">\n",
       "      <th></th>\n",
       "      <th>Datetime</th>\n",
       "      <th>Timezone</th>\n",
       "      <th>Hour of Day</th>\n",
       "      <th>Station ID</th>\n",
       "      <th>Station Name</th>\n",
       "      <th>Latitude</th>\n",
       "      <th>Longitude</th>\n",
       "      <th>Conditions</th>\n",
       "      <th>Temperature (C)</th>\n",
       "      <th>Relative Humidity (%)</th>\n",
       "      <th>Dew Point (C)</th>\n",
       "      <th>Humidex (C)</th>\n",
       "      <th>Pressure (kPa)</th>\n",
       "      <th>Visibility (km)</th>\n",
       "      <th>Wind Direction</th>\n",
       "      <th>Wind Speed (km/hr)</th>\n",
       "      <th>Wind Chill (C)</th>\n",
       "    </tr>\n",
       "  </thead>\n",
       "  <tbody>\n",
       "    <tr>\n",
       "      <th>92</th>\n",
       "      <td>2018-05-22 18:00</td>\n",
       "      <td>Canada/Pacific</td>\n",
       "      <td>18</td>\n",
       "      <td>YXY</td>\n",
       "      <td>Whitehorse Airport</td>\n",
       "      <td>60.71</td>\n",
       "      <td>-135.07</td>\n",
       "      <td>Mostly Cloudy</td>\n",
       "      <td>12.2</td>\n",
       "      <td>37.0</td>\n",
       "      <td>-2.0</td>\n",
       "      <td>NaN</td>\n",
       "      <td>100.8</td>\n",
       "      <td>64.0</td>\n",
       "      <td>S</td>\n",
       "      <td>42.0</td>\n",
       "      <td>NaN</td>\n",
       "    </tr>\n",
       "    <tr>\n",
       "      <th>100</th>\n",
       "      <td>2018-05-22 3:00</td>\n",
       "      <td>Canada/Mountain</td>\n",
       "      <td>3</td>\n",
       "      <td>YZF</td>\n",
       "      <td>Yellowknife Airport</td>\n",
       "      <td>62.46</td>\n",
       "      <td>-114.44</td>\n",
       "      <td>Mostly Cloudy</td>\n",
       "      <td>14.4</td>\n",
       "      <td>45.0</td>\n",
       "      <td>3.0</td>\n",
       "      <td>NaN</td>\n",
       "      <td>100.5</td>\n",
       "      <td>24.0</td>\n",
       "      <td>SSE</td>\n",
       "      <td>31.0</td>\n",
       "      <td>NaN</td>\n",
       "    </tr>\n",
       "    <tr>\n",
       "      <th>128</th>\n",
       "      <td>2018-05-22 9:00</td>\n",
       "      <td>Canada/Eastern</td>\n",
       "      <td>9</td>\n",
       "      <td>YFB</td>\n",
       "      <td>Iqaluit Airport</td>\n",
       "      <td>63.76</td>\n",
       "      <td>-68.56</td>\n",
       "      <td>Light Snow</td>\n",
       "      <td>-6.5</td>\n",
       "      <td>78.0</td>\n",
       "      <td>-10.0</td>\n",
       "      <td>NaN</td>\n",
       "      <td>101.0</td>\n",
       "      <td>10.0</td>\n",
       "      <td>NNW</td>\n",
       "      <td>31.0</td>\n",
       "      <td>-15</td>\n",
       "    </tr>\n",
       "    <tr>\n",
       "      <th>130</th>\n",
       "      <td>2018-05-22 11:00</td>\n",
       "      <td>Canada/Eastern</td>\n",
       "      <td>11</td>\n",
       "      <td>YFB</td>\n",
       "      <td>Iqaluit Airport</td>\n",
       "      <td>63.76</td>\n",
       "      <td>-68.56</td>\n",
       "      <td>Light Snow</td>\n",
       "      <td>-5.0</td>\n",
       "      <td>78.0</td>\n",
       "      <td>-8.0</td>\n",
       "      <td>NaN</td>\n",
       "      <td>100.9</td>\n",
       "      <td>10.0</td>\n",
       "      <td>NNW</td>\n",
       "      <td>36.0</td>\n",
       "      <td>-14</td>\n",
       "    </tr>\n",
       "    <tr>\n",
       "      <th>131</th>\n",
       "      <td>2018-05-22 12:00</td>\n",
       "      <td>Canada/Eastern</td>\n",
       "      <td>12</td>\n",
       "      <td>YFB</td>\n",
       "      <td>Iqaluit Airport</td>\n",
       "      <td>63.76</td>\n",
       "      <td>-68.56</td>\n",
       "      <td>Light Snow</td>\n",
       "      <td>-4.7</td>\n",
       "      <td>78.0</td>\n",
       "      <td>-8.0</td>\n",
       "      <td>NaN</td>\n",
       "      <td>100.9</td>\n",
       "      <td>10.0</td>\n",
       "      <td>NNW</td>\n",
       "      <td>35.0</td>\n",
       "      <td>-13</td>\n",
       "    </tr>\n",
       "  </tbody>\n",
       "</table>\n",
       "</div>"
      ],
      "text/plain": [
       "             Datetime         Timezone  Hour of Day Station ID  \\\n",
       "92   2018-05-22 18:00   Canada/Pacific           18        YXY   \n",
       "100   2018-05-22 3:00  Canada/Mountain            3        YZF   \n",
       "128   2018-05-22 9:00   Canada/Eastern            9        YFB   \n",
       "130  2018-05-22 11:00   Canada/Eastern           11        YFB   \n",
       "131  2018-05-22 12:00   Canada/Eastern           12        YFB   \n",
       "\n",
       "            Station Name  Latitude  Longitude     Conditions  Temperature (C)  \\\n",
       "92    Whitehorse Airport     60.71    -135.07  Mostly Cloudy             12.2   \n",
       "100  Yellowknife Airport     62.46    -114.44  Mostly Cloudy             14.4   \n",
       "128      Iqaluit Airport     63.76     -68.56     Light Snow             -6.5   \n",
       "130      Iqaluit Airport     63.76     -68.56     Light Snow             -5.0   \n",
       "131      Iqaluit Airport     63.76     -68.56     Light Snow             -4.7   \n",
       "\n",
       "     Relative Humidity (%)  Dew Point (C)  Humidex (C)  Pressure (kPa)  \\\n",
       "92                    37.0           -2.0          NaN           100.8   \n",
       "100                   45.0            3.0          NaN           100.5   \n",
       "128                   78.0          -10.0          NaN           101.0   \n",
       "130                   78.0           -8.0          NaN           100.9   \n",
       "131                   78.0           -8.0          NaN           100.9   \n",
       "\n",
       "     Visibility (km) Wind Direction  Wind Speed (km/hr) Wind Chill (C)  \n",
       "92              64.0              S                42.0            NaN  \n",
       "100             24.0            SSE                31.0            NaN  \n",
       "128             10.0            NNW                31.0            -15  \n",
       "130             10.0            NNW                36.0            -14  \n",
       "131             10.0            NNW                35.0            -13  "
      ]
     },
     "execution_count": 36,
     "metadata": {},
     "output_type": "execute_result"
    }
   ],
   "source": [
    "# Create a filter and fill any missings\n",
    "windy = weather_all['Wind Speed (km/hr)'] > 30\n",
    "windy = windy.fillna(False)\n",
    "\n",
    "# Use the filter to extract the desired rows from our DataFrame\n",
    "weather_windy = weather_all[windy]\n",
    "weather_windy.head()"
   ]
  },
  {
   "cell_type": "code",
   "execution_count": 37,
   "metadata": {},
   "outputs": [
    {
     "data": {
      "text/plain": [
       "array(['Whitehorse Airport', 'Yellowknife Airport', 'Iqaluit Airport',\n",
       "       \"Quebec Lesage Int'l Airport\", \"Fredericton Int'l Airport\",\n",
       "       \"Halifax Stanfield Int'l Airport\", 'Charlottetown Airport',\n",
       "       \"St. John's Int'l Airport\"], dtype=object)"
      ]
     },
     "execution_count": 37,
     "metadata": {},
     "output_type": "execute_result"
    }
   ],
   "source": [
    "windy_stations = weather_windy['Station Name'].unique()\n",
    "windy_stations"
   ]
  },
  {
   "cell_type": "code",
   "execution_count": 38,
   "metadata": {},
   "outputs": [
    {
     "data": {
      "text/plain": [
       "8"
      ]
     },
     "execution_count": 38,
     "metadata": {},
     "output_type": "execute_result"
    }
   ],
   "source": [
    "len(windy_stations)"
   ]
  },
  {
   "cell_type": "markdown",
   "metadata": {},
   "source": [
    "- There were 8 stations with wind speeds greater than 30 km/hr: Whitehorse, Yellowknife, Iqaluit, Quebec, Fredericton, Halifax, Charlottetown, and St. John's."
   ]
  },
  {
   "cell_type": "markdown",
   "metadata": {},
   "source": [
    "#### Bonus exercises\n",
    "\n",
    "4.c) What were the top three windiest stations, based on their maximum wind speeds? What were the maximum wind speeds at each of these stations?"
   ]
  },
  {
   "cell_type": "code",
   "execution_count": 39,
   "metadata": {},
   "outputs": [
    {
     "data": {
      "text/html": [
       "<div>\n",
       "<style scoped>\n",
       "    .dataframe tbody tr th:only-of-type {\n",
       "        vertical-align: middle;\n",
       "    }\n",
       "\n",
       "    .dataframe tbody tr th {\n",
       "        vertical-align: top;\n",
       "    }\n",
       "\n",
       "    .dataframe thead th {\n",
       "        text-align: right;\n",
       "    }\n",
       "</style>\n",
       "<table border=\"1\" class=\"dataframe\">\n",
       "  <thead>\n",
       "    <tr style=\"text-align: right;\">\n",
       "      <th></th>\n",
       "      <th>Wind Speed (km/hr)</th>\n",
       "    </tr>\n",
       "    <tr>\n",
       "      <th>Station Name</th>\n",
       "      <th></th>\n",
       "    </tr>\n",
       "  </thead>\n",
       "  <tbody>\n",
       "    <tr>\n",
       "      <th>Iqaluit Airport</th>\n",
       "      <td>54.0</td>\n",
       "    </tr>\n",
       "    <tr>\n",
       "      <th>Whitehorse Airport</th>\n",
       "      <td>42.0</td>\n",
       "    </tr>\n",
       "    <tr>\n",
       "      <th>Quebec Lesage Int'l Airport</th>\n",
       "      <td>39.0</td>\n",
       "    </tr>\n",
       "  </tbody>\n",
       "</table>\n",
       "</div>"
      ],
      "text/plain": [
       "                             Wind Speed (km/hr)\n",
       "Station Name                                   \n",
       "Iqaluit Airport                            54.0\n",
       "Whitehorse Airport                         42.0\n",
       "Quebec Lesage Int'l Airport                39.0"
      ]
     },
     "execution_count": 39,
     "metadata": {},
     "output_type": "execute_result"
    }
   ],
   "source": [
    "columns_wind = ['Station Name', 'Wind Speed (km/hr)'] \n",
    "winds_max = weather_all[columns_wind].groupby('Station Name').max()\n",
    "winds_max.sort_values('Wind Speed (km/hr)', ascending=False).head(3)"
   ]
  },
  {
   "cell_type": "markdown",
   "metadata": {},
   "source": [
    "- Top 3 windiest stations and their maximum wind speeds:\n",
    "  - 1) Iqaluit: 54 km/hr\n",
    "  - 2) Whitehorse: 42 km/hr\n",
    "  - 3) Quebec Lesage: 39 km/hr"
   ]
  },
  {
   "cell_type": "markdown",
   "metadata": {},
   "source": [
    "4.d) Do the top three stations from (c) change if you rank your stations based on mean wind speed instead of maximum wind speed?"
   ]
  },
  {
   "cell_type": "code",
   "execution_count": 40,
   "metadata": {},
   "outputs": [
    {
     "data": {
      "text/html": [
       "<div>\n",
       "<style scoped>\n",
       "    .dataframe tbody tr th:only-of-type {\n",
       "        vertical-align: middle;\n",
       "    }\n",
       "\n",
       "    .dataframe tbody tr th {\n",
       "        vertical-align: top;\n",
       "    }\n",
       "\n",
       "    .dataframe thead th {\n",
       "        text-align: right;\n",
       "    }\n",
       "</style>\n",
       "<table border=\"1\" class=\"dataframe\">\n",
       "  <thead>\n",
       "    <tr style=\"text-align: right;\">\n",
       "      <th></th>\n",
       "      <th>Wind Speed (km/hr)</th>\n",
       "    </tr>\n",
       "    <tr>\n",
       "      <th>Station Name</th>\n",
       "      <th></th>\n",
       "    </tr>\n",
       "  </thead>\n",
       "  <tbody>\n",
       "    <tr>\n",
       "      <th>Iqaluit Airport</th>\n",
       "      <td>31.708333</td>\n",
       "    </tr>\n",
       "    <tr>\n",
       "      <th>St. John's Int'l Airport</th>\n",
       "      <td>23.500000</td>\n",
       "    </tr>\n",
       "    <tr>\n",
       "      <th>Whitehorse Airport</th>\n",
       "      <td>18.875000</td>\n",
       "    </tr>\n",
       "  </tbody>\n",
       "</table>\n",
       "</div>"
      ],
      "text/plain": [
       "                          Wind Speed (km/hr)\n",
       "Station Name                                \n",
       "Iqaluit Airport                    31.708333\n",
       "St. John's Int'l Airport           23.500000\n",
       "Whitehorse Airport                 18.875000"
      ]
     },
     "execution_count": 40,
     "metadata": {},
     "output_type": "execute_result"
    }
   ],
   "source": [
    "winds_mean = weather_all[columns_wind].groupby('Station Name').mean()\n",
    "winds_mean.sort_values('Wind Speed (km/hr)', ascending=False).head(3)"
   ]
  },
  {
   "cell_type": "markdown",
   "metadata": {},
   "source": [
    "- Yes, the 2nd and 3rd place rankings change. The top 3 windiest stations based on mean wind speed:\n",
    "  - 1) Iqaluit: 31.7 km/hr\n",
    "  - 2) St. John's: 23.5\n",
    "  - 3) Whitehorse: 18.9 km/hr"
   ]
  },
  {
   "cell_type": "code",
   "execution_count": null,
   "metadata": {},
   "outputs": [],
   "source": []
  }
 ],
 "metadata": {
  "kernelspec": {
   "display_name": "Python [default]",
   "language": "python",
   "name": "python3"
  },
  "language_info": {
   "codemirror_mode": {
    "name": "ipython",
    "version": 3
   },
   "file_extension": ".py",
   "mimetype": "text/x-python",
   "name": "python",
   "nbconvert_exporter": "python",
   "pygments_lexer": "ipython3",
   "version": "3.6.4"
  }
 },
 "nbformat": 4,
 "nbformat_minor": 2
}
