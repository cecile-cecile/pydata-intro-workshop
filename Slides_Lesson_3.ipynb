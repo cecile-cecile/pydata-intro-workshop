{
 "cells": [
  {
   "cell_type": "markdown",
   "metadata": {
    "slideshow": {
     "slide_type": "slide"
    }
   },
   "source": [
    "# Lesson 3: Text Data and Messy/Missing Data"
   ]
  },
  {
   "cell_type": "markdown",
   "metadata": {
    "slideshow": {
     "slide_type": "skip"
    }
   },
   "source": [
    "To jump to the recap, click [here](#recap)"
   ]
  },
  {
   "cell_type": "markdown",
   "metadata": {
    "slideshow": {
     "slide_type": "skip"
    }
   },
   "source": [
    "# Initial Setup\n",
    "\n",
    "Import libraries and initialize variables to pick up where we left off in Lesson 2."
   ]
  },
  {
   "cell_type": "code",
   "execution_count": 2,
   "metadata": {
    "slideshow": {
     "slide_type": "skip"
    }
   },
   "outputs": [],
   "source": [
    "import pandas as pd\n",
    "\n",
    "%matplotlib inline"
   ]
  },
  {
   "cell_type": "code",
   "execution_count": 3,
   "metadata": {
    "slideshow": {
     "slide_type": "skip"
    }
   },
   "outputs": [],
   "source": [
    "weather_yvr = pd.read_csv('data/weather_yvr.csv')\n",
    "weather_yvr['Relative Humidity (fraction)'] = weather_yvr['Relative Humidity (%)'] / 100\n",
    "weather_yvr['Temperature (F)'] = 1.8 * weather_yvr['Temperature (C)'] + 32"
   ]
  },
  {
   "cell_type": "markdown",
   "metadata": {
    "slideshow": {
     "slide_type": "slide"
    }
   },
   "source": [
    "# Text Data\n",
    "\n",
    "What about text data like the `'Conditions'` column?"
   ]
  },
  {
   "cell_type": "code",
   "execution_count": 4,
   "metadata": {
    "slideshow": {
     "slide_type": "fragment"
    }
   },
   "outputs": [],
   "source": [
    "conditions = weather_yvr['Conditions']"
   ]
  },
  {
   "cell_type": "code",
   "execution_count": 5,
   "metadata": {
    "slideshow": {
     "slide_type": "fragment"
    }
   },
   "outputs": [
    {
     "data": {
      "text/plain": [
       "0      Mainly Clear\n",
       "1             Clear\n",
       "2             Clear\n",
       "3             Clear\n",
       "4             Clear\n",
       "5             Clear\n",
       "6             Clear\n",
       "7               Fog\n",
       "8      Mainly Sunny\n",
       "9     Partly Cloudy\n",
       "10     Mainly Sunny\n",
       "11    Partly Cloudy\n",
       "12    Partly Cloudy\n",
       "13    Partly Cloudy\n",
       "14     Mainly Sunny\n",
       "15     Mainly Sunny\n",
       "16     Mainly Sunny\n",
       "17     Mainly Sunny\n",
       "18            Sunny\n",
       "19     Mainly Sunny\n",
       "20            Sunny\n",
       "21            Sunny\n",
       "22            Sunny\n",
       "23            Clear\n",
       "Name: Conditions, dtype: object"
      ]
     },
     "execution_count": 5,
     "metadata": {},
     "output_type": "execute_result"
    }
   ],
   "source": [
    "conditions"
   ]
  },
  {
   "cell_type": "markdown",
   "metadata": {
    "slideshow": {
     "slide_type": "fragment"
    }
   },
   "source": [
    "The Series `conditions` has a `dtype` of `object`"
   ]
  },
  {
   "cell_type": "markdown",
   "metadata": {
    "slideshow": {
     "slide_type": "fragment"
    }
   },
   "source": [
    "There are many repeated values in this Series.\n",
    "- How many unique values are in the Series?\n",
    "- How often does each value occur?\n",
    "- What are the most common values?"
   ]
  },
  {
   "cell_type": "markdown",
   "metadata": {
    "slideshow": {
     "slide_type": "slide"
    }
   },
   "source": [
    "We can use the `unique` method to list the unique values:"
   ]
  },
  {
   "cell_type": "code",
   "execution_count": 6,
   "metadata": {
    "scrolled": true,
    "slideshow": {
     "slide_type": "fragment"
    }
   },
   "outputs": [
    {
     "data": {
      "text/plain": [
       "array(['Mainly Clear', 'Clear', 'Fog', 'Mainly Sunny', 'Partly Cloudy',\n",
       "       'Sunny'], dtype=object)"
      ]
     },
     "execution_count": 6,
     "metadata": {},
     "output_type": "execute_result"
    }
   ],
   "source": [
    "conditions.unique()"
   ]
  },
  {
   "cell_type": "markdown",
   "metadata": {
    "slideshow": {
     "slide_type": "fragment"
    }
   },
   "source": [
    "We can use the function `len` to find the number of unique values:"
   ]
  },
  {
   "cell_type": "code",
   "execution_count": 7,
   "metadata": {
    "slideshow": {
     "slide_type": "fragment"
    }
   },
   "outputs": [
    {
     "data": {
      "text/plain": [
       "6"
      ]
     },
     "execution_count": 7,
     "metadata": {},
     "output_type": "execute_result"
    }
   ],
   "source": [
    "len(conditions.unique())"
   ]
  },
  {
   "cell_type": "markdown",
   "metadata": {
    "slideshow": {
     "slide_type": "fragment"
    }
   },
   "source": [
    "Alternatively, we could use the `nunique` method to find the number of unique values:"
   ]
  },
  {
   "cell_type": "code",
   "execution_count": 8,
   "metadata": {
    "slideshow": {
     "slide_type": "fragment"
    }
   },
   "outputs": [
    {
     "data": {
      "text/plain": [
       "6"
      ]
     },
     "execution_count": 8,
     "metadata": {},
     "output_type": "execute_result"
    }
   ],
   "source": [
    "conditions.nunique()"
   ]
  },
  {
   "cell_type": "markdown",
   "metadata": {
    "slideshow": {
     "slide_type": "slide"
    }
   },
   "source": [
    "`value_counts` is a very handy method to quickly summarize a Series of text data and find the most common values:"
   ]
  },
  {
   "cell_type": "code",
   "execution_count": 146,
   "metadata": {
    "scrolled": true,
    "slideshow": {
     "slide_type": "fragment"
    }
   },
   "outputs": [
    {
     "data": {
      "text/plain": [
       "Mainly Sunny     7\n",
       "Clear            7\n",
       "Sunny            4\n",
       "Partly Cloudy    4\n",
       "Mainly Clear     1\n",
       "Fog              1\n",
       "Name: Conditions, dtype: int64"
      ]
     },
     "execution_count": 146,
     "metadata": {},
     "output_type": "execute_result"
    }
   ],
   "source": [
    "conditions.value_counts()"
   ]
  },
  {
   "cell_type": "markdown",
   "metadata": {
    "slideshow": {
     "slide_type": "slide"
    }
   },
   "source": [
    "We can assign the output of `value_counts` to a variable:"
   ]
  },
  {
   "cell_type": "code",
   "execution_count": 147,
   "metadata": {
    "slideshow": {
     "slide_type": "fragment"
    }
   },
   "outputs": [],
   "source": [
    "conditions_counts = conditions.value_counts()"
   ]
  },
  {
   "cell_type": "code",
   "execution_count": 148,
   "metadata": {
    "slideshow": {
     "slide_type": "fragment"
    }
   },
   "outputs": [
    {
     "data": {
      "text/plain": [
       "Mainly Sunny     7\n",
       "Clear            7\n",
       "Sunny            4\n",
       "Partly Cloudy    4\n",
       "Mainly Clear     1\n",
       "Fog              1\n",
       "Name: Conditions, dtype: int64"
      ]
     },
     "execution_count": 148,
     "metadata": {},
     "output_type": "execute_result"
    }
   ],
   "source": [
    "conditions_counts"
   ]
  },
  {
   "cell_type": "markdown",
   "metadata": {
    "slideshow": {
     "slide_type": "subslide"
    }
   },
   "source": [
    "What data type do you think `conditions_counts` is?"
   ]
  },
  {
   "cell_type": "code",
   "execution_count": 149,
   "metadata": {
    "slideshow": {
     "slide_type": "fragment"
    }
   },
   "outputs": [
    {
     "data": {
      "text/plain": [
       "pandas.core.series.Series"
      ]
     },
     "execution_count": 149,
     "metadata": {},
     "output_type": "execute_result"
    }
   ],
   "source": [
    "type(conditions_counts)"
   ]
  },
  {
   "cell_type": "code",
   "execution_count": 150,
   "metadata": {
    "slideshow": {
     "slide_type": "fragment"
    }
   },
   "outputs": [
    {
     "data": {
      "text/plain": [
       "Index(['Mainly Sunny', 'Clear', 'Sunny', 'Partly Cloudy', 'Mainly Clear',\n",
       "       'Fog'],\n",
       "      dtype='object')"
      ]
     },
     "execution_count": 150,
     "metadata": {},
     "output_type": "execute_result"
    }
   ],
   "source": [
    "conditions_counts.index"
   ]
  },
  {
   "cell_type": "markdown",
   "metadata": {
    "slideshow": {
     "slide_type": "fragment"
    }
   },
   "source": [
    "- `conditions_counts` is a Series, with `dtype` of `int64`\n",
    "- It has text labels as its index"
   ]
  },
  {
   "cell_type": "markdown",
   "metadata": {
    "slideshow": {
     "slide_type": "slide"
    }
   },
   "source": [
    "We can plot `conditions_counts` as a vertical or horizontal bar chart. Here is a horizontal bar chart:"
   ]
  },
  {
   "cell_type": "code",
   "execution_count": 151,
   "metadata": {
    "slideshow": {
     "slide_type": "fragment"
    }
   },
   "outputs": [
    {
     "data": {
      "image/png": "[encoded data removed]",
      "text/plain": [
       "<matplotlib.figure.Figure at 0x22ff4447898>"
      ]
     },
     "metadata": {},
     "output_type": "display_data"
    }
   ],
   "source": [
    "conditions_counts.plot(kind='barh');"
   ]
  },
  {
   "cell_type": "markdown",
   "metadata": {
    "slideshow": {
     "slide_type": "slide"
    }
   },
   "source": [
    "# Messy Data\n",
    "\n",
    "`pandas` makes it very easy to spot inconsistencies and missings in your data"
   ]
  },
  {
   "cell_type": "code",
   "execution_count": 10,
   "metadata": {
    "slideshow": {
     "slide_type": "fragment"
    }
   },
   "outputs": [
    {
     "data": {
      "text/html": [
       "<div>\n",
       "<style scoped>\n",
       "    .dataframe tbody tr th:only-of-type {\n",
       "        vertical-align: middle;\n",
       "    }\n",
       "\n",
       "    .dataframe tbody tr th {\n",
       "        vertical-align: top;\n",
       "    }\n",
       "\n",
       "    .dataframe thead th {\n",
       "        text-align: right;\n",
       "    }\n",
       "</style>\n",
       "<table border=\"1\" class=\"dataframe\">\n",
       "  <thead>\n",
       "    <tr style=\"text-align: right;\">\n",
       "      <th></th>\n",
       "      <th>Datetime</th>\n",
       "      <th>Hour of Day</th>\n",
       "      <th>Conditions</th>\n",
       "      <th>Temperature (C)</th>\n",
       "      <th>Relative Humidity (%)</th>\n",
       "    </tr>\n",
       "  </thead>\n",
       "  <tbody>\n",
       "    <tr>\n",
       "      <th>0</th>\n",
       "      <td>2018-05-21 22:00</td>\n",
       "      <td>22</td>\n",
       "      <td>Mainly Clear</td>\n",
       "      <td>14.8</td>\n",
       "      <td>75.0</td>\n",
       "    </tr>\n",
       "    <tr>\n",
       "      <th>1</th>\n",
       "      <td>2018-05-21 23:00</td>\n",
       "      <td>23</td>\n",
       "      <td>Clear</td>\n",
       "      <td>13.5</td>\n",
       "      <td>76.0</td>\n",
       "    </tr>\n",
       "    <tr>\n",
       "      <th>2</th>\n",
       "      <td>2018-05-22 0:00</td>\n",
       "      <td>0</td>\n",
       "      <td>clear</td>\n",
       "      <td>NaN</td>\n",
       "      <td>NaN</td>\n",
       "    </tr>\n",
       "    <tr>\n",
       "      <th>3</th>\n",
       "      <td>2018-05-22 1:00</td>\n",
       "      <td>1</td>\n",
       "      <td>Clear</td>\n",
       "      <td>12.9</td>\n",
       "      <td>84.0</td>\n",
       "    </tr>\n",
       "    <tr>\n",
       "      <th>4</th>\n",
       "      <td>2018-05-22 2:00</td>\n",
       "      <td>2</td>\n",
       "      <td>Clear</td>\n",
       "      <td>12.2</td>\n",
       "      <td>88.0</td>\n",
       "    </tr>\n",
       "  </tbody>\n",
       "</table>\n",
       "</div>"
      ],
      "text/plain": [
       "           Datetime  Hour of Day    Conditions  Temperature (C)  \\\n",
       "0  2018-05-21 22:00           22  Mainly Clear             14.8   \n",
       "1  2018-05-21 23:00           23         Clear             13.5   \n",
       "2   2018-05-22 0:00            0         clear              NaN   \n",
       "3   2018-05-22 1:00            1         Clear             12.9   \n",
       "4   2018-05-22 2:00            2         Clear             12.2   \n",
       "\n",
       "   Relative Humidity (%)  \n",
       "0                   75.0  \n",
       "1                   76.0  \n",
       "2                    NaN  \n",
       "3                   84.0  \n",
       "4                   88.0  "
      ]
     },
     "execution_count": 10,
     "metadata": {},
     "output_type": "execute_result"
    }
   ],
   "source": [
    "messy = pd.read_csv('data/weather_YVR_messy.csv')\n",
    "messy.head()"
   ]
  },
  {
   "cell_type": "markdown",
   "metadata": {
    "slideshow": {
     "slide_type": "slide"
    }
   },
   "source": [
    "Let's check out `value_counts` for the `'Conditions'` column:"
   ]
  },
  {
   "cell_type": "code",
   "execution_count": 11,
   "metadata": {
    "slideshow": {
     "slide_type": "fragment"
    }
   },
   "outputs": [
    {
     "data": {
      "text/plain": [
       "Mainly Sunny       4\n",
       "Clear              4\n",
       "Sunny              3\n",
       "Mainly sunny       2\n",
       " Partly Cloudy     2\n",
       "Fog                1\n",
       "Partly cloudy      1\n",
       "Partly Cloudy      1\n",
       " Clear             1\n",
       "clear              1\n",
       "Mainly Sunny       1\n",
       "Mainly Clear       1\n",
       "Name: Conditions, dtype: int64"
      ]
     },
     "execution_count": 11,
     "metadata": {},
     "output_type": "execute_result"
    }
   ],
   "source": [
    "conditions_m = messy['Conditions']\n",
    "conditions_m.value_counts()"
   ]
  },
  {
   "cell_type": "markdown",
   "metadata": {
    "slideshow": {
     "slide_type": "fragment"
    }
   },
   "source": [
    "- We can see inconsistencies in capitalization and white space in these values\n",
    "- Categories that should be the same (e.g. 'Mainly Sunny' and 'Mainly sunny') are counted as separate categories"
   ]
  },
  {
   "cell_type": "markdown",
   "metadata": {
    "slideshow": {
     "slide_type": "slide"
    }
   },
   "source": [
    "The `unique` method can give some additional insights:"
   ]
  },
  {
   "cell_type": "code",
   "execution_count": 154,
   "metadata": {
    "slideshow": {
     "slide_type": "fragment"
    }
   },
   "outputs": [
    {
     "data": {
      "text/plain": [
       "array(['Mainly Clear', 'Clear', 'clear', ' Clear ', nan, 'Fog',\n",
       "       'Mainly Sunny', 'Partly Cloudy', 'Partly cloudy', ' Partly Cloudy',\n",
       "       'Mainly sunny', 'Sunny', 'Mainly Sunny   '], dtype=object)"
      ]
     },
     "execution_count": 154,
     "metadata": {},
     "output_type": "execute_result"
    }
   ],
   "source": [
    "conditions_m.unique()"
   ]
  },
  {
   "cell_type": "markdown",
   "metadata": {
    "slideshow": {
     "slide_type": "fragment"
    }
   },
   "source": [
    "- Values are sorted so that similar values values are grouped together\n",
    "- Extra leading / trailing white spaces are clearly visible\n",
    "- Missing values appear as `nan`"
   ]
  },
  {
   "cell_type": "markdown",
   "metadata": {
    "slideshow": {
     "slide_type": "slide"
    }
   },
   "source": [
    "We can see how many missing values there are with the `dropna` keyword argument to `value_counts`:"
   ]
  },
  {
   "cell_type": "code",
   "execution_count": 155,
   "metadata": {
    "slideshow": {
     "slide_type": "fragment"
    }
   },
   "outputs": [
    {
     "data": {
      "text/plain": [
       "Mainly Sunny       4\n",
       "Clear              4\n",
       "Sunny              3\n",
       "Mainly sunny       2\n",
       " Partly Cloudy     2\n",
       "NaN                2\n",
       "Fog                1\n",
       " Clear             1\n",
       "clear              1\n",
       "Partly Cloudy      1\n",
       "Mainly Clear       1\n",
       "Mainly Sunny       1\n",
       "Partly cloudy      1\n",
       "Name: Conditions, dtype: int64"
      ]
     },
     "execution_count": 155,
     "metadata": {},
     "output_type": "execute_result"
    }
   ],
   "source": [
    "conditions_m.value_counts(dropna=False)"
   ]
  },
  {
   "cell_type": "markdown",
   "metadata": {
    "slideshow": {
     "slide_type": "slide"
    }
   },
   "source": [
    "We can apply the string methods we saw earlier to the `conditions_m` to quickly and easily standardize the Series\n",
    "- Convert all values to lower case\n",
    "- Strip extra leading and trailing white space from all values"
   ]
  },
  {
   "cell_type": "code",
   "execution_count": 12,
   "metadata": {
    "slideshow": {
     "slide_type": "fragment"
    }
   },
   "outputs": [
    {
     "data": {
      "text/plain": [
       "0        mainly clear\n",
       "1               clear\n",
       "2               clear\n",
       "3               clear\n",
       "4               clear\n",
       "5              clear \n",
       "6                 NaN\n",
       "7                 fog\n",
       "8        mainly sunny\n",
       "9       partly cloudy\n",
       "10       mainly sunny\n",
       "11      partly cloudy\n",
       "12      partly cloudy\n",
       "13      partly cloudy\n",
       "14       mainly sunny\n",
       "15       mainly sunny\n",
       "16       mainly sunny\n",
       "17       mainly sunny\n",
       "18              sunny\n",
       "19    mainly sunny   \n",
       "20              sunny\n",
       "21                NaN\n",
       "22              sunny\n",
       "23              clear\n",
       "Name: Conditions, dtype: object"
      ]
     },
     "execution_count": 12,
     "metadata": {},
     "output_type": "execute_result"
    }
   ],
   "source": [
    "conditions_lower = conditions_m.str.lower()\n",
    "conditions_lower"
   ]
  },
  {
   "cell_type": "code",
   "execution_count": 13,
   "metadata": {
    "slideshow": {
     "slide_type": "fragment"
    }
   },
   "outputs": [
    {
     "data": {
      "text/plain": [
       "0      mainly clear\n",
       "1             clear\n",
       "2             clear\n",
       "3             clear\n",
       "4             clear\n",
       "5             clear\n",
       "6               NaN\n",
       "7               fog\n",
       "8      mainly sunny\n",
       "9     partly cloudy\n",
       "10     mainly sunny\n",
       "11    partly cloudy\n",
       "12    partly cloudy\n",
       "13    partly cloudy\n",
       "14     mainly sunny\n",
       "15     mainly sunny\n",
       "16     mainly sunny\n",
       "17     mainly sunny\n",
       "18            sunny\n",
       "19     mainly sunny\n",
       "20            sunny\n",
       "21              NaN\n",
       "22            sunny\n",
       "23            clear\n",
       "Name: Conditions, dtype: object"
      ]
     },
     "execution_count": 13,
     "metadata": {},
     "output_type": "execute_result"
    }
   ],
   "source": [
    "conditions_clean = conditions_lower.str.strip()\n",
    "conditions_clean"
   ]
  },
  {
   "cell_type": "markdown",
   "metadata": {
    "slideshow": {
     "slide_type": "slide"
    }
   },
   "source": [
    "The previous two steps could be consolidated into a single line of code, using method chaining:"
   ]
  },
  {
   "cell_type": "code",
   "execution_count": 15,
   "metadata": {
    "slideshow": {
     "slide_type": "fragment"
    }
   },
   "outputs": [
    {
     "data": {
      "text/plain": [
       "0      mainly clear\n",
       "1             clear\n",
       "2             clear\n",
       "3             clear\n",
       "4             clear\n",
       "5             clear\n",
       "6               NaN\n",
       "7               fog\n",
       "8      mainly sunny\n",
       "9     partly cloudy\n",
       "10     mainly sunny\n",
       "11    partly cloudy\n",
       "12    partly cloudy\n",
       "13    partly cloudy\n",
       "14     mainly sunny\n",
       "15     mainly sunny\n",
       "16     mainly sunny\n",
       "17     mainly sunny\n",
       "18            sunny\n",
       "19     mainly sunny\n",
       "20            sunny\n",
       "21              NaN\n",
       "22            sunny\n",
       "23            clear\n",
       "Name: Conditions, dtype: object"
      ]
     },
     "execution_count": 15,
     "metadata": {},
     "output_type": "execute_result"
    }
   ],
   "source": [
    "conditions_clean = conditions_m.str.lower().str.strip()\n",
    "conditions_clean"
   ]
  },
  {
   "cell_type": "code",
   "execution_count": 158,
   "metadata": {
    "slideshow": {
     "slide_type": "fragment"
    }
   },
   "outputs": [
    {
     "data": {
      "text/plain": [
       "mainly sunny     7\n",
       "clear            6\n",
       "partly cloudy    4\n",
       "sunny            3\n",
       "NaN              2\n",
       "fog              1\n",
       "mainly clear     1\n",
       "Name: Conditions, dtype: int64"
      ]
     },
     "execution_count": 158,
     "metadata": {},
     "output_type": "execute_result"
    }
   ],
   "source": [
    "conditions_clean.value_counts(dropna=False)"
   ]
  },
  {
   "cell_type": "markdown",
   "metadata": {
    "slideshow": {
     "slide_type": "slide"
    }
   },
   "source": [
    "We can add this standardized version of the `'Conditions'` column to our DataFrame and save to CSV:"
   ]
  },
  {
   "cell_type": "code",
   "execution_count": 16,
   "metadata": {
    "slideshow": {
     "slide_type": "fragment"
    }
   },
   "outputs": [
    {
     "data": {
      "text/html": [
       "<div>\n",
       "<style scoped>\n",
       "    .dataframe tbody tr th:only-of-type {\n",
       "        vertical-align: middle;\n",
       "    }\n",
       "\n",
       "    .dataframe tbody tr th {\n",
       "        vertical-align: top;\n",
       "    }\n",
       "\n",
       "    .dataframe thead th {\n",
       "        text-align: right;\n",
       "    }\n",
       "</style>\n",
       "<table border=\"1\" class=\"dataframe\">\n",
       "  <thead>\n",
       "    <tr style=\"text-align: right;\">\n",
       "      <th></th>\n",
       "      <th>Datetime</th>\n",
       "      <th>Hour of Day</th>\n",
       "      <th>Conditions</th>\n",
       "      <th>Temperature (C)</th>\n",
       "      <th>Relative Humidity (%)</th>\n",
       "      <th>Conditions (standardized)</th>\n",
       "    </tr>\n",
       "  </thead>\n",
       "  <tbody>\n",
       "    <tr>\n",
       "      <th>0</th>\n",
       "      <td>2018-05-21 22:00</td>\n",
       "      <td>22</td>\n",
       "      <td>Mainly Clear</td>\n",
       "      <td>14.8</td>\n",
       "      <td>75.0</td>\n",
       "      <td>mainly clear</td>\n",
       "    </tr>\n",
       "    <tr>\n",
       "      <th>1</th>\n",
       "      <td>2018-05-21 23:00</td>\n",
       "      <td>23</td>\n",
       "      <td>Clear</td>\n",
       "      <td>13.5</td>\n",
       "      <td>76.0</td>\n",
       "      <td>clear</td>\n",
       "    </tr>\n",
       "    <tr>\n",
       "      <th>2</th>\n",
       "      <td>2018-05-22 0:00</td>\n",
       "      <td>0</td>\n",
       "      <td>clear</td>\n",
       "      <td>NaN</td>\n",
       "      <td>NaN</td>\n",
       "      <td>clear</td>\n",
       "    </tr>\n",
       "    <tr>\n",
       "      <th>3</th>\n",
       "      <td>2018-05-22 1:00</td>\n",
       "      <td>1</td>\n",
       "      <td>Clear</td>\n",
       "      <td>12.9</td>\n",
       "      <td>84.0</td>\n",
       "      <td>clear</td>\n",
       "    </tr>\n",
       "    <tr>\n",
       "      <th>4</th>\n",
       "      <td>2018-05-22 2:00</td>\n",
       "      <td>2</td>\n",
       "      <td>Clear</td>\n",
       "      <td>12.2</td>\n",
       "      <td>88.0</td>\n",
       "      <td>clear</td>\n",
       "    </tr>\n",
       "  </tbody>\n",
       "</table>\n",
       "</div>"
      ],
      "text/plain": [
       "           Datetime  Hour of Day    Conditions  Temperature (C)  \\\n",
       "0  2018-05-21 22:00           22  Mainly Clear             14.8   \n",
       "1  2018-05-21 23:00           23         Clear             13.5   \n",
       "2   2018-05-22 0:00            0         clear              NaN   \n",
       "3   2018-05-22 1:00            1         Clear             12.9   \n",
       "4   2018-05-22 2:00            2         Clear             12.2   \n",
       "\n",
       "   Relative Humidity (%) Conditions (standardized)  \n",
       "0                   75.0              mainly clear  \n",
       "1                   76.0                     clear  \n",
       "2                    NaN                     clear  \n",
       "3                   84.0                     clear  \n",
       "4                   88.0                     clear  "
      ]
     },
     "execution_count": 16,
     "metadata": {},
     "output_type": "execute_result"
    }
   ],
   "source": [
    "messy['Conditions (standardized)'] = conditions_clean\n",
    "messy.head()"
   ]
  },
  {
   "cell_type": "code",
   "execution_count": 17,
   "metadata": {
    "slideshow": {
     "slide_type": "fragment"
    }
   },
   "outputs": [],
   "source": [
    "messy.to_csv('data/weather_YVR_cleaned.csv')"
   ]
  },
  {
   "cell_type": "markdown",
   "metadata": {
    "slideshow": {
     "slide_type": "slide"
    }
   },
   "source": [
    "# Notebooks vs. Scripts\n",
    "\n",
    "So far our workflow has been exploratory and interactive:"
   ]
  },
  {
   "cell_type": "markdown",
   "metadata": {
    "slideshow": {
     "slide_type": "fragment"
    }
   },
   "source": [
    "![](img/workflow0.png)"
   ]
  },
  {
   "cell_type": "markdown",
   "metadata": {
    "slideshow": {
     "slide_type": "-"
    }
   },
   "source": [
    "Fernando Perez (creator of IPython and Jupyter) calls this \"humans in the loop\""
   ]
  },
  {
   "cell_type": "markdown",
   "metadata": {
    "slideshow": {
     "slide_type": "subslide"
    }
   },
   "source": [
    "- Write a bit of code\n",
    "- Run the code\n",
    "- Look at the output and see what's interesting, what needs to be done next, new questions to ask\n",
    "- Write a bit more code\n",
    "- and so on..."
   ]
  },
  {
   "cell_type": "markdown",
   "metadata": {
    "slideshow": {
     "slide_type": "slide"
    }
   },
   "source": [
    "Sometimes, we might want to develop a more automated workflow for tasks we need to do over and over."
   ]
  },
  {
   "cell_type": "markdown",
   "metadata": {
    "slideshow": {
     "slide_type": "-"
    }
   },
   "source": [
    "![](img/workflow1.png)"
   ]
  },
  {
   "cell_type": "markdown",
   "metadata": {
    "slideshow": {
     "slide_type": "fragment"
    }
   },
   "source": [
    "- Suppose we have a bunch of CSV files with messy weather data similar to the previous example\n",
    "- We might want to repeat the above steps to process each file and save the standardized data to new files\n",
    "- We could adapt the code from our notebook into a Python **script**"
   ]
  },
  {
   "cell_type": "markdown",
   "metadata": {
    "slideshow": {
     "slide_type": "fragment"
    }
   },
   "source": [
    "*See the extra section \"Automating Tasks with Scripts\" in `Lessons.ipynb` to learn how to create and run a script in Jupyter Lab*"
   ]
  },
  {
   "cell_type": "markdown",
   "metadata": {
    "slideshow": {
     "slide_type": "skip"
    }
   },
   "source": [
    "# Automating Tasks with Scripts\n",
    "\n",
    "### Writing a Script\n",
    "\n",
    "- In Jupyter Lab, make sure you're in the main folder with your workshop files\n",
    "- From the Launcher, click the \"Text Editor\" icon near the bottom\n",
    "- A new text file is created&mdash;rename it from \"untitled.txt\" to \"my_script.py\"\n",
    "- Copy the relevant lines of code from the messy data example in our notebook into \"my_script.py\". You'll want to include the following steps in your script:\n",
    "  - Import `pandas` library\n",
    "  - Read `'data/weather_YVR_messy.csv'` into a DataFrame\n",
    "  - Apply the `strip` and `lower` string methods to the `'Conditions'` column of the DataFrame\n",
    "  - You can add the cleaned data as a new column (e.g. `'Conditions (standardized)'`) or simply over-write the `'Conditions'` column with the cleaned data\n",
    "  - Save the cleaned data to a new CSV file\n",
    "- Press Ctrl-S (or Cmd-S on Mac) to make sure \"my_script.py\" is saved\n",
    "- To see an example of what this would look like, check out \"example_script.py\"\n",
    "\n",
    "### Running a Script\n",
    "\n",
    "- From the Launcher in Jupyter Lab, click the \"Terminal\" icon near the bottom\n",
    "- To the left of the command prompt, it will show what folder you're in\n",
    "  - This might not be the workshop folder&mdash;you might be in your main user folder\n",
    "- To navigate to your workshop folder, use the command `cd` followed by the relative path of the folder:\n",
    "  - For example, on my computer, the terminal opens in the folder `C:\\Users\\jenfly`. From here, I use the command:\n",
    "```\n",
    "cd Projects\\pydata-intro-workshop\n",
    "```\n",
    "  - This will change my working folder to be `C:\\Users\\jenfly\\Projects\\pydata-intro-workshop`, which will now appear to the left of the prompt\n",
    "  - On your computer, you'll want to substitute the appropriate folder names, and if you're on a Mac, use forward slashes `/` instead of back slashes `\\`\n",
    "- Now that you're in the correct folder, run the following command at the prompt to run your script:\n",
    "```\n",
    "python my_script.py\n",
    "```\n",
    "- If everything worked, the script will execute with no error messages and the new CSV file with the cleaned data will have been created!\n",
    "  - Incorporating `print` statements into your script can help you verify that it's running properly. For an example of this, try running the sample script:\n",
    "```\n",
    "python example_script.py\n",
    "```"
   ]
  },
  {
   "cell_type": "markdown",
   "metadata": {
    "slideshow": {
     "slide_type": "slide"
    }
   },
   "source": [
    "# Missing Data\n",
    "\n",
    "- We saw from `conditions_m.value_counts(dropna=False)` that there are 2 missing values in `conditions_m`\n",
    "- With any data that we're working with, it's good to know:\n",
    "  - How many values are missing?\n",
    "  - Where are the empty cells located in our DataFrame (or Series)?"
   ]
  },
  {
   "cell_type": "markdown",
   "metadata": {
    "slideshow": {
     "slide_type": "slide"
    }
   },
   "source": [
    "We can use the `isnull` method to locate missing values"
   ]
  },
  {
   "cell_type": "code",
   "execution_count": 162,
   "metadata": {
    "slideshow": {
     "slide_type": "fragment"
    }
   },
   "outputs": [
    {
     "data": {
      "text/plain": [
       "0     False\n",
       "1     False\n",
       "2     False\n",
       "3     False\n",
       "4     False\n",
       "5     False\n",
       "6      True\n",
       "7     False\n",
       "8     False\n",
       "9     False\n",
       "10    False\n",
       "11    False\n",
       "12    False\n",
       "13    False\n",
       "14    False\n",
       "15    False\n",
       "16    False\n",
       "17    False\n",
       "18    False\n",
       "19    False\n",
       "20    False\n",
       "21     True\n",
       "22    False\n",
       "23    False\n",
       "Name: Conditions, dtype: bool"
      ]
     },
     "execution_count": 162,
     "metadata": {},
     "output_type": "execute_result"
    }
   ],
   "source": [
    "missing_conditions = conditions_m.isnull()\n",
    "missing_conditions"
   ]
  },
  {
   "cell_type": "markdown",
   "metadata": {
    "slideshow": {
     "slide_type": "fragment"
    }
   },
   "source": [
    "- `missing_conditions` is a Series of Booleans, with `True` where the value in `conditions_m` is missing and `False` where it is not missing"
   ]
  },
  {
   "cell_type": "markdown",
   "metadata": {
    "slideshow": {
     "slide_type": "fragment"
    }
   },
   "source": [
    "- We can count the missings using the `sum` method:\n",
    "  - Adds up all the values in the Series, treating `True` as 1 and `False` as 0"
   ]
  },
  {
   "cell_type": "code",
   "execution_count": 163,
   "metadata": {
    "slideshow": {
     "slide_type": "fragment"
    }
   },
   "outputs": [
    {
     "data": {
      "text/plain": [
       "2"
      ]
     },
     "execution_count": 163,
     "metadata": {},
     "output_type": "execute_result"
    }
   ],
   "source": [
    "missing_conditions.sum()"
   ]
  },
  {
   "cell_type": "markdown",
   "metadata": {
    "slideshow": {
     "slide_type": "slide"
    }
   },
   "source": [
    "The `isnull` method can be applied to an entire DataFrame:"
   ]
  },
  {
   "cell_type": "code",
   "execution_count": 18,
   "metadata": {
    "slideshow": {
     "slide_type": "fragment"
    }
   },
   "outputs": [
    {
     "data": {
      "text/html": [
       "<div>\n",
       "<style scoped>\n",
       "    .dataframe tbody tr th:only-of-type {\n",
       "        vertical-align: middle;\n",
       "    }\n",
       "\n",
       "    .dataframe tbody tr th {\n",
       "        vertical-align: top;\n",
       "    }\n",
       "\n",
       "    .dataframe thead th {\n",
       "        text-align: right;\n",
       "    }\n",
       "</style>\n",
       "<table border=\"1\" class=\"dataframe\">\n",
       "  <thead>\n",
       "    <tr style=\"text-align: right;\">\n",
       "      <th></th>\n",
       "      <th>Datetime</th>\n",
       "      <th>Hour of Day</th>\n",
       "      <th>Conditions</th>\n",
       "      <th>Temperature (C)</th>\n",
       "      <th>Relative Humidity (%)</th>\n",
       "      <th>Conditions (standardized)</th>\n",
       "    </tr>\n",
       "  </thead>\n",
       "  <tbody>\n",
       "    <tr>\n",
       "      <th>0</th>\n",
       "      <td>False</td>\n",
       "      <td>False</td>\n",
       "      <td>False</td>\n",
       "      <td>False</td>\n",
       "      <td>False</td>\n",
       "      <td>False</td>\n",
       "    </tr>\n",
       "    <tr>\n",
       "      <th>1</th>\n",
       "      <td>False</td>\n",
       "      <td>False</td>\n",
       "      <td>False</td>\n",
       "      <td>False</td>\n",
       "      <td>False</td>\n",
       "      <td>False</td>\n",
       "    </tr>\n",
       "    <tr>\n",
       "      <th>2</th>\n",
       "      <td>False</td>\n",
       "      <td>False</td>\n",
       "      <td>False</td>\n",
       "      <td>True</td>\n",
       "      <td>True</td>\n",
       "      <td>False</td>\n",
       "    </tr>\n",
       "    <tr>\n",
       "      <th>3</th>\n",
       "      <td>False</td>\n",
       "      <td>False</td>\n",
       "      <td>False</td>\n",
       "      <td>False</td>\n",
       "      <td>False</td>\n",
       "      <td>False</td>\n",
       "    </tr>\n",
       "    <tr>\n",
       "      <th>4</th>\n",
       "      <td>False</td>\n",
       "      <td>False</td>\n",
       "      <td>False</td>\n",
       "      <td>False</td>\n",
       "      <td>False</td>\n",
       "      <td>False</td>\n",
       "    </tr>\n",
       "    <tr>\n",
       "      <th>5</th>\n",
       "      <td>False</td>\n",
       "      <td>False</td>\n",
       "      <td>False</td>\n",
       "      <td>False</td>\n",
       "      <td>True</td>\n",
       "      <td>False</td>\n",
       "    </tr>\n",
       "    <tr>\n",
       "      <th>6</th>\n",
       "      <td>False</td>\n",
       "      <td>False</td>\n",
       "      <td>True</td>\n",
       "      <td>False</td>\n",
       "      <td>False</td>\n",
       "      <td>True</td>\n",
       "    </tr>\n",
       "    <tr>\n",
       "      <th>7</th>\n",
       "      <td>False</td>\n",
       "      <td>False</td>\n",
       "      <td>False</td>\n",
       "      <td>False</td>\n",
       "      <td>False</td>\n",
       "      <td>False</td>\n",
       "    </tr>\n",
       "    <tr>\n",
       "      <th>8</th>\n",
       "      <td>False</td>\n",
       "      <td>False</td>\n",
       "      <td>False</td>\n",
       "      <td>False</td>\n",
       "      <td>False</td>\n",
       "      <td>False</td>\n",
       "    </tr>\n",
       "    <tr>\n",
       "      <th>9</th>\n",
       "      <td>False</td>\n",
       "      <td>False</td>\n",
       "      <td>False</td>\n",
       "      <td>False</td>\n",
       "      <td>False</td>\n",
       "      <td>False</td>\n",
       "    </tr>\n",
       "    <tr>\n",
       "      <th>10</th>\n",
       "      <td>False</td>\n",
       "      <td>False</td>\n",
       "      <td>False</td>\n",
       "      <td>False</td>\n",
       "      <td>False</td>\n",
       "      <td>False</td>\n",
       "    </tr>\n",
       "    <tr>\n",
       "      <th>11</th>\n",
       "      <td>False</td>\n",
       "      <td>False</td>\n",
       "      <td>False</td>\n",
       "      <td>True</td>\n",
       "      <td>False</td>\n",
       "      <td>False</td>\n",
       "    </tr>\n",
       "    <tr>\n",
       "      <th>12</th>\n",
       "      <td>False</td>\n",
       "      <td>False</td>\n",
       "      <td>False</td>\n",
       "      <td>False</td>\n",
       "      <td>False</td>\n",
       "      <td>False</td>\n",
       "    </tr>\n",
       "    <tr>\n",
       "      <th>13</th>\n",
       "      <td>False</td>\n",
       "      <td>False</td>\n",
       "      <td>False</td>\n",
       "      <td>False</td>\n",
       "      <td>False</td>\n",
       "      <td>False</td>\n",
       "    </tr>\n",
       "    <tr>\n",
       "      <th>14</th>\n",
       "      <td>False</td>\n",
       "      <td>False</td>\n",
       "      <td>False</td>\n",
       "      <td>False</td>\n",
       "      <td>False</td>\n",
       "      <td>False</td>\n",
       "    </tr>\n",
       "    <tr>\n",
       "      <th>15</th>\n",
       "      <td>False</td>\n",
       "      <td>False</td>\n",
       "      <td>False</td>\n",
       "      <td>False</td>\n",
       "      <td>False</td>\n",
       "      <td>False</td>\n",
       "    </tr>\n",
       "    <tr>\n",
       "      <th>16</th>\n",
       "      <td>False</td>\n",
       "      <td>False</td>\n",
       "      <td>False</td>\n",
       "      <td>False</td>\n",
       "      <td>False</td>\n",
       "      <td>False</td>\n",
       "    </tr>\n",
       "    <tr>\n",
       "      <th>17</th>\n",
       "      <td>False</td>\n",
       "      <td>False</td>\n",
       "      <td>False</td>\n",
       "      <td>False</td>\n",
       "      <td>True</td>\n",
       "      <td>False</td>\n",
       "    </tr>\n",
       "    <tr>\n",
       "      <th>18</th>\n",
       "      <td>False</td>\n",
       "      <td>False</td>\n",
       "      <td>False</td>\n",
       "      <td>False</td>\n",
       "      <td>False</td>\n",
       "      <td>False</td>\n",
       "    </tr>\n",
       "    <tr>\n",
       "      <th>19</th>\n",
       "      <td>False</td>\n",
       "      <td>False</td>\n",
       "      <td>False</td>\n",
       "      <td>False</td>\n",
       "      <td>False</td>\n",
       "      <td>False</td>\n",
       "    </tr>\n",
       "    <tr>\n",
       "      <th>20</th>\n",
       "      <td>False</td>\n",
       "      <td>False</td>\n",
       "      <td>False</td>\n",
       "      <td>False</td>\n",
       "      <td>False</td>\n",
       "      <td>False</td>\n",
       "    </tr>\n",
       "    <tr>\n",
       "      <th>21</th>\n",
       "      <td>False</td>\n",
       "      <td>False</td>\n",
       "      <td>True</td>\n",
       "      <td>False</td>\n",
       "      <td>False</td>\n",
       "      <td>True</td>\n",
       "    </tr>\n",
       "    <tr>\n",
       "      <th>22</th>\n",
       "      <td>False</td>\n",
       "      <td>False</td>\n",
       "      <td>False</td>\n",
       "      <td>False</td>\n",
       "      <td>False</td>\n",
       "      <td>False</td>\n",
       "    </tr>\n",
       "    <tr>\n",
       "      <th>23</th>\n",
       "      <td>False</td>\n",
       "      <td>False</td>\n",
       "      <td>False</td>\n",
       "      <td>False</td>\n",
       "      <td>False</td>\n",
       "      <td>False</td>\n",
       "    </tr>\n",
       "  </tbody>\n",
       "</table>\n",
       "</div>"
      ],
      "text/plain": [
       "    Datetime  Hour of Day  Conditions  Temperature (C)  Relative Humidity (%)  \\\n",
       "0      False        False       False            False                  False   \n",
       "1      False        False       False            False                  False   \n",
       "2      False        False       False             True                   True   \n",
       "3      False        False       False            False                  False   \n",
       "4      False        False       False            False                  False   \n",
       "5      False        False       False            False                   True   \n",
       "6      False        False        True            False                  False   \n",
       "7      False        False       False            False                  False   \n",
       "8      False        False       False            False                  False   \n",
       "9      False        False       False            False                  False   \n",
       "10     False        False       False            False                  False   \n",
       "11     False        False       False             True                  False   \n",
       "12     False        False       False            False                  False   \n",
       "13     False        False       False            False                  False   \n",
       "14     False        False       False            False                  False   \n",
       "15     False        False       False            False                  False   \n",
       "16     False        False       False            False                  False   \n",
       "17     False        False       False            False                   True   \n",
       "18     False        False       False            False                  False   \n",
       "19     False        False       False            False                  False   \n",
       "20     False        False       False            False                  False   \n",
       "21     False        False        True            False                  False   \n",
       "22     False        False       False            False                  False   \n",
       "23     False        False       False            False                  False   \n",
       "\n",
       "    Conditions (standardized)  \n",
       "0                       False  \n",
       "1                       False  \n",
       "2                       False  \n",
       "3                       False  \n",
       "4                       False  \n",
       "5                       False  \n",
       "6                        True  \n",
       "7                       False  \n",
       "8                       False  \n",
       "9                       False  \n",
       "10                      False  \n",
       "11                      False  \n",
       "12                      False  \n",
       "13                      False  \n",
       "14                      False  \n",
       "15                      False  \n",
       "16                      False  \n",
       "17                      False  \n",
       "18                      False  \n",
       "19                      False  \n",
       "20                      False  \n",
       "21                       True  \n",
       "22                      False  \n",
       "23                      False  "
      ]
     },
     "execution_count": 18,
     "metadata": {},
     "output_type": "execute_result"
    }
   ],
   "source": [
    "missings = messy.isnull()\n",
    "missings"
   ]
  },
  {
   "cell_type": "markdown",
   "metadata": {
    "slideshow": {
     "slide_type": "fragment"
    }
   },
   "source": [
    "- We can find the number of missings in each column of the DataFrame with the `sum` method:\n",
    "  - Computes the sum along each column"
   ]
  },
  {
   "cell_type": "code",
   "execution_count": 165,
   "metadata": {
    "slideshow": {
     "slide_type": "fragment"
    }
   },
   "outputs": [
    {
     "data": {
      "text/plain": [
       "Datetime                 0\n",
       "Hour of Day              0\n",
       "Conditions               2\n",
       "Temperature (C)          2\n",
       "Relative Humidity (%)    3\n",
       "dtype: int64"
      ]
     },
     "execution_count": 165,
     "metadata": {},
     "output_type": "execute_result"
    }
   ],
   "source": [
    "missings.sum()"
   ]
  },
  {
   "cell_type": "markdown",
   "metadata": {
    "slideshow": {
     "slide_type": "fragment"
    }
   },
   "source": [
    "If you need to fill your missing data, there are many tools that can be used, such as the `pandas` methods `fillna` and `interpolate`"
   ]
  },
  {
   "cell_type": "markdown",
   "metadata": {
    "slideshow": {
     "slide_type": "slide"
    }
   },
   "source": [
    "<a id=\"recap\"></a>\n",
    "# Recap 3\n",
    "\n",
    "### Counting Unique Values\n",
    "\n",
    "Unique values in a Series: \n",
    "```\n",
    "series.unique()\n",
    "```\n",
    "\n",
    "Number of unique values in a Series:\n",
    "```\n",
    "series.nunique()\n",
    "```\n",
    "or you could use `len(series.unique())`\n",
    "\n",
    "\n",
    "Counts of each unique value in a Series\n",
    "- Excluding missing values:\n",
    "```\n",
    "series.value_counts()\n",
    "```\n",
    "- Including missing values:\n",
    "```\n",
    "series.value_counts(dropna=False)\n",
    "```\n",
    "\n",
    "### Bar Charts\n",
    "\n",
    "Plot a horizontal bar chart of a Series: \n",
    "```\n",
    "series.plot(kind='barh')\n",
    "```\n",
    "For a vertical bar chart, use `kind='bar'`.\n",
    "\n",
    "### Text Processing\n",
    "\n",
    "Apply string methods to a text Series&mdash;use string methods in `series.str`:\n",
    "```\n",
    "series_lower = series.str.lower()\n",
    "```\n",
    "Apply multiple methods with method chaining:\n",
    "```\n",
    "series_lower_stripped = series.str.lower().str.strip()\n",
    "```\n",
    "  \n",
    "  \n",
    "### Missing Data\n",
    "\n",
    "Locate missing values in a Series or DataFrame\n",
    "```\n",
    "data.isnull()\n",
    "```\n",
    "\n",
    "Calculate the total number of missing values in a Series, or in each column of a DataFrame: \n",
    "```\n",
    "data.isnull().sum()\n",
    "```"
   ]
  },
  {
   "cell_type": "markdown",
   "metadata": {
    "slideshow": {
     "slide_type": "slide"
    }
   },
   "source": [
    "# Exercise 3\n",
    "\n",
    "a) Familiarize yourself with the file `'data/weather_airport_stations.csv'` in the Jupyter Lab CSV viewer, and then read it into a new variable `weather_all`\n",
    "- Display a random sampling of 10 rows\n",
    "- How many rows and columns does the data have?\n",
    "- What are the lowest and highest temperatures in the data?\n",
    "\n",
    "b) How many unique Station Names and Datetimes are in the data? List the unique values.\n",
    "\n",
    "c) What are the three most common Conditions and the three most common Wind Directions?\n",
    "\n",
    "d) Which column has the most missing values? How many are missing in this column?\n",
    "\n",
    "#### Bonus exercises\n",
    "\n",
    "e) How many temperatures in `weather_all` are less than 0 and how many are greater than 20?\n",
    "- *Hint: review the comparison operators in the \"Booleans\" section of `Lesson_0.ipynb`*\n",
    "\n",
    "f) Work through the steps in the \"Automating Tasks with Scripts\" section in `Lesson_3.ipynb` to create and run a script in Jupyter Lab"
   ]
  },
  {
   "cell_type": "markdown",
   "metadata": {
    "slideshow": {
     "slide_type": "slide"
    }
   },
   "source": [
    "a) Read the file `'data/weather_airport_stations.csv'` into a new variable `weather_all`.\n",
    "\n",
    "- A random sampling of 10 rows of `weather_all`:"
   ]
  },
  {
   "cell_type": "code",
   "execution_count": null,
   "metadata": {},
   "outputs": [],
   "source": []
  },
  {
   "cell_type": "code",
   "execution_count": 19,
   "metadata": {
    "slideshow": {
     "slide_type": "subslide"
    }
   },
   "outputs": [
    {
     "data": {
      "text/html": [
       "<div>\n",
       "<style scoped>\n",
       "    .dataframe tbody tr th:only-of-type {\n",
       "        vertical-align: middle;\n",
       "    }\n",
       "\n",
       "    .dataframe tbody tr th {\n",
       "        vertical-align: top;\n",
       "    }\n",
       "\n",
       "    .dataframe thead th {\n",
       "        text-align: right;\n",
       "    }\n",
       "</style>\n",
       "<table border=\"1\" class=\"dataframe\">\n",
       "  <thead>\n",
       "    <tr style=\"text-align: right;\">\n",
       "      <th></th>\n",
       "      <th>Datetime</th>\n",
       "      <th>Timezone</th>\n",
       "      <th>Hour of Day</th>\n",
       "      <th>Station ID</th>\n",
       "      <th>Station Name</th>\n",
       "      <th>Latitude</th>\n",
       "      <th>Longitude</th>\n",
       "      <th>Conditions</th>\n",
       "      <th>Temperature (C)</th>\n",
       "      <th>Relative Humidity (%)</th>\n",
       "      <th>Dew Point (C)</th>\n",
       "      <th>Humidex (C)</th>\n",
       "      <th>Pressure (kPa)</th>\n",
       "      <th>Visibility (km)</th>\n",
       "      <th>Wind Direction</th>\n",
       "      <th>Wind Speed (km/hr)</th>\n",
       "      <th>Wind Chill (C)</th>\n",
       "    </tr>\n",
       "  </thead>\n",
       "  <tbody>\n",
       "    <tr>\n",
       "      <th>182</th>\n",
       "      <td>2018-05-22 13:00</td>\n",
       "      <td>Canada/Mountain</td>\n",
       "      <td>13</td>\n",
       "      <td>YYC</td>\n",
       "      <td>Calgary Int'l Airport</td>\n",
       "      <td>51.12</td>\n",
       "      <td>-114.01</td>\n",
       "      <td>Mainly Sunny</td>\n",
       "      <td>23.2</td>\n",
       "      <td>31.0</td>\n",
       "      <td>5.0</td>\n",
       "      <td>NaN</td>\n",
       "      <td>101.6</td>\n",
       "      <td>64.0</td>\n",
       "      <td>S</td>\n",
       "      <td>18.0</td>\n",
       "      <td>NaN</td>\n",
       "    </tr>\n",
       "    <tr>\n",
       "      <th>241</th>\n",
       "      <td>2018-05-22 1:00</td>\n",
       "      <td>Canada/Central</td>\n",
       "      <td>1</td>\n",
       "      <td>YWG</td>\n",
       "      <td>Winnipeg Richardson Int'l Airport</td>\n",
       "      <td>49.91</td>\n",
       "      <td>-97.24</td>\n",
       "      <td>Clear</td>\n",
       "      <td>14.8</td>\n",
       "      <td>35.0</td>\n",
       "      <td>0.0</td>\n",
       "      <td>NaN</td>\n",
       "      <td>101.3</td>\n",
       "      <td>24.0</td>\n",
       "      <td>S</td>\n",
       "      <td>16.0</td>\n",
       "      <td>NaN</td>\n",
       "    </tr>\n",
       "    <tr>\n",
       "      <th>443</th>\n",
       "      <td>2018-05-22 13:00</td>\n",
       "      <td>Canada/Atlantic</td>\n",
       "      <td>13</td>\n",
       "      <td>YYG</td>\n",
       "      <td>Charlottetown Airport</td>\n",
       "      <td>46.29</td>\n",
       "      <td>-63.12</td>\n",
       "      <td>Mostly Cloudy</td>\n",
       "      <td>13.3</td>\n",
       "      <td>44.0</td>\n",
       "      <td>1.0</td>\n",
       "      <td>NaN</td>\n",
       "      <td>102.2</td>\n",
       "      <td>24.0</td>\n",
       "      <td>SSW</td>\n",
       "      <td>19.0</td>\n",
       "      <td>*</td>\n",
       "    </tr>\n",
       "    <tr>\n",
       "      <th>48</th>\n",
       "      <td>2018-05-21 22:00</td>\n",
       "      <td>Canada/Pacific</td>\n",
       "      <td>22</td>\n",
       "      <td>YXS</td>\n",
       "      <td>Prince George Airport</td>\n",
       "      <td>53.88</td>\n",
       "      <td>-122.68</td>\n",
       "      <td>Clear</td>\n",
       "      <td>10.3</td>\n",
       "      <td>76.0</td>\n",
       "      <td>6.0</td>\n",
       "      <td>NaN</td>\n",
       "      <td>101.5</td>\n",
       "      <td>16.0</td>\n",
       "      <td>N</td>\n",
       "      <td>4.0</td>\n",
       "      <td>NaN</td>\n",
       "    </tr>\n",
       "    <tr>\n",
       "      <th>235</th>\n",
       "      <td>2018-05-22 18:00</td>\n",
       "      <td>Canada/Central</td>\n",
       "      <td>18</td>\n",
       "      <td>YQR</td>\n",
       "      <td>Regina Int'l Airport</td>\n",
       "      <td>50.43</td>\n",
       "      <td>-104.67</td>\n",
       "      <td>Mostly Cloudy</td>\n",
       "      <td>21.2</td>\n",
       "      <td>53.0</td>\n",
       "      <td>11.0</td>\n",
       "      <td>23.0</td>\n",
       "      <td>101.4</td>\n",
       "      <td>24.0</td>\n",
       "      <td>SE</td>\n",
       "      <td>26.0</td>\n",
       "      <td>NaN</td>\n",
       "    </tr>\n",
       "    <tr>\n",
       "      <th>133</th>\n",
       "      <td>2018-05-22 14:00</td>\n",
       "      <td>Canada/Eastern</td>\n",
       "      <td>14</td>\n",
       "      <td>YFB</td>\n",
       "      <td>Iqaluit Airport</td>\n",
       "      <td>63.76</td>\n",
       "      <td>-68.56</td>\n",
       "      <td>Mostly Cloudy</td>\n",
       "      <td>-2.8</td>\n",
       "      <td>76.0</td>\n",
       "      <td>-7.0</td>\n",
       "      <td>NaN</td>\n",
       "      <td>100.8</td>\n",
       "      <td>19.0</td>\n",
       "      <td>NW</td>\n",
       "      <td>37.0</td>\n",
       "      <td>-11</td>\n",
       "    </tr>\n",
       "    <tr>\n",
       "      <th>54</th>\n",
       "      <td>2018-05-22 4:00</td>\n",
       "      <td>Canada/Pacific</td>\n",
       "      <td>4</td>\n",
       "      <td>YXS</td>\n",
       "      <td>Prince George Airport</td>\n",
       "      <td>53.88</td>\n",
       "      <td>-122.68</td>\n",
       "      <td>Clear</td>\n",
       "      <td>4.9</td>\n",
       "      <td>91.0</td>\n",
       "      <td>4.0</td>\n",
       "      <td>NaN</td>\n",
       "      <td>101.5</td>\n",
       "      <td>16.0</td>\n",
       "      <td>SSE</td>\n",
       "      <td>4.0</td>\n",
       "      <td>NaN</td>\n",
       "    </tr>\n",
       "    <tr>\n",
       "      <th>162</th>\n",
       "      <td>2018-05-22 17:00</td>\n",
       "      <td>Canada/Mountain</td>\n",
       "      <td>17</td>\n",
       "      <td>YEG</td>\n",
       "      <td>Edmonton Int'l Airport</td>\n",
       "      <td>53.31</td>\n",
       "      <td>-113.58</td>\n",
       "      <td>Partly Cloudy</td>\n",
       "      <td>27.3</td>\n",
       "      <td>21.0</td>\n",
       "      <td>4.0</td>\n",
       "      <td>NaN</td>\n",
       "      <td>101.4</td>\n",
       "      <td>24.0</td>\n",
       "      <td>E</td>\n",
       "      <td>11.0</td>\n",
       "      <td>NaN</td>\n",
       "    </tr>\n",
       "    <tr>\n",
       "      <th>446</th>\n",
       "      <td>2018-05-22 16:00</td>\n",
       "      <td>Canada/Atlantic</td>\n",
       "      <td>16</td>\n",
       "      <td>YYG</td>\n",
       "      <td>Charlottetown Airport</td>\n",
       "      <td>46.29</td>\n",
       "      <td>-63.12</td>\n",
       "      <td>Mostly Cloudy</td>\n",
       "      <td>15.9</td>\n",
       "      <td>30.0</td>\n",
       "      <td>-2.0</td>\n",
       "      <td>NaN</td>\n",
       "      <td>101.8</td>\n",
       "      <td>24.0</td>\n",
       "      <td>S</td>\n",
       "      <td>21.0</td>\n",
       "      <td>*</td>\n",
       "    </tr>\n",
       "    <tr>\n",
       "      <th>428</th>\n",
       "      <td>2018-05-22 22:00</td>\n",
       "      <td>Canada/Atlantic</td>\n",
       "      <td>22</td>\n",
       "      <td>YHZ</td>\n",
       "      <td>Halifax Stanfield Int'l Airport</td>\n",
       "      <td>44.88</td>\n",
       "      <td>-63.51</td>\n",
       "      <td>Cloudy</td>\n",
       "      <td>10.8</td>\n",
       "      <td>77.0</td>\n",
       "      <td>7.0</td>\n",
       "      <td>NaN</td>\n",
       "      <td>101.8</td>\n",
       "      <td>24.0</td>\n",
       "      <td>S</td>\n",
       "      <td>19.0</td>\n",
       "      <td>NaN</td>\n",
       "    </tr>\n",
       "  </tbody>\n",
       "</table>\n",
       "</div>"
      ],
      "text/plain": [
       "             Datetime         Timezone  Hour of Day Station ID  \\\n",
       "182  2018-05-22 13:00  Canada/Mountain           13        YYC   \n",
       "241   2018-05-22 1:00   Canada/Central            1        YWG   \n",
       "443  2018-05-22 13:00  Canada/Atlantic           13        YYG   \n",
       "48   2018-05-21 22:00   Canada/Pacific           22        YXS   \n",
       "235  2018-05-22 18:00   Canada/Central           18        YQR   \n",
       "133  2018-05-22 14:00   Canada/Eastern           14        YFB   \n",
       "54    2018-05-22 4:00   Canada/Pacific            4        YXS   \n",
       "162  2018-05-22 17:00  Canada/Mountain           17        YEG   \n",
       "446  2018-05-22 16:00  Canada/Atlantic           16        YYG   \n",
       "428  2018-05-22 22:00  Canada/Atlantic           22        YHZ   \n",
       "\n",
       "                          Station Name  Latitude  Longitude     Conditions  \\\n",
       "182              Calgary Int'l Airport     51.12    -114.01   Mainly Sunny   \n",
       "241  Winnipeg Richardson Int'l Airport     49.91     -97.24          Clear   \n",
       "443              Charlottetown Airport     46.29     -63.12  Mostly Cloudy   \n",
       "48               Prince George Airport     53.88    -122.68          Clear   \n",
       "235               Regina Int'l Airport     50.43    -104.67  Mostly Cloudy   \n",
       "133                    Iqaluit Airport     63.76     -68.56  Mostly Cloudy   \n",
       "54               Prince George Airport     53.88    -122.68          Clear   \n",
       "162             Edmonton Int'l Airport     53.31    -113.58  Partly Cloudy   \n",
       "446              Charlottetown Airport     46.29     -63.12  Mostly Cloudy   \n",
       "428    Halifax Stanfield Int'l Airport     44.88     -63.51         Cloudy   \n",
       "\n",
       "     Temperature (C)  Relative Humidity (%)  Dew Point (C)  Humidex (C)  \\\n",
       "182             23.2                   31.0            5.0          NaN   \n",
       "241             14.8                   35.0            0.0          NaN   \n",
       "443             13.3                   44.0            1.0          NaN   \n",
       "48              10.3                   76.0            6.0          NaN   \n",
       "235             21.2                   53.0           11.0         23.0   \n",
       "133             -2.8                   76.0           -7.0          NaN   \n",
       "54               4.9                   91.0            4.0          NaN   \n",
       "162             27.3                   21.0            4.0          NaN   \n",
       "446             15.9                   30.0           -2.0          NaN   \n",
       "428             10.8                   77.0            7.0          NaN   \n",
       "\n",
       "     Pressure (kPa)  Visibility (km) Wind Direction  Wind Speed (km/hr)  \\\n",
       "182           101.6             64.0              S                18.0   \n",
       "241           101.3             24.0              S                16.0   \n",
       "443           102.2             24.0            SSW                19.0   \n",
       "48            101.5             16.0              N                 4.0   \n",
       "235           101.4             24.0             SE                26.0   \n",
       "133           100.8             19.0             NW                37.0   \n",
       "54            101.5             16.0            SSE                 4.0   \n",
       "162           101.4             24.0              E                11.0   \n",
       "446           101.8             24.0              S                21.0   \n",
       "428           101.8             24.0              S                19.0   \n",
       "\n",
       "    Wind Chill (C)  \n",
       "182            NaN  \n",
       "241            NaN  \n",
       "443              *  \n",
       "48             NaN  \n",
       "235            NaN  \n",
       "133            -11  \n",
       "54             NaN  \n",
       "162            NaN  \n",
       "446              *  \n",
       "428            NaN  "
      ]
     },
     "execution_count": 19,
     "metadata": {},
     "output_type": "execute_result"
    }
   ],
   "source": [
    "weather_all = pd.read_csv('data/weather_airport_stations.csv')\n",
    "weather_all.sample(10)"
   ]
  },
  {
   "cell_type": "markdown",
   "metadata": {
    "slideshow": {
     "slide_type": "slide"
    }
   },
   "source": [
    "- Number of rows and columns:"
   ]
  },
  {
   "cell_type": "code",
   "execution_count": null,
   "metadata": {},
   "outputs": [],
   "source": []
  },
  {
   "cell_type": "code",
   "execution_count": 167,
   "metadata": {
    "slideshow": {
     "slide_type": "subslide"
    }
   },
   "outputs": [
    {
     "data": {
      "text/plain": [
       "(480, 17)"
      ]
     },
     "execution_count": 167,
     "metadata": {},
     "output_type": "execute_result"
    }
   ],
   "source": [
    "weather_all.shape"
   ]
  },
  {
   "cell_type": "markdown",
   "metadata": {},
   "source": [
    "The data has 480 rows and 17 columns."
   ]
  },
  {
   "cell_type": "markdown",
   "metadata": {
    "slideshow": {
     "slide_type": "slide"
    }
   },
   "source": [
    "- Lowest and highest temperature:"
   ]
  },
  {
   "cell_type": "code",
   "execution_count": null,
   "metadata": {},
   "outputs": [],
   "source": []
  },
  {
   "cell_type": "code",
   "execution_count": 20,
   "metadata": {
    "slideshow": {
     "slide_type": "subslide"
    }
   },
   "outputs": [
    {
     "data": {
      "text/plain": [
       "count    479.000000\n",
       "mean      13.974530\n",
       "std        7.892156\n",
       "min       -7.100000\n",
       "25%       10.000000\n",
       "50%       14.400000\n",
       "75%       19.150000\n",
       "max       28.600000\n",
       "Name: Temperature (C), dtype: float64"
      ]
     },
     "execution_count": 20,
     "metadata": {},
     "output_type": "execute_result"
    }
   ],
   "source": [
    "weather_all['Temperature (C)'].describe()"
   ]
  },
  {
   "cell_type": "markdown",
   "metadata": {},
   "source": [
    "The lowest temperature is -7.1 C and the highest is 28.6 C."
   ]
  },
  {
   "cell_type": "markdown",
   "metadata": {
    "slideshow": {
     "slide_type": "slide"
    }
   },
   "source": [
    "b) How many unique Station Names and Datetimes are in the data? List the unique values."
   ]
  },
  {
   "cell_type": "code",
   "execution_count": null,
   "metadata": {},
   "outputs": [],
   "source": []
  },
  {
   "cell_type": "code",
   "execution_count": null,
   "metadata": {},
   "outputs": [],
   "source": []
  },
  {
   "cell_type": "code",
   "execution_count": 169,
   "metadata": {
    "slideshow": {
     "slide_type": "subslide"
    }
   },
   "outputs": [
    {
     "name": "stdout",
     "output_type": "stream",
     "text": [
      "[\"Vancouver Int'l Airport\" \"Victoria Int'l Airport\"\n",
      " 'Prince George Airport' 'Whitehorse Airport' 'Yellowknife Airport'\n",
      " 'Iqaluit Airport' \"Edmonton Int'l Airport\" \"Calgary Int'l Airport\"\n",
      " \"Saskatoon Diefenbaker Int'l Airport\" \"Regina Int'l Airport\"\n",
      " \"Winnipeg Richardson Int'l Airport\" 'Thunder Bay Airport'\n",
      " \"Toronto Pearson Int'l Airport\" \"Ottawa Macdonald-Cartier Int'l Airport\"\n",
      " \"Montreal-Trudeau Int'l Airport\" \"Quebec Lesage Int'l Airport\"\n",
      " \"Fredericton Int'l Airport\" \"Halifax Stanfield Int'l Airport\"\n",
      " 'Charlottetown Airport' \"St. John's Int'l Airport\"]\n",
      "20\n"
     ]
    }
   ],
   "source": [
    "station_names_unique = weather_all['Station Name'].unique()\n",
    "print(station_names_unique)\n",
    "print(len(station_names_unique))"
   ]
  },
  {
   "cell_type": "code",
   "execution_count": 170,
   "metadata": {
    "slideshow": {
     "slide_type": "fragment"
    }
   },
   "outputs": [
    {
     "name": "stdout",
     "output_type": "stream",
     "text": [
      "['2018-05-21 22:00' '2018-05-21 23:00' '2018-05-22 0:00' '2018-05-22 1:00'\n",
      " '2018-05-22 2:00' '2018-05-22 3:00' '2018-05-22 4:00' '2018-05-22 5:00'\n",
      " '2018-05-22 6:00' '2018-05-22 7:00' '2018-05-22 8:00' '2018-05-22 9:00'\n",
      " '2018-05-22 10:00' '2018-05-22 11:00' '2018-05-22 12:00'\n",
      " '2018-05-22 13:00' '2018-05-22 14:00' '2018-05-22 15:00'\n",
      " '2018-05-22 16:00' '2018-05-22 17:00' '2018-05-22 18:00'\n",
      " '2018-05-22 19:00' '2018-05-22 20:00' '2018-05-22 21:00'\n",
      " '2018-05-22 22:00' '2018-05-22 23:00' '2018-05-23 0:00' '2018-05-23 1:00'\n",
      " '2018-05-22 2:30' '2018-05-22 3:30' '2018-05-22 4:30' '2018-05-22 5:30'\n",
      " '2018-05-22 6:30' '2018-05-22 7:30' '2018-05-22 8:30' '2018-05-22 9:30'\n",
      " '2018-05-22 10:30' '2018-05-22 11:30' '2018-05-22 12:30'\n",
      " '2018-05-22 13:30' '2018-05-22 14:30' '2018-05-22 15:30'\n",
      " '2018-05-22 16:30' '2018-05-22 17:30' '2018-05-22 18:30'\n",
      " '2018-05-22 19:30' '2018-05-22 20:30' '2018-05-22 21:30'\n",
      " '2018-05-22 22:30' '2018-05-22 23:30' '2018-05-23 0:30' '2018-05-23 1:30']\n",
      "52\n"
     ]
    }
   ],
   "source": [
    "datetime_unique = weather_all['Datetime'].unique()\n",
    "print(datetime_unique)\n",
    "print(weather_all['Datetime'].nunique())"
   ]
  },
  {
   "cell_type": "markdown",
   "metadata": {
    "slideshow": {
     "slide_type": "fragment"
    }
   },
   "source": [
    "There are 20 unique station names and 52 unique datetimes."
   ]
  },
  {
   "cell_type": "markdown",
   "metadata": {
    "slideshow": {
     "slide_type": "slide"
    }
   },
   "source": [
    "c) What are the three most common Conditions and the three most common Wind Directions?"
   ]
  },
  {
   "cell_type": "code",
   "execution_count": null,
   "metadata": {},
   "outputs": [],
   "source": []
  },
  {
   "cell_type": "code",
   "execution_count": null,
   "metadata": {},
   "outputs": [],
   "source": []
  },
  {
   "cell_type": "code",
   "execution_count": 171,
   "metadata": {
    "slideshow": {
     "slide_type": "subslide"
    }
   },
   "outputs": [
    {
     "data": {
      "text/plain": [
       "Mostly Cloudy                          148\n",
       "Partly Cloudy                           90\n",
       "Mainly Sunny                            48\n",
       "Mainly Clear                            37\n",
       "Clear                                   35\n",
       "Sunny                                   34\n",
       "Cloudy                                  31\n",
       "Light Rain                              16\n",
       "Light Snow                              15\n",
       "Mist                                    11\n",
       "Light Drizzle                            5\n",
       "Fog                                      4\n",
       "Light Rainshower                         4\n",
       "Thunderstorm with light rainshowers      1\n",
       "Name: Conditions, dtype: int64"
      ]
     },
     "execution_count": 171,
     "metadata": {},
     "output_type": "execute_result"
    }
   ],
   "source": [
    "weather_all['Conditions'].value_counts()"
   ]
  },
  {
   "cell_type": "code",
   "execution_count": 172,
   "metadata": {
    "slideshow": {
     "slide_type": "fragment"
    }
   },
   "outputs": [
    {
     "data": {
      "text/plain": [
       "S      67\n",
       "SSW    62\n",
       "SSE    44\n",
       "N      38\n",
       "WSW    34\n",
       "SW     32\n",
       "E      26\n",
       "SE     26\n",
       "NNW    21\n",
       "NW     20\n",
       "W      19\n",
       "ESE    18\n",
       "WNW    17\n",
       "ENE    15\n",
       "NE     15\n",
       "NNE    12\n",
       "Name: Wind Direction, dtype: int64"
      ]
     },
     "execution_count": 172,
     "metadata": {},
     "output_type": "execute_result"
    }
   ],
   "source": [
    "weather_all['Wind Direction'].value_counts()"
   ]
  },
  {
   "cell_type": "markdown",
   "metadata": {
    "slideshow": {
     "slide_type": "fragment"
    }
   },
   "source": [
    "- Three most common Conditions: Mostly Cloudy, Partly Cloudy, Mainly Sunny\n",
    "- Three most common Wind Directions: S, SSW, SSE"
   ]
  },
  {
   "cell_type": "markdown",
   "metadata": {
    "slideshow": {
     "slide_type": "slide"
    }
   },
   "source": [
    "d) Which column has the most missing values? How many are missing in this column?"
   ]
  },
  {
   "cell_type": "code",
   "execution_count": null,
   "metadata": {},
   "outputs": [],
   "source": []
  },
  {
   "cell_type": "code",
   "execution_count": 173,
   "metadata": {
    "slideshow": {
     "slide_type": "subslide"
    }
   },
   "outputs": [
    {
     "data": {
      "text/plain": [
       "Datetime                   0\n",
       "Timezone                   0\n",
       "Hour of Day                0\n",
       "Station ID                 0\n",
       "Station Name               0\n",
       "Latitude                   0\n",
       "Longitude                  0\n",
       "Conditions                 1\n",
       "Temperature (C)            1\n",
       "Relative Humidity (%)      1\n",
       "Dew Point (C)              2\n",
       "Humidex (C)              446\n",
       "Pressure (kPa)             1\n",
       "Visibility (km)            1\n",
       "Wind Direction            14\n",
       "Wind Speed (km/hr)         1\n",
       "Wind Chill (C)           432\n",
       "dtype: int64"
      ]
     },
     "execution_count": 173,
     "metadata": {},
     "output_type": "execute_result"
    }
   ],
   "source": [
    "weather_all.isnull().sum()"
   ]
  },
  {
   "cell_type": "markdown",
   "metadata": {
    "slideshow": {
     "slide_type": "fragment"
    }
   },
   "source": [
    "The 'Humidex (C)' column has the most missing values (446)."
   ]
  },
  {
   "cell_type": "markdown",
   "metadata": {
    "slideshow": {
     "slide_type": "skip"
    }
   },
   "source": [
    "e) How many temperatures are less than 0 and how many are greater than 20?"
   ]
  },
  {
   "cell_type": "code",
   "execution_count": 21,
   "metadata": {
    "slideshow": {
     "slide_type": "skip"
    }
   },
   "outputs": [],
   "source": [
    "temp = weather_all['Temperature (C)']"
   ]
  },
  {
   "cell_type": "code",
   "execution_count": 22,
   "metadata": {
    "slideshow": {
     "slide_type": "skip"
    }
   },
   "outputs": [
    {
     "data": {
      "text/plain": [
       "0    False\n",
       "1    False\n",
       "2    False\n",
       "3    False\n",
       "4    False\n",
       "Name: Temperature (C), dtype: bool"
      ]
     },
     "execution_count": 22,
     "metadata": {},
     "output_type": "execute_result"
    }
   ],
   "source": [
    "temp_lt_0 = temp < 0\n",
    "temp_lt_0.head()"
   ]
  },
  {
   "cell_type": "code",
   "execution_count": 23,
   "metadata": {
    "slideshow": {
     "slide_type": "skip"
    }
   },
   "outputs": [
    {
     "data": {
      "text/plain": [
       "25"
      ]
     },
     "execution_count": 23,
     "metadata": {},
     "output_type": "execute_result"
    }
   ],
   "source": [
    "temp_lt_0.sum()"
   ]
  },
  {
   "cell_type": "markdown",
   "metadata": {
    "slideshow": {
     "slide_type": "skip"
    }
   },
   "source": [
    "There are 25 temperatures less than 0 C."
   ]
  },
  {
   "cell_type": "code",
   "execution_count": 25,
   "metadata": {
    "slideshow": {
     "slide_type": "skip"
    }
   },
   "outputs": [
    {
     "data": {
      "text/plain": [
       "0    False\n",
       "1    False\n",
       "2    False\n",
       "3    False\n",
       "4    False\n",
       "Name: Temperature (C), dtype: bool"
      ]
     },
     "execution_count": 25,
     "metadata": {},
     "output_type": "execute_result"
    }
   ],
   "source": [
    "temp_gt_20 = temp > 20\n",
    "temp_gt_20.head()"
   ]
  },
  {
   "cell_type": "code",
   "execution_count": 26,
   "metadata": {
    "slideshow": {
     "slide_type": "skip"
    }
   },
   "outputs": [
    {
     "data": {
      "text/plain": [
       "107"
      ]
     },
     "execution_count": 26,
     "metadata": {},
     "output_type": "execute_result"
    }
   ],
   "source": [
    "temp_gt_20.sum()"
   ]
  },
  {
   "cell_type": "markdown",
   "metadata": {
    "slideshow": {
     "slide_type": "skip"
    }
   },
   "source": [
    "There are 107 temperatures greater than 20 C."
   ]
  },
  {
   "cell_type": "markdown",
   "metadata": {
    "slideshow": {
     "slide_type": "slide"
    }
   },
   "source": [
    "What happens if we try to display the entire DataFrame `weather_all` in our notebook?"
   ]
  },
  {
   "cell_type": "code",
   "execution_count": 178,
   "metadata": {
    "scrolled": false
   },
   "outputs": [
    {
     "data": {
      "text/html": [
       "<div>\n",
       "<style scoped>\n",
       "    .dataframe tbody tr th:only-of-type {\n",
       "        vertical-align: middle;\n",
       "    }\n",
       "\n",
       "    .dataframe tbody tr th {\n",
       "        vertical-align: top;\n",
       "    }\n",
       "\n",
       "    .dataframe thead th {\n",
       "        text-align: right;\n",
       "    }\n",
       "</style>\n",
       "<table border=\"1\" class=\"dataframe\">\n",
       "  <thead>\n",
       "    <tr style=\"text-align: right;\">\n",
       "      <th></th>\n",
       "      <th>Datetime</th>\n",
       "      <th>Timezone</th>\n",
       "      <th>Hour of Day</th>\n",
       "      <th>Station ID</th>\n",
       "      <th>Station Name</th>\n",
       "      <th>Latitude</th>\n",
       "      <th>Longitude</th>\n",
       "      <th>Conditions</th>\n",
       "      <th>Temperature (C)</th>\n",
       "      <th>Relative Humidity (%)</th>\n",
       "      <th>Dew Point (C)</th>\n",
       "      <th>Humidex (C)</th>\n",
       "      <th>Pressure (kPa)</th>\n",
       "      <th>Visibility (km)</th>\n",
       "      <th>Wind Direction</th>\n",
       "      <th>Wind Speed (km/hr)</th>\n",
       "      <th>Wind Chill (C)</th>\n",
       "    </tr>\n",
       "  </thead>\n",
       "  <tbody>\n",
       "    <tr>\n",
       "      <th>0</th>\n",
       "      <td>2018-05-21 22:00</td>\n",
       "      <td>Canada/Pacific</td>\n",
       "      <td>22</td>\n",
       "      <td>YVR</td>\n",
       "      <td>Vancouver Int'l Airport</td>\n",
       "      <td>49.19</td>\n",
       "      <td>-123.18</td>\n",
       "      <td>Mainly Clear</td>\n",
       "      <td>14.8</td>\n",
       "      <td>75.0</td>\n",
       "      <td>10.0</td>\n",
       "      <td>NaN</td>\n",
       "      <td>101.6</td>\n",
       "      <td>48.0</td>\n",
       "      <td>N</td>\n",
       "      <td>5.0</td>\n",
       "      <td>NaN</td>\n",
       "    </tr>\n",
       "    <tr>\n",
       "      <th>1</th>\n",
       "      <td>2018-05-21 23:00</td>\n",
       "      <td>Canada/Pacific</td>\n",
       "      <td>23</td>\n",
       "      <td>YVR</td>\n",
       "      <td>Vancouver Int'l Airport</td>\n",
       "      <td>49.19</td>\n",
       "      <td>-123.18</td>\n",
       "      <td>Clear</td>\n",
       "      <td>13.5</td>\n",
       "      <td>76.0</td>\n",
       "      <td>9.0</td>\n",
       "      <td>NaN</td>\n",
       "      <td>101.6</td>\n",
       "      <td>32.0</td>\n",
       "      <td>NaN</td>\n",
       "      <td>0.0</td>\n",
       "      <td>NaN</td>\n",
       "    </tr>\n",
       "    <tr>\n",
       "      <th>2</th>\n",
       "      <td>2018-05-22 0:00</td>\n",
       "      <td>Canada/Pacific</td>\n",
       "      <td>0</td>\n",
       "      <td>YVR</td>\n",
       "      <td>Vancouver Int'l Airport</td>\n",
       "      <td>49.19</td>\n",
       "      <td>-123.18</td>\n",
       "      <td>Clear</td>\n",
       "      <td>13.1</td>\n",
       "      <td>77.0</td>\n",
       "      <td>9.0</td>\n",
       "      <td>NaN</td>\n",
       "      <td>101.6</td>\n",
       "      <td>32.0</td>\n",
       "      <td>E</td>\n",
       "      <td>11.0</td>\n",
       "      <td>NaN</td>\n",
       "    </tr>\n",
       "    <tr>\n",
       "      <th>3</th>\n",
       "      <td>2018-05-22 1:00</td>\n",
       "      <td>Canada/Pacific</td>\n",
       "      <td>1</td>\n",
       "      <td>YVR</td>\n",
       "      <td>Vancouver Int'l Airport</td>\n",
       "      <td>49.19</td>\n",
       "      <td>-123.18</td>\n",
       "      <td>Clear</td>\n",
       "      <td>12.9</td>\n",
       "      <td>84.0</td>\n",
       "      <td>10.0</td>\n",
       "      <td>NaN</td>\n",
       "      <td>101.6</td>\n",
       "      <td>32.0</td>\n",
       "      <td>E</td>\n",
       "      <td>8.0</td>\n",
       "      <td>NaN</td>\n",
       "    </tr>\n",
       "    <tr>\n",
       "      <th>4</th>\n",
       "      <td>2018-05-22 2:00</td>\n",
       "      <td>Canada/Pacific</td>\n",
       "      <td>2</td>\n",
       "      <td>YVR</td>\n",
       "      <td>Vancouver Int'l Airport</td>\n",
       "      <td>49.19</td>\n",
       "      <td>-123.18</td>\n",
       "      <td>Clear</td>\n",
       "      <td>12.2</td>\n",
       "      <td>88.0</td>\n",
       "      <td>10.0</td>\n",
       "      <td>NaN</td>\n",
       "      <td>101.6</td>\n",
       "      <td>32.0</td>\n",
       "      <td>E</td>\n",
       "      <td>12.0</td>\n",
       "      <td>NaN</td>\n",
       "    </tr>\n",
       "    <tr>\n",
       "      <th>5</th>\n",
       "      <td>2018-05-22 3:00</td>\n",
       "      <td>Canada/Pacific</td>\n",
       "      <td>3</td>\n",
       "      <td>YVR</td>\n",
       "      <td>Vancouver Int'l Airport</td>\n",
       "      <td>49.19</td>\n",
       "      <td>-123.18</td>\n",
       "      <td>Clear</td>\n",
       "      <td>12.0</td>\n",
       "      <td>87.0</td>\n",
       "      <td>10.0</td>\n",
       "      <td>NaN</td>\n",
       "      <td>101.6</td>\n",
       "      <td>32.0</td>\n",
       "      <td>E</td>\n",
       "      <td>9.0</td>\n",
       "      <td>NaN</td>\n",
       "    </tr>\n",
       "    <tr>\n",
       "      <th>6</th>\n",
       "      <td>2018-05-22 4:00</td>\n",
       "      <td>Canada/Pacific</td>\n",
       "      <td>4</td>\n",
       "      <td>YVR</td>\n",
       "      <td>Vancouver Int'l Airport</td>\n",
       "      <td>49.19</td>\n",
       "      <td>-123.18</td>\n",
       "      <td>Clear</td>\n",
       "      <td>11.9</td>\n",
       "      <td>88.0</td>\n",
       "      <td>10.0</td>\n",
       "      <td>NaN</td>\n",
       "      <td>101.6</td>\n",
       "      <td>32.0</td>\n",
       "      <td>N</td>\n",
       "      <td>2.0</td>\n",
       "      <td>NaN</td>\n",
       "    </tr>\n",
       "    <tr>\n",
       "      <th>7</th>\n",
       "      <td>2018-05-22 5:00</td>\n",
       "      <td>Canada/Pacific</td>\n",
       "      <td>5</td>\n",
       "      <td>YVR</td>\n",
       "      <td>Vancouver Int'l Airport</td>\n",
       "      <td>49.19</td>\n",
       "      <td>-123.18</td>\n",
       "      <td>Fog</td>\n",
       "      <td>10.4</td>\n",
       "      <td>97.0</td>\n",
       "      <td>10.0</td>\n",
       "      <td>NaN</td>\n",
       "      <td>101.6</td>\n",
       "      <td>48.0</td>\n",
       "      <td>N</td>\n",
       "      <td>2.0</td>\n",
       "      <td>NaN</td>\n",
       "    </tr>\n",
       "    <tr>\n",
       "      <th>8</th>\n",
       "      <td>2018-05-22 6:00</td>\n",
       "      <td>Canada/Pacific</td>\n",
       "      <td>6</td>\n",
       "      <td>YVR</td>\n",
       "      <td>Vancouver Int'l Airport</td>\n",
       "      <td>49.19</td>\n",
       "      <td>-123.18</td>\n",
       "      <td>Mainly Sunny</td>\n",
       "      <td>11.0</td>\n",
       "      <td>91.0</td>\n",
       "      <td>10.0</td>\n",
       "      <td>NaN</td>\n",
       "      <td>101.5</td>\n",
       "      <td>48.0</td>\n",
       "      <td>NaN</td>\n",
       "      <td>0.0</td>\n",
       "      <td>NaN</td>\n",
       "    </tr>\n",
       "    <tr>\n",
       "      <th>9</th>\n",
       "      <td>2018-05-22 7:00</td>\n",
       "      <td>Canada/Pacific</td>\n",
       "      <td>7</td>\n",
       "      <td>YVR</td>\n",
       "      <td>Vancouver Int'l Airport</td>\n",
       "      <td>49.19</td>\n",
       "      <td>-123.18</td>\n",
       "      <td>Partly Cloudy</td>\n",
       "      <td>13.0</td>\n",
       "      <td>92.0</td>\n",
       "      <td>12.0</td>\n",
       "      <td>NaN</td>\n",
       "      <td>101.6</td>\n",
       "      <td>48.0</td>\n",
       "      <td>N</td>\n",
       "      <td>2.0</td>\n",
       "      <td>NaN</td>\n",
       "    </tr>\n",
       "    <tr>\n",
       "      <th>10</th>\n",
       "      <td>2018-05-22 8:00</td>\n",
       "      <td>Canada/Pacific</td>\n",
       "      <td>8</td>\n",
       "      <td>YVR</td>\n",
       "      <td>Vancouver Int'l Airport</td>\n",
       "      <td>49.19</td>\n",
       "      <td>-123.18</td>\n",
       "      <td>Mainly Sunny</td>\n",
       "      <td>14.8</td>\n",
       "      <td>82.0</td>\n",
       "      <td>12.0</td>\n",
       "      <td>NaN</td>\n",
       "      <td>101.6</td>\n",
       "      <td>48.0</td>\n",
       "      <td>SW</td>\n",
       "      <td>6.0</td>\n",
       "      <td>NaN</td>\n",
       "    </tr>\n",
       "    <tr>\n",
       "      <th>11</th>\n",
       "      <td>2018-05-22 9:00</td>\n",
       "      <td>Canada/Pacific</td>\n",
       "      <td>9</td>\n",
       "      <td>YVR</td>\n",
       "      <td>Vancouver Int'l Airport</td>\n",
       "      <td>49.19</td>\n",
       "      <td>-123.18</td>\n",
       "      <td>Partly Cloudy</td>\n",
       "      <td>15.8</td>\n",
       "      <td>78.0</td>\n",
       "      <td>12.0</td>\n",
       "      <td>NaN</td>\n",
       "      <td>101.5</td>\n",
       "      <td>48.0</td>\n",
       "      <td>WSW</td>\n",
       "      <td>10.0</td>\n",
       "      <td>NaN</td>\n",
       "    </tr>\n",
       "    <tr>\n",
       "      <th>12</th>\n",
       "      <td>2018-05-22 10:00</td>\n",
       "      <td>Canada/Pacific</td>\n",
       "      <td>10</td>\n",
       "      <td>YVR</td>\n",
       "      <td>Vancouver Int'l Airport</td>\n",
       "      <td>49.19</td>\n",
       "      <td>-123.18</td>\n",
       "      <td>Partly Cloudy</td>\n",
       "      <td>15.9</td>\n",
       "      <td>75.0</td>\n",
       "      <td>12.0</td>\n",
       "      <td>NaN</td>\n",
       "      <td>101.5</td>\n",
       "      <td>48.0</td>\n",
       "      <td>WSW</td>\n",
       "      <td>12.0</td>\n",
       "      <td>NaN</td>\n",
       "    </tr>\n",
       "    <tr>\n",
       "      <th>13</th>\n",
       "      <td>2018-05-22 11:00</td>\n",
       "      <td>Canada/Pacific</td>\n",
       "      <td>11</td>\n",
       "      <td>YVR</td>\n",
       "      <td>Vancouver Int'l Airport</td>\n",
       "      <td>49.19</td>\n",
       "      <td>-123.18</td>\n",
       "      <td>Partly Cloudy</td>\n",
       "      <td>16.1</td>\n",
       "      <td>80.0</td>\n",
       "      <td>13.0</td>\n",
       "      <td>NaN</td>\n",
       "      <td>101.5</td>\n",
       "      <td>48.0</td>\n",
       "      <td>WSW</td>\n",
       "      <td>15.0</td>\n",
       "      <td>NaN</td>\n",
       "    </tr>\n",
       "    <tr>\n",
       "      <th>14</th>\n",
       "      <td>2018-05-22 12:00</td>\n",
       "      <td>Canada/Pacific</td>\n",
       "      <td>12</td>\n",
       "      <td>YVR</td>\n",
       "      <td>Vancouver Int'l Airport</td>\n",
       "      <td>49.19</td>\n",
       "      <td>-123.18</td>\n",
       "      <td>Mainly Sunny</td>\n",
       "      <td>17.4</td>\n",
       "      <td>77.0</td>\n",
       "      <td>13.0</td>\n",
       "      <td>NaN</td>\n",
       "      <td>101.4</td>\n",
       "      <td>48.0</td>\n",
       "      <td>W</td>\n",
       "      <td>12.0</td>\n",
       "      <td>NaN</td>\n",
       "    </tr>\n",
       "    <tr>\n",
       "      <th>15</th>\n",
       "      <td>2018-05-22 13:00</td>\n",
       "      <td>Canada/Pacific</td>\n",
       "      <td>13</td>\n",
       "      <td>YVR</td>\n",
       "      <td>Vancouver Int'l Airport</td>\n",
       "      <td>49.19</td>\n",
       "      <td>-123.18</td>\n",
       "      <td>Mainly Sunny</td>\n",
       "      <td>18.2</td>\n",
       "      <td>68.0</td>\n",
       "      <td>12.0</td>\n",
       "      <td>NaN</td>\n",
       "      <td>101.4</td>\n",
       "      <td>48.0</td>\n",
       "      <td>SW</td>\n",
       "      <td>12.0</td>\n",
       "      <td>NaN</td>\n",
       "    </tr>\n",
       "    <tr>\n",
       "      <th>16</th>\n",
       "      <td>2018-05-22 14:00</td>\n",
       "      <td>Canada/Pacific</td>\n",
       "      <td>14</td>\n",
       "      <td>YVR</td>\n",
       "      <td>Vancouver Int'l Airport</td>\n",
       "      <td>49.19</td>\n",
       "      <td>-123.18</td>\n",
       "      <td>Mainly Sunny</td>\n",
       "      <td>18.8</td>\n",
       "      <td>64.0</td>\n",
       "      <td>12.0</td>\n",
       "      <td>NaN</td>\n",
       "      <td>101.3</td>\n",
       "      <td>48.0</td>\n",
       "      <td>SW</td>\n",
       "      <td>12.0</td>\n",
       "      <td>NaN</td>\n",
       "    </tr>\n",
       "    <tr>\n",
       "      <th>17</th>\n",
       "      <td>2018-05-22 15:00</td>\n",
       "      <td>Canada/Pacific</td>\n",
       "      <td>15</td>\n",
       "      <td>YVR</td>\n",
       "      <td>Vancouver Int'l Airport</td>\n",
       "      <td>49.19</td>\n",
       "      <td>-123.18</td>\n",
       "      <td>Mainly Sunny</td>\n",
       "      <td>19.5</td>\n",
       "      <td>62.0</td>\n",
       "      <td>12.0</td>\n",
       "      <td>NaN</td>\n",
       "      <td>101.2</td>\n",
       "      <td>48.0</td>\n",
       "      <td>WSW</td>\n",
       "      <td>12.0</td>\n",
       "      <td>NaN</td>\n",
       "    </tr>\n",
       "    <tr>\n",
       "      <th>18</th>\n",
       "      <td>2018-05-22 16:00</td>\n",
       "      <td>Canada/Pacific</td>\n",
       "      <td>16</td>\n",
       "      <td>YVR</td>\n",
       "      <td>Vancouver Int'l Airport</td>\n",
       "      <td>49.19</td>\n",
       "      <td>-123.18</td>\n",
       "      <td>Sunny</td>\n",
       "      <td>19.4</td>\n",
       "      <td>67.0</td>\n",
       "      <td>13.0</td>\n",
       "      <td>NaN</td>\n",
       "      <td>101.2</td>\n",
       "      <td>48.0</td>\n",
       "      <td>WSW</td>\n",
       "      <td>10.0</td>\n",
       "      <td>NaN</td>\n",
       "    </tr>\n",
       "    <tr>\n",
       "      <th>19</th>\n",
       "      <td>2018-05-22 17:00</td>\n",
       "      <td>Canada/Pacific</td>\n",
       "      <td>17</td>\n",
       "      <td>YVR</td>\n",
       "      <td>Vancouver Int'l Airport</td>\n",
       "      <td>49.19</td>\n",
       "      <td>-123.18</td>\n",
       "      <td>Mainly Sunny</td>\n",
       "      <td>20.1</td>\n",
       "      <td>64.0</td>\n",
       "      <td>13.0</td>\n",
       "      <td>23.0</td>\n",
       "      <td>101.1</td>\n",
       "      <td>48.0</td>\n",
       "      <td>WSW</td>\n",
       "      <td>9.0</td>\n",
       "      <td>NaN</td>\n",
       "    </tr>\n",
       "    <tr>\n",
       "      <th>20</th>\n",
       "      <td>2018-05-22 18:00</td>\n",
       "      <td>Canada/Pacific</td>\n",
       "      <td>18</td>\n",
       "      <td>YVR</td>\n",
       "      <td>Vancouver Int'l Airport</td>\n",
       "      <td>49.19</td>\n",
       "      <td>-123.18</td>\n",
       "      <td>Sunny</td>\n",
       "      <td>19.7</td>\n",
       "      <td>59.0</td>\n",
       "      <td>12.0</td>\n",
       "      <td>NaN</td>\n",
       "      <td>101.0</td>\n",
       "      <td>48.0</td>\n",
       "      <td>WSW</td>\n",
       "      <td>11.0</td>\n",
       "      <td>NaN</td>\n",
       "    </tr>\n",
       "    <tr>\n",
       "      <th>21</th>\n",
       "      <td>2018-05-22 19:00</td>\n",
       "      <td>Canada/Pacific</td>\n",
       "      <td>19</td>\n",
       "      <td>YVR</td>\n",
       "      <td>Vancouver Int'l Airport</td>\n",
       "      <td>49.19</td>\n",
       "      <td>-123.18</td>\n",
       "      <td>Sunny</td>\n",
       "      <td>19.6</td>\n",
       "      <td>67.0</td>\n",
       "      <td>14.0</td>\n",
       "      <td>NaN</td>\n",
       "      <td>101.0</td>\n",
       "      <td>48.0</td>\n",
       "      <td>WNW</td>\n",
       "      <td>9.0</td>\n",
       "      <td>NaN</td>\n",
       "    </tr>\n",
       "    <tr>\n",
       "      <th>22</th>\n",
       "      <td>2018-05-22 20:00</td>\n",
       "      <td>Canada/Pacific</td>\n",
       "      <td>20</td>\n",
       "      <td>YVR</td>\n",
       "      <td>Vancouver Int'l Airport</td>\n",
       "      <td>49.19</td>\n",
       "      <td>-123.18</td>\n",
       "      <td>Sunny</td>\n",
       "      <td>18.4</td>\n",
       "      <td>70.0</td>\n",
       "      <td>13.0</td>\n",
       "      <td>NaN</td>\n",
       "      <td>101.0</td>\n",
       "      <td>48.0</td>\n",
       "      <td>W</td>\n",
       "      <td>5.0</td>\n",
       "      <td>NaN</td>\n",
       "    </tr>\n",
       "    <tr>\n",
       "      <th>23</th>\n",
       "      <td>2018-05-22 21:00</td>\n",
       "      <td>Canada/Pacific</td>\n",
       "      <td>21</td>\n",
       "      <td>YVR</td>\n",
       "      <td>Vancouver Int'l Airport</td>\n",
       "      <td>49.19</td>\n",
       "      <td>-123.18</td>\n",
       "      <td>Clear</td>\n",
       "      <td>16.1</td>\n",
       "      <td>84.0</td>\n",
       "      <td>13.0</td>\n",
       "      <td>NaN</td>\n",
       "      <td>101.0</td>\n",
       "      <td>48.0</td>\n",
       "      <td>SSW</td>\n",
       "      <td>7.0</td>\n",
       "      <td>NaN</td>\n",
       "    </tr>\n",
       "    <tr>\n",
       "      <th>24</th>\n",
       "      <td>2018-05-21 22:00</td>\n",
       "      <td>Canada/Pacific</td>\n",
       "      <td>22</td>\n",
       "      <td>YYJ</td>\n",
       "      <td>Victoria Int'l Airport</td>\n",
       "      <td>48.65</td>\n",
       "      <td>-123.43</td>\n",
       "      <td>Mainly Clear</td>\n",
       "      <td>12.8</td>\n",
       "      <td>81.0</td>\n",
       "      <td>10.0</td>\n",
       "      <td>NaN</td>\n",
       "      <td>101.6</td>\n",
       "      <td>48.0</td>\n",
       "      <td>NNE</td>\n",
       "      <td>7.0</td>\n",
       "      <td>NaN</td>\n",
       "    </tr>\n",
       "    <tr>\n",
       "      <th>25</th>\n",
       "      <td>2018-05-21 23:00</td>\n",
       "      <td>Canada/Pacific</td>\n",
       "      <td>23</td>\n",
       "      <td>YYJ</td>\n",
       "      <td>Victoria Int'l Airport</td>\n",
       "      <td>48.65</td>\n",
       "      <td>-123.43</td>\n",
       "      <td>Clear</td>\n",
       "      <td>12.3</td>\n",
       "      <td>82.0</td>\n",
       "      <td>9.0</td>\n",
       "      <td>NaN</td>\n",
       "      <td>101.6</td>\n",
       "      <td>48.0</td>\n",
       "      <td>NW</td>\n",
       "      <td>3.0</td>\n",
       "      <td>NaN</td>\n",
       "    </tr>\n",
       "    <tr>\n",
       "      <th>26</th>\n",
       "      <td>2018-05-22 0:00</td>\n",
       "      <td>Canada/Pacific</td>\n",
       "      <td>0</td>\n",
       "      <td>YYJ</td>\n",
       "      <td>Victoria Int'l Airport</td>\n",
       "      <td>48.65</td>\n",
       "      <td>-123.43</td>\n",
       "      <td>Clear</td>\n",
       "      <td>11.6</td>\n",
       "      <td>88.0</td>\n",
       "      <td>10.0</td>\n",
       "      <td>NaN</td>\n",
       "      <td>101.6</td>\n",
       "      <td>48.0</td>\n",
       "      <td>SW</td>\n",
       "      <td>5.0</td>\n",
       "      <td>NaN</td>\n",
       "    </tr>\n",
       "    <tr>\n",
       "      <th>27</th>\n",
       "      <td>2018-05-22 1:00</td>\n",
       "      <td>Canada/Pacific</td>\n",
       "      <td>1</td>\n",
       "      <td>YYJ</td>\n",
       "      <td>Victoria Int'l Airport</td>\n",
       "      <td>48.65</td>\n",
       "      <td>-123.43</td>\n",
       "      <td>Clear</td>\n",
       "      <td>10.8</td>\n",
       "      <td>92.0</td>\n",
       "      <td>10.0</td>\n",
       "      <td>NaN</td>\n",
       "      <td>101.6</td>\n",
       "      <td>48.0</td>\n",
       "      <td>W</td>\n",
       "      <td>5.0</td>\n",
       "      <td>NaN</td>\n",
       "    </tr>\n",
       "    <tr>\n",
       "      <th>28</th>\n",
       "      <td>2018-05-22 2:00</td>\n",
       "      <td>Canada/Pacific</td>\n",
       "      <td>2</td>\n",
       "      <td>YYJ</td>\n",
       "      <td>Victoria Int'l Airport</td>\n",
       "      <td>48.65</td>\n",
       "      <td>-123.43</td>\n",
       "      <td>Clear</td>\n",
       "      <td>12.3</td>\n",
       "      <td>88.0</td>\n",
       "      <td>10.0</td>\n",
       "      <td>NaN</td>\n",
       "      <td>101.6</td>\n",
       "      <td>48.0</td>\n",
       "      <td>WSW</td>\n",
       "      <td>8.0</td>\n",
       "      <td>NaN</td>\n",
       "    </tr>\n",
       "    <tr>\n",
       "      <th>29</th>\n",
       "      <td>2018-05-22 3:00</td>\n",
       "      <td>Canada/Pacific</td>\n",
       "      <td>3</td>\n",
       "      <td>YYJ</td>\n",
       "      <td>Victoria Int'l Airport</td>\n",
       "      <td>48.65</td>\n",
       "      <td>-123.43</td>\n",
       "      <td>Clear</td>\n",
       "      <td>10.0</td>\n",
       "      <td>94.0</td>\n",
       "      <td>9.0</td>\n",
       "      <td>NaN</td>\n",
       "      <td>101.6</td>\n",
       "      <td>48.0</td>\n",
       "      <td>WSW</td>\n",
       "      <td>4.0</td>\n",
       "      <td>NaN</td>\n",
       "    </tr>\n",
       "    <tr>\n",
       "      <th>...</th>\n",
       "      <td>...</td>\n",
       "      <td>...</td>\n",
       "      <td>...</td>\n",
       "      <td>...</td>\n",
       "      <td>...</td>\n",
       "      <td>...</td>\n",
       "      <td>...</td>\n",
       "      <td>...</td>\n",
       "      <td>...</td>\n",
       "      <td>...</td>\n",
       "      <td>...</td>\n",
       "      <td>...</td>\n",
       "      <td>...</td>\n",
       "      <td>...</td>\n",
       "      <td>...</td>\n",
       "      <td>...</td>\n",
       "      <td>...</td>\n",
       "    </tr>\n",
       "    <tr>\n",
       "      <th>450</th>\n",
       "      <td>2018-05-22 20:00</td>\n",
       "      <td>Canada/Atlantic</td>\n",
       "      <td>20</td>\n",
       "      <td>YYG</td>\n",
       "      <td>Charlottetown Airport</td>\n",
       "      <td>46.29</td>\n",
       "      <td>-63.12</td>\n",
       "      <td>Mostly Cloudy</td>\n",
       "      <td>15.2</td>\n",
       "      <td>39.0</td>\n",
       "      <td>1.0</td>\n",
       "      <td>NaN</td>\n",
       "      <td>101.6</td>\n",
       "      <td>24.0</td>\n",
       "      <td>SSW</td>\n",
       "      <td>27.0</td>\n",
       "      <td>*</td>\n",
       "    </tr>\n",
       "    <tr>\n",
       "      <th>451</th>\n",
       "      <td>2018-05-22 21:00</td>\n",
       "      <td>Canada/Atlantic</td>\n",
       "      <td>21</td>\n",
       "      <td>YYG</td>\n",
       "      <td>Charlottetown Airport</td>\n",
       "      <td>46.29</td>\n",
       "      <td>-63.12</td>\n",
       "      <td>Cloudy</td>\n",
       "      <td>13.9</td>\n",
       "      <td>39.0</td>\n",
       "      <td>0.0</td>\n",
       "      <td>NaN</td>\n",
       "      <td>101.5</td>\n",
       "      <td>24.0</td>\n",
       "      <td>SSW</td>\n",
       "      <td>29.0</td>\n",
       "      <td>*</td>\n",
       "    </tr>\n",
       "    <tr>\n",
       "      <th>452</th>\n",
       "      <td>2018-05-22 22:00</td>\n",
       "      <td>Canada/Atlantic</td>\n",
       "      <td>22</td>\n",
       "      <td>YYG</td>\n",
       "      <td>Charlottetown Airport</td>\n",
       "      <td>46.29</td>\n",
       "      <td>-63.12</td>\n",
       "      <td>Cloudy</td>\n",
       "      <td>12.9</td>\n",
       "      <td>47.0</td>\n",
       "      <td>2.0</td>\n",
       "      <td>NaN</td>\n",
       "      <td>101.5</td>\n",
       "      <td>24.0</td>\n",
       "      <td>SSW</td>\n",
       "      <td>23.0</td>\n",
       "      <td>*</td>\n",
       "    </tr>\n",
       "    <tr>\n",
       "      <th>453</th>\n",
       "      <td>2018-05-22 23:00</td>\n",
       "      <td>Canada/Atlantic</td>\n",
       "      <td>23</td>\n",
       "      <td>YYG</td>\n",
       "      <td>Charlottetown Airport</td>\n",
       "      <td>46.29</td>\n",
       "      <td>-63.12</td>\n",
       "      <td>Cloudy</td>\n",
       "      <td>12.9</td>\n",
       "      <td>48.0</td>\n",
       "      <td>2.0</td>\n",
       "      <td>NaN</td>\n",
       "      <td>101.4</td>\n",
       "      <td>24.0</td>\n",
       "      <td>SSW</td>\n",
       "      <td>22.0</td>\n",
       "      <td>*</td>\n",
       "    </tr>\n",
       "    <tr>\n",
       "      <th>454</th>\n",
       "      <td>2018-05-23 0:00</td>\n",
       "      <td>Canada/Atlantic</td>\n",
       "      <td>0</td>\n",
       "      <td>YYG</td>\n",
       "      <td>Charlottetown Airport</td>\n",
       "      <td>46.29</td>\n",
       "      <td>-63.12</td>\n",
       "      <td>Cloudy</td>\n",
       "      <td>12.2</td>\n",
       "      <td>55.0</td>\n",
       "      <td>4.0</td>\n",
       "      <td>NaN</td>\n",
       "      <td>101.4</td>\n",
       "      <td>24.0</td>\n",
       "      <td>SSW</td>\n",
       "      <td>19.0</td>\n",
       "      <td>*</td>\n",
       "    </tr>\n",
       "    <tr>\n",
       "      <th>455</th>\n",
       "      <td>2018-05-23 1:00</td>\n",
       "      <td>Canada/Atlantic</td>\n",
       "      <td>1</td>\n",
       "      <td>YYG</td>\n",
       "      <td>Charlottetown Airport</td>\n",
       "      <td>46.29</td>\n",
       "      <td>-63.12</td>\n",
       "      <td>Mostly Cloudy</td>\n",
       "      <td>12.5</td>\n",
       "      <td>59.0</td>\n",
       "      <td>5.0</td>\n",
       "      <td>NaN</td>\n",
       "      <td>101.3</td>\n",
       "      <td>24.0</td>\n",
       "      <td>SSW</td>\n",
       "      <td>22.0</td>\n",
       "      <td>*</td>\n",
       "    </tr>\n",
       "    <tr>\n",
       "      <th>456</th>\n",
       "      <td>2018-05-22 2:30</td>\n",
       "      <td>Canada/Newfoundland</td>\n",
       "      <td>2</td>\n",
       "      <td>YYT</td>\n",
       "      <td>St. John's Int'l Airport</td>\n",
       "      <td>47.62</td>\n",
       "      <td>-52.75</td>\n",
       "      <td>Partly Cloudy</td>\n",
       "      <td>5.5</td>\n",
       "      <td>80.0</td>\n",
       "      <td>2.0</td>\n",
       "      <td>NaN</td>\n",
       "      <td>100.7</td>\n",
       "      <td>24.0</td>\n",
       "      <td>W</td>\n",
       "      <td>23.0</td>\n",
       "      <td>NaN</td>\n",
       "    </tr>\n",
       "    <tr>\n",
       "      <th>457</th>\n",
       "      <td>2018-05-22 3:30</td>\n",
       "      <td>Canada/Newfoundland</td>\n",
       "      <td>3</td>\n",
       "      <td>YYT</td>\n",
       "      <td>St. John's Int'l Airport</td>\n",
       "      <td>47.62</td>\n",
       "      <td>-52.75</td>\n",
       "      <td>Mainly Clear</td>\n",
       "      <td>4.6</td>\n",
       "      <td>86.0</td>\n",
       "      <td>3.0</td>\n",
       "      <td>NaN</td>\n",
       "      <td>100.7</td>\n",
       "      <td>24.0</td>\n",
       "      <td>WSW</td>\n",
       "      <td>30.0</td>\n",
       "      <td>NaN</td>\n",
       "    </tr>\n",
       "    <tr>\n",
       "      <th>458</th>\n",
       "      <td>2018-05-22 4:30</td>\n",
       "      <td>Canada/Newfoundland</td>\n",
       "      <td>4</td>\n",
       "      <td>YYT</td>\n",
       "      <td>St. John's Int'l Airport</td>\n",
       "      <td>47.62</td>\n",
       "      <td>-52.75</td>\n",
       "      <td>Mainly Clear</td>\n",
       "      <td>3.6</td>\n",
       "      <td>92.0</td>\n",
       "      <td>3.0</td>\n",
       "      <td>NaN</td>\n",
       "      <td>100.7</td>\n",
       "      <td>24.0</td>\n",
       "      <td>W</td>\n",
       "      <td>26.0</td>\n",
       "      <td>NaN</td>\n",
       "    </tr>\n",
       "    <tr>\n",
       "      <th>459</th>\n",
       "      <td>2018-05-22 5:30</td>\n",
       "      <td>Canada/Newfoundland</td>\n",
       "      <td>5</td>\n",
       "      <td>YYT</td>\n",
       "      <td>St. John's Int'l Airport</td>\n",
       "      <td>47.62</td>\n",
       "      <td>-52.75</td>\n",
       "      <td>Mostly Cloudy</td>\n",
       "      <td>3.7</td>\n",
       "      <td>92.0</td>\n",
       "      <td>3.0</td>\n",
       "      <td>NaN</td>\n",
       "      <td>100.7</td>\n",
       "      <td>24.0</td>\n",
       "      <td>W</td>\n",
       "      <td>31.0</td>\n",
       "      <td>NaN</td>\n",
       "    </tr>\n",
       "    <tr>\n",
       "      <th>460</th>\n",
       "      <td>2018-05-22 6:30</td>\n",
       "      <td>Canada/Newfoundland</td>\n",
       "      <td>6</td>\n",
       "      <td>YYT</td>\n",
       "      <td>St. John's Int'l Airport</td>\n",
       "      <td>47.62</td>\n",
       "      <td>-52.75</td>\n",
       "      <td>Cloudy</td>\n",
       "      <td>4.0</td>\n",
       "      <td>90.0</td>\n",
       "      <td>2.0</td>\n",
       "      <td>NaN</td>\n",
       "      <td>100.7</td>\n",
       "      <td>24.0</td>\n",
       "      <td>WNW</td>\n",
       "      <td>33.0</td>\n",
       "      <td>NaN</td>\n",
       "    </tr>\n",
       "    <tr>\n",
       "      <th>461</th>\n",
       "      <td>2018-05-22 7:30</td>\n",
       "      <td>Canada/Newfoundland</td>\n",
       "      <td>7</td>\n",
       "      <td>YYT</td>\n",
       "      <td>St. John's Int'l Airport</td>\n",
       "      <td>47.62</td>\n",
       "      <td>-52.75</td>\n",
       "      <td>Mostly Cloudy</td>\n",
       "      <td>5.1</td>\n",
       "      <td>81.0</td>\n",
       "      <td>2.0</td>\n",
       "      <td>NaN</td>\n",
       "      <td>100.9</td>\n",
       "      <td>24.0</td>\n",
       "      <td>WNW</td>\n",
       "      <td>31.0</td>\n",
       "      <td>NaN</td>\n",
       "    </tr>\n",
       "    <tr>\n",
       "      <th>462</th>\n",
       "      <td>2018-05-22 8:30</td>\n",
       "      <td>Canada/Newfoundland</td>\n",
       "      <td>8</td>\n",
       "      <td>YYT</td>\n",
       "      <td>St. John's Int'l Airport</td>\n",
       "      <td>47.62</td>\n",
       "      <td>-52.75</td>\n",
       "      <td>Cloudy</td>\n",
       "      <td>5.3</td>\n",
       "      <td>79.0</td>\n",
       "      <td>2.0</td>\n",
       "      <td>NaN</td>\n",
       "      <td>101.0</td>\n",
       "      <td>24.0</td>\n",
       "      <td>WNW</td>\n",
       "      <td>33.0</td>\n",
       "      <td>NaN</td>\n",
       "    </tr>\n",
       "    <tr>\n",
       "      <th>463</th>\n",
       "      <td>2018-05-22 9:30</td>\n",
       "      <td>Canada/Newfoundland</td>\n",
       "      <td>9</td>\n",
       "      <td>YYT</td>\n",
       "      <td>St. John's Int'l Airport</td>\n",
       "      <td>47.62</td>\n",
       "      <td>-52.75</td>\n",
       "      <td>Cloudy</td>\n",
       "      <td>5.3</td>\n",
       "      <td>81.0</td>\n",
       "      <td>2.0</td>\n",
       "      <td>NaN</td>\n",
       "      <td>101.2</td>\n",
       "      <td>24.0</td>\n",
       "      <td>WNW</td>\n",
       "      <td>29.0</td>\n",
       "      <td>NaN</td>\n",
       "    </tr>\n",
       "    <tr>\n",
       "      <th>464</th>\n",
       "      <td>2018-05-22 10:30</td>\n",
       "      <td>Canada/Newfoundland</td>\n",
       "      <td>10</td>\n",
       "      <td>YYT</td>\n",
       "      <td>St. John's Int'l Airport</td>\n",
       "      <td>47.62</td>\n",
       "      <td>-52.75</td>\n",
       "      <td>Cloudy</td>\n",
       "      <td>4.4</td>\n",
       "      <td>85.0</td>\n",
       "      <td>2.0</td>\n",
       "      <td>NaN</td>\n",
       "      <td>101.3</td>\n",
       "      <td>24.0</td>\n",
       "      <td>NNW</td>\n",
       "      <td>33.0</td>\n",
       "      <td>NaN</td>\n",
       "    </tr>\n",
       "    <tr>\n",
       "      <th>465</th>\n",
       "      <td>2018-05-22 11:30</td>\n",
       "      <td>Canada/Newfoundland</td>\n",
       "      <td>11</td>\n",
       "      <td>YYT</td>\n",
       "      <td>St. John's Int'l Airport</td>\n",
       "      <td>47.62</td>\n",
       "      <td>-52.75</td>\n",
       "      <td>Cloudy</td>\n",
       "      <td>3.4</td>\n",
       "      <td>80.0</td>\n",
       "      <td>0.0</td>\n",
       "      <td>NaN</td>\n",
       "      <td>101.5</td>\n",
       "      <td>24.0</td>\n",
       "      <td>N</td>\n",
       "      <td>28.0</td>\n",
       "      <td>NaN</td>\n",
       "    </tr>\n",
       "    <tr>\n",
       "      <th>466</th>\n",
       "      <td>2018-05-22 12:30</td>\n",
       "      <td>Canada/Newfoundland</td>\n",
       "      <td>12</td>\n",
       "      <td>YYT</td>\n",
       "      <td>St. John's Int'l Airport</td>\n",
       "      <td>47.62</td>\n",
       "      <td>-52.75</td>\n",
       "      <td>Mostly Cloudy</td>\n",
       "      <td>3.9</td>\n",
       "      <td>76.0</td>\n",
       "      <td>0.0</td>\n",
       "      <td>NaN</td>\n",
       "      <td>101.7</td>\n",
       "      <td>24.0</td>\n",
       "      <td>NNE</td>\n",
       "      <td>28.0</td>\n",
       "      <td>NaN</td>\n",
       "    </tr>\n",
       "    <tr>\n",
       "      <th>467</th>\n",
       "      <td>2018-05-22 13:30</td>\n",
       "      <td>Canada/Newfoundland</td>\n",
       "      <td>13</td>\n",
       "      <td>YYT</td>\n",
       "      <td>St. John's Int'l Airport</td>\n",
       "      <td>47.62</td>\n",
       "      <td>-52.75</td>\n",
       "      <td>Partly Cloudy</td>\n",
       "      <td>4.6</td>\n",
       "      <td>72.0</td>\n",
       "      <td>0.0</td>\n",
       "      <td>NaN</td>\n",
       "      <td>101.8</td>\n",
       "      <td>24.0</td>\n",
       "      <td>NE</td>\n",
       "      <td>14.0</td>\n",
       "      <td>NaN</td>\n",
       "    </tr>\n",
       "    <tr>\n",
       "      <th>468</th>\n",
       "      <td>2018-05-22 14:30</td>\n",
       "      <td>Canada/Newfoundland</td>\n",
       "      <td>14</td>\n",
       "      <td>YYT</td>\n",
       "      <td>St. John's Int'l Airport</td>\n",
       "      <td>47.62</td>\n",
       "      <td>-52.75</td>\n",
       "      <td>Partly Cloudy</td>\n",
       "      <td>5.1</td>\n",
       "      <td>69.0</td>\n",
       "      <td>0.0</td>\n",
       "      <td>NaN</td>\n",
       "      <td>101.8</td>\n",
       "      <td>24.0</td>\n",
       "      <td>NE</td>\n",
       "      <td>5.0</td>\n",
       "      <td>NaN</td>\n",
       "    </tr>\n",
       "    <tr>\n",
       "      <th>469</th>\n",
       "      <td>2018-05-22 15:30</td>\n",
       "      <td>Canada/Newfoundland</td>\n",
       "      <td>15</td>\n",
       "      <td>YYT</td>\n",
       "      <td>St. John's Int'l Airport</td>\n",
       "      <td>47.62</td>\n",
       "      <td>-52.75</td>\n",
       "      <td>Partly Cloudy</td>\n",
       "      <td>5.4</td>\n",
       "      <td>64.0</td>\n",
       "      <td>-1.0</td>\n",
       "      <td>NaN</td>\n",
       "      <td>101.9</td>\n",
       "      <td>24.0</td>\n",
       "      <td>NE</td>\n",
       "      <td>12.0</td>\n",
       "      <td>NaN</td>\n",
       "    </tr>\n",
       "    <tr>\n",
       "      <th>470</th>\n",
       "      <td>2018-05-22 16:30</td>\n",
       "      <td>Canada/Newfoundland</td>\n",
       "      <td>16</td>\n",
       "      <td>YYT</td>\n",
       "      <td>St. John's Int'l Airport</td>\n",
       "      <td>47.62</td>\n",
       "      <td>-52.75</td>\n",
       "      <td>Partly Cloudy</td>\n",
       "      <td>6.0</td>\n",
       "      <td>63.0</td>\n",
       "      <td>-1.0</td>\n",
       "      <td>NaN</td>\n",
       "      <td>101.9</td>\n",
       "      <td>24.0</td>\n",
       "      <td>E</td>\n",
       "      <td>9.0</td>\n",
       "      <td>NaN</td>\n",
       "    </tr>\n",
       "    <tr>\n",
       "      <th>471</th>\n",
       "      <td>2018-05-22 17:30</td>\n",
       "      <td>Canada/Newfoundland</td>\n",
       "      <td>17</td>\n",
       "      <td>YYT</td>\n",
       "      <td>St. John's Int'l Airport</td>\n",
       "      <td>47.62</td>\n",
       "      <td>-52.75</td>\n",
       "      <td>Partly Cloudy</td>\n",
       "      <td>5.9</td>\n",
       "      <td>63.0</td>\n",
       "      <td>-1.0</td>\n",
       "      <td>NaN</td>\n",
       "      <td>101.9</td>\n",
       "      <td>24.0</td>\n",
       "      <td>SE</td>\n",
       "      <td>15.0</td>\n",
       "      <td>NaN</td>\n",
       "    </tr>\n",
       "    <tr>\n",
       "      <th>472</th>\n",
       "      <td>2018-05-22 18:30</td>\n",
       "      <td>Canada/Newfoundland</td>\n",
       "      <td>18</td>\n",
       "      <td>YYT</td>\n",
       "      <td>St. John's Int'l Airport</td>\n",
       "      <td>47.62</td>\n",
       "      <td>-52.75</td>\n",
       "      <td>Mainly Sunny</td>\n",
       "      <td>3.9</td>\n",
       "      <td>72.0</td>\n",
       "      <td>-1.0</td>\n",
       "      <td>NaN</td>\n",
       "      <td>101.9</td>\n",
       "      <td>24.0</td>\n",
       "      <td>SSE</td>\n",
       "      <td>21.0</td>\n",
       "      <td>NaN</td>\n",
       "    </tr>\n",
       "    <tr>\n",
       "      <th>473</th>\n",
       "      <td>2018-05-22 19:30</td>\n",
       "      <td>Canada/Newfoundland</td>\n",
       "      <td>19</td>\n",
       "      <td>YYT</td>\n",
       "      <td>St. John's Int'l Airport</td>\n",
       "      <td>47.62</td>\n",
       "      <td>-52.75</td>\n",
       "      <td>Partly Cloudy</td>\n",
       "      <td>3.9</td>\n",
       "      <td>70.0</td>\n",
       "      <td>-1.0</td>\n",
       "      <td>NaN</td>\n",
       "      <td>101.9</td>\n",
       "      <td>24.0</td>\n",
       "      <td>S</td>\n",
       "      <td>22.0</td>\n",
       "      <td>NaN</td>\n",
       "    </tr>\n",
       "    <tr>\n",
       "      <th>474</th>\n",
       "      <td>2018-05-22 20:30</td>\n",
       "      <td>Canada/Newfoundland</td>\n",
       "      <td>20</td>\n",
       "      <td>YYT</td>\n",
       "      <td>St. John's Int'l Airport</td>\n",
       "      <td>47.62</td>\n",
       "      <td>-52.75</td>\n",
       "      <td>Mainly Sunny</td>\n",
       "      <td>3.2</td>\n",
       "      <td>78.0</td>\n",
       "      <td>0.0</td>\n",
       "      <td>NaN</td>\n",
       "      <td>101.9</td>\n",
       "      <td>24.0</td>\n",
       "      <td>SSW</td>\n",
       "      <td>28.0</td>\n",
       "      <td>NaN</td>\n",
       "    </tr>\n",
       "    <tr>\n",
       "      <th>475</th>\n",
       "      <td>2018-05-22 21:30</td>\n",
       "      <td>Canada/Newfoundland</td>\n",
       "      <td>21</td>\n",
       "      <td>YYT</td>\n",
       "      <td>St. John's Int'l Airport</td>\n",
       "      <td>47.62</td>\n",
       "      <td>-52.75</td>\n",
       "      <td>Mainly Clear</td>\n",
       "      <td>2.8</td>\n",
       "      <td>83.0</td>\n",
       "      <td>0.0</td>\n",
       "      <td>NaN</td>\n",
       "      <td>101.9</td>\n",
       "      <td>24.0</td>\n",
       "      <td>SSW</td>\n",
       "      <td>26.0</td>\n",
       "      <td>NaN</td>\n",
       "    </tr>\n",
       "    <tr>\n",
       "      <th>476</th>\n",
       "      <td>2018-05-22 22:30</td>\n",
       "      <td>Canada/Newfoundland</td>\n",
       "      <td>22</td>\n",
       "      <td>YYT</td>\n",
       "      <td>St. John's Int'l Airport</td>\n",
       "      <td>47.62</td>\n",
       "      <td>-52.75</td>\n",
       "      <td>Mainly Clear</td>\n",
       "      <td>3.8</td>\n",
       "      <td>82.0</td>\n",
       "      <td>1.0</td>\n",
       "      <td>NaN</td>\n",
       "      <td>101.9</td>\n",
       "      <td>24.0</td>\n",
       "      <td>SW</td>\n",
       "      <td>23.0</td>\n",
       "      <td>NaN</td>\n",
       "    </tr>\n",
       "    <tr>\n",
       "      <th>477</th>\n",
       "      <td>2018-05-22 23:30</td>\n",
       "      <td>Canada/Newfoundland</td>\n",
       "      <td>23</td>\n",
       "      <td>YYT</td>\n",
       "      <td>St. John's Int'l Airport</td>\n",
       "      <td>47.62</td>\n",
       "      <td>-52.75</td>\n",
       "      <td>Partly Cloudy</td>\n",
       "      <td>3.5</td>\n",
       "      <td>85.0</td>\n",
       "      <td>1.0</td>\n",
       "      <td>NaN</td>\n",
       "      <td>101.9</td>\n",
       "      <td>24.0</td>\n",
       "      <td>SW</td>\n",
       "      <td>20.0</td>\n",
       "      <td>NaN</td>\n",
       "    </tr>\n",
       "    <tr>\n",
       "      <th>478</th>\n",
       "      <td>2018-05-23 0:30</td>\n",
       "      <td>Canada/Newfoundland</td>\n",
       "      <td>0</td>\n",
       "      <td>YYT</td>\n",
       "      <td>St. John's Int'l Airport</td>\n",
       "      <td>47.62</td>\n",
       "      <td>-52.75</td>\n",
       "      <td>Cloudy</td>\n",
       "      <td>4.7</td>\n",
       "      <td>76.0</td>\n",
       "      <td>1.0</td>\n",
       "      <td>NaN</td>\n",
       "      <td>101.9</td>\n",
       "      <td>24.0</td>\n",
       "      <td>SW</td>\n",
       "      <td>21.0</td>\n",
       "      <td>NaN</td>\n",
       "    </tr>\n",
       "    <tr>\n",
       "      <th>479</th>\n",
       "      <td>2018-05-23 1:30</td>\n",
       "      <td>Canada/Newfoundland</td>\n",
       "      <td>1</td>\n",
       "      <td>YYT</td>\n",
       "      <td>St. John's Int'l Airport</td>\n",
       "      <td>47.62</td>\n",
       "      <td>-52.75</td>\n",
       "      <td>Cloudy</td>\n",
       "      <td>4.2</td>\n",
       "      <td>72.0</td>\n",
       "      <td>0.0</td>\n",
       "      <td>NaN</td>\n",
       "      <td>101.8</td>\n",
       "      <td>24.0</td>\n",
       "      <td>SW</td>\n",
       "      <td>23.0</td>\n",
       "      <td>NaN</td>\n",
       "    </tr>\n",
       "  </tbody>\n",
       "</table>\n",
       "<p>480 rows × 17 columns</p>\n",
       "</div>"
      ],
      "text/plain": [
       "             Datetime             Timezone  Hour of Day Station ID  \\\n",
       "0    2018-05-21 22:00       Canada/Pacific           22        YVR   \n",
       "1    2018-05-21 23:00       Canada/Pacific           23        YVR   \n",
       "2     2018-05-22 0:00       Canada/Pacific            0        YVR   \n",
       "3     2018-05-22 1:00       Canada/Pacific            1        YVR   \n",
       "4     2018-05-22 2:00       Canada/Pacific            2        YVR   \n",
       "5     2018-05-22 3:00       Canada/Pacific            3        YVR   \n",
       "6     2018-05-22 4:00       Canada/Pacific            4        YVR   \n",
       "7     2018-05-22 5:00       Canada/Pacific            5        YVR   \n",
       "8     2018-05-22 6:00       Canada/Pacific            6        YVR   \n",
       "9     2018-05-22 7:00       Canada/Pacific            7        YVR   \n",
       "10    2018-05-22 8:00       Canada/Pacific            8        YVR   \n",
       "11    2018-05-22 9:00       Canada/Pacific            9        YVR   \n",
       "12   2018-05-22 10:00       Canada/Pacific           10        YVR   \n",
       "13   2018-05-22 11:00       Canada/Pacific           11        YVR   \n",
       "14   2018-05-22 12:00       Canada/Pacific           12        YVR   \n",
       "15   2018-05-22 13:00       Canada/Pacific           13        YVR   \n",
       "16   2018-05-22 14:00       Canada/Pacific           14        YVR   \n",
       "17   2018-05-22 15:00       Canada/Pacific           15        YVR   \n",
       "18   2018-05-22 16:00       Canada/Pacific           16        YVR   \n",
       "19   2018-05-22 17:00       Canada/Pacific           17        YVR   \n",
       "20   2018-05-22 18:00       Canada/Pacific           18        YVR   \n",
       "21   2018-05-22 19:00       Canada/Pacific           19        YVR   \n",
       "22   2018-05-22 20:00       Canada/Pacific           20        YVR   \n",
       "23   2018-05-22 21:00       Canada/Pacific           21        YVR   \n",
       "24   2018-05-21 22:00       Canada/Pacific           22        YYJ   \n",
       "25   2018-05-21 23:00       Canada/Pacific           23        YYJ   \n",
       "26    2018-05-22 0:00       Canada/Pacific            0        YYJ   \n",
       "27    2018-05-22 1:00       Canada/Pacific            1        YYJ   \n",
       "28    2018-05-22 2:00       Canada/Pacific            2        YYJ   \n",
       "29    2018-05-22 3:00       Canada/Pacific            3        YYJ   \n",
       "..                ...                  ...          ...        ...   \n",
       "450  2018-05-22 20:00      Canada/Atlantic           20        YYG   \n",
       "451  2018-05-22 21:00      Canada/Atlantic           21        YYG   \n",
       "452  2018-05-22 22:00      Canada/Atlantic           22        YYG   \n",
       "453  2018-05-22 23:00      Canada/Atlantic           23        YYG   \n",
       "454   2018-05-23 0:00      Canada/Atlantic            0        YYG   \n",
       "455   2018-05-23 1:00      Canada/Atlantic            1        YYG   \n",
       "456   2018-05-22 2:30  Canada/Newfoundland            2        YYT   \n",
       "457   2018-05-22 3:30  Canada/Newfoundland            3        YYT   \n",
       "458   2018-05-22 4:30  Canada/Newfoundland            4        YYT   \n",
       "459   2018-05-22 5:30  Canada/Newfoundland            5        YYT   \n",
       "460   2018-05-22 6:30  Canada/Newfoundland            6        YYT   \n",
       "461   2018-05-22 7:30  Canada/Newfoundland            7        YYT   \n",
       "462   2018-05-22 8:30  Canada/Newfoundland            8        YYT   \n",
       "463   2018-05-22 9:30  Canada/Newfoundland            9        YYT   \n",
       "464  2018-05-22 10:30  Canada/Newfoundland           10        YYT   \n",
       "465  2018-05-22 11:30  Canada/Newfoundland           11        YYT   \n",
       "466  2018-05-22 12:30  Canada/Newfoundland           12        YYT   \n",
       "467  2018-05-22 13:30  Canada/Newfoundland           13        YYT   \n",
       "468  2018-05-22 14:30  Canada/Newfoundland           14        YYT   \n",
       "469  2018-05-22 15:30  Canada/Newfoundland           15        YYT   \n",
       "470  2018-05-22 16:30  Canada/Newfoundland           16        YYT   \n",
       "471  2018-05-22 17:30  Canada/Newfoundland           17        YYT   \n",
       "472  2018-05-22 18:30  Canada/Newfoundland           18        YYT   \n",
       "473  2018-05-22 19:30  Canada/Newfoundland           19        YYT   \n",
       "474  2018-05-22 20:30  Canada/Newfoundland           20        YYT   \n",
       "475  2018-05-22 21:30  Canada/Newfoundland           21        YYT   \n",
       "476  2018-05-22 22:30  Canada/Newfoundland           22        YYT   \n",
       "477  2018-05-22 23:30  Canada/Newfoundland           23        YYT   \n",
       "478   2018-05-23 0:30  Canada/Newfoundland            0        YYT   \n",
       "479   2018-05-23 1:30  Canada/Newfoundland            1        YYT   \n",
       "\n",
       "                 Station Name  Latitude  Longitude     Conditions  \\\n",
       "0     Vancouver Int'l Airport     49.19    -123.18   Mainly Clear   \n",
       "1     Vancouver Int'l Airport     49.19    -123.18          Clear   \n",
       "2     Vancouver Int'l Airport     49.19    -123.18          Clear   \n",
       "3     Vancouver Int'l Airport     49.19    -123.18          Clear   \n",
       "4     Vancouver Int'l Airport     49.19    -123.18          Clear   \n",
       "5     Vancouver Int'l Airport     49.19    -123.18          Clear   \n",
       "6     Vancouver Int'l Airport     49.19    -123.18          Clear   \n",
       "7     Vancouver Int'l Airport     49.19    -123.18            Fog   \n",
       "8     Vancouver Int'l Airport     49.19    -123.18   Mainly Sunny   \n",
       "9     Vancouver Int'l Airport     49.19    -123.18  Partly Cloudy   \n",
       "10    Vancouver Int'l Airport     49.19    -123.18   Mainly Sunny   \n",
       "11    Vancouver Int'l Airport     49.19    -123.18  Partly Cloudy   \n",
       "12    Vancouver Int'l Airport     49.19    -123.18  Partly Cloudy   \n",
       "13    Vancouver Int'l Airport     49.19    -123.18  Partly Cloudy   \n",
       "14    Vancouver Int'l Airport     49.19    -123.18   Mainly Sunny   \n",
       "15    Vancouver Int'l Airport     49.19    -123.18   Mainly Sunny   \n",
       "16    Vancouver Int'l Airport     49.19    -123.18   Mainly Sunny   \n",
       "17    Vancouver Int'l Airport     49.19    -123.18   Mainly Sunny   \n",
       "18    Vancouver Int'l Airport     49.19    -123.18          Sunny   \n",
       "19    Vancouver Int'l Airport     49.19    -123.18   Mainly Sunny   \n",
       "20    Vancouver Int'l Airport     49.19    -123.18          Sunny   \n",
       "21    Vancouver Int'l Airport     49.19    -123.18          Sunny   \n",
       "22    Vancouver Int'l Airport     49.19    -123.18          Sunny   \n",
       "23    Vancouver Int'l Airport     49.19    -123.18          Clear   \n",
       "24     Victoria Int'l Airport     48.65    -123.43   Mainly Clear   \n",
       "25     Victoria Int'l Airport     48.65    -123.43          Clear   \n",
       "26     Victoria Int'l Airport     48.65    -123.43          Clear   \n",
       "27     Victoria Int'l Airport     48.65    -123.43          Clear   \n",
       "28     Victoria Int'l Airport     48.65    -123.43          Clear   \n",
       "29     Victoria Int'l Airport     48.65    -123.43          Clear   \n",
       "..                        ...       ...        ...            ...   \n",
       "450     Charlottetown Airport     46.29     -63.12  Mostly Cloudy   \n",
       "451     Charlottetown Airport     46.29     -63.12         Cloudy   \n",
       "452     Charlottetown Airport     46.29     -63.12         Cloudy   \n",
       "453     Charlottetown Airport     46.29     -63.12         Cloudy   \n",
       "454     Charlottetown Airport     46.29     -63.12         Cloudy   \n",
       "455     Charlottetown Airport     46.29     -63.12  Mostly Cloudy   \n",
       "456  St. John's Int'l Airport     47.62     -52.75  Partly Cloudy   \n",
       "457  St. John's Int'l Airport     47.62     -52.75   Mainly Clear   \n",
       "458  St. John's Int'l Airport     47.62     -52.75   Mainly Clear   \n",
       "459  St. John's Int'l Airport     47.62     -52.75  Mostly Cloudy   \n",
       "460  St. John's Int'l Airport     47.62     -52.75         Cloudy   \n",
       "461  St. John's Int'l Airport     47.62     -52.75  Mostly Cloudy   \n",
       "462  St. John's Int'l Airport     47.62     -52.75         Cloudy   \n",
       "463  St. John's Int'l Airport     47.62     -52.75         Cloudy   \n",
       "464  St. John's Int'l Airport     47.62     -52.75         Cloudy   \n",
       "465  St. John's Int'l Airport     47.62     -52.75         Cloudy   \n",
       "466  St. John's Int'l Airport     47.62     -52.75  Mostly Cloudy   \n",
       "467  St. John's Int'l Airport     47.62     -52.75  Partly Cloudy   \n",
       "468  St. John's Int'l Airport     47.62     -52.75  Partly Cloudy   \n",
       "469  St. John's Int'l Airport     47.62     -52.75  Partly Cloudy   \n",
       "470  St. John's Int'l Airport     47.62     -52.75  Partly Cloudy   \n",
       "471  St. John's Int'l Airport     47.62     -52.75  Partly Cloudy   \n",
       "472  St. John's Int'l Airport     47.62     -52.75   Mainly Sunny   \n",
       "473  St. John's Int'l Airport     47.62     -52.75  Partly Cloudy   \n",
       "474  St. John's Int'l Airport     47.62     -52.75   Mainly Sunny   \n",
       "475  St. John's Int'l Airport     47.62     -52.75   Mainly Clear   \n",
       "476  St. John's Int'l Airport     47.62     -52.75   Mainly Clear   \n",
       "477  St. John's Int'l Airport     47.62     -52.75  Partly Cloudy   \n",
       "478  St. John's Int'l Airport     47.62     -52.75         Cloudy   \n",
       "479  St. John's Int'l Airport     47.62     -52.75         Cloudy   \n",
       "\n",
       "     Temperature (C)  Relative Humidity (%)  Dew Point (C)  Humidex (C)  \\\n",
       "0               14.8                   75.0           10.0          NaN   \n",
       "1               13.5                   76.0            9.0          NaN   \n",
       "2               13.1                   77.0            9.0          NaN   \n",
       "3               12.9                   84.0           10.0          NaN   \n",
       "4               12.2                   88.0           10.0          NaN   \n",
       "5               12.0                   87.0           10.0          NaN   \n",
       "6               11.9                   88.0           10.0          NaN   \n",
       "7               10.4                   97.0           10.0          NaN   \n",
       "8               11.0                   91.0           10.0          NaN   \n",
       "9               13.0                   92.0           12.0          NaN   \n",
       "10              14.8                   82.0           12.0          NaN   \n",
       "11              15.8                   78.0           12.0          NaN   \n",
       "12              15.9                   75.0           12.0          NaN   \n",
       "13              16.1                   80.0           13.0          NaN   \n",
       "14              17.4                   77.0           13.0          NaN   \n",
       "15              18.2                   68.0           12.0          NaN   \n",
       "16              18.8                   64.0           12.0          NaN   \n",
       "17              19.5                   62.0           12.0          NaN   \n",
       "18              19.4                   67.0           13.0          NaN   \n",
       "19              20.1                   64.0           13.0         23.0   \n",
       "20              19.7                   59.0           12.0          NaN   \n",
       "21              19.6                   67.0           14.0          NaN   \n",
       "22              18.4                   70.0           13.0          NaN   \n",
       "23              16.1                   84.0           13.0          NaN   \n",
       "24              12.8                   81.0           10.0          NaN   \n",
       "25              12.3                   82.0            9.0          NaN   \n",
       "26              11.6                   88.0           10.0          NaN   \n",
       "27              10.8                   92.0           10.0          NaN   \n",
       "28              12.3                   88.0           10.0          NaN   \n",
       "29              10.0                   94.0            9.0          NaN   \n",
       "..               ...                    ...            ...          ...   \n",
       "450             15.2                   39.0            1.0          NaN   \n",
       "451             13.9                   39.0            0.0          NaN   \n",
       "452             12.9                   47.0            2.0          NaN   \n",
       "453             12.9                   48.0            2.0          NaN   \n",
       "454             12.2                   55.0            4.0          NaN   \n",
       "455             12.5                   59.0            5.0          NaN   \n",
       "456              5.5                   80.0            2.0          NaN   \n",
       "457              4.6                   86.0            3.0          NaN   \n",
       "458              3.6                   92.0            3.0          NaN   \n",
       "459              3.7                   92.0            3.0          NaN   \n",
       "460              4.0                   90.0            2.0          NaN   \n",
       "461              5.1                   81.0            2.0          NaN   \n",
       "462              5.3                   79.0            2.0          NaN   \n",
       "463              5.3                   81.0            2.0          NaN   \n",
       "464              4.4                   85.0            2.0          NaN   \n",
       "465              3.4                   80.0            0.0          NaN   \n",
       "466              3.9                   76.0            0.0          NaN   \n",
       "467              4.6                   72.0            0.0          NaN   \n",
       "468              5.1                   69.0            0.0          NaN   \n",
       "469              5.4                   64.0           -1.0          NaN   \n",
       "470              6.0                   63.0           -1.0          NaN   \n",
       "471              5.9                   63.0           -1.0          NaN   \n",
       "472              3.9                   72.0           -1.0          NaN   \n",
       "473              3.9                   70.0           -1.0          NaN   \n",
       "474              3.2                   78.0            0.0          NaN   \n",
       "475              2.8                   83.0            0.0          NaN   \n",
       "476              3.8                   82.0            1.0          NaN   \n",
       "477              3.5                   85.0            1.0          NaN   \n",
       "478              4.7                   76.0            1.0          NaN   \n",
       "479              4.2                   72.0            0.0          NaN   \n",
       "\n",
       "     Pressure (kPa)  Visibility (km) Wind Direction  Wind Speed (km/hr)  \\\n",
       "0             101.6             48.0              N                 5.0   \n",
       "1             101.6             32.0            NaN                 0.0   \n",
       "2             101.6             32.0              E                11.0   \n",
       "3             101.6             32.0              E                 8.0   \n",
       "4             101.6             32.0              E                12.0   \n",
       "5             101.6             32.0              E                 9.0   \n",
       "6             101.6             32.0              N                 2.0   \n",
       "7             101.6             48.0              N                 2.0   \n",
       "8             101.5             48.0            NaN                 0.0   \n",
       "9             101.6             48.0              N                 2.0   \n",
       "10            101.6             48.0             SW                 6.0   \n",
       "11            101.5             48.0            WSW                10.0   \n",
       "12            101.5             48.0            WSW                12.0   \n",
       "13            101.5             48.0            WSW                15.0   \n",
       "14            101.4             48.0              W                12.0   \n",
       "15            101.4             48.0             SW                12.0   \n",
       "16            101.3             48.0             SW                12.0   \n",
       "17            101.2             48.0            WSW                12.0   \n",
       "18            101.2             48.0            WSW                10.0   \n",
       "19            101.1             48.0            WSW                 9.0   \n",
       "20            101.0             48.0            WSW                11.0   \n",
       "21            101.0             48.0            WNW                 9.0   \n",
       "22            101.0             48.0              W                 5.0   \n",
       "23            101.0             48.0            SSW                 7.0   \n",
       "24            101.6             48.0            NNE                 7.0   \n",
       "25            101.6             48.0             NW                 3.0   \n",
       "26            101.6             48.0             SW                 5.0   \n",
       "27            101.6             48.0              W                 5.0   \n",
       "28            101.6             48.0            WSW                 8.0   \n",
       "29            101.6             48.0            WSW                 4.0   \n",
       "..              ...              ...            ...                 ...   \n",
       "450           101.6             24.0            SSW                27.0   \n",
       "451           101.5             24.0            SSW                29.0   \n",
       "452           101.5             24.0            SSW                23.0   \n",
       "453           101.4             24.0            SSW                22.0   \n",
       "454           101.4             24.0            SSW                19.0   \n",
       "455           101.3             24.0            SSW                22.0   \n",
       "456           100.7             24.0              W                23.0   \n",
       "457           100.7             24.0            WSW                30.0   \n",
       "458           100.7             24.0              W                26.0   \n",
       "459           100.7             24.0              W                31.0   \n",
       "460           100.7             24.0            WNW                33.0   \n",
       "461           100.9             24.0            WNW                31.0   \n",
       "462           101.0             24.0            WNW                33.0   \n",
       "463           101.2             24.0            WNW                29.0   \n",
       "464           101.3             24.0            NNW                33.0   \n",
       "465           101.5             24.0              N                28.0   \n",
       "466           101.7             24.0            NNE                28.0   \n",
       "467           101.8             24.0             NE                14.0   \n",
       "468           101.8             24.0             NE                 5.0   \n",
       "469           101.9             24.0             NE                12.0   \n",
       "470           101.9             24.0              E                 9.0   \n",
       "471           101.9             24.0             SE                15.0   \n",
       "472           101.9             24.0            SSE                21.0   \n",
       "473           101.9             24.0              S                22.0   \n",
       "474           101.9             24.0            SSW                28.0   \n",
       "475           101.9             24.0            SSW                26.0   \n",
       "476           101.9             24.0             SW                23.0   \n",
       "477           101.9             24.0             SW                20.0   \n",
       "478           101.9             24.0             SW                21.0   \n",
       "479           101.8             24.0             SW                23.0   \n",
       "\n",
       "    Wind Chill (C)  \n",
       "0              NaN  \n",
       "1              NaN  \n",
       "2              NaN  \n",
       "3              NaN  \n",
       "4              NaN  \n",
       "5              NaN  \n",
       "6              NaN  \n",
       "7              NaN  \n",
       "8              NaN  \n",
       "9              NaN  \n",
       "10             NaN  \n",
       "11             NaN  \n",
       "12             NaN  \n",
       "13             NaN  \n",
       "14             NaN  \n",
       "15             NaN  \n",
       "16             NaN  \n",
       "17             NaN  \n",
       "18             NaN  \n",
       "19             NaN  \n",
       "20             NaN  \n",
       "21             NaN  \n",
       "22             NaN  \n",
       "23             NaN  \n",
       "24             NaN  \n",
       "25             NaN  \n",
       "26             NaN  \n",
       "27             NaN  \n",
       "28             NaN  \n",
       "29             NaN  \n",
       "..             ...  \n",
       "450              *  \n",
       "451              *  \n",
       "452              *  \n",
       "453              *  \n",
       "454              *  \n",
       "455              *  \n",
       "456            NaN  \n",
       "457            NaN  \n",
       "458            NaN  \n",
       "459            NaN  \n",
       "460            NaN  \n",
       "461            NaN  \n",
       "462            NaN  \n",
       "463            NaN  \n",
       "464            NaN  \n",
       "465            NaN  \n",
       "466            NaN  \n",
       "467            NaN  \n",
       "468            NaN  \n",
       "469            NaN  \n",
       "470            NaN  \n",
       "471            NaN  \n",
       "472            NaN  \n",
       "473            NaN  \n",
       "474            NaN  \n",
       "475            NaN  \n",
       "476            NaN  \n",
       "477            NaN  \n",
       "478            NaN  \n",
       "479            NaN  \n",
       "\n",
       "[480 rows x 17 columns]"
      ]
     },
     "execution_count": 178,
     "metadata": {},
     "output_type": "execute_result"
    }
   ],
   "source": [
    "weather_all"
   ]
  },
  {
   "cell_type": "markdown",
   "metadata": {
    "slideshow": {
     "slide_type": "fragment"
    }
   },
   "source": [
    "For large DataFrames, the first 30 and last 30 rows are displayed, with a `...` in between"
   ]
  },
  {
   "cell_type": "code",
   "execution_count": null,
   "metadata": {},
   "outputs": [],
   "source": []
  }
 ],
 "metadata": {
  "celltoolbar": "Slideshow",
  "kernelspec": {
   "display_name": "Python [conda root]",
   "language": "python",
   "name": "conda-root-py"
  },
  "language_info": {
   "codemirror_mode": {
    "name": "ipython",
    "version": 3
   },
   "file_extension": ".py",
   "mimetype": "text/x-python",
   "name": "python",
   "nbconvert_exporter": "python",
   "pygments_lexer": "ipython3",
   "version": "3.6.4"
  },
  "livereveal": {
   "scroll": true,
   "theme": "solarized",
   "transition": "none"
  }
 },
 "nbformat": 4,
 "nbformat_minor": 2
}
