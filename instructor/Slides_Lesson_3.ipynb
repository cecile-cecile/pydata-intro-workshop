{
 "cells": [
  {
   "cell_type": "markdown",
   "metadata": {
    "slideshow": {
     "slide_type": "slide"
    }
   },
   "source": [
    "# Lesson 3: Text Data and Messy/Missing Data"
   ]
  },
  {
   "cell_type": "markdown",
   "metadata": {
    "slideshow": {
     "slide_type": "skip"
    }
   },
   "source": [
    "To jump to the recap, click [here](#recap)"
   ]
  },
  {
   "cell_type": "markdown",
   "metadata": {
    "slideshow": {
     "slide_type": "skip"
    }
   },
   "source": [
    "# Initial Setup\n",
    "\n",
    "Import libraries and initialize variables to pick up where we left off in Lesson 2."
   ]
  },
  {
   "cell_type": "code",
   "execution_count": null,
   "metadata": {
    "slideshow": {
     "slide_type": "skip"
    }
   },
   "outputs": [],
   "source": [
    "import pandas as pd\n",
    "\n",
    "%matplotlib inline"
   ]
  },
  {
   "cell_type": "code",
   "execution_count": null,
   "metadata": {
    "slideshow": {
     "slide_type": "skip"
    }
   },
   "outputs": [],
   "source": [
    "weather_yvr = pd.read_csv('data/weather_yvr.csv')\n",
    "weather_yvr['Relative Humidity (fraction)'] = weather_yvr['Relative Humidity (%)'] / 100\n",
    "weather_yvr['Temperature (F)'] = 1.8 * weather_yvr['Temperature (C)'] + 32"
   ]
  },
  {
   "cell_type": "markdown",
   "metadata": {
    "slideshow": {
     "slide_type": "slide"
    }
   },
   "source": [
    "# Text Data\n",
    "\n",
    "What about text data like the `'Conditions'` column?"
   ]
  },
  {
   "cell_type": "code",
   "execution_count": null,
   "metadata": {
    "slideshow": {
     "slide_type": "fragment"
    }
   },
   "outputs": [],
   "source": [
    "conditions = weather_yvr['Conditions']"
   ]
  },
  {
   "cell_type": "code",
   "execution_count": null,
   "metadata": {
    "slideshow": {
     "slide_type": "fragment"
    }
   },
   "outputs": [],
   "source": [
    "conditions"
   ]
  },
  {
   "cell_type": "markdown",
   "metadata": {
    "slideshow": {
     "slide_type": "fragment"
    }
   },
   "source": [
    "The Series `conditions` has a `dtype` of `object`"
   ]
  },
  {
   "cell_type": "markdown",
   "metadata": {
    "slideshow": {
     "slide_type": "fragment"
    }
   },
   "source": [
    "There are many repeated values in this Series.\n",
    "- How many unique values are in the Series?\n",
    "- How often does each value occur?\n",
    "- What are the most common values?"
   ]
  },
  {
   "cell_type": "markdown",
   "metadata": {
    "slideshow": {
     "slide_type": "slide"
    }
   },
   "source": [
    "We can use the `unique` method to list the unique values:"
   ]
  },
  {
   "cell_type": "code",
   "execution_count": null,
   "metadata": {
    "scrolled": true,
    "slideshow": {
     "slide_type": "fragment"
    }
   },
   "outputs": [],
   "source": [
    "conditions.unique()"
   ]
  },
  {
   "cell_type": "markdown",
   "metadata": {
    "slideshow": {
     "slide_type": "fragment"
    }
   },
   "source": [
    "We can use the function `len` to find the number of unique values:"
   ]
  },
  {
   "cell_type": "code",
   "execution_count": null,
   "metadata": {
    "slideshow": {
     "slide_type": "fragment"
    }
   },
   "outputs": [],
   "source": [
    "len(conditions.unique())"
   ]
  },
  {
   "cell_type": "markdown",
   "metadata": {
    "slideshow": {
     "slide_type": "fragment"
    }
   },
   "source": [
    "Alternatively, we could use the `nunique` method to find the number of unique values:"
   ]
  },
  {
   "cell_type": "code",
   "execution_count": null,
   "metadata": {
    "slideshow": {
     "slide_type": "fragment"
    }
   },
   "outputs": [],
   "source": [
    "conditions.nunique()"
   ]
  },
  {
   "cell_type": "markdown",
   "metadata": {
    "slideshow": {
     "slide_type": "slide"
    }
   },
   "source": [
    "`value_counts` is a very handy method to quickly summarize a Series of text data and find the most common values:"
   ]
  },
  {
   "cell_type": "code",
   "execution_count": null,
   "metadata": {
    "scrolled": true,
    "slideshow": {
     "slide_type": "fragment"
    }
   },
   "outputs": [],
   "source": [
    "conditions.value_counts()"
   ]
  },
  {
   "cell_type": "markdown",
   "metadata": {
    "slideshow": {
     "slide_type": "slide"
    }
   },
   "source": [
    "We can assign the output of `value_counts` to a variable:"
   ]
  },
  {
   "cell_type": "code",
   "execution_count": null,
   "metadata": {
    "slideshow": {
     "slide_type": "fragment"
    }
   },
   "outputs": [],
   "source": [
    "conditions_counts = conditions.value_counts()"
   ]
  },
  {
   "cell_type": "code",
   "execution_count": null,
   "metadata": {
    "slideshow": {
     "slide_type": "fragment"
    }
   },
   "outputs": [],
   "source": [
    "conditions_counts"
   ]
  },
  {
   "cell_type": "markdown",
   "metadata": {
    "slideshow": {
     "slide_type": "subslide"
    }
   },
   "source": [
    "What data type do you think `conditions_counts` is?"
   ]
  },
  {
   "cell_type": "code",
   "execution_count": null,
   "metadata": {
    "slideshow": {
     "slide_type": "fragment"
    }
   },
   "outputs": [],
   "source": [
    "type(conditions_counts)"
   ]
  },
  {
   "cell_type": "code",
   "execution_count": null,
   "metadata": {
    "slideshow": {
     "slide_type": "fragment"
    }
   },
   "outputs": [],
   "source": [
    "conditions_counts.index"
   ]
  },
  {
   "cell_type": "markdown",
   "metadata": {
    "slideshow": {
     "slide_type": "fragment"
    }
   },
   "source": [
    "- `conditions_counts` is a Series, with `dtype` of `int64`\n",
    "- It has text labels as its index"
   ]
  },
  {
   "cell_type": "markdown",
   "metadata": {
    "slideshow": {
     "slide_type": "slide"
    }
   },
   "source": [
    "We can plot `conditions_counts` as a vertical or horizontal bar chart. Here is a horizontal bar chart:"
   ]
  },
  {
   "cell_type": "code",
   "execution_count": null,
   "metadata": {
    "slideshow": {
     "slide_type": "fragment"
    }
   },
   "outputs": [],
   "source": [
    "conditions_counts.plot(kind='barh');"
   ]
  },
  {
   "cell_type": "markdown",
   "metadata": {
    "slideshow": {
     "slide_type": "slide"
    }
   },
   "source": [
    "# Messy Data\n",
    "\n",
    "`pandas` makes it very easy to spot inconsistencies and missings in your data"
   ]
  },
  {
   "cell_type": "code",
   "execution_count": null,
   "metadata": {
    "slideshow": {
     "slide_type": "fragment"
    }
   },
   "outputs": [],
   "source": [
    "messy = pd.read_csv('data/weather_yvr_messy.csv')\n",
    "messy.head()"
   ]
  },
  {
   "cell_type": "markdown",
   "metadata": {
    "slideshow": {
     "slide_type": "slide"
    }
   },
   "source": [
    "Let's check out `value_counts` for the `'Conditions'` column:"
   ]
  },
  {
   "cell_type": "code",
   "execution_count": null,
   "metadata": {
    "slideshow": {
     "slide_type": "fragment"
    }
   },
   "outputs": [],
   "source": [
    "conditions_m = messy['Conditions']\n",
    "conditions_m.value_counts()"
   ]
  },
  {
   "cell_type": "markdown",
   "metadata": {
    "slideshow": {
     "slide_type": "fragment"
    }
   },
   "source": [
    "- We can see inconsistencies in capitalization and white space in these values\n",
    "- Categories that should be the same (e.g. 'Mainly Sunny' and 'Mainly sunny') are counted as separate categories"
   ]
  },
  {
   "cell_type": "markdown",
   "metadata": {
    "slideshow": {
     "slide_type": "slide"
    }
   },
   "source": [
    "The `unique` method can give some additional insights:"
   ]
  },
  {
   "cell_type": "code",
   "execution_count": null,
   "metadata": {
    "slideshow": {
     "slide_type": "fragment"
    }
   },
   "outputs": [],
   "source": [
    "conditions_m.unique()"
   ]
  },
  {
   "cell_type": "markdown",
   "metadata": {
    "slideshow": {
     "slide_type": "fragment"
    }
   },
   "source": [
    "- Values are sorted so that similar values values are grouped together\n",
    "- Extra leading / trailing white spaces are clearly visible\n",
    "- Missing values appear as `nan`"
   ]
  },
  {
   "cell_type": "markdown",
   "metadata": {
    "slideshow": {
     "slide_type": "slide"
    }
   },
   "source": [
    "We can see how many missing values there are with the `dropna` keyword argument to `value_counts`:"
   ]
  },
  {
   "cell_type": "code",
   "execution_count": null,
   "metadata": {
    "slideshow": {
     "slide_type": "fragment"
    }
   },
   "outputs": [],
   "source": [
    "conditions_m.value_counts(dropna=False)"
   ]
  },
  {
   "cell_type": "markdown",
   "metadata": {
    "slideshow": {
     "slide_type": "slide"
    }
   },
   "source": [
    "We can apply the string methods we saw earlier to the `conditions_m` to quickly and easily standardize the Series\n",
    "- Convert all values to lower case\n",
    "- Strip extra leading and trailing white space from all values"
   ]
  },
  {
   "cell_type": "code",
   "execution_count": null,
   "metadata": {
    "slideshow": {
     "slide_type": "fragment"
    }
   },
   "outputs": [],
   "source": [
    "conditions_lower = conditions_m.str.lower()\n",
    "conditions_lower"
   ]
  },
  {
   "cell_type": "code",
   "execution_count": null,
   "metadata": {
    "slideshow": {
     "slide_type": "fragment"
    }
   },
   "outputs": [],
   "source": [
    "conditions_clean = conditions_lower.str.strip()\n",
    "conditions_clean"
   ]
  },
  {
   "cell_type": "markdown",
   "metadata": {
    "slideshow": {
     "slide_type": "slide"
    }
   },
   "source": [
    "The previous two steps could be consolidated into a single line of code, using method chaining:"
   ]
  },
  {
   "cell_type": "code",
   "execution_count": null,
   "metadata": {
    "slideshow": {
     "slide_type": "fragment"
    }
   },
   "outputs": [],
   "source": [
    "conditions_clean = conditions_m.str.lower().str.strip()\n",
    "conditions_clean"
   ]
  },
  {
   "cell_type": "code",
   "execution_count": null,
   "metadata": {
    "slideshow": {
     "slide_type": "fragment"
    }
   },
   "outputs": [],
   "source": [
    "conditions_clean.value_counts(dropna=False)"
   ]
  },
  {
   "cell_type": "markdown",
   "metadata": {
    "slideshow": {
     "slide_type": "slide"
    }
   },
   "source": [
    "We can add this standardized version of the `'Conditions'` column to our DataFrame and save to CSV:"
   ]
  },
  {
   "cell_type": "code",
   "execution_count": null,
   "metadata": {
    "slideshow": {
     "slide_type": "fragment"
    }
   },
   "outputs": [],
   "source": [
    "messy['Conditions (standardized)'] = conditions_clean\n",
    "messy.head()"
   ]
  },
  {
   "cell_type": "code",
   "execution_count": null,
   "metadata": {
    "slideshow": {
     "slide_type": "fragment"
    }
   },
   "outputs": [],
   "source": [
    "messy.to_csv('data/weather_yvr_cleaned.csv', index=False)"
   ]
  },
  {
   "cell_type": "markdown",
   "metadata": {
    "slideshow": {
     "slide_type": "slide"
    }
   },
   "source": [
    "# Notebooks vs. Scripts\n",
    "\n",
    "So far our workflow has been exploratory and interactive:"
   ]
  },
  {
   "cell_type": "markdown",
   "metadata": {
    "slideshow": {
     "slide_type": "fragment"
    }
   },
   "source": [
    "![](img/workflow0.png)"
   ]
  },
  {
   "cell_type": "markdown",
   "metadata": {
    "slideshow": {
     "slide_type": "-"
    }
   },
   "source": [
    "Fernando Perez (creator of IPython and Jupyter) calls this \"humans in the loop\""
   ]
  },
  {
   "cell_type": "markdown",
   "metadata": {
    "slideshow": {
     "slide_type": "subslide"
    }
   },
   "source": [
    "- Write a bit of code\n",
    "- Run the code\n",
    "- Look at the output and see what's interesting, what needs to be done next, new questions to ask\n",
    "- Write a bit more code\n",
    "- and so on..."
   ]
  },
  {
   "cell_type": "markdown",
   "metadata": {
    "slideshow": {
     "slide_type": "slide"
    }
   },
   "source": [
    "Sometimes, we might want to develop a more automated workflow for tasks we need to do over and over."
   ]
  },
  {
   "cell_type": "markdown",
   "metadata": {
    "slideshow": {
     "slide_type": "-"
    }
   },
   "source": [
    "![](img/workflow1.png)"
   ]
  },
  {
   "cell_type": "markdown",
   "metadata": {
    "slideshow": {
     "slide_type": "fragment"
    }
   },
   "source": [
    "- Suppose we have a bunch of CSV files with messy weather data similar to the previous example\n",
    "- We might want to repeat the above steps to process each file and save the standardized data to new files\n",
    "- We could adapt the code from our notebook into a Python **script**"
   ]
  },
  {
   "cell_type": "markdown",
   "metadata": {
    "slideshow": {
     "slide_type": "fragment"
    }
   },
   "source": [
    "*See the extra section \"Automating Tasks with Scripts\" in `Lesson 3 - Text Data and Messy Data.ipynb` to learn how to create and run a script in Jupyter Lab*"
   ]
  },
  {
   "cell_type": "markdown",
   "metadata": {
    "slideshow": {
     "slide_type": "skip"
    }
   },
   "source": [
    "# Automating Tasks with Scripts\n",
    "\n",
    "### Writing a Script\n",
    "\n",
    "- In Jupyter Lab, make sure you're in the main folder with your workshop files\n",
    "- From the Launcher, click the \"Text Editor\" icon near the bottom\n",
    "- A new text file is created&mdash;rename it from \"untitled.txt\" to \"my_script.py\"\n",
    "- Copy the relevant lines of code from the messy data example in our notebook into \"my_script.py\". You'll want to include the following steps in your script:\n",
    "  - Import `pandas` library\n",
    "  - Read `'data/weather_YVR_messy.csv'` into a DataFrame\n",
    "  - Apply the `strip` and `lower` string methods to the `'Conditions'` column of the DataFrame\n",
    "  - You can add the cleaned data as a new column (e.g. `'Conditions (standardized)'`) or simply over-write the `'Conditions'` column with the cleaned data\n",
    "  - Save the cleaned data to a new CSV file\n",
    "- Press Ctrl-S (or Cmd-S on Mac) to make sure \"my_script.py\" is saved\n",
    "- To see an example of what this would look like, check out \"example_script.py\"\n",
    "\n",
    "### Running a Script\n",
    "\n",
    "- From the Launcher in Jupyter Lab, click the \"Terminal\" icon near the bottom\n",
    "- To the left of the command prompt, it will show what folder you're in\n",
    "  - This might not be the workshop folder&mdash;you might be in your main user folder\n",
    "- To navigate to your workshop folder, use the command `cd` followed by the relative path of the folder:\n",
    "  - For example, on my computer, the terminal opens in the folder `C:\\Users\\jenfly`. From here, I use the command:\n",
    "```\n",
    "cd Projects\\pydata-intro-workshop\n",
    "```\n",
    "  - This will change my working folder to be `C:\\Users\\jenfly\\Projects\\pydata-intro-workshop`, which will now appear to the left of the prompt\n",
    "  - On your computer, you'll want to substitute the appropriate folder names, and if you're on a Mac, use forward slashes `/` instead of back slashes `\\`\n",
    "- Now that you're in the correct folder, run the following command at the prompt to run your script:\n",
    "```\n",
    "python my_script.py\n",
    "```\n",
    "- If everything worked, the script will execute with no error messages and the new CSV file with the cleaned data will have been created!\n",
    "  - Incorporating `print` statements into your script can help you verify that it's running properly. For an example of this, try running the sample script:\n",
    "```\n",
    "python example_script.py\n",
    "```"
   ]
  },
  {
   "cell_type": "markdown",
   "metadata": {
    "slideshow": {
     "slide_type": "slide"
    }
   },
   "source": [
    "# Missing Data\n",
    "\n",
    "- We saw from `conditions_m.value_counts(dropna=False)` that there are 2 missing values in `conditions_m`\n",
    "- With any data that we're working with, it's good to know:\n",
    "  - How many values are missing?\n",
    "  - Where are the empty cells located in our DataFrame (or Series)?"
   ]
  },
  {
   "cell_type": "markdown",
   "metadata": {
    "slideshow": {
     "slide_type": "slide"
    }
   },
   "source": [
    "We can use the `isnull` method to locate missing values"
   ]
  },
  {
   "cell_type": "code",
   "execution_count": null,
   "metadata": {
    "slideshow": {
     "slide_type": "fragment"
    }
   },
   "outputs": [],
   "source": [
    "missing_conditions = conditions_m.isnull()\n",
    "missing_conditions"
   ]
  },
  {
   "cell_type": "markdown",
   "metadata": {
    "slideshow": {
     "slide_type": "fragment"
    }
   },
   "source": [
    "- `missing_conditions` is a Series of Booleans, with `True` where the value in `conditions_m` is missing and `False` where it is not missing"
   ]
  },
  {
   "cell_type": "markdown",
   "metadata": {
    "slideshow": {
     "slide_type": "fragment"
    }
   },
   "source": [
    "- We can count the missings using the `sum` method:\n",
    "  - Adds up all the values in the Series, treating `True` as 1 and `False` as 0"
   ]
  },
  {
   "cell_type": "code",
   "execution_count": null,
   "metadata": {
    "slideshow": {
     "slide_type": "fragment"
    }
   },
   "outputs": [],
   "source": [
    "missing_conditions.sum()"
   ]
  },
  {
   "cell_type": "markdown",
   "metadata": {
    "slideshow": {
     "slide_type": "slide"
    }
   },
   "source": [
    "The `isnull` method can be applied to an entire DataFrame:"
   ]
  },
  {
   "cell_type": "code",
   "execution_count": null,
   "metadata": {
    "slideshow": {
     "slide_type": "fragment"
    }
   },
   "outputs": [],
   "source": [
    "missings = messy.isnull()\n",
    "missings"
   ]
  },
  {
   "cell_type": "markdown",
   "metadata": {
    "slideshow": {
     "slide_type": "fragment"
    }
   },
   "source": [
    "- We can find the number of missings in each column of the DataFrame with the `sum` method:\n",
    "  - Computes the sum along each column"
   ]
  },
  {
   "cell_type": "code",
   "execution_count": null,
   "metadata": {
    "slideshow": {
     "slide_type": "fragment"
    }
   },
   "outputs": [],
   "source": [
    "missings.sum()"
   ]
  },
  {
   "cell_type": "markdown",
   "metadata": {
    "slideshow": {
     "slide_type": "fragment"
    }
   },
   "source": [
    "If you need to fill your missing data, there are many tools that can be used, such as the `pandas` methods `fillna` and `interpolate`"
   ]
  },
  {
   "cell_type": "markdown",
   "metadata": {
    "slideshow": {
     "slide_type": "slide"
    }
   },
   "source": [
    "<a id=\"recap\"></a>\n",
    "# Recap 3\n",
    "\n",
    "### Counting Unique Values\n",
    "\n",
    "Unique values in a Series: \n",
    "```\n",
    "series.unique()\n",
    "```\n",
    "\n",
    "Number of unique values in a Series:\n",
    "```\n",
    "series.nunique()\n",
    "```\n",
    "or you could use `len(series.unique())`\n",
    "\n",
    "\n",
    "Counts of each unique value in a Series\n",
    "- Excluding missing values:\n",
    "```\n",
    "series.value_counts()\n",
    "```\n",
    "- Including missing values:\n",
    "```\n",
    "series.value_counts(dropna=False)\n",
    "```\n",
    "\n",
    "### Bar Charts\n",
    "\n",
    "Plot a horizontal bar chart of a Series: \n",
    "```\n",
    "series.plot(kind='barh')\n",
    "```\n",
    "For a vertical bar chart, use `kind='bar'`.\n",
    "\n",
    "### Text Processing\n",
    "\n",
    "Apply string methods to a text Series&mdash;use string methods in `series.str`:\n",
    "```\n",
    "series_lower = series.str.lower()\n",
    "```\n",
    "Apply multiple methods with method chaining:\n",
    "```\n",
    "series_lower_stripped = series.str.lower().str.strip()\n",
    "```\n",
    "  \n",
    "  \n",
    "### Missing Data\n",
    "\n",
    "Locate missing values in a Series or DataFrame\n",
    "```\n",
    "data.isnull()\n",
    "```\n",
    "\n",
    "Calculate the total number of missing values in a Series, or in each column of a DataFrame: \n",
    "```\n",
    "data.isnull().sum()\n",
    "```"
   ]
  },
  {
   "cell_type": "markdown",
   "metadata": {
    "slideshow": {
     "slide_type": "slide"
    }
   },
   "source": [
    "# Exercise 3\n",
    "\n",
    "a) Familiarize yourself with the file `'data/weather_airport_stations.csv'` in the Jupyter Lab CSV viewer, and then read it into a new variable `weather_all`\n",
    "- Display a random sampling of 10 rows\n",
    "- How many rows and columns does the data have?\n",
    "- What are the lowest and highest temperatures in the data?\n",
    "\n",
    "b) How many unique Station Names and Datetimes are in the data? List the unique values.\n",
    "\n",
    "c) What are the three most common Conditions and the three most common Wind Directions?\n",
    "\n",
    "d) Which column has the most missing values? How many are missing in this column?\n",
    "\n",
    "#### Bonus exercises\n",
    "\n",
    "e) How many temperatures in `weather_all` are less than 0 and how many are greater than 20?\n",
    "- *Hint: review the comparison operators in the \"Booleans\" section of Lesson 0*\n",
    "\n",
    "f) Work through the steps in the \"Automating Tasks with Scripts\" section in Lesson 3 to create and run a script in Jupyter Lab"
   ]
  },
  {
   "cell_type": "markdown",
   "metadata": {
    "slideshow": {
     "slide_type": "slide"
    }
   },
   "source": [
    "a) Read the file `'data/weather_airport_stations.csv'` into a new variable `weather_all`.\n",
    "\n",
    "- A random sampling of 10 rows of `weather_all`:"
   ]
  },
  {
   "cell_type": "code",
   "execution_count": null,
   "metadata": {},
   "outputs": [],
   "source": []
  },
  {
   "cell_type": "code",
   "execution_count": null,
   "metadata": {
    "slideshow": {
     "slide_type": "subslide"
    }
   },
   "outputs": [],
   "source": [
    "weather_all = pd.read_csv('data/weather_airport_stations.csv')\n",
    "weather_all.sample(10)"
   ]
  },
  {
   "cell_type": "markdown",
   "metadata": {
    "slideshow": {
     "slide_type": "slide"
    }
   },
   "source": [
    "- Number of rows and columns:"
   ]
  },
  {
   "cell_type": "code",
   "execution_count": null,
   "metadata": {},
   "outputs": [],
   "source": []
  },
  {
   "cell_type": "code",
   "execution_count": null,
   "metadata": {
    "slideshow": {
     "slide_type": "subslide"
    }
   },
   "outputs": [],
   "source": [
    "weather_all.shape"
   ]
  },
  {
   "cell_type": "markdown",
   "metadata": {},
   "source": [
    "The data has 480 rows and 17 columns."
   ]
  },
  {
   "cell_type": "markdown",
   "metadata": {
    "slideshow": {
     "slide_type": "slide"
    }
   },
   "source": [
    "- Lowest and highest temperature:"
   ]
  },
  {
   "cell_type": "code",
   "execution_count": null,
   "metadata": {},
   "outputs": [],
   "source": []
  },
  {
   "cell_type": "code",
   "execution_count": null,
   "metadata": {
    "slideshow": {
     "slide_type": "subslide"
    }
   },
   "outputs": [],
   "source": [
    "weather_all['Temperature (C)'].describe()"
   ]
  },
  {
   "cell_type": "markdown",
   "metadata": {},
   "source": [
    "The lowest temperature is -7.1 C and the highest is 28.6 C."
   ]
  },
  {
   "cell_type": "markdown",
   "metadata": {
    "slideshow": {
     "slide_type": "slide"
    }
   },
   "source": [
    "Aside: What happens if we try to display the entire DataFrame `weather_all` in our notebook?"
   ]
  },
  {
   "cell_type": "code",
   "execution_count": null,
   "metadata": {
    "scrolled": false
   },
   "outputs": [],
   "source": [
    "weather_all"
   ]
  },
  {
   "cell_type": "markdown",
   "metadata": {
    "slideshow": {
     "slide_type": "fragment"
    }
   },
   "source": [
    "For large DataFrames, the first 30 and last 30 rows are displayed, with a `...` in between"
   ]
  },
  {
   "cell_type": "markdown",
   "metadata": {
    "slideshow": {
     "slide_type": "slide"
    }
   },
   "source": [
    "b) How many unique Station Names and Datetimes are in the data? List the unique values."
   ]
  },
  {
   "cell_type": "code",
   "execution_count": null,
   "metadata": {},
   "outputs": [],
   "source": []
  },
  {
   "cell_type": "code",
   "execution_count": null,
   "metadata": {},
   "outputs": [],
   "source": []
  },
  {
   "cell_type": "code",
   "execution_count": null,
   "metadata": {
    "slideshow": {
     "slide_type": "subslide"
    }
   },
   "outputs": [],
   "source": [
    "station_names_unique = weather_all['Station Name'].unique()\n",
    "print(station_names_unique)\n",
    "print(len(station_names_unique))"
   ]
  },
  {
   "cell_type": "code",
   "execution_count": null,
   "metadata": {
    "slideshow": {
     "slide_type": "fragment"
    }
   },
   "outputs": [],
   "source": [
    "datetime_unique = weather_all['Datetime'].unique()\n",
    "print(datetime_unique)\n",
    "print(weather_all['Datetime'].nunique())"
   ]
  },
  {
   "cell_type": "markdown",
   "metadata": {
    "slideshow": {
     "slide_type": "fragment"
    }
   },
   "source": [
    "There are 20 unique station names and 52 unique datetimes."
   ]
  },
  {
   "cell_type": "markdown",
   "metadata": {
    "slideshow": {
     "slide_type": "slide"
    }
   },
   "source": [
    "c) What are the three most common Conditions and the three most common Wind Directions?"
   ]
  },
  {
   "cell_type": "code",
   "execution_count": null,
   "metadata": {},
   "outputs": [],
   "source": []
  },
  {
   "cell_type": "code",
   "execution_count": null,
   "metadata": {},
   "outputs": [],
   "source": []
  },
  {
   "cell_type": "code",
   "execution_count": null,
   "metadata": {
    "slideshow": {
     "slide_type": "subslide"
    }
   },
   "outputs": [],
   "source": [
    "weather_all['Conditions'].value_counts()"
   ]
  },
  {
   "cell_type": "code",
   "execution_count": null,
   "metadata": {
    "slideshow": {
     "slide_type": "fragment"
    }
   },
   "outputs": [],
   "source": [
    "weather_all['Wind Direction'].value_counts()"
   ]
  },
  {
   "cell_type": "markdown",
   "metadata": {
    "slideshow": {
     "slide_type": "fragment"
    }
   },
   "source": [
    "- Three most common Conditions: Mostly Cloudy, Partly Cloudy, Mainly Sunny\n",
    "- Three most common Wind Directions: S, SSW, SSE"
   ]
  },
  {
   "cell_type": "markdown",
   "metadata": {
    "slideshow": {
     "slide_type": "slide"
    }
   },
   "source": [
    "d) Which column has the most missing values? How many are missing in this column?"
   ]
  },
  {
   "cell_type": "code",
   "execution_count": null,
   "metadata": {},
   "outputs": [],
   "source": []
  },
  {
   "cell_type": "code",
   "execution_count": null,
   "metadata": {
    "slideshow": {
     "slide_type": "subslide"
    }
   },
   "outputs": [],
   "source": [
    "weather_all.isnull().sum()"
   ]
  },
  {
   "cell_type": "markdown",
   "metadata": {
    "slideshow": {
     "slide_type": "fragment"
    }
   },
   "source": [
    "The 'Humidex (C)' column has the most missing values (446)."
   ]
  },
  {
   "cell_type": "markdown",
   "metadata": {
    "slideshow": {
     "slide_type": "skip"
    }
   },
   "source": [
    "e) How many temperatures are less than 0 and how many are greater than 20?"
   ]
  },
  {
   "cell_type": "code",
   "execution_count": null,
   "metadata": {
    "slideshow": {
     "slide_type": "skip"
    }
   },
   "outputs": [],
   "source": [
    "temp = weather_all['Temperature (C)']"
   ]
  },
  {
   "cell_type": "code",
   "execution_count": null,
   "metadata": {
    "slideshow": {
     "slide_type": "skip"
    }
   },
   "outputs": [],
   "source": [
    "temp_lt_0 = temp < 0\n",
    "temp_lt_0.head()"
   ]
  },
  {
   "cell_type": "code",
   "execution_count": null,
   "metadata": {
    "slideshow": {
     "slide_type": "skip"
    }
   },
   "outputs": [],
   "source": [
    "temp_lt_0.sum()"
   ]
  },
  {
   "cell_type": "markdown",
   "metadata": {
    "slideshow": {
     "slide_type": "skip"
    }
   },
   "source": [
    "There are 25 temperatures less than 0 C."
   ]
  },
  {
   "cell_type": "code",
   "execution_count": null,
   "metadata": {
    "slideshow": {
     "slide_type": "skip"
    }
   },
   "outputs": [],
   "source": [
    "temp_gt_20 = temp > 20\n",
    "temp_gt_20.head()"
   ]
  },
  {
   "cell_type": "code",
   "execution_count": null,
   "metadata": {
    "slideshow": {
     "slide_type": "skip"
    }
   },
   "outputs": [],
   "source": [
    "temp_gt_20.sum()"
   ]
  },
  {
   "cell_type": "markdown",
   "metadata": {
    "slideshow": {
     "slide_type": "skip"
    }
   },
   "source": [
    "There are 107 temperatures greater than 20 C."
   ]
  },
  {
   "cell_type": "markdown",
   "metadata": {
    "slideshow": {
     "slide_type": "slide"
    }
   },
   "source": [
    "# Interlude: Data Visualization"
   ]
  }
 ],
 "metadata": {
  "celltoolbar": "Slideshow",
  "kernelspec": {
   "display_name": "Python [conda root]",
   "language": "python",
   "name": "conda-root-py"
  },
  "language_info": {
   "codemirror_mode": {
    "name": "ipython",
    "version": 3
   },
   "file_extension": ".py",
   "mimetype": "text/x-python",
   "name": "python",
   "nbconvert_exporter": "python",
   "pygments_lexer": "ipython3",
   "version": "3.6.4"
  },
  "livereveal": {
   "scroll": true,
   "theme": "solarized",
   "transition": "none"
  }
 },
 "nbformat": 4,
 "nbformat_minor": 2
}
