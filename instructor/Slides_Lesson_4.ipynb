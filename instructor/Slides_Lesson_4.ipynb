{
 "cells": [
  {
   "cell_type": "markdown",
   "metadata": {
    "slideshow": {
     "slide_type": "slide"
    }
   },
   "source": [
    "# Lesson 4: Sorting, Aggregation, and Subsets"
   ]
  },
  {
   "cell_type": "markdown",
   "metadata": {
    "slideshow": {
     "slide_type": "skip"
    }
   },
   "source": [
    "To jump to the recap, click [here](#recap)"
   ]
  },
  {
   "cell_type": "markdown",
   "metadata": {
    "slideshow": {
     "slide_type": "skip"
    }
   },
   "source": [
    "# Initial Setup\n",
    "\n",
    "Import libraries and initialize variables to pick up where we left off in Lesson 3."
   ]
  },
  {
   "cell_type": "code",
   "execution_count": null,
   "metadata": {
    "slideshow": {
     "slide_type": "skip"
    }
   },
   "outputs": [],
   "source": [
    "import pandas as pd\n",
    "\n",
    "%matplotlib inline"
   ]
  },
  {
   "cell_type": "code",
   "execution_count": null,
   "metadata": {
    "slideshow": {
     "slide_type": "skip"
    }
   },
   "outputs": [],
   "source": [
    "weather_all = pd.read_csv('data/weather_airport_stations.csv')"
   ]
  },
  {
   "cell_type": "markdown",
   "metadata": {
    "slideshow": {
     "slide_type": "slide"
    }
   },
   "source": [
    "# Sorting\n",
    "\n",
    "- It's often convenient to have our data in a sorted form\n",
    "- We can also use sorting to answer questions about the extreme (highest / lowest) values in our data"
   ]
  },
  {
   "cell_type": "markdown",
   "metadata": {
    "slideshow": {
     "slide_type": "fragment"
    }
   },
   "source": [
    "We can sort an entire DataFrame based on the values in a column using the `sort_values` method:"
   ]
  },
  {
   "cell_type": "code",
   "execution_count": null,
   "metadata": {
    "slideshow": {
     "slide_type": "fragment"
    }
   },
   "outputs": [],
   "source": [
    "weather_sorted = weather_all.sort_values('Temperature (C)')\n",
    "weather_sorted.head()"
   ]
  },
  {
   "cell_type": "markdown",
   "metadata": {
    "slideshow": {
     "slide_type": "fragment"
    }
   },
   "source": [
    "- The above code does not modify our original DataFrame `weather_all`\n",
    "- Looking at `weather_sorted`, we can answer questions like:\n",
    "  - What station(s) and datetimes had the coldest temperatures?\n",
    "  - What were the weather conditions and other measurements (relative humidity, pressure, etc.) during these coldest temperatures?"
   ]
  },
  {
   "cell_type": "markdown",
   "metadata": {
    "slideshow": {
     "slide_type": "slide"
    }
   },
   "source": [
    "- `sort_values` sorts in ascending order (lowest to highest) by default\n",
    "- We can switch this using the `ascending` keyword argument:"
   ]
  },
  {
   "cell_type": "code",
   "execution_count": null,
   "metadata": {
    "slideshow": {
     "slide_type": "fragment"
    }
   },
   "outputs": [],
   "source": [
    "column = 'Temperature (C)'\n",
    "weather_all.sort_values(column, ascending=False).head()"
   ]
  },
  {
   "cell_type": "markdown",
   "metadata": {
    "slideshow": {
     "slide_type": "slide"
    }
   },
   "source": [
    "# Aggregation\n",
    "\n",
    "- So far we have looked at statistics for entire columns of a DataFrame\n",
    "- With aggregation, we can answer questions about sub-groups within columns, such as:\n",
    "  - What are the mean, minimum, and maximum temperatures at each station in `weather_all`?"
   ]
  },
  {
   "cell_type": "markdown",
   "metadata": {
    "slideshow": {
     "slide_type": "fragment"
    }
   },
   "source": [
    "We can aggregate data with the `groupby` method chained with an aggregation method (e.g., `mean`, `sum`, `max`, `min`, `count`)\n",
    "- For example, find the mean values for each station:"
   ]
  },
  {
   "cell_type": "code",
   "execution_count": null,
   "metadata": {
    "slideshow": {
     "slide_type": "fragment"
    }
   },
   "outputs": [],
   "source": [
    "station_means = weather_all.groupby('Station Name').mean()\n",
    "station_means"
   ]
  },
  {
   "cell_type": "markdown",
   "metadata": {
    "slideshow": {
     "slide_type": "fragment"
    }
   },
   "source": [
    "For more complex aggregations, there is a `pivot_table` method."
   ]
  },
  {
   "cell_type": "markdown",
   "metadata": {
    "slideshow": {
     "slide_type": "slide"
    }
   },
   "source": [
    "Create a bar chart of the mean temperature at each station:"
   ]
  },
  {
   "cell_type": "code",
   "execution_count": null,
   "metadata": {
    "slideshow": {
     "slide_type": "fragment"
    }
   },
   "outputs": [],
   "source": [
    "temp_means = station_means['Temperature (C)']\n",
    "temp_means"
   ]
  },
  {
   "cell_type": "code",
   "execution_count": null,
   "metadata": {
    "slideshow": {
     "slide_type": "fragment"
    }
   },
   "outputs": [],
   "source": [
    "temp_means.plot(kind='bar', color='0.5', figsize=(12, 5));"
   ]
  },
  {
   "cell_type": "markdown",
   "metadata": {
    "slideshow": {
     "slide_type": "slide"
    }
   },
   "source": [
    "We can use the `sort_values` method on the `temp_means` Series to find out which station had the highest mean temperature:"
   ]
  },
  {
   "cell_type": "code",
   "execution_count": null,
   "metadata": {
    "slideshow": {
     "slide_type": "fragment"
    }
   },
   "outputs": [],
   "source": [
    "temp_means.sort_values(ascending=False)"
   ]
  },
  {
   "cell_type": "markdown",
   "metadata": {
    "slideshow": {
     "slide_type": "slide"
    }
   },
   "source": [
    "# Data Subsets\n",
    "\n",
    "- So far we've been working with entire DataFrames and individual columns\n",
    "- We can also extract other subsets of a DataFrame:\n",
    "  - Multiple columns\n",
    "  - Select rows based on row numbers or row labels\n",
    "  - Select rows based on a criteria"
   ]
  },
  {
   "cell_type": "markdown",
   "metadata": {
    "slideshow": {
     "slide_type": "slide"
    }
   },
   "source": [
    "## Selecting columns of a DataFrame"
   ]
  },
  {
   "cell_type": "code",
   "execution_count": null,
   "metadata": {
    "scrolled": true,
    "slideshow": {
     "slide_type": "fragment"
    }
   },
   "outputs": [],
   "source": [
    "weather_all.head()"
   ]
  },
  {
   "cell_type": "markdown",
   "metadata": {
    "slideshow": {
     "slide_type": "fragment"
    }
   },
   "source": [
    "Get a subset of the DataFrame with only the columns `'Station Name'`, `'Wind Speed (km/hr)'` and `'Temperature (C)'`, in that order:"
   ]
  },
  {
   "cell_type": "code",
   "execution_count": null,
   "metadata": {
    "slideshow": {
     "slide_type": "fragment"
    }
   },
   "outputs": [],
   "source": [
    "columns = ['Station Name', 'Wind Speed (km/hr)', 'Temperature (C)']\n",
    "winds_temp = weather_all[columns]\n",
    "winds_temp.head()"
   ]
  },
  {
   "cell_type": "markdown",
   "metadata": {
    "slideshow": {
     "slide_type": "fragment"
    }
   },
   "source": [
    "With a subset such as `winds_temp`, we can display summaries for just the columns we're interested in. For example, aggregate to find the maximum wind speed and temperature at each station:"
   ]
  },
  {
   "cell_type": "code",
   "execution_count": null,
   "metadata": {
    "scrolled": false,
    "slideshow": {
     "slide_type": "fragment"
    }
   },
   "outputs": [],
   "source": [
    "winds_temp.groupby('Station Name').max()"
   ]
  },
  {
   "cell_type": "markdown",
   "metadata": {
    "slideshow": {
     "slide_type": "slide"
    }
   },
   "source": [
    "## Selecting rows of a DataFrame\n",
    "- Selecting rows based on position or row label is actually a fairly complex topic, which we won't cover today\n",
    "- Let's look at how to select rows based on a criteria\n",
    "  - Similar to applying a filter in Excel"
   ]
  },
  {
   "cell_type": "markdown",
   "metadata": {
    "slideshow": {
     "slide_type": "slide"
    }
   },
   "source": [
    "Where is it snowing?\n",
    "- Use the string method `contains` on the `'Conditions'` column"
   ]
  },
  {
   "cell_type": "code",
   "execution_count": null,
   "metadata": {
    "slideshow": {
     "slide_type": "fragment"
    }
   },
   "outputs": [],
   "source": [
    "snowing = weather_all['Conditions'].str.contains('Snow')\n",
    "print(len(snowing))\n",
    "snowing.head()"
   ]
  },
  {
   "cell_type": "markdown",
   "metadata": {
    "slideshow": {
     "slide_type": "fragment"
    }
   },
   "source": [
    "- `snowing` is a Boolean Series of length equal to the number of rows of `weather_all`\n",
    "- The index of `snowing` is equal to the index of `weather_all`\n",
    "- We can sum the Series to find out how many rows with snowing conditions are in our data:"
   ]
  },
  {
   "cell_type": "code",
   "execution_count": null,
   "metadata": {
    "slideshow": {
     "slide_type": "fragment"
    }
   },
   "outputs": [],
   "source": [
    "num_snowing = snowing.sum()\n",
    "num_snowing"
   ]
  },
  {
   "cell_type": "markdown",
   "metadata": {
    "slideshow": {
     "slide_type": "fragment"
    }
   },
   "source": [
    "Alternatively, we could also use `value_counts` to tally up the snowing conditions:"
   ]
  },
  {
   "cell_type": "code",
   "execution_count": null,
   "metadata": {
    "slideshow": {
     "slide_type": "fragment"
    }
   },
   "outputs": [],
   "source": [
    "snowing.value_counts(dropna=False)"
   ]
  },
  {
   "cell_type": "markdown",
   "metadata": {
    "slideshow": {
     "slide_type": "fragment"
    }
   },
   "source": [
    "We can use `snowing` as a **filter** to extract the rows with snowing weather conditions\n",
    "- However, our filter can only contain `True` or `False` values\n",
    "- We need to fill the missing value (`NaN`)\n",
    "  - Use the `fillna` method to fill the missing with a value of `False`"
   ]
  },
  {
   "cell_type": "code",
   "execution_count": null,
   "metadata": {
    "slideshow": {
     "slide_type": "fragment"
    }
   },
   "outputs": [],
   "source": [
    "snowing_filled = snowing.fillna(False)\n",
    "snowing_filled.value_counts(dropna=False)"
   ]
  },
  {
   "cell_type": "markdown",
   "metadata": {
    "slideshow": {
     "slide_type": "slide"
    }
   },
   "source": [
    "Now we're ready to apply our filter and find out where it's snowing:"
   ]
  },
  {
   "cell_type": "code",
   "execution_count": null,
   "metadata": {
    "slideshow": {
     "slide_type": "fragment"
    }
   },
   "outputs": [],
   "source": [
    "weather_snowing = weather_all[snowing_filled]\n",
    "weather_snowing"
   ]
  },
  {
   "cell_type": "code",
   "execution_count": null,
   "metadata": {
    "slideshow": {
     "slide_type": "fragment"
    }
   },
   "outputs": [],
   "source": [
    "weather_snowing['Station Name'].unique()"
   ]
  },
  {
   "cell_type": "markdown",
   "metadata": {
    "slideshow": {
     "slide_type": "-"
    }
   },
   "source": [
    "It's snowing at one station&mdash;Iqaluit Airport!"
   ]
  },
  {
   "cell_type": "markdown",
   "metadata": {
    "slideshow": {
     "slide_type": "slide"
    }
   },
   "source": [
    "- How many stations have temperatures greater than 20 C?\n",
    "- Which station had the highest number of hours with temperatures greater than 20 C?"
   ]
  },
  {
   "cell_type": "markdown",
   "metadata": {
    "slideshow": {
     "slide_type": "fragment"
    }
   },
   "source": [
    "Use a comparison operator to create a filter:"
   ]
  },
  {
   "cell_type": "code",
   "execution_count": null,
   "metadata": {
    "slideshow": {
     "slide_type": "fragment"
    }
   },
   "outputs": [],
   "source": [
    "temp_warm = weather_all['Temperature (C)'] > 20\n",
    "temp_warm.head()"
   ]
  },
  {
   "cell_type": "markdown",
   "metadata": {
    "slideshow": {
     "slide_type": "fragment"
    }
   },
   "source": [
    "See how many `True` and `False` are in our filter, and check for missings:"
   ]
  },
  {
   "cell_type": "code",
   "execution_count": null,
   "metadata": {
    "scrolled": true,
    "slideshow": {
     "slide_type": "fragment"
    }
   },
   "outputs": [],
   "source": [
    "temp_warm.value_counts(dropna=False)"
   ]
  },
  {
   "cell_type": "markdown",
   "metadata": {
    "slideshow": {
     "slide_type": "fragment"
    }
   },
   "source": [
    "Temperatures are greater than 20 C in 107 rows of our data, but this doesn't tell us the number of stations, since each station might have multiple rows (multiple hours) with temperatures greater than 20 C."
   ]
  },
  {
   "cell_type": "markdown",
   "metadata": {
    "slideshow": {
     "slide_type": "slide"
    }
   },
   "source": [
    "Use the filter `temp_warm` to extract the rows of `weather_all` which have temperatures greater than 20 C:"
   ]
  },
  {
   "cell_type": "code",
   "execution_count": null,
   "metadata": {
    "slideshow": {
     "slide_type": "fragment"
    }
   },
   "outputs": [],
   "source": [
    "weather_warm = weather_all[temp_warm]\n",
    "weather_warm.head(3)"
   ]
  },
  {
   "cell_type": "markdown",
   "metadata": {
    "slideshow": {
     "slide_type": "fragment"
    }
   },
   "source": [
    "The number of stations with temperature greater than 20 C is:"
   ]
  },
  {
   "cell_type": "code",
   "execution_count": null,
   "metadata": {
    "slideshow": {
     "slide_type": "fragment"
    }
   },
   "outputs": [],
   "source": [
    "weather_warm['Station Name'].nunique()"
   ]
  },
  {
   "cell_type": "markdown",
   "metadata": {
    "slideshow": {
     "slide_type": "slide"
    }
   },
   "source": [
    "List these stations and the number of hours at each station with temperatures greater than 20 C:"
   ]
  },
  {
   "cell_type": "code",
   "execution_count": null,
   "metadata": {
    "slideshow": {
     "slide_type": "fragment"
    }
   },
   "outputs": [],
   "source": [
    "weather_warm['Station Name'].value_counts()"
   ]
  },
  {
   "cell_type": "markdown",
   "metadata": {
    "slideshow": {
     "slide_type": "fragment"
    }
   },
   "source": [
    "Winnipeg Richardson Int'l Airport had the highest occurrence (13 hours) of temperatures greater than 20 C"
   ]
  },
  {
   "cell_type": "markdown",
   "metadata": {
    "slideshow": {
     "slide_type": "slide"
    }
   },
   "source": [
    "<a id=\"recap\"></a>\n",
    "# Lesson 4 Recap\n",
    "\n",
    "### Sorting\n",
    "\n",
    "Sort a DataFrame based on the values in the column `'Column B'`:\n",
    "```\n",
    "df.sort_values('Column B')\n",
    "```\n",
    "To sort in descending order, use the keyword argument `ascending=False`\n",
    "\n",
    "\n",
    "### Aggregation\n",
    "\n",
    "For basic aggregation operations, use the `groupby` method chained with an aggregation method (e.g., `mean`, `sum`, `max`, `min`, `count`).\n",
    "\n",
    "For example, to find the mean values for data grouped by `'Column B'`: `\n",
    "```\n",
    "df.groupby('Column B').mean()\n",
    "```\n",
    "\n",
    "### Subsets\n",
    "\n",
    "#### Selecting Columns\n",
    "\n",
    "To select a subset of columns from a DataFrame: \n",
    "```\n",
    "df_sub = df[['Column C', 'Column A', 'Column B']]\n",
    "```\n",
    "\n",
    "#### Selecting Rows with a Filter\n",
    "\n",
    "To select a subset of rows with a filter:\n",
    "  - Create a filter (Boolean Series)\n",
    "  - Fill any missings in the filter using the `fillna` method (if necessary)\n",
    "  - Use the filter to extract the desired rows from the DataFrame\n",
    "\n",
    "Filter Example 1: string method `contains` with text data\n",
    "```\n",
    "snowing = weather_all['Conditions'].str.contains('Snow')\n",
    "snowing = snowing.fillna(False)\n",
    "weather_snowing = weather_all[snowing]\n",
    "```\n",
    "\n",
    "Filter Example 2: comparison operator with numerical data\n",
    "```\n",
    "temp_warm = weather_all['Temperature (C)'] > 20\n",
    "temp_warm = temp_warm.fillna(False)\n",
    "weather_warm = weather_all[temp_warm]\n",
    "```"
   ]
  },
  {
   "cell_type": "markdown",
   "metadata": {
    "slideshow": {
     "slide_type": "slide"
    }
   },
   "source": [
    "# Exercise 4\n",
    "\n",
    "a) What is the fastest wind speed in `weather_all`, and at what station and datetime did it occur? What were the wind direction, temperature, and weather conditions (raining / sunny / etc.) that accompanied this fastest wind speed?\n",
    "\n",
    "b) How many stations had wind speeds greater than 30 km/hr? Which stations were they?\n",
    "\n",
    "#### Bonus exercises\n",
    "\n",
    "c) What were the top three windiest stations, based on their maximum wind speeds? What were the maximum wind speeds at each of these stations?\n",
    "\n",
    "d) Do the top three stations from (c) change if you rank your stations based on mean wind speed instead of maximum wind speed?"
   ]
  },
  {
   "cell_type": "markdown",
   "metadata": {
    "slideshow": {
     "slide_type": "slide"
    }
   },
   "source": [
    "a) What is the fastest wind speed in `weather_all`, and at what station and datetime did it occur? What were the wind direction, temperature, and weather conditions (raining / sunny / etc.) that accompanied this fastest wind speed?"
   ]
  },
  {
   "cell_type": "code",
   "execution_count": null,
   "metadata": {},
   "outputs": [],
   "source": []
  },
  {
   "cell_type": "code",
   "execution_count": null,
   "metadata": {
    "slideshow": {
     "slide_type": "subslide"
    }
   },
   "outputs": [],
   "source": [
    "weather_all.sort_values('Wind Speed (km/hr)', ascending=False).head(1)"
   ]
  },
  {
   "cell_type": "markdown",
   "metadata": {
    "slideshow": {
     "slide_type": "fragment"
    }
   },
   "source": [
    "The fastest wind speed was 54 km/hr at Iqaluit Airport at 2018-05-22 19:00. Wind direction was NNW, temperature -4 C, and weather conditions partly cloudy."
   ]
  },
  {
   "cell_type": "markdown",
   "metadata": {
    "slideshow": {
     "slide_type": "slide"
    }
   },
   "source": [
    "b) How many stations had wind speeds greater than 30 km/hr? Which stations were they?"
   ]
  },
  {
   "cell_type": "code",
   "execution_count": null,
   "metadata": {},
   "outputs": [],
   "source": []
  },
  {
   "cell_type": "code",
   "execution_count": null,
   "metadata": {},
   "outputs": [],
   "source": []
  },
  {
   "cell_type": "code",
   "execution_count": null,
   "metadata": {},
   "outputs": [],
   "source": []
  },
  {
   "cell_type": "code",
   "execution_count": null,
   "metadata": {},
   "outputs": [],
   "source": []
  },
  {
   "cell_type": "code",
   "execution_count": null,
   "metadata": {
    "slideshow": {
     "slide_type": "subslide"
    }
   },
   "outputs": [],
   "source": [
    "# Create a filter and fill any missings\n",
    "windy = weather_all['Wind Speed (km/hr)'] > 30\n",
    "windy = windy.fillna(False)\n",
    "\n",
    "# Use the filter to extract the desired rows from our DataFrame\n",
    "weather_windy = weather_all[windy]\n",
    "weather_windy.head()"
   ]
  },
  {
   "cell_type": "code",
   "execution_count": null,
   "metadata": {
    "slideshow": {
     "slide_type": "fragment"
    }
   },
   "outputs": [],
   "source": [
    "windy_stations = weather_windy['Station Name'].unique()\n",
    "print(windy_stations)\n",
    "len(windy_stations)"
   ]
  },
  {
   "cell_type": "markdown",
   "metadata": {},
   "source": [
    "There were 8 stations with wind speeds exceeding 30 km/hr."
   ]
  },
  {
   "cell_type": "markdown",
   "metadata": {
    "slideshow": {
     "slide_type": "skip"
    }
   },
   "source": [
    "c) What were the top three windiest stations, based on their maximum wind speeds? What were the maximum wind speeds at each of these stations? "
   ]
  },
  {
   "cell_type": "code",
   "execution_count": null,
   "metadata": {
    "slideshow": {
     "slide_type": "skip"
    }
   },
   "outputs": [],
   "source": [
    "stations_max = weather_all.groupby('Station Name').max()\n",
    "stations_max.sort_values('Wind Speed (km/hr)', ascending=False).head(3)"
   ]
  },
  {
   "cell_type": "markdown",
   "metadata": {
    "slideshow": {
     "slide_type": "skip"
    }
   },
   "source": [
    "Top 3 windiest stations and their maximum wind speeds:\n",
    "- 1) Iqaluit: 54 km/hr\n",
    "- 2) Whitehorse: 42 km/hr\n",
    "- 3) Quebec Lesage: 39 km/hr"
   ]
  },
  {
   "cell_type": "markdown",
   "metadata": {
    "slideshow": {
     "slide_type": "skip"
    }
   },
   "source": [
    "d) Do the top three stations from (c) change if you rank your stations based on mean wind speed instead of maximum wind speed?"
   ]
  },
  {
   "cell_type": "code",
   "execution_count": null,
   "metadata": {
    "scrolled": true,
    "slideshow": {
     "slide_type": "skip"
    }
   },
   "outputs": [],
   "source": [
    "stations_mean = weather_all.groupby('Station Name').mean()\n",
    "stations_mean.sort_values('Wind Speed (km/hr)', ascending=False).head(3)"
   ]
  },
  {
   "cell_type": "markdown",
   "metadata": {
    "slideshow": {
     "slide_type": "skip"
    }
   },
   "source": [
    "Top 3 windiest stations based on mean wind speed:\n",
    "- 1) Iqaluit: 31.7 km/hr\n",
    "- 2) St. John's: 23.5\n",
    "- 3) Whitehorse: 18.9 km/hr"
   ]
  }
 ],
 "metadata": {
  "celltoolbar": "Slideshow",
  "kernelspec": {
   "display_name": "Python [conda root]",
   "language": "python",
   "name": "conda-root-py"
  },
  "language_info": {
   "codemirror_mode": {
    "name": "ipython",
    "version": 3
   },
   "file_extension": ".py",
   "mimetype": "text/x-python",
   "name": "python",
   "nbconvert_exporter": "python",
   "pygments_lexer": "ipython3",
   "version": "3.6.4"
  },
  "livereveal": {
   "scroll": true,
   "theme": "solarized",
   "transition": "none"
  }
 },
 "nbformat": 4,
 "nbformat_minor": 2
}
