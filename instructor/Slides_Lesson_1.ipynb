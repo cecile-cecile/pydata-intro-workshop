{
 "cells": [
  {
   "cell_type": "markdown",
   "metadata": {
    "slideshow": {
     "slide_type": "slide"
    }
   },
   "source": [
    "# Lesson 1: Reading and Summarizing CSV Data"
   ]
  },
  {
   "cell_type": "markdown",
   "metadata": {
    "slideshow": {
     "slide_type": "skip"
    }
   },
   "source": [
    "To jump to the recap, click [here](#recap)"
   ]
  },
  {
   "cell_type": "markdown",
   "metadata": {
    "slideshow": {
     "slide_type": "slide"
    }
   },
   "source": [
    "## Intro to Pandas\n",
    "\n",
    "- `pandas` = Python Data Analysis Library (https://pandas.pydata.org/)\n",
    "- With `pandas` you can do pretty much everything you would in a spreadsheet, plus a whole lot more!"
   ]
  },
  {
   "cell_type": "markdown",
   "metadata": {
    "slideshow": {
     "slide_type": "fragment"
    }
   },
   "source": [
    "- Why Python + Pandas for spreadsheet data?\n",
    "  - Working with huge data files and complex calculations\n",
    "  - Dealing with messy and missing data\n",
    "  - Merging data from multiple files\n",
    "  - Timeseries analysis\n",
    "  - Automate repetitive tasks\n",
    "  - Huge variety of fully customized graphs for visualizing data"
   ]
  },
  {
   "cell_type": "markdown",
   "metadata": {
    "slideshow": {
     "slide_type": "slide"
    }
   },
   "source": [
    "Import the `pandas` library and give it the nickname `pd`"
   ]
  },
  {
   "cell_type": "code",
   "execution_count": null,
   "metadata": {
    "slideshow": {
     "slide_type": "-"
    }
   },
   "outputs": [],
   "source": [
    "import pandas as pd"
   ]
  },
  {
   "cell_type": "markdown",
   "metadata": {
    "slideshow": {
     "slide_type": "fragment"
    }
   },
   "source": [
    "*Note: For learning purposes, we are importing each library as we introduce it. In general, it's good practice to collect all your `import` statements together and put them at the start of the notebook.*"
   ]
  },
  {
   "cell_type": "markdown",
   "metadata": {
    "slideshow": {
     "slide_type": "slide"
    }
   },
   "source": [
    "# Reading a CSV file\n",
    "\n",
    "Let's look at the file `weather_yvr.csv` in the sub-folder `data`\n",
    "\n",
    "- 24 hours of weather measurements at Vancouver Airport\n",
    "- View it in Jupyter Lab's CSV viewer"
   ]
  },
  {
   "cell_type": "markdown",
   "metadata": {
    "slideshow": {
     "slide_type": "slide"
    }
   },
   "source": [
    "We will read the CSV file into our notebook with the function `pd.read_csv`:\n",
    "- Try typing `pd.re` and then press `Tab` and select `read_csv` from the auto-complete options\n",
    "- Our input to the `read_csv` function is the file path (including sub-folder) as a string: `'data/weather_yvr.csv'`"
   ]
  },
  {
   "cell_type": "code",
   "execution_count": null,
   "metadata": {
    "slideshow": {
     "slide_type": "-"
    }
   },
   "outputs": [],
   "source": [
    "pd.read_csv('data/weather_yvr.csv')"
   ]
  },
  {
   "cell_type": "markdown",
   "metadata": {
    "slideshow": {
     "slide_type": "fragment"
    }
   },
   "source": [
    "- We've displayed the data, but we can't do anything further with this on-screen display\n",
    "- We need to store the data in a variable"
   ]
  },
  {
   "cell_type": "markdown",
   "metadata": {
    "slideshow": {
     "slide_type": "slide"
    }
   },
   "source": [
    "Store the output of `pd.read_csv` in a variable `weather_yvr`:"
   ]
  },
  {
   "cell_type": "code",
   "execution_count": null,
   "metadata": {
    "scrolled": false,
    "slideshow": {
     "slide_type": "fragment"
    }
   },
   "outputs": [],
   "source": [
    "weather_yvr = pd.read_csv('data/weather_yvr.csv')"
   ]
  },
  {
   "cell_type": "code",
   "execution_count": null,
   "metadata": {
    "scrolled": false,
    "slideshow": {
     "slide_type": "fragment"
    }
   },
   "outputs": [],
   "source": [
    "weather_yvr"
   ]
  },
  {
   "cell_type": "markdown",
   "metadata": {
    "slideshow": {
     "slide_type": "fragment"
    }
   },
   "source": [
    "What type of variable is `weather_yvr`?"
   ]
  },
  {
   "cell_type": "code",
   "execution_count": null,
   "metadata": {
    "slideshow": {
     "slide_type": "fragment"
    }
   },
   "outputs": [],
   "source": [
    "type(weather_yvr)"
   ]
  },
  {
   "cell_type": "markdown",
   "metadata": {
    "slideshow": {
     "slide_type": "fragment"
    }
   },
   "source": [
    "- `weather_yvr` is a **DataFrame**, a data type from the `pandas` library\n",
    "  - A DataFrame is a 2-dimensional array (like a table in a spreadsheet)"
   ]
  },
  {
   "cell_type": "markdown",
   "metadata": {
    "slideshow": {
     "slide_type": "fragment"
    }
   },
   "source": [
    "- When we display `weather_yvr`, the integer numbers in bold on the left are the DataFrame's **index**"
   ]
  },
  {
   "cell_type": "markdown",
   "metadata": {
    "slideshow": {
     "slide_type": "slide"
    }
   },
   "source": [
    "Using `print` to display `weather_yvr` looks a bit different than the IPython display shown in the previous slide"
   ]
  },
  {
   "cell_type": "code",
   "execution_count": null,
   "metadata": {},
   "outputs": [],
   "source": [
    "print(weather_yvr)"
   ]
  },
  {
   "cell_type": "markdown",
   "metadata": {
    "slideshow": {
     "slide_type": "slide"
    }
   },
   "source": [
    "# Data at a Glance\n",
    "\n",
    "`pandas` provides many ways to quickly and easily summarize your data:\n",
    "- How many rows and columns are there?\n",
    "- What are all the column names and what type of data is in each column?"
   ]
  },
  {
   "cell_type": "markdown",
   "metadata": {
    "slideshow": {
     "slide_type": "fragment"
    }
   },
   "source": [
    "- Numerical data: What is the average and range of the values?\n",
    "- Text data: What are the unique values and how often does each occur?\n",
    "- How many values are missing in each column?"
   ]
  },
  {
   "cell_type": "markdown",
   "metadata": {
    "slideshow": {
     "slide_type": "slide"
    }
   },
   "source": [
    "DataFrame methods:"
   ]
  },
  {
   "cell_type": "code",
   "execution_count": null,
   "metadata": {
    "slideshow": {
     "slide_type": "fragment"
    }
   },
   "outputs": [],
   "source": [
    "weather_yvr.head?"
   ]
  },
  {
   "cell_type": "markdown",
   "metadata": {
    "slideshow": {
     "slide_type": "-"
    }
   },
   "source": [
    "- Type `weather_yvr.` followed by `Tab` to see other methods available for the DataFrame"
   ]
  },
  {
   "cell_type": "code",
   "execution_count": null,
   "metadata": {
    "scrolled": false,
    "slideshow": {
     "slide_type": "fragment"
    }
   },
   "outputs": [],
   "source": [
    "weather_yvr.head()"
   ]
  },
  {
   "cell_type": "code",
   "execution_count": null,
   "metadata": {
    "slideshow": {
     "slide_type": "fragment"
    }
   },
   "outputs": [],
   "source": [
    "weather_yvr.head(3)"
   ]
  },
  {
   "cell_type": "code",
   "execution_count": null,
   "metadata": {
    "slideshow": {
     "slide_type": "slide"
    }
   },
   "outputs": [],
   "source": [
    "weather_yvr.tail()"
   ]
  },
  {
   "cell_type": "code",
   "execution_count": null,
   "metadata": {
    "slideshow": {
     "slide_type": "fragment"
    }
   },
   "outputs": [],
   "source": [
    "weather_yvr.sample(4)"
   ]
  },
  {
   "cell_type": "markdown",
   "metadata": {
    "slideshow": {
     "slide_type": "slide"
    }
   },
   "source": [
    "Number of rows and columns:"
   ]
  },
  {
   "cell_type": "code",
   "execution_count": null,
   "metadata": {
    "slideshow": {
     "slide_type": "fragment"
    }
   },
   "outputs": [],
   "source": [
    "weather_yvr.shape"
   ]
  },
  {
   "cell_type": "markdown",
   "metadata": {
    "slideshow": {
     "slide_type": "fragment"
    }
   },
   "source": [
    "- The DataFrame `weather_yvr` has 24 rows and 5 columns\n",
    "- The index does not count as a column\n",
    "- Notice there are no parentheses at the end of `weather_yvr.shape`\n",
    "- `shape` is an **attribute** of the variable `weather_yvr`"
   ]
  },
  {
   "cell_type": "markdown",
   "metadata": {
    "slideshow": {
     "slide_type": "slide"
    }
   },
   "source": [
    "We can save `weather_yvr.shape` as a variable:"
   ]
  },
  {
   "cell_type": "code",
   "execution_count": null,
   "metadata": {
    "slideshow": {
     "slide_type": "fragment"
    }
   },
   "outputs": [],
   "source": [
    "shape_yvr = weather_yvr.shape\n",
    "print(shape_yvr)"
   ]
  },
  {
   "cell_type": "code",
   "execution_count": null,
   "metadata": {
    "slideshow": {
     "slide_type": "fragment"
    }
   },
   "outputs": [],
   "source": [
    "type(shape_yvr)"
   ]
  },
  {
   "cell_type": "markdown",
   "metadata": {
    "slideshow": {
     "slide_type": "fragment"
    }
   },
   "source": [
    "A tuple is another data type, similar to a list\n",
    "- Items are enclosed in `()` instead of `[]`\n",
    "- Tuples are immutable&mdash;you can't modify individual items inside a tuple"
   ]
  },
  {
   "cell_type": "markdown",
   "metadata": {
    "slideshow": {
     "slide_type": "slide"
    }
   },
   "source": [
    "Unlike a list, which can contain items of different types, each column of a DataFrame must contain items of the same type."
   ]
  },
  {
   "cell_type": "markdown",
   "metadata": {
    "slideshow": {
     "slide_type": "fragment"
    }
   },
   "source": [
    "We can find out the names and data types of each column from the `dtypes` attribute:"
   ]
  },
  {
   "cell_type": "code",
   "execution_count": null,
   "metadata": {
    "slideshow": {
     "slide_type": "-"
    }
   },
   "outputs": [],
   "source": [
    "weather_yvr.dtypes"
   ]
  },
  {
   "cell_type": "markdown",
   "metadata": {
    "slideshow": {
     "slide_type": "fragment"
    }
   },
   "source": [
    "- In a `pandas` DataFrame, a column containing text data (or containing a mix of text and numbers) is assigned a `dtype` of `object` and is treated as a column of strings"
   ]
  },
  {
   "cell_type": "markdown",
   "metadata": {
    "slideshow": {
     "slide_type": "fragment"
    }
   },
   "source": [
    "- `int64` and `float64` are integer and float, respectively\n",
    "  - The `64` at the end means that they are stored as 64-bit numbers in memory\n",
    "  - These data types are equivalent to `int` and `float` in Python (`pandas` is a just a bit more explicit in how it names them)"
   ]
  },
  {
   "cell_type": "markdown",
   "metadata": {
    "slideshow": {
     "slide_type": "slide"
    }
   },
   "source": [
    "If we just want a list of the column names, we can use the `columns` attribute:"
   ]
  },
  {
   "cell_type": "code",
   "execution_count": null,
   "metadata": {
    "slideshow": {
     "slide_type": "fragment"
    }
   },
   "outputs": [],
   "source": [
    "weather_yvr.columns"
   ]
  },
  {
   "cell_type": "markdown",
   "metadata": {
    "slideshow": {
     "slide_type": "slide"
    }
   },
   "source": [
    "# Simple Summary Statistics"
   ]
  },
  {
   "cell_type": "code",
   "execution_count": null,
   "metadata": {
    "scrolled": true,
    "slideshow": {
     "slide_type": "fragment"
    }
   },
   "outputs": [],
   "source": [
    "weather_yvr.describe()"
   ]
  },
  {
   "cell_type": "markdown",
   "metadata": {
    "slideshow": {
     "slide_type": "fragment"
    }
   },
   "source": [
    "- The `describe` method is a way to quickly summarize the averages, extremes, and variability of each numerical data column\n",
    "- You can look at each statistic individually with methods such as `mean`, `median`, `min`, `max`, and `std`"
   ]
  },
  {
   "cell_type": "code",
   "execution_count": null,
   "metadata": {
    "slideshow": {
     "slide_type": "fragment"
    }
   },
   "outputs": [],
   "source": [
    "weather_yvr.mean()"
   ]
  },
  {
   "cell_type": "code",
   "execution_count": null,
   "metadata": {
    "scrolled": false,
    "slideshow": {
     "slide_type": "slide"
    }
   },
   "outputs": [],
   "source": [
    "weather_yvr.max()"
   ]
  },
  {
   "cell_type": "markdown",
   "metadata": {
    "slideshow": {
     "slide_type": "fragment"
    }
   },
   "source": [
    "The `max` method includes string data from the 'Datetime' and 'Conditions' columns in its calculations, which probably isn't what we want.\n",
    "\n",
    "Let's check out the documentation for `max`:"
   ]
  },
  {
   "cell_type": "code",
   "execution_count": null,
   "metadata": {
    "slideshow": {
     "slide_type": "fragment"
    }
   },
   "outputs": [],
   "source": [
    "weather_yvr.max?"
   ]
  },
  {
   "cell_type": "markdown",
   "metadata": {
    "slideshow": {
     "slide_type": "slide"
    }
   },
   "source": [
    "We can use the **keyword argument** `numeric_only` with a Boolean value of `True` to include only the numeric columns:"
   ]
  },
  {
   "cell_type": "code",
   "execution_count": null,
   "metadata": {},
   "outputs": [],
   "source": [
    "weather_yvr.max(numeric_only=True)"
   ]
  },
  {
   "cell_type": "markdown",
   "metadata": {
    "slideshow": {
     "slide_type": "fragment"
    }
   },
   "source": [
    "Auto-complete works for keyword arguments too! You can start typing `nu` inside `weather_yvr.max()`, then press `Tab` and see what happens."
   ]
  },
  {
   "cell_type": "markdown",
   "metadata": {
    "slideshow": {
     "slide_type": "skip"
    }
   },
   "source": [
    "Try pressing `Shift` and `Tab` together after you type the opening `(` in `weather_yvr.max()`\n",
    "- A little window pops up showing a shortened version of the documentation, including the list of available keyword arguments"
   ]
  },
  {
   "cell_type": "markdown",
   "metadata": {
    "slideshow": {
     "slide_type": "slide"
    }
   },
   "source": [
    "<a id=\"recap\"></a>\n",
    "# Lesson 1 Recap\n",
    "\n",
    "### Importing `pandas` Library\n",
    "```\n",
    "import pandas as pd\n",
    "```\n",
    "- Libraries only need to be imported once in a notebook\n",
    "- It's good practice to consolidate all your `import` commands together near the start of your notebook\n",
    "\n",
    "### Reading a CSV File\n",
    "\n",
    "To read a CSV file and store it as a DataFrame variable:\n",
    "```\n",
    "df = pd.read_csv('some_cool_data.csv')\n",
    "```\n",
    "\n",
    "### Quick and Easy Summaries of a DataFrame\n",
    "\n",
    "Number of rows and columns (rows first, columns second): \n",
    "```\n",
    "df.shape\n",
    "```\n",
    "\n",
    "Names and data types of each column: \n",
    "```\n",
    "df.dtypes\n",
    "```\n",
    "Just the names of each column:\n",
    "```\n",
    "df.columns\n",
    "```\n",
    "\n",
    "#### Rows at a Glance\n",
    "\n",
    "- First 5 rows:\n",
    "```\n",
    "df.head()\n",
    "```\n",
    "- Last 5 rows:\n",
    "```\n",
    "df.tail()\n",
    "```\n",
    "- A random sampling (1 row):\n",
    "```\n",
    "df.sample()\n",
    "```\n",
    "- The number of rows can be specified as an input to any of the above methods (e.g. `df.tail(7)` returns the last 7 rows)\n",
    "\n",
    "#### Summary Statistics\n",
    "\n",
    "Full set of summary statistics (min, max, mean, standard deviation, etc.) for each column of a DataFrame:\n",
    "```\n",
    "df.describe()\n",
    "```\n",
    "\n",
    "Mean value of each column:\n",
    "```\n",
    "df.mean()\n",
    "```\n",
    "\n",
    "And similarly for other summary statistics: `df.min()`, `df.max()`, `df.median()`, `df.std()`\n",
    "\n",
    "Optional keyword argument to `min` and `max` methods, to include only numerical data columns:\n",
    "```\n",
    "df.max(numeric_only=True)\n",
    "```"
   ]
  },
  {
   "cell_type": "markdown",
   "metadata": {
    "slideshow": {
     "slide_type": "slide"
    }
   },
   "source": [
    "# Exercise 1\n",
    "\n",
    "a) Read data for Saskatoon Airport from `'data/weather_yxe.csv'` into a new variable `weather_yxe` and display the first 7 rows.\n",
    "\n",
    "b) How many rows and columns does `weather_yxe` have? \n",
    "\n",
    "c) What are the names and data types of the columns?\n",
    "\n",
    "d) What are the minimum and maximum relative humidity in this data?\n",
    "\n",
    "##### Bonus exercises\n",
    "\n",
    "e) What is the mean wind speed during the first 8 hours (first 8 rows) of data?\n",
    "\n",
    "f) What are the minimum and maximum relative humidity during the last 10 hours of data?\n",
    "\n",
    "g) Display summary statistics for all columns for a random sampling of 12 hours of data."
   ]
  },
  {
   "cell_type": "markdown",
   "metadata": {
    "slideshow": {
     "slide_type": "slide"
    }
   },
   "source": [
    "a) Read data for Saskatoon Airport from `'data/weather_yxe.csv'` into a new variable `weather_yxe` and display the first 7 rows. "
   ]
  },
  {
   "cell_type": "code",
   "execution_count": null,
   "metadata": {},
   "outputs": [],
   "source": []
  },
  {
   "cell_type": "code",
   "execution_count": null,
   "metadata": {
    "slideshow": {
     "slide_type": "subslide"
    }
   },
   "outputs": [],
   "source": [
    "weather_yxe = pd.read_csv('data/weather_yxe.csv')\n",
    "weather_yxe.head(7)"
   ]
  },
  {
   "cell_type": "markdown",
   "metadata": {
    "slideshow": {
     "slide_type": "fragment"
    }
   },
   "source": [
    "- Compare the data file in the CSV viewer and with the table displayed here \n",
    "- `NaN` means \"not a number\", i.e. missing data"
   ]
  },
  {
   "cell_type": "markdown",
   "metadata": {
    "slideshow": {
     "slide_type": "slide"
    }
   },
   "source": [
    "b) How many rows and columns does `weather_yxe` have? "
   ]
  },
  {
   "cell_type": "code",
   "execution_count": null,
   "metadata": {},
   "outputs": [],
   "source": []
  },
  {
   "cell_type": "code",
   "execution_count": null,
   "metadata": {
    "slideshow": {
     "slide_type": "subslide"
    }
   },
   "outputs": [],
   "source": [
    "weather_yxe.shape"
   ]
  },
  {
   "cell_type": "markdown",
   "metadata": {
    "slideshow": {
     "slide_type": "fragment"
    }
   },
   "source": [
    "24 rows and 12 columns"
   ]
  },
  {
   "cell_type": "markdown",
   "metadata": {
    "slideshow": {
     "slide_type": "slide"
    }
   },
   "source": [
    "c) What are the names and data types of the columns?"
   ]
  },
  {
   "cell_type": "code",
   "execution_count": null,
   "metadata": {},
   "outputs": [],
   "source": []
  },
  {
   "cell_type": "code",
   "execution_count": null,
   "metadata": {
    "slideshow": {
     "slide_type": "subslide"
    }
   },
   "outputs": [],
   "source": [
    "weather_yxe.dtypes"
   ]
  },
  {
   "cell_type": "markdown",
   "metadata": {
    "slideshow": {
     "slide_type": "slide"
    }
   },
   "source": [
    "d) What are the minimum and maximum wind speeds in this data?"
   ]
  },
  {
   "cell_type": "code",
   "execution_count": null,
   "metadata": {},
   "outputs": [],
   "source": []
  },
  {
   "cell_type": "code",
   "execution_count": null,
   "metadata": {},
   "outputs": [],
   "source": []
  },
  {
   "cell_type": "markdown",
   "metadata": {
    "slideshow": {
     "slide_type": "subslide"
    }
   },
   "source": [
    "We can use `max` and `min`, or `describe`. Here's the `describe` version:"
   ]
  },
  {
   "cell_type": "code",
   "execution_count": null,
   "metadata": {
    "scrolled": true,
    "slideshow": {
     "slide_type": "-"
    }
   },
   "outputs": [],
   "source": [
    "weather_yxe.describe()"
   ]
  },
  {
   "cell_type": "markdown",
   "metadata": {
    "slideshow": {
     "slide_type": "-"
    }
   },
   "source": [
    "The minimum relative humidity is 23% and the maximum is 79%."
   ]
  },
  {
   "cell_type": "markdown",
   "metadata": {
    "slideshow": {
     "slide_type": "skip"
    }
   },
   "source": [
    "e) We can use `describe` or `mean` methods. Here is an example solution using `mean`."
   ]
  },
  {
   "cell_type": "code",
   "execution_count": null,
   "metadata": {
    "slideshow": {
     "slide_type": "skip"
    }
   },
   "outputs": [],
   "source": [
    "first_eight = weather_yxe.head(8)\n",
    "first_eight.mean()"
   ]
  },
  {
   "cell_type": "markdown",
   "metadata": {
    "slideshow": {
     "slide_type": "skip"
    }
   },
   "source": [
    "The mean wind speed in the first 8 hours is 14.625 km/hr."
   ]
  },
  {
   "cell_type": "markdown",
   "metadata": {
    "slideshow": {
     "slide_type": "skip"
    }
   },
   "source": [
    "f) We could create a new variable `last_ten = weather_yxe.tail(10)`, as in the previous example, or we can skip that step and \"chain\" the methods together:"
   ]
  },
  {
   "cell_type": "code",
   "execution_count": null,
   "metadata": {
    "scrolled": true,
    "slideshow": {
     "slide_type": "skip"
    }
   },
   "outputs": [],
   "source": [
    "weather_yxe.tail(10).describe()"
   ]
  },
  {
   "cell_type": "markdown",
   "metadata": {
    "slideshow": {
     "slide_type": "skip"
    }
   },
   "source": [
    "The minimum and maximum relative humidity during the last 10 hours are 23% and 51%, respectively."
   ]
  },
  {
   "cell_type": "markdown",
   "metadata": {
    "slideshow": {
     "slide_type": "skip"
    }
   },
   "source": [
    "g) Since the `sample` method gives a different random sampling each time, the numbers will be different in your output compared to the example solution below."
   ]
  },
  {
   "cell_type": "code",
   "execution_count": null,
   "metadata": {
    "scrolled": false,
    "slideshow": {
     "slide_type": "skip"
    }
   },
   "outputs": [],
   "source": [
    "weather_yxe.sample(12).describe()"
   ]
  },
  {
   "cell_type": "markdown",
   "metadata": {
    "slideshow": {
     "slide_type": "slide"
    }
   },
   "source": [
    "# Interlude: So What?\n",
    "\n",
    "- Why bother with any of this? \n",
    "- Isn't it easier to do all these tasks in Excel?\n",
    "- Why would I care about the shape of a DataFrame, or printing out the column names and data types? \n",
    "  - Can't I just look at a spreadsheet and this information is obvious, without writing any code?"
   ]
  },
  {
   "cell_type": "markdown",
   "metadata": {
    "slideshow": {
     "slide_type": "slide"
    }
   },
   "source": [
    "There are plenty of cases in which Python is overkill and Excel (or other application) is the perfect tool for the job."
   ]
  },
  {
   "cell_type": "markdown",
   "metadata": {
    "slideshow": {
     "slide_type": "fragment"
    }
   },
   "source": [
    "In many other cases, for example when your data is large and unwieldy, even simple Python commands can hugely simplify tasks that would be very difficult and time consuming to do within a spreadsheet."
   ]
  },
  {
   "cell_type": "markdown",
   "metadata": {
    "slideshow": {
     "slide_type": "fragment"
    }
   },
   "source": [
    "- For an example, let's look at: `Example Notebook - Python Developers Survey`"
   ]
  }
 ],
 "metadata": {
  "celltoolbar": "Slideshow",
  "kernelspec": {
   "display_name": "Python [conda root]",
   "language": "python",
   "name": "conda-root-py"
  },
  "language_info": {
   "codemirror_mode": {
    "name": "ipython",
    "version": 3
   },
   "file_extension": ".py",
   "mimetype": "text/x-python",
   "name": "python",
   "nbconvert_exporter": "python",
   "pygments_lexer": "ipython3",
   "version": "3.6.4"
  },
  "livereveal": {
   "scroll": true,
   "theme": "solarized",
   "transition": "none"
  }
 },
 "nbformat": 4,
 "nbformat_minor": 2
}
