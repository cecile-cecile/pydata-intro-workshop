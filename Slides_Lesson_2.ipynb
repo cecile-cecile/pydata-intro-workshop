{
 "cells": [
  {
   "cell_type": "markdown",
   "metadata": {
    "slideshow": {
     "slide_type": "slide"
    }
   },
   "source": [
    "# Lesson 2: Basic Calculations and Graphs"
   ]
  },
  {
   "cell_type": "markdown",
   "metadata": {
    "slideshow": {
     "slide_type": "skip"
    }
   },
   "source": [
    "To jump to the recap, click [here](#recap)"
   ]
  },
  {
   "cell_type": "markdown",
   "metadata": {
    "slideshow": {
     "slide_type": "skip"
    }
   },
   "source": [
    "# Initial Setup\n",
    "\n",
    "Import libraries and initialize variables to pick up where we left off in Lesson 1."
   ]
  },
  {
   "cell_type": "code",
   "execution_count": 1,
   "metadata": {
    "slideshow": {
     "slide_type": "skip"
    }
   },
   "outputs": [],
   "source": [
    "import pandas as pd"
   ]
  },
  {
   "cell_type": "code",
   "execution_count": 2,
   "metadata": {
    "slideshow": {
     "slide_type": "skip"
    }
   },
   "outputs": [],
   "source": [
    "weather_yvr = pd.read_csv('data/weather_yvr.csv')"
   ]
  },
  {
   "cell_type": "markdown",
   "metadata": {
    "slideshow": {
     "slide_type": "slide"
    }
   },
   "source": [
    "# Working with DataFrame Columns"
   ]
  },
  {
   "cell_type": "code",
   "execution_count": 3,
   "metadata": {
    "scrolled": true,
    "slideshow": {
     "slide_type": "fragment"
    }
   },
   "outputs": [
    {
     "data": {
      "text/html": [
       "<div>\n",
       "<style scoped>\n",
       "    .dataframe tbody tr th:only-of-type {\n",
       "        vertical-align: middle;\n",
       "    }\n",
       "\n",
       "    .dataframe tbody tr th {\n",
       "        vertical-align: top;\n",
       "    }\n",
       "\n",
       "    .dataframe thead th {\n",
       "        text-align: right;\n",
       "    }\n",
       "</style>\n",
       "<table border=\"1\" class=\"dataframe\">\n",
       "  <thead>\n",
       "    <tr style=\"text-align: right;\">\n",
       "      <th></th>\n",
       "      <th>Datetime</th>\n",
       "      <th>Hour of Day</th>\n",
       "      <th>Conditions</th>\n",
       "      <th>Temperature (C)</th>\n",
       "      <th>Relative Humidity (%)</th>\n",
       "    </tr>\n",
       "  </thead>\n",
       "  <tbody>\n",
       "    <tr>\n",
       "      <th>0</th>\n",
       "      <td>2018-05-21 22:00:00</td>\n",
       "      <td>22</td>\n",
       "      <td>Mainly Clear</td>\n",
       "      <td>14.8</td>\n",
       "      <td>75.0</td>\n",
       "    </tr>\n",
       "    <tr>\n",
       "      <th>1</th>\n",
       "      <td>2018-05-21 23:00:00</td>\n",
       "      <td>23</td>\n",
       "      <td>Clear</td>\n",
       "      <td>13.5</td>\n",
       "      <td>76.0</td>\n",
       "    </tr>\n",
       "    <tr>\n",
       "      <th>2</th>\n",
       "      <td>2018-05-22 00:00:00</td>\n",
       "      <td>0</td>\n",
       "      <td>Clear</td>\n",
       "      <td>13.1</td>\n",
       "      <td>77.0</td>\n",
       "    </tr>\n",
       "    <tr>\n",
       "      <th>3</th>\n",
       "      <td>2018-05-22 01:00:00</td>\n",
       "      <td>1</td>\n",
       "      <td>Clear</td>\n",
       "      <td>12.9</td>\n",
       "      <td>84.0</td>\n",
       "    </tr>\n",
       "    <tr>\n",
       "      <th>4</th>\n",
       "      <td>2018-05-22 02:00:00</td>\n",
       "      <td>2</td>\n",
       "      <td>Clear</td>\n",
       "      <td>12.2</td>\n",
       "      <td>88.0</td>\n",
       "    </tr>\n",
       "  </tbody>\n",
       "</table>\n",
       "</div>"
      ],
      "text/plain": [
       "              Datetime  Hour of Day    Conditions  Temperature (C)  \\\n",
       "0  2018-05-21 22:00:00           22  Mainly Clear             14.8   \n",
       "1  2018-05-21 23:00:00           23         Clear             13.5   \n",
       "2  2018-05-22 00:00:00            0         Clear             13.1   \n",
       "3  2018-05-22 01:00:00            1         Clear             12.9   \n",
       "4  2018-05-22 02:00:00            2         Clear             12.2   \n",
       "\n",
       "   Relative Humidity (%)  \n",
       "0                   75.0  \n",
       "1                   76.0  \n",
       "2                   77.0  \n",
       "3                   84.0  \n",
       "4                   88.0  "
      ]
     },
     "execution_count": 3,
     "metadata": {},
     "output_type": "execute_result"
    }
   ],
   "source": [
    "weather_yvr.head()"
   ]
  },
  {
   "cell_type": "markdown",
   "metadata": {
    "slideshow": {
     "slide_type": "fragment"
    }
   },
   "source": [
    "We can access a specific column of a DataFrame using the column name and square brackets:"
   ]
  },
  {
   "cell_type": "code",
   "execution_count": 4,
   "metadata": {
    "scrolled": false,
    "slideshow": {
     "slide_type": "-"
    }
   },
   "outputs": [
    {
     "data": {
      "text/plain": [
       "0     14.8\n",
       "1     13.5\n",
       "2     13.1\n",
       "3     12.9\n",
       "4     12.2\n",
       "5     12.0\n",
       "6     11.9\n",
       "7     10.4\n",
       "8     11.0\n",
       "9     13.0\n",
       "10    14.8\n",
       "11    15.8\n",
       "12    15.9\n",
       "13    16.1\n",
       "14    17.4\n",
       "15    18.2\n",
       "16    18.8\n",
       "17    19.5\n",
       "18    19.4\n",
       "19    20.1\n",
       "20    19.7\n",
       "21    19.6\n",
       "22    18.4\n",
       "23    16.1\n",
       "Name: Temperature (C), dtype: float64"
      ]
     },
     "execution_count": 4,
     "metadata": {},
     "output_type": "execute_result"
    }
   ],
   "source": [
    "weather_yvr['Temperature (C)']"
   ]
  },
  {
   "cell_type": "markdown",
   "metadata": {
    "slideshow": {
     "slide_type": "fragment"
    }
   },
   "source": [
    "The numbers on the left are the **index**"
   ]
  },
  {
   "cell_type": "markdown",
   "metadata": {
    "slideshow": {
     "slide_type": "slide"
    }
   },
   "source": [
    "We can create a new variable from a DataFrame column:"
   ]
  },
  {
   "cell_type": "code",
   "execution_count": 5,
   "metadata": {
    "slideshow": {
     "slide_type": "fragment"
    }
   },
   "outputs": [],
   "source": [
    "temperature = weather_yvr['Temperature (C)']"
   ]
  },
  {
   "cell_type": "code",
   "execution_count": 6,
   "metadata": {
    "slideshow": {
     "slide_type": "fragment"
    }
   },
   "outputs": [
    {
     "data": {
      "text/plain": [
       "0     14.8\n",
       "1     13.5\n",
       "2     13.1\n",
       "3     12.9\n",
       "4     12.2\n",
       "5     12.0\n",
       "6     11.9\n",
       "7     10.4\n",
       "8     11.0\n",
       "9     13.0\n",
       "10    14.8\n",
       "11    15.8\n",
       "12    15.9\n",
       "13    16.1\n",
       "14    17.4\n",
       "15    18.2\n",
       "16    18.8\n",
       "17    19.5\n",
       "18    19.4\n",
       "19    20.1\n",
       "20    19.7\n",
       "21    19.6\n",
       "22    18.4\n",
       "23    16.1\n",
       "Name: Temperature (C), dtype: float64"
      ]
     },
     "execution_count": 6,
     "metadata": {},
     "output_type": "execute_result"
    }
   ],
   "source": [
    "temperature"
   ]
  },
  {
   "cell_type": "markdown",
   "metadata": {
    "slideshow": {
     "slide_type": "fragment"
    }
   },
   "source": [
    "What data type is `temperature`?"
   ]
  },
  {
   "cell_type": "code",
   "execution_count": 7,
   "metadata": {
    "slideshow": {
     "slide_type": "fragment"
    }
   },
   "outputs": [
    {
     "data": {
      "text/plain": [
       "pandas.core.series.Series"
      ]
     },
     "execution_count": 7,
     "metadata": {},
     "output_type": "execute_result"
    }
   ],
   "source": [
    "type(temperature)"
   ]
  },
  {
   "cell_type": "markdown",
   "metadata": {
    "slideshow": {
     "slide_type": "fragment"
    }
   },
   "source": [
    "- **DataFrame:** 2-dimensional array, like a table in a spreadsheet\n",
    "  - The rows are axis 0\n",
    "  - The columns are axis 1\n",
    "- **Series:** 1-dimensional array, like a single column or row in a spreadsheet"
   ]
  },
  {
   "cell_type": "markdown",
   "metadata": {
    "slideshow": {
     "slide_type": "slide"
    }
   },
   "source": [
    "Let's look at the Series again:"
   ]
  },
  {
   "cell_type": "code",
   "execution_count": 8,
   "metadata": {
    "scrolled": false,
    "slideshow": {
     "slide_type": "-"
    }
   },
   "outputs": [
    {
     "data": {
      "text/plain": [
       "0     14.8\n",
       "1     13.5\n",
       "2     13.1\n",
       "3     12.9\n",
       "4     12.2\n",
       "5     12.0\n",
       "6     11.9\n",
       "7     10.4\n",
       "8     11.0\n",
       "9     13.0\n",
       "10    14.8\n",
       "11    15.8\n",
       "12    15.9\n",
       "13    16.1\n",
       "14    17.4\n",
       "15    18.2\n",
       "16    18.8\n",
       "17    19.5\n",
       "18    19.4\n",
       "19    20.1\n",
       "20    19.7\n",
       "21    19.6\n",
       "22    18.4\n",
       "23    16.1\n",
       "Name: Temperature (C), dtype: float64"
      ]
     },
     "execution_count": 8,
     "metadata": {},
     "output_type": "execute_result"
    }
   ],
   "source": [
    "temperature"
   ]
  },
  {
   "cell_type": "markdown",
   "metadata": {
    "slideshow": {
     "slide_type": "fragment"
    }
   },
   "source": [
    "The last line of the output above tells us that our Series `temperature` is named `'Temperature (C)'` and its data type is `float64`."
   ]
  },
  {
   "cell_type": "markdown",
   "metadata": {
    "slideshow": {
     "slide_type": "fragment"
    }
   },
   "source": [
    "We can find out the length of the Series with the `len` function:"
   ]
  },
  {
   "cell_type": "code",
   "execution_count": 9,
   "metadata": {
    "slideshow": {
     "slide_type": "-"
    }
   },
   "outputs": [
    {
     "data": {
      "text/plain": [
       "24"
      ]
     },
     "execution_count": 9,
     "metadata": {},
     "output_type": "execute_result"
    }
   ],
   "source": [
    "len(temperature)"
   ]
  },
  {
   "cell_type": "markdown",
   "metadata": {
    "slideshow": {
     "slide_type": "slide"
    }
   },
   "source": [
    "Many of the methods we use on a DataFrame can also be used on a Series, and vice versa"
   ]
  },
  {
   "cell_type": "code",
   "execution_count": 10,
   "metadata": {
    "slideshow": {
     "slide_type": "fragment"
    }
   },
   "outputs": [
    {
     "data": {
      "text/plain": [
       "0    14.8\n",
       "1    13.5\n",
       "2    13.1\n",
       "3    12.9\n",
       "4    12.2\n",
       "Name: Temperature (C), dtype: float64"
      ]
     },
     "execution_count": 10,
     "metadata": {},
     "output_type": "execute_result"
    }
   ],
   "source": [
    "temperature.head()"
   ]
  },
  {
   "cell_type": "code",
   "execution_count": 11,
   "metadata": {
    "slideshow": {
     "slide_type": "fragment"
    }
   },
   "outputs": [
    {
     "data": {
      "text/plain": [
       "count    24.000000\n",
       "mean     15.608333\n",
       "std       3.119492\n",
       "min      10.400000\n",
       "25%      12.975000\n",
       "50%      15.850000\n",
       "75%      18.500000\n",
       "max      20.100000\n",
       "Name: Temperature (C), dtype: float64"
      ]
     },
     "execution_count": 11,
     "metadata": {},
     "output_type": "execute_result"
    }
   ],
   "source": [
    "temperature.describe()"
   ]
  },
  {
   "cell_type": "markdown",
   "metadata": {
    "slideshow": {
     "slide_type": "slide"
    }
   },
   "source": [
    "We can perform calculations on a Series.\n",
    "\n",
    "- Let's compute fractional relative humidity from the percentages in our data:"
   ]
  },
  {
   "cell_type": "code",
   "execution_count": null,
   "metadata": {},
   "outputs": [],
   "source": []
  },
  {
   "cell_type": "code",
   "execution_count": null,
   "metadata": {},
   "outputs": [],
   "source": []
  },
  {
   "cell_type": "code",
   "execution_count": 12,
   "metadata": {
    "slideshow": {
     "slide_type": "subslide"
    }
   },
   "outputs": [
    {
     "data": {
      "text/plain": [
       "0    75.0\n",
       "1    76.0\n",
       "2    77.0\n",
       "3    84.0\n",
       "4    88.0\n",
       "Name: Relative Humidity (%), dtype: float64"
      ]
     },
     "execution_count": 12,
     "metadata": {},
     "output_type": "execute_result"
    }
   ],
   "source": [
    "rh = weather_yvr['Relative Humidity (%)']\n",
    "rh.head()"
   ]
  },
  {
   "cell_type": "code",
   "execution_count": 13,
   "metadata": {
    "slideshow": {
     "slide_type": "fragment"
    }
   },
   "outputs": [
    {
     "data": {
      "text/plain": [
       "0    0.75\n",
       "1    0.76\n",
       "2    0.77\n",
       "3    0.84\n",
       "4    0.88\n",
       "Name: Relative Humidity (%), dtype: float64"
      ]
     },
     "execution_count": 13,
     "metadata": {},
     "output_type": "execute_result"
    }
   ],
   "source": [
    "rh_frac = rh / 100\n",
    "rh_frac.head()"
   ]
  },
  {
   "cell_type": "markdown",
   "metadata": {
    "slideshow": {
     "slide_type": "slide"
    }
   },
   "source": [
    "We can add this data to our DataFrame as a new column `'Relative Humidity (fraction)'`:"
   ]
  },
  {
   "cell_type": "code",
   "execution_count": null,
   "metadata": {},
   "outputs": [],
   "source": []
  },
  {
   "cell_type": "code",
   "execution_count": null,
   "metadata": {},
   "outputs": [],
   "source": []
  },
  {
   "cell_type": "code",
   "execution_count": 14,
   "metadata": {
    "slideshow": {
     "slide_type": "subslide"
    }
   },
   "outputs": [],
   "source": [
    "weather_yvr['Relative Humidity (fraction)'] = rh_frac"
   ]
  },
  {
   "cell_type": "code",
   "execution_count": 15,
   "metadata": {
    "scrolled": false,
    "slideshow": {
     "slide_type": "fragment"
    }
   },
   "outputs": [
    {
     "data": {
      "text/html": [
       "<div>\n",
       "<style scoped>\n",
       "    .dataframe tbody tr th:only-of-type {\n",
       "        vertical-align: middle;\n",
       "    }\n",
       "\n",
       "    .dataframe tbody tr th {\n",
       "        vertical-align: top;\n",
       "    }\n",
       "\n",
       "    .dataframe thead th {\n",
       "        text-align: right;\n",
       "    }\n",
       "</style>\n",
       "<table border=\"1\" class=\"dataframe\">\n",
       "  <thead>\n",
       "    <tr style=\"text-align: right;\">\n",
       "      <th></th>\n",
       "      <th>Datetime</th>\n",
       "      <th>Hour of Day</th>\n",
       "      <th>Conditions</th>\n",
       "      <th>Temperature (C)</th>\n",
       "      <th>Relative Humidity (%)</th>\n",
       "      <th>Relative Humidity (fraction)</th>\n",
       "    </tr>\n",
       "  </thead>\n",
       "  <tbody>\n",
       "    <tr>\n",
       "      <th>0</th>\n",
       "      <td>2018-05-21 22:00:00</td>\n",
       "      <td>22</td>\n",
       "      <td>Mainly Clear</td>\n",
       "      <td>14.8</td>\n",
       "      <td>75.0</td>\n",
       "      <td>0.75</td>\n",
       "    </tr>\n",
       "    <tr>\n",
       "      <th>1</th>\n",
       "      <td>2018-05-21 23:00:00</td>\n",
       "      <td>23</td>\n",
       "      <td>Clear</td>\n",
       "      <td>13.5</td>\n",
       "      <td>76.0</td>\n",
       "      <td>0.76</td>\n",
       "    </tr>\n",
       "    <tr>\n",
       "      <th>2</th>\n",
       "      <td>2018-05-22 00:00:00</td>\n",
       "      <td>0</td>\n",
       "      <td>Clear</td>\n",
       "      <td>13.1</td>\n",
       "      <td>77.0</td>\n",
       "      <td>0.77</td>\n",
       "    </tr>\n",
       "    <tr>\n",
       "      <th>3</th>\n",
       "      <td>2018-05-22 01:00:00</td>\n",
       "      <td>1</td>\n",
       "      <td>Clear</td>\n",
       "      <td>12.9</td>\n",
       "      <td>84.0</td>\n",
       "      <td>0.84</td>\n",
       "    </tr>\n",
       "    <tr>\n",
       "      <th>4</th>\n",
       "      <td>2018-05-22 02:00:00</td>\n",
       "      <td>2</td>\n",
       "      <td>Clear</td>\n",
       "      <td>12.2</td>\n",
       "      <td>88.0</td>\n",
       "      <td>0.88</td>\n",
       "    </tr>\n",
       "  </tbody>\n",
       "</table>\n",
       "</div>"
      ],
      "text/plain": [
       "              Datetime  Hour of Day    Conditions  Temperature (C)  \\\n",
       "0  2018-05-21 22:00:00           22  Mainly Clear             14.8   \n",
       "1  2018-05-21 23:00:00           23         Clear             13.5   \n",
       "2  2018-05-22 00:00:00            0         Clear             13.1   \n",
       "3  2018-05-22 01:00:00            1         Clear             12.9   \n",
       "4  2018-05-22 02:00:00            2         Clear             12.2   \n",
       "\n",
       "   Relative Humidity (%)  Relative Humidity (fraction)  \n",
       "0                   75.0                          0.75  \n",
       "1                   76.0                          0.76  \n",
       "2                   77.0                          0.77  \n",
       "3                   84.0                          0.84  \n",
       "4                   88.0                          0.88  "
      ]
     },
     "execution_count": 15,
     "metadata": {},
     "output_type": "execute_result"
    }
   ],
   "source": [
    "weather_yvr.head()"
   ]
  },
  {
   "cell_type": "markdown",
   "metadata": {
    "slideshow": {
     "slide_type": "slide"
    }
   },
   "source": [
    "The previous steps could be consolidated into a single command:"
   ]
  },
  {
   "cell_type": "code",
   "execution_count": null,
   "metadata": {},
   "outputs": [],
   "source": []
  },
  {
   "cell_type": "code",
   "execution_count": 16,
   "metadata": {
    "slideshow": {
     "slide_type": "subslide"
    }
   },
   "outputs": [],
   "source": [
    "weather_yvr['Relative Humidity (fraction)'] = weather_yvr['Relative Humidity (%)'] / 100"
   ]
  },
  {
   "cell_type": "markdown",
   "metadata": {
    "slideshow": {
     "slide_type": "slide"
    }
   },
   "source": [
    "# Saving to a CSV file\n",
    "\n",
    "Now that we've added a new column, let's save the DataFrame to a new CSV file using the `to_csv` method:"
   ]
  },
  {
   "cell_type": "code",
   "execution_count": 17,
   "metadata": {
    "slideshow": {
     "slide_type": "fragment"
    }
   },
   "outputs": [],
   "source": [
    "weather_yvr.to_csv('data/weather_yvr_extra.csv')"
   ]
  },
  {
   "cell_type": "markdown",
   "metadata": {
    "slideshow": {
     "slide_type": "fragment"
    }
   },
   "source": [
    "Check out your new file in the Jupyter Lab CSV viewer!"
   ]
  },
  {
   "cell_type": "markdown",
   "metadata": {
    "slideshow": {
     "slide_type": "slide"
    }
   },
   "source": [
    "# Creating Graphs\n",
    "\n",
    "- `pandas` DataFrames and Series provide methods to quickly and easily plot your data\n",
    "- These methods use the `matplotlib` library behind the scenes"
   ]
  },
  {
   "cell_type": "markdown",
   "metadata": {
    "slideshow": {
     "slide_type": "fragment"
    }
   },
   "source": [
    "First we need to use the magic command `%matplotlib inline` so that our plots will display inline in our Jupyter notebook\n",
    "- This command only needs to be run once, and it's good practice to put it at the start of your notebook with the `import` commands"
   ]
  },
  {
   "cell_type": "code",
   "execution_count": 18,
   "metadata": {},
   "outputs": [],
   "source": [
    "%matplotlib inline"
   ]
  },
  {
   "cell_type": "markdown",
   "metadata": {
    "slideshow": {
     "slide_type": "slide"
    }
   },
   "source": [
    "Let's use the `plot` method of our DataFrame and see what happens:"
   ]
  },
  {
   "cell_type": "code",
   "execution_count": 19,
   "metadata": {
    "slideshow": {
     "slide_type": "fragment"
    }
   },
   "outputs": [
    {
     "data": {
      "text/plain": [
       "<matplotlib.axes._subplots.AxesSubplot at 0x2d565b066a0>"
      ]
     },
     "execution_count": 19,
     "metadata": {},
     "output_type": "execute_result"
    },
    {
     "data": {
      "image/png": "[encoded data removed]",
      "text/plain": [
       "<matplotlib.figure.Figure at 0x2d565af3cc0>"
      ]
     },
     "metadata": {},
     "output_type": "display_data"
    }
   ],
   "source": [
    "weather_yvr.plot()"
   ]
  },
  {
   "cell_type": "markdown",
   "metadata": {
    "slideshow": {
     "slide_type": "fragment"
    }
   },
   "source": [
    "- Each numeric column in the DataFrame has been plotted as a line, on the same scale\n",
    "- The x-axis is the DataFrame's index, which in this case is just the row number"
   ]
  },
  {
   "cell_type": "markdown",
   "metadata": {
    "slideshow": {
     "slide_type": "slide"
    }
   },
   "source": [
    "- Our graph would look better if each column were plotted on a separate scale\n",
    "- It would also be nice if the graph were bigger\n",
    "- The documentation for the `plot` method lists keyword arguments that can be used to customize our plot"
   ]
  },
  {
   "cell_type": "code",
   "execution_count": 20,
   "metadata": {
    "slideshow": {
     "slide_type": "-"
    }
   },
   "outputs": [],
   "source": [
    "weather_yvr.plot?"
   ]
  },
  {
   "cell_type": "markdown",
   "metadata": {
    "slideshow": {
     "slide_type": "fragment"
    }
   },
   "source": [
    "The keyword arguments `subplots` and `figsize` will help us improve our plot:"
   ]
  },
  {
   "cell_type": "code",
   "execution_count": 21,
   "metadata": {
    "scrolled": false,
    "slideshow": {
     "slide_type": "fragment"
    }
   },
   "outputs": [
    {
     "data": {
      "text/plain": [
       "array([<matplotlib.axes._subplots.AxesSubplot object at 0x000002D565B286D8>,\n",
       "       <matplotlib.axes._subplots.AxesSubplot object at 0x000002D565ED1EF0>,\n",
       "       <matplotlib.axes._subplots.AxesSubplot object at 0x000002D565F2EE80>,\n",
       "       <matplotlib.axes._subplots.AxesSubplot object at 0x000002D565F65DD8>],\n",
       "      dtype=object)"
      ]
     },
     "execution_count": 21,
     "metadata": {},
     "output_type": "execute_result"
    },
    {
     "data": {
      "image/png": "[encoded data removed]",
      "text/plain": [
       "<matplotlib.figure.Figure at 0x2d565e5b7f0>"
      ]
     },
     "metadata": {},
     "output_type": "display_data"
    }
   ],
   "source": [
    "weather_yvr.plot(subplots=True, figsize=(10, 10))"
   ]
  },
  {
   "cell_type": "markdown",
   "metadata": {
    "slideshow": {
     "slide_type": "fragment"
    }
   },
   "source": [
    "The `plot` method returns some `matplotlib.Axes` objects, which are displayed as cell output\n",
    "- To suppress displaying this output, add a semi-colon to the end of the command"
   ]
  },
  {
   "cell_type": "markdown",
   "metadata": {
    "slideshow": {
     "slide_type": "slide"
    }
   },
   "source": [
    "We can also plot a single column of our DataFrame:"
   ]
  },
  {
   "cell_type": "code",
   "execution_count": 22,
   "metadata": {
    "scrolled": true,
    "slideshow": {
     "slide_type": "fragment"
    }
   },
   "outputs": [
    {
     "data": {
      "image/png": "[encoded data removed]",
      "text/plain": [
       "<matplotlib.figure.Figure at 0x2d565fd80f0>"
      ]
     },
     "metadata": {},
     "output_type": "display_data"
    }
   ],
   "source": [
    "weather_yvr['Temperature (C)'].plot();"
   ]
  },
  {
   "cell_type": "markdown",
   "metadata": {
    "slideshow": {
     "slide_type": "fragment"
    }
   },
   "source": [
    "- Our x-axis is the row numbers of the DataFrame, which isn't very useful\n",
    "- Since we're looking at **timeseries** data, it would be much better to have the date and time on the x-axis\n",
    "- Luckily, `pandas` makes it very easy to do this!\n",
    "  - In `Lesson_2.ipynb`, there is an extra section that walks through converting the `'Datetime'` column from text to a `datetime` data type and plotting the data as timeseries"
   ]
  },
  {
   "cell_type": "markdown",
   "metadata": {
    "slideshow": {
     "slide_type": "slide"
    }
   },
   "source": [
    "`pandas` has extremely powerful functionality for working with **timeseries** data:\n",
    "- Parse dates and times into their components (year, month, day, hour, etc.)\n",
    "- Extract a subset of a DataFrame or Series for a specified date range\n",
    "- Convert between different time zones\n",
    "- Aggregate on different timescales (e.g. yearly / monthly / weekly / etc. means or totals)\n",
    "- Resampling (e.g. daily means of hourly data)\n",
    "- Rolling windows\n",
    "- and much more!\n",
    "\n",
    "*For more details and examples: https://jakevdp.github.io/PythonDataScienceHandbook/03.11-working-with-time-series.html*"
   ]
  },
  {
   "cell_type": "markdown",
   "metadata": {
    "slideshow": {
     "slide_type": "skip"
    }
   },
   "source": [
    "# Timeseries Data\n",
    "\n",
    "This section is optional. To skip to the next section, click [here](#next).\n",
    "\n",
    "We have a `'Datetime'` column in `weather_yvr` which is currently just treated as text:"
   ]
  },
  {
   "cell_type": "code",
   "execution_count": 23,
   "metadata": {
    "slideshow": {
     "slide_type": "skip"
    }
   },
   "outputs": [
    {
     "data": {
      "text/plain": [
       "0     2018-05-21 22:00:00\n",
       "1     2018-05-21 23:00:00\n",
       "2     2018-05-22 00:00:00\n",
       "3     2018-05-22 01:00:00\n",
       "4     2018-05-22 02:00:00\n",
       "5     2018-05-22 03:00:00\n",
       "6     2018-05-22 04:00:00\n",
       "7     2018-05-22 05:00:00\n",
       "8     2018-05-22 06:00:00\n",
       "9     2018-05-22 07:00:00\n",
       "10    2018-05-22 08:00:00\n",
       "11    2018-05-22 09:00:00\n",
       "12    2018-05-22 10:00:00\n",
       "13    2018-05-22 11:00:00\n",
       "14    2018-05-22 12:00:00\n",
       "15    2018-05-22 13:00:00\n",
       "16    2018-05-22 14:00:00\n",
       "17    2018-05-22 15:00:00\n",
       "18    2018-05-22 16:00:00\n",
       "19    2018-05-22 17:00:00\n",
       "20    2018-05-22 18:00:00\n",
       "21    2018-05-22 19:00:00\n",
       "22    2018-05-22 20:00:00\n",
       "23    2018-05-22 21:00:00\n",
       "Name: Datetime, dtype: object"
      ]
     },
     "execution_count": 23,
     "metadata": {},
     "output_type": "execute_result"
    }
   ],
   "source": [
    "weather_yvr['Datetime']"
   ]
  },
  {
   "cell_type": "markdown",
   "metadata": {
    "slideshow": {
     "slide_type": "skip"
    }
   },
   "source": [
    "The `pandas` function `to_datetime` will convert this data from text to a `datetime` data type:"
   ]
  },
  {
   "cell_type": "code",
   "execution_count": 24,
   "metadata": {
    "slideshow": {
     "slide_type": "skip"
    }
   },
   "outputs": [],
   "source": [
    "times = pd.to_datetime(weather_yvr['Datetime'])"
   ]
  },
  {
   "cell_type": "code",
   "execution_count": 25,
   "metadata": {
    "slideshow": {
     "slide_type": "skip"
    }
   },
   "outputs": [
    {
     "data": {
      "text/plain": [
       "0    2018-05-21 22:00:00\n",
       "1    2018-05-21 23:00:00\n",
       "2    2018-05-22 00:00:00\n",
       "3    2018-05-22 01:00:00\n",
       "4    2018-05-22 02:00:00\n",
       "5    2018-05-22 03:00:00\n",
       "6    2018-05-22 04:00:00\n",
       "7    2018-05-22 05:00:00\n",
       "8    2018-05-22 06:00:00\n",
       "9    2018-05-22 07:00:00\n",
       "10   2018-05-22 08:00:00\n",
       "11   2018-05-22 09:00:00\n",
       "12   2018-05-22 10:00:00\n",
       "13   2018-05-22 11:00:00\n",
       "14   2018-05-22 12:00:00\n",
       "15   2018-05-22 13:00:00\n",
       "16   2018-05-22 14:00:00\n",
       "17   2018-05-22 15:00:00\n",
       "18   2018-05-22 16:00:00\n",
       "19   2018-05-22 17:00:00\n",
       "20   2018-05-22 18:00:00\n",
       "21   2018-05-22 19:00:00\n",
       "22   2018-05-22 20:00:00\n",
       "23   2018-05-22 21:00:00\n",
       "Name: Datetime, dtype: datetime64[ns]"
      ]
     },
     "execution_count": 25,
     "metadata": {},
     "output_type": "execute_result"
    }
   ],
   "source": [
    "times"
   ]
  },
  {
   "cell_type": "markdown",
   "metadata": {
    "slideshow": {
     "slide_type": "skip"
    }
   },
   "source": [
    "The variable `times` is a Series with `dtype` of `datetime64[ns]`"
   ]
  },
  {
   "cell_type": "markdown",
   "metadata": {
    "slideshow": {
     "slide_type": "skip"
    }
   },
   "source": [
    "With data in `datetime` format, we can do things like extract the year, month, day, hour, etc using `dt` attributes (see the documentation `times.dt?` for details)"
   ]
  },
  {
   "cell_type": "code",
   "execution_count": 26,
   "metadata": {
    "slideshow": {
     "slide_type": "skip"
    }
   },
   "outputs": [],
   "source": [
    "times.dt?"
   ]
  },
  {
   "cell_type": "code",
   "execution_count": 27,
   "metadata": {
    "slideshow": {
     "slide_type": "skip"
    }
   },
   "outputs": [
    {
     "data": {
      "text/plain": [
       "0     2018\n",
       "1     2018\n",
       "2     2018\n",
       "3     2018\n",
       "4     2018\n",
       "5     2018\n",
       "6     2018\n",
       "7     2018\n",
       "8     2018\n",
       "9     2018\n",
       "10    2018\n",
       "11    2018\n",
       "12    2018\n",
       "13    2018\n",
       "14    2018\n",
       "15    2018\n",
       "16    2018\n",
       "17    2018\n",
       "18    2018\n",
       "19    2018\n",
       "20    2018\n",
       "21    2018\n",
       "22    2018\n",
       "23    2018\n",
       "Name: Datetime, dtype: int64"
      ]
     },
     "execution_count": 27,
     "metadata": {},
     "output_type": "execute_result"
    }
   ],
   "source": [
    "times.dt.year"
   ]
  },
  {
   "cell_type": "markdown",
   "metadata": {
    "slideshow": {
     "slide_type": "skip"
    }
   },
   "source": [
    "Let's create a copy of our DataFrame and convert the `'Datetime'` column from text to `datetime` format."
   ]
  },
  {
   "cell_type": "code",
   "execution_count": 28,
   "metadata": {
    "scrolled": true,
    "slideshow": {
     "slide_type": "skip"
    }
   },
   "outputs": [],
   "source": [
    "weather_yvr_dt = weather_yvr.copy()"
   ]
  },
  {
   "cell_type": "code",
   "execution_count": 29,
   "metadata": {
    "slideshow": {
     "slide_type": "skip"
    }
   },
   "outputs": [],
   "source": [
    "weather_yvr_dt['Datetime'] = pd.to_datetime(weather_yvr_dt['Datetime'])"
   ]
  },
  {
   "cell_type": "code",
   "execution_count": 30,
   "metadata": {
    "slideshow": {
     "slide_type": "skip"
    }
   },
   "outputs": [
    {
     "data": {
      "text/html": [
       "<div>\n",
       "<style scoped>\n",
       "    .dataframe tbody tr th:only-of-type {\n",
       "        vertical-align: middle;\n",
       "    }\n",
       "\n",
       "    .dataframe tbody tr th {\n",
       "        vertical-align: top;\n",
       "    }\n",
       "\n",
       "    .dataframe thead th {\n",
       "        text-align: right;\n",
       "    }\n",
       "</style>\n",
       "<table border=\"1\" class=\"dataframe\">\n",
       "  <thead>\n",
       "    <tr style=\"text-align: right;\">\n",
       "      <th></th>\n",
       "      <th>Datetime</th>\n",
       "      <th>Hour of Day</th>\n",
       "      <th>Conditions</th>\n",
       "      <th>Temperature (C)</th>\n",
       "      <th>Relative Humidity (%)</th>\n",
       "      <th>Relative Humidity (fraction)</th>\n",
       "    </tr>\n",
       "  </thead>\n",
       "  <tbody>\n",
       "    <tr>\n",
       "      <th>0</th>\n",
       "      <td>2018-05-21 22:00:00</td>\n",
       "      <td>22</td>\n",
       "      <td>Mainly Clear</td>\n",
       "      <td>14.8</td>\n",
       "      <td>75.0</td>\n",
       "      <td>0.75</td>\n",
       "    </tr>\n",
       "    <tr>\n",
       "      <th>1</th>\n",
       "      <td>2018-05-21 23:00:00</td>\n",
       "      <td>23</td>\n",
       "      <td>Clear</td>\n",
       "      <td>13.5</td>\n",
       "      <td>76.0</td>\n",
       "      <td>0.76</td>\n",
       "    </tr>\n",
       "    <tr>\n",
       "      <th>2</th>\n",
       "      <td>2018-05-22 00:00:00</td>\n",
       "      <td>0</td>\n",
       "      <td>Clear</td>\n",
       "      <td>13.1</td>\n",
       "      <td>77.0</td>\n",
       "      <td>0.77</td>\n",
       "    </tr>\n",
       "    <tr>\n",
       "      <th>3</th>\n",
       "      <td>2018-05-22 01:00:00</td>\n",
       "      <td>1</td>\n",
       "      <td>Clear</td>\n",
       "      <td>12.9</td>\n",
       "      <td>84.0</td>\n",
       "      <td>0.84</td>\n",
       "    </tr>\n",
       "    <tr>\n",
       "      <th>4</th>\n",
       "      <td>2018-05-22 02:00:00</td>\n",
       "      <td>2</td>\n",
       "      <td>Clear</td>\n",
       "      <td>12.2</td>\n",
       "      <td>88.0</td>\n",
       "      <td>0.88</td>\n",
       "    </tr>\n",
       "  </tbody>\n",
       "</table>\n",
       "</div>"
      ],
      "text/plain": [
       "             Datetime  Hour of Day    Conditions  Temperature (C)  \\\n",
       "0 2018-05-21 22:00:00           22  Mainly Clear             14.8   \n",
       "1 2018-05-21 23:00:00           23         Clear             13.5   \n",
       "2 2018-05-22 00:00:00            0         Clear             13.1   \n",
       "3 2018-05-22 01:00:00            1         Clear             12.9   \n",
       "4 2018-05-22 02:00:00            2         Clear             12.2   \n",
       "\n",
       "   Relative Humidity (%)  Relative Humidity (fraction)  \n",
       "0                   75.0                          0.75  \n",
       "1                   76.0                          0.76  \n",
       "2                   77.0                          0.77  \n",
       "3                   84.0                          0.84  \n",
       "4                   88.0                          0.88  "
      ]
     },
     "execution_count": 30,
     "metadata": {},
     "output_type": "execute_result"
    }
   ],
   "source": [
    "weather_yvr_dt.head()"
   ]
  },
  {
   "cell_type": "markdown",
   "metadata": {
    "slideshow": {
     "slide_type": "skip"
    }
   },
   "source": [
    "Although the `'Datetime'` column looks the same as before, its `dtype` has changed from `object` to `datetime64[ns]`:"
   ]
  },
  {
   "cell_type": "code",
   "execution_count": 31,
   "metadata": {
    "scrolled": true,
    "slideshow": {
     "slide_type": "skip"
    }
   },
   "outputs": [
    {
     "data": {
      "text/plain": [
       "Datetime                        datetime64[ns]\n",
       "Hour of Day                              int64\n",
       "Conditions                              object\n",
       "Temperature (C)                        float64\n",
       "Relative Humidity (%)                  float64\n",
       "Relative Humidity (fraction)           float64\n",
       "dtype: object"
      ]
     },
     "execution_count": 31,
     "metadata": {},
     "output_type": "execute_result"
    }
   ],
   "source": [
    "weather_yvr_dt.dtypes"
   ]
  },
  {
   "cell_type": "markdown",
   "metadata": {
    "slideshow": {
     "slide_type": "skip"
    }
   },
   "source": [
    "Now we need to change the index of our DataFrame from the row numbers to the `datetime` columns. We use the `set_index` method for this:"
   ]
  },
  {
   "cell_type": "code",
   "execution_count": 32,
   "metadata": {
    "slideshow": {
     "slide_type": "skip"
    }
   },
   "outputs": [
    {
     "data": {
      "text/html": [
       "<div>\n",
       "<style scoped>\n",
       "    .dataframe tbody tr th:only-of-type {\n",
       "        vertical-align: middle;\n",
       "    }\n",
       "\n",
       "    .dataframe tbody tr th {\n",
       "        vertical-align: top;\n",
       "    }\n",
       "\n",
       "    .dataframe thead th {\n",
       "        text-align: right;\n",
       "    }\n",
       "</style>\n",
       "<table border=\"1\" class=\"dataframe\">\n",
       "  <thead>\n",
       "    <tr style=\"text-align: right;\">\n",
       "      <th></th>\n",
       "      <th>Hour of Day</th>\n",
       "      <th>Conditions</th>\n",
       "      <th>Temperature (C)</th>\n",
       "      <th>Relative Humidity (%)</th>\n",
       "      <th>Relative Humidity (fraction)</th>\n",
       "    </tr>\n",
       "    <tr>\n",
       "      <th>Datetime</th>\n",
       "      <th></th>\n",
       "      <th></th>\n",
       "      <th></th>\n",
       "      <th></th>\n",
       "      <th></th>\n",
       "    </tr>\n",
       "  </thead>\n",
       "  <tbody>\n",
       "    <tr>\n",
       "      <th>2018-05-21 22:00:00</th>\n",
       "      <td>22</td>\n",
       "      <td>Mainly Clear</td>\n",
       "      <td>14.8</td>\n",
       "      <td>75.0</td>\n",
       "      <td>0.75</td>\n",
       "    </tr>\n",
       "    <tr>\n",
       "      <th>2018-05-21 23:00:00</th>\n",
       "      <td>23</td>\n",
       "      <td>Clear</td>\n",
       "      <td>13.5</td>\n",
       "      <td>76.0</td>\n",
       "      <td>0.76</td>\n",
       "    </tr>\n",
       "    <tr>\n",
       "      <th>2018-05-22 00:00:00</th>\n",
       "      <td>0</td>\n",
       "      <td>Clear</td>\n",
       "      <td>13.1</td>\n",
       "      <td>77.0</td>\n",
       "      <td>0.77</td>\n",
       "    </tr>\n",
       "    <tr>\n",
       "      <th>2018-05-22 01:00:00</th>\n",
       "      <td>1</td>\n",
       "      <td>Clear</td>\n",
       "      <td>12.9</td>\n",
       "      <td>84.0</td>\n",
       "      <td>0.84</td>\n",
       "    </tr>\n",
       "    <tr>\n",
       "      <th>2018-05-22 02:00:00</th>\n",
       "      <td>2</td>\n",
       "      <td>Clear</td>\n",
       "      <td>12.2</td>\n",
       "      <td>88.0</td>\n",
       "      <td>0.88</td>\n",
       "    </tr>\n",
       "  </tbody>\n",
       "</table>\n",
       "</div>"
      ],
      "text/plain": [
       "                     Hour of Day    Conditions  Temperature (C)  \\\n",
       "Datetime                                                          \n",
       "2018-05-21 22:00:00           22  Mainly Clear             14.8   \n",
       "2018-05-21 23:00:00           23         Clear             13.5   \n",
       "2018-05-22 00:00:00            0         Clear             13.1   \n",
       "2018-05-22 01:00:00            1         Clear             12.9   \n",
       "2018-05-22 02:00:00            2         Clear             12.2   \n",
       "\n",
       "                     Relative Humidity (%)  Relative Humidity (fraction)  \n",
       "Datetime                                                                  \n",
       "2018-05-21 22:00:00                   75.0                          0.75  \n",
       "2018-05-21 23:00:00                   76.0                          0.76  \n",
       "2018-05-22 00:00:00                   77.0                          0.77  \n",
       "2018-05-22 01:00:00                   84.0                          0.84  \n",
       "2018-05-22 02:00:00                   88.0                          0.88  "
      ]
     },
     "execution_count": 32,
     "metadata": {},
     "output_type": "execute_result"
    }
   ],
   "source": [
    "weather_yvr_dt = weather_yvr_dt.set_index('Datetime')\n",
    "weather_yvr_dt.head()"
   ]
  },
  {
   "cell_type": "markdown",
   "metadata": {
    "slideshow": {
     "slide_type": "skip"
    }
   },
   "source": [
    "Now the index in bold on the left shows the values from the `'Datetime'` column instead of the row numbers, and `'Datetime'` is no longer a column in our DataFrame.\n",
    "\n",
    "We could have done all the above steps automatically when reading from the CSV file, using keyword arguments to set the `'Datetime'` column as the index, and telling `pandas` to parse dates from the index:\n",
    "```\n",
    "weather_yvr = pd.read_csv('data/weather_YVR.csv', index_col=0, parse_dates=True)\n",
    "```\n",
    "\n",
    "When we plot `weather_yvr_dt`, the x-axis is the `datetime` values instead of the row numbers:"
   ]
  },
  {
   "cell_type": "code",
   "execution_count": 33,
   "metadata": {
    "slideshow": {
     "slide_type": "skip"
    }
   },
   "outputs": [
    {
     "data": {
      "image/png": "[encoded data removed]",
      "text/plain": [
       "<matplotlib.figure.Figure at 0x2d566070748>"
      ]
     },
     "metadata": {},
     "output_type": "display_data"
    }
   ],
   "source": [
    "weather_yvr_dt.plot(subplots=True, figsize=(10, 10));"
   ]
  },
  {
   "cell_type": "markdown",
   "metadata": {
    "slideshow": {
     "slide_type": "skip"
    }
   },
   "source": [
    "We can also plot one column at a time:"
   ]
  },
  {
   "cell_type": "code",
   "execution_count": 34,
   "metadata": {
    "scrolled": false,
    "slideshow": {
     "slide_type": "skip"
    }
   },
   "outputs": [
    {
     "data": {
      "image/png": "[encoded data removed]",
      "text/plain": [
       "<matplotlib.figure.Figure at 0x2d5661f6128>"
      ]
     },
     "metadata": {},
     "output_type": "display_data"
    }
   ],
   "source": [
    "weather_yvr_dt['Temperature (C)'].plot();"
   ]
  },
  {
   "cell_type": "markdown",
   "metadata": {
    "slideshow": {
     "slide_type": "slide"
    }
   },
   "source": [
    "<a id=\"next\"></a>\n",
    "Here's what the last plot looks like as a timeseries, and bit of additional formatting:"
   ]
  },
  {
   "cell_type": "code",
   "execution_count": 35,
   "metadata": {
    "slideshow": {
     "slide_type": "-"
    }
   },
   "outputs": [
    {
     "data": {
      "image/png": "[encoded data removed]",
      "text/plain": [
       "<matplotlib.figure.Figure at 0x2d566229390>"
      ]
     },
     "metadata": {},
     "output_type": "display_data"
    }
   ],
   "source": [
    "weather_yvr_dt = pd.read_csv('data/weather_YVR.csv', index_col=0, parse_dates=True)\n",
    "ax = weather_yvr_dt['Temperature (C)'].plot(figsize=(10, 6));\n",
    "labelsize = 16\n",
    "ax.tick_params(labelsize=labelsize, which='both')\n",
    "ax.set_xlabel('Date/Time', fontsize=labelsize)\n",
    "ax.set_ylabel('Temperature (F)', fontsize=labelsize);"
   ]
  },
  {
   "cell_type": "markdown",
   "metadata": {
    "slideshow": {
     "slide_type": "fragment"
    }
   },
   "source": [
    "There are many more ways we could customize our plots (labels, axes limits and ticks, colours, etc.) and many other types of plots that can be created with `pandas` and `matplotlib`. For more details and examples:\n",
    "- https://pandas.pydata.org/pandas-docs/stable/visualization.html\n",
    "- https://matplotlib.org/tutorials/introductory/pyplot.html#sphx-glr-tutorials-introductory-pyplot-py\n",
    "- https://matplotlib.org/tutorials/introductory/sample_plots.html"
   ]
  },
  {
   "cell_type": "markdown",
   "metadata": {
    "slideshow": {
     "slide_type": "slide"
    }
   },
   "source": [
    "<a id=\"recap\"></a>\n",
    "# Lesson 2 Recap\n",
    "\n",
    "### DataFrames and Series\n",
    "\n",
    "DataFrames and Series are both data types that belong to the `pandas` library.\n",
    "\n",
    "- **DataFrame:** 2-dimensional array, like a table in a spreadsheet\n",
    "  - The rows are axis 0\n",
    "  - The columns are axis 1\n",
    "- **Series:** 1-dimensional array, like a single column or row in a spreadsheet\n",
    "\n",
    "### Working with DataFrame Columns\n",
    "\n",
    "Each column of a DataFrame is a Series.\n",
    "```\n",
    "series_X = df['X']\n",
    "```\n",
    "\n",
    "Performing basic calculations:\n",
    "```\n",
    "double_X = 2 * df['X']\n",
    "```\n",
    "\n",
    "Adding a new column to a DataFrame: \n",
    "```\n",
    "df['Double X'] = 2 * df['X']\n",
    "```\n",
    "\n",
    "### Saving to CSV\n",
    "\n",
    "Saving a DataFrame to a CSV file: \n",
    "```\n",
    "df.to_csv('cool_output.csv')\n",
    "```\n",
    "\n",
    "### Simple Graphs\n",
    "\n",
    "To display `pandas` / `matplotlib` graphs inline in your notebook, you need to run the following magic command:\n",
    "```\n",
    "%matplotlib inline\n",
    "```\n",
    "- This command only needs to be run once in a notebook\n",
    "- It's good practice to run this command at the same time as your `import` commands, near the start of your notebook\n",
    "\n",
    "#### Creating Line Plots\n",
    "\n",
    "For a Series:\n",
    "```\n",
    "series.plot()\n",
    "```\n",
    "For a single column of a DataFrame:\n",
    "```\n",
    "df['Column A'].plot()\n",
    "```\n",
    "\n",
    "For all columns in a DataFrame, with each column as a line on the same plot:\n",
    "```\n",
    "df.plot()\n",
    "```\n",
    "\n",
    "For all columns in a DataFrame, with a separate subplot for each column:\n",
    "```\n",
    "df.plot(subplots=True)\n",
    "```\n",
    "\n",
    "To adjust the size of a graph, use the `figsize` keyword argument to the `plot` method, where `figsize` is a tuple of (width, height). For example to create a figure with subplots that is 6\" wide by 8\" tall:\n",
    "```\n",
    "df.plot(subplots=True, figsize=(6, 8))\n",
    "```"
   ]
  },
  {
   "cell_type": "markdown",
   "metadata": {
    "slideshow": {
     "slide_type": "slide"
    }
   },
   "source": [
    "# Exercise 2\n",
    "\n",
    "a) Add a column to your `weather_yvr` DataFrame which has the temperature in degrees Fahrenheit (to convert from Celsius to Fahrenheit, multiply the temperature in degrees C by 1.8 and add 32)\n",
    "\n",
    "b) Save the DataFrame with this extra column to a new CSV file\n",
    "\n",
    "c) Create a line plot of the temperature in degrees Fahrenheit\n",
    "\n",
    "\n",
    "##### Bonus exercises\n",
    "\n",
    "d) Work through the examples in the extra section \"Timeseries Data\" of `Lesson_2.ipynb`\n",
    "\n",
    "e) Create a plot of the YVR temperature in Fahrenheit with the date and time as the x-axis, and figure size of 8\" wide by 5\" tall"
   ]
  },
  {
   "cell_type": "markdown",
   "metadata": {
    "slideshow": {
     "slide_type": "slide"
    }
   },
   "source": [
    "a) Add a column to your `weather_yvr` DataFrame which has the temperature in degrees Fahrenheit"
   ]
  },
  {
   "cell_type": "code",
   "execution_count": null,
   "metadata": {},
   "outputs": [],
   "source": []
  },
  {
   "cell_type": "code",
   "execution_count": 36,
   "metadata": {
    "slideshow": {
     "slide_type": "subslide"
    }
   },
   "outputs": [
    {
     "data": {
      "text/html": [
       "<div>\n",
       "<style scoped>\n",
       "    .dataframe tbody tr th:only-of-type {\n",
       "        vertical-align: middle;\n",
       "    }\n",
       "\n",
       "    .dataframe tbody tr th {\n",
       "        vertical-align: top;\n",
       "    }\n",
       "\n",
       "    .dataframe thead th {\n",
       "        text-align: right;\n",
       "    }\n",
       "</style>\n",
       "<table border=\"1\" class=\"dataframe\">\n",
       "  <thead>\n",
       "    <tr style=\"text-align: right;\">\n",
       "      <th></th>\n",
       "      <th>Datetime</th>\n",
       "      <th>Hour of Day</th>\n",
       "      <th>Conditions</th>\n",
       "      <th>Temperature (C)</th>\n",
       "      <th>Relative Humidity (%)</th>\n",
       "      <th>Relative Humidity (fraction)</th>\n",
       "      <th>Temperature (F)</th>\n",
       "    </tr>\n",
       "  </thead>\n",
       "  <tbody>\n",
       "    <tr>\n",
       "      <th>0</th>\n",
       "      <td>2018-05-21 22:00:00</td>\n",
       "      <td>22</td>\n",
       "      <td>Mainly Clear</td>\n",
       "      <td>14.8</td>\n",
       "      <td>75.0</td>\n",
       "      <td>0.75</td>\n",
       "      <td>58.64</td>\n",
       "    </tr>\n",
       "    <tr>\n",
       "      <th>1</th>\n",
       "      <td>2018-05-21 23:00:00</td>\n",
       "      <td>23</td>\n",
       "      <td>Clear</td>\n",
       "      <td>13.5</td>\n",
       "      <td>76.0</td>\n",
       "      <td>0.76</td>\n",
       "      <td>56.30</td>\n",
       "    </tr>\n",
       "    <tr>\n",
       "      <th>2</th>\n",
       "      <td>2018-05-22 00:00:00</td>\n",
       "      <td>0</td>\n",
       "      <td>Clear</td>\n",
       "      <td>13.1</td>\n",
       "      <td>77.0</td>\n",
       "      <td>0.77</td>\n",
       "      <td>55.58</td>\n",
       "    </tr>\n",
       "    <tr>\n",
       "      <th>3</th>\n",
       "      <td>2018-05-22 01:00:00</td>\n",
       "      <td>1</td>\n",
       "      <td>Clear</td>\n",
       "      <td>12.9</td>\n",
       "      <td>84.0</td>\n",
       "      <td>0.84</td>\n",
       "      <td>55.22</td>\n",
       "    </tr>\n",
       "    <tr>\n",
       "      <th>4</th>\n",
       "      <td>2018-05-22 02:00:00</td>\n",
       "      <td>2</td>\n",
       "      <td>Clear</td>\n",
       "      <td>12.2</td>\n",
       "      <td>88.0</td>\n",
       "      <td>0.88</td>\n",
       "      <td>53.96</td>\n",
       "    </tr>\n",
       "  </tbody>\n",
       "</table>\n",
       "</div>"
      ],
      "text/plain": [
       "              Datetime  Hour of Day    Conditions  Temperature (C)  \\\n",
       "0  2018-05-21 22:00:00           22  Mainly Clear             14.8   \n",
       "1  2018-05-21 23:00:00           23         Clear             13.5   \n",
       "2  2018-05-22 00:00:00            0         Clear             13.1   \n",
       "3  2018-05-22 01:00:00            1         Clear             12.9   \n",
       "4  2018-05-22 02:00:00            2         Clear             12.2   \n",
       "\n",
       "   Relative Humidity (%)  Relative Humidity (fraction)  Temperature (F)  \n",
       "0                   75.0                          0.75            58.64  \n",
       "1                   76.0                          0.76            56.30  \n",
       "2                   77.0                          0.77            55.58  \n",
       "3                   84.0                          0.84            55.22  \n",
       "4                   88.0                          0.88            53.96  "
      ]
     },
     "execution_count": 36,
     "metadata": {},
     "output_type": "execute_result"
    }
   ],
   "source": [
    "weather_yvr['Temperature (F)'] = 1.8 * weather_yvr['Temperature (C)'] + 32\n",
    "weather_yvr.head()"
   ]
  },
  {
   "cell_type": "markdown",
   "metadata": {
    "slideshow": {
     "slide_type": "slide"
    }
   },
   "source": [
    "b) Save the DataFrame with this extra column to a new CSV file"
   ]
  },
  {
   "cell_type": "code",
   "execution_count": null,
   "metadata": {},
   "outputs": [],
   "source": []
  },
  {
   "cell_type": "code",
   "execution_count": 37,
   "metadata": {
    "slideshow": {
     "slide_type": "subslide"
    }
   },
   "outputs": [],
   "source": [
    "weather_yvr.to_csv('data/weather_yvr_extra2.csv')"
   ]
  },
  {
   "cell_type": "markdown",
   "metadata": {
    "slideshow": {
     "slide_type": "slide"
    }
   },
   "source": [
    "c) Create a line plot of the temperature in degrees Fahrenheit"
   ]
  },
  {
   "cell_type": "code",
   "execution_count": null,
   "metadata": {},
   "outputs": [],
   "source": []
  },
  {
   "cell_type": "code",
   "execution_count": 38,
   "metadata": {
    "slideshow": {
     "slide_type": "subslide"
    }
   },
   "outputs": [
    {
     "data": {
      "image/png": "[encoded data removed]",
      "text/plain": [
       "<matplotlib.figure.Figure at 0x2d56601f128>"
      ]
     },
     "metadata": {},
     "output_type": "display_data"
    }
   ],
   "source": [
    "weather_yvr['Temperature (F)'].plot();"
   ]
  },
  {
   "cell_type": "markdown",
   "metadata": {
    "slideshow": {
     "slide_type": "skip"
    }
   },
   "source": [
    "d) See the \"Timeseries Data\" section of `Lesson_2.ipynb`\n",
    "\n",
    "e) Create a plot of the YVR temperature in Fahrenheit with the date and time as the x-axis, and figure size of 8\" wide by 5\" tall"
   ]
  },
  {
   "cell_type": "code",
   "execution_count": 39,
   "metadata": {
    "slideshow": {
     "slide_type": "skip"
    }
   },
   "outputs": [
    {
     "data": {
      "text/html": [
       "<div>\n",
       "<style scoped>\n",
       "    .dataframe tbody tr th:only-of-type {\n",
       "        vertical-align: middle;\n",
       "    }\n",
       "\n",
       "    .dataframe tbody tr th {\n",
       "        vertical-align: top;\n",
       "    }\n",
       "\n",
       "    .dataframe thead th {\n",
       "        text-align: right;\n",
       "    }\n",
       "</style>\n",
       "<table border=\"1\" class=\"dataframe\">\n",
       "  <thead>\n",
       "    <tr style=\"text-align: right;\">\n",
       "      <th></th>\n",
       "      <th>Hour of Day</th>\n",
       "      <th>Conditions</th>\n",
       "      <th>Temperature (C)</th>\n",
       "      <th>Relative Humidity (%)</th>\n",
       "      <th>Relative Humidity (fraction)</th>\n",
       "      <th>Temperature (F)</th>\n",
       "    </tr>\n",
       "    <tr>\n",
       "      <th>Datetime</th>\n",
       "      <th></th>\n",
       "      <th></th>\n",
       "      <th></th>\n",
       "      <th></th>\n",
       "      <th></th>\n",
       "      <th></th>\n",
       "    </tr>\n",
       "  </thead>\n",
       "  <tbody>\n",
       "    <tr>\n",
       "      <th>2018-05-21 22:00:00</th>\n",
       "      <td>22</td>\n",
       "      <td>Mainly Clear</td>\n",
       "      <td>14.8</td>\n",
       "      <td>75.0</td>\n",
       "      <td>0.75</td>\n",
       "      <td>58.64</td>\n",
       "    </tr>\n",
       "    <tr>\n",
       "      <th>2018-05-21 23:00:00</th>\n",
       "      <td>23</td>\n",
       "      <td>Clear</td>\n",
       "      <td>13.5</td>\n",
       "      <td>76.0</td>\n",
       "      <td>0.76</td>\n",
       "      <td>56.30</td>\n",
       "    </tr>\n",
       "    <tr>\n",
       "      <th>2018-05-22 00:00:00</th>\n",
       "      <td>0</td>\n",
       "      <td>Clear</td>\n",
       "      <td>13.1</td>\n",
       "      <td>77.0</td>\n",
       "      <td>0.77</td>\n",
       "      <td>55.58</td>\n",
       "    </tr>\n",
       "    <tr>\n",
       "      <th>2018-05-22 01:00:00</th>\n",
       "      <td>1</td>\n",
       "      <td>Clear</td>\n",
       "      <td>12.9</td>\n",
       "      <td>84.0</td>\n",
       "      <td>0.84</td>\n",
       "      <td>55.22</td>\n",
       "    </tr>\n",
       "    <tr>\n",
       "      <th>2018-05-22 02:00:00</th>\n",
       "      <td>2</td>\n",
       "      <td>Clear</td>\n",
       "      <td>12.2</td>\n",
       "      <td>88.0</td>\n",
       "      <td>0.88</td>\n",
       "      <td>53.96</td>\n",
       "    </tr>\n",
       "  </tbody>\n",
       "</table>\n",
       "</div>"
      ],
      "text/plain": [
       "                     Hour of Day    Conditions  Temperature (C)  \\\n",
       "Datetime                                                          \n",
       "2018-05-21 22:00:00           22  Mainly Clear             14.8   \n",
       "2018-05-21 23:00:00           23         Clear             13.5   \n",
       "2018-05-22 00:00:00            0         Clear             13.1   \n",
       "2018-05-22 01:00:00            1         Clear             12.9   \n",
       "2018-05-22 02:00:00            2         Clear             12.2   \n",
       "\n",
       "                     Relative Humidity (%)  Relative Humidity (fraction)  \\\n",
       "Datetime                                                                   \n",
       "2018-05-21 22:00:00                   75.0                          0.75   \n",
       "2018-05-21 23:00:00                   76.0                          0.76   \n",
       "2018-05-22 00:00:00                   77.0                          0.77   \n",
       "2018-05-22 01:00:00                   84.0                          0.84   \n",
       "2018-05-22 02:00:00                   88.0                          0.88   \n",
       "\n",
       "                     Temperature (F)  \n",
       "Datetime                              \n",
       "2018-05-21 22:00:00            58.64  \n",
       "2018-05-21 23:00:00            56.30  \n",
       "2018-05-22 00:00:00            55.58  \n",
       "2018-05-22 01:00:00            55.22  \n",
       "2018-05-22 02:00:00            53.96  "
      ]
     },
     "execution_count": 39,
     "metadata": {},
     "output_type": "execute_result"
    }
   ],
   "source": [
    "# First create a copy of weather_yvr (which has the extra column with temperature in Fahrenheit)\n",
    "weather_yvr_dt = weather_yvr.copy()\n",
    "\n",
    "# Convert the 'Datetime' column to datetime format\n",
    "weather_yvr_dt['Datetime'] = pd.to_datetime(weather_yvr_dt['Datetime'])\n",
    "\n",
    "# Set the 'Datetime' column as the index\n",
    "weather_yvr_dt = weather_yvr_dt.set_index('Datetime')\n",
    "weather_yvr_dt.head()"
   ]
  },
  {
   "cell_type": "code",
   "execution_count": 40,
   "metadata": {
    "slideshow": {
     "slide_type": "skip"
    }
   },
   "outputs": [
    {
     "data": {
      "image/png": "[encoded data removed]",
      "text/plain": [
       "<matplotlib.figure.Figure at 0x2d56740eef0>"
      ]
     },
     "metadata": {},
     "output_type": "display_data"
    }
   ],
   "source": [
    "weather_yvr_dt['Temperature (F)'].plot(figsize=(8, 5));"
   ]
  },
  {
   "cell_type": "markdown",
   "metadata": {
    "slideshow": {
     "slide_type": "slide"
    }
   },
   "source": [
    "# Interlude: More Complex Calculations\n",
    "\n",
    "- So far we've performed simple arithmetic on columns of a DataFrame, which we can easily do in Excel\n",
    "- As the complexity of our calculations increases, the power of `pandas` can make things much easier"
   ]
  },
  {
   "cell_type": "markdown",
   "metadata": {
    "slideshow": {
     "slide_type": "fragment"
    }
   },
   "source": [
    "For example, suppose we have some data of monthly sales for each employee. The employees are paid commissions on a tiered system:\n",
    "\n",
    "| Monthly Sales  | Commission Rate |\n",
    "| -------------- | --------------- |\n",
    "| \\$0 - \\$999.99   | 0% |\n",
    "| \\$1000.00 - \\$1999.99 | 1% |\n",
    "| \\$2000.00 - \\$2999.99 | 3% |\n",
    "| \\$3000.00 and up | 5% |"
   ]
  },
  {
   "cell_type": "markdown",
   "metadata": {
    "slideshow": {
     "slide_type": "fragment"
    }
   },
   "source": [
    "- We could calculate the commission rates for each employee in Excel using a long, unwieldy set of nested IF formulas \n",
    "- If you had several different commission tier systems, say for different sets of products or services, you couldn't just reuse this formula&mdash;you'd have to manually edit it for each case"
   ]
  },
  {
   "cell_type": "markdown",
   "metadata": {
    "slideshow": {
     "slide_type": "slide"
    }
   },
   "source": [
    "### The `pandas` Way\n",
    "\n",
    "- Write a few lines of code bundled up into a re-usable function\n",
    "- Apply this function to the appropriate column of your DataFrame to calculate the commissions\n",
    "- Easily adjust the commission tiers and perform these calculations on many different data sets"
   ]
  },
  {
   "cell_type": "markdown",
   "metadata": {
    "slideshow": {
     "slide_type": "slide"
    }
   },
   "source": [
    "### Example\n",
    "\n",
    "This is a demo of the overall approach we can use to solve this type of problem in `pandas`\n",
    "- Don't worry about following the details of the code (there's some stuff we haven't covered yet!)"
   ]
  },
  {
   "cell_type": "code",
   "execution_count": 41,
   "metadata": {
    "slideshow": {
     "slide_type": "fragment"
    }
   },
   "outputs": [
    {
     "name": "stdout",
     "output_type": "stream",
     "text": [
      "(369, 4)\n"
     ]
    },
    {
     "data": {
      "text/html": [
       "<div>\n",
       "<style scoped>\n",
       "    .dataframe tbody tr th:only-of-type {\n",
       "        vertical-align: middle;\n",
       "    }\n",
       "\n",
       "    .dataframe tbody tr th {\n",
       "        vertical-align: top;\n",
       "    }\n",
       "\n",
       "    .dataframe thead th {\n",
       "        text-align: right;\n",
       "    }\n",
       "</style>\n",
       "<table border=\"1\" class=\"dataframe\">\n",
       "  <thead>\n",
       "    <tr style=\"text-align: right;\">\n",
       "      <th></th>\n",
       "      <th>Year</th>\n",
       "      <th>Month</th>\n",
       "      <th>Employee</th>\n",
       "      <th>Sales</th>\n",
       "    </tr>\n",
       "  </thead>\n",
       "  <tbody>\n",
       "    <tr>\n",
       "      <th>0</th>\n",
       "      <td>2015</td>\n",
       "      <td>1</td>\n",
       "      <td>Malcolm Reynolds</td>\n",
       "      <td>2834.90</td>\n",
       "    </tr>\n",
       "    <tr>\n",
       "      <th>1</th>\n",
       "      <td>2015</td>\n",
       "      <td>1</td>\n",
       "      <td>Kaylee Frye</td>\n",
       "      <td>1423.83</td>\n",
       "    </tr>\n",
       "    <tr>\n",
       "      <th>2</th>\n",
       "      <td>2015</td>\n",
       "      <td>1</td>\n",
       "      <td>Inara Serra</td>\n",
       "      <td>1515.99</td>\n",
       "    </tr>\n",
       "    <tr>\n",
       "      <th>3</th>\n",
       "      <td>2015</td>\n",
       "      <td>1</td>\n",
       "      <td>Jayne Cobb</td>\n",
       "      <td>2708.44</td>\n",
       "    </tr>\n",
       "    <tr>\n",
       "      <th>4</th>\n",
       "      <td>2015</td>\n",
       "      <td>1</td>\n",
       "      <td>River Tam</td>\n",
       "      <td>1537.65</td>\n",
       "    </tr>\n",
       "  </tbody>\n",
       "</table>\n",
       "</div>"
      ],
      "text/plain": [
       "   Year  Month          Employee    Sales\n",
       "0  2015      1  Malcolm Reynolds  2834.90\n",
       "1  2015      1       Kaylee Frye  1423.83\n",
       "2  2015      1       Inara Serra  1515.99\n",
       "3  2015      1        Jayne Cobb  2708.44\n",
       "4  2015      1         River Tam  1537.65"
      ]
     },
     "execution_count": 41,
     "metadata": {},
     "output_type": "execute_result"
    }
   ],
   "source": [
    "sales = pd.read_csv('data/employee_sales.csv')\n",
    "print(sales.shape)\n",
    "sales.head()"
   ]
  },
  {
   "cell_type": "markdown",
   "metadata": {
    "slideshow": {
     "slide_type": "fragment"
    }
   },
   "source": [
    "Define a function to calculate the commission rate for a given monthly sales value:"
   ]
  },
  {
   "cell_type": "code",
   "execution_count": 42,
   "metadata": {},
   "outputs": [],
   "source": [
    "from bisect import bisect\n",
    "\n",
    "def commission_rate(sales_value, tier_ceiling=[1000, 2000, 3000],\n",
    "                    rates=[0, 0.01, 0.03, 0.05]):\n",
    "    index = bisect(tier_ceiling, sales_value)\n",
    "    return rates[index]"
   ]
  },
  {
   "cell_type": "markdown",
   "metadata": {
    "slideshow": {
     "slide_type": "fragment"
    }
   },
   "source": [
    "- Apply this function to the `'Sales'` column to find the commission rate for each employee in each month\n",
    "- Calculate the total commissions for each employee in each month"
   ]
  },
  {
   "cell_type": "code",
   "execution_count": 43,
   "metadata": {
    "slideshow": {
     "slide_type": "-"
    }
   },
   "outputs": [
    {
     "data": {
      "text/html": [
       "<div>\n",
       "<style scoped>\n",
       "    .dataframe tbody tr th:only-of-type {\n",
       "        vertical-align: middle;\n",
       "    }\n",
       "\n",
       "    .dataframe tbody tr th {\n",
       "        vertical-align: top;\n",
       "    }\n",
       "\n",
       "    .dataframe thead th {\n",
       "        text-align: right;\n",
       "    }\n",
       "</style>\n",
       "<table border=\"1\" class=\"dataframe\">\n",
       "  <thead>\n",
       "    <tr style=\"text-align: right;\">\n",
       "      <th></th>\n",
       "      <th>Year</th>\n",
       "      <th>Month</th>\n",
       "      <th>Employee</th>\n",
       "      <th>Sales</th>\n",
       "      <th>Commission Rate</th>\n",
       "      <th>Commission</th>\n",
       "    </tr>\n",
       "  </thead>\n",
       "  <tbody>\n",
       "    <tr>\n",
       "      <th>0</th>\n",
       "      <td>2015</td>\n",
       "      <td>1</td>\n",
       "      <td>Malcolm Reynolds</td>\n",
       "      <td>2834.90</td>\n",
       "      <td>0.03</td>\n",
       "      <td>85.05</td>\n",
       "    </tr>\n",
       "    <tr>\n",
       "      <th>1</th>\n",
       "      <td>2015</td>\n",
       "      <td>1</td>\n",
       "      <td>Kaylee Frye</td>\n",
       "      <td>1423.83</td>\n",
       "      <td>0.01</td>\n",
       "      <td>14.24</td>\n",
       "    </tr>\n",
       "    <tr>\n",
       "      <th>2</th>\n",
       "      <td>2015</td>\n",
       "      <td>1</td>\n",
       "      <td>Inara Serra</td>\n",
       "      <td>1515.99</td>\n",
       "      <td>0.01</td>\n",
       "      <td>15.16</td>\n",
       "    </tr>\n",
       "    <tr>\n",
       "      <th>3</th>\n",
       "      <td>2015</td>\n",
       "      <td>1</td>\n",
       "      <td>Jayne Cobb</td>\n",
       "      <td>2708.44</td>\n",
       "      <td>0.03</td>\n",
       "      <td>81.25</td>\n",
       "    </tr>\n",
       "    <tr>\n",
       "      <th>4</th>\n",
       "      <td>2015</td>\n",
       "      <td>1</td>\n",
       "      <td>River Tam</td>\n",
       "      <td>1537.65</td>\n",
       "      <td>0.01</td>\n",
       "      <td>15.38</td>\n",
       "    </tr>\n",
       "    <tr>\n",
       "      <th>5</th>\n",
       "      <td>2015</td>\n",
       "      <td>1</td>\n",
       "      <td>Simon Tam</td>\n",
       "      <td>1229.45</td>\n",
       "      <td>0.01</td>\n",
       "      <td>12.29</td>\n",
       "    </tr>\n",
       "    <tr>\n",
       "      <th>6</th>\n",
       "      <td>2015</td>\n",
       "      <td>1</td>\n",
       "      <td>Hoban Washburne</td>\n",
       "      <td>3197.02</td>\n",
       "      <td>0.05</td>\n",
       "      <td>159.85</td>\n",
       "    </tr>\n",
       "    <tr>\n",
       "      <th>7</th>\n",
       "      <td>2015</td>\n",
       "      <td>1</td>\n",
       "      <td>Zoe Washburne</td>\n",
       "      <td>2669.37</td>\n",
       "      <td>0.03</td>\n",
       "      <td>80.08</td>\n",
       "    </tr>\n",
       "    <tr>\n",
       "      <th>8</th>\n",
       "      <td>2015</td>\n",
       "      <td>1</td>\n",
       "      <td>Shepherd Book</td>\n",
       "      <td>1949.25</td>\n",
       "      <td>0.01</td>\n",
       "      <td>19.49</td>\n",
       "    </tr>\n",
       "    <tr>\n",
       "      <th>9</th>\n",
       "      <td>2015</td>\n",
       "      <td>2</td>\n",
       "      <td>Malcolm Reynolds</td>\n",
       "      <td>1274.11</td>\n",
       "      <td>0.01</td>\n",
       "      <td>12.74</td>\n",
       "    </tr>\n",
       "    <tr>\n",
       "      <th>10</th>\n",
       "      <td>2015</td>\n",
       "      <td>2</td>\n",
       "      <td>Kaylee Frye</td>\n",
       "      <td>2384.91</td>\n",
       "      <td>0.03</td>\n",
       "      <td>71.55</td>\n",
       "    </tr>\n",
       "    <tr>\n",
       "      <th>11</th>\n",
       "      <td>2015</td>\n",
       "      <td>2</td>\n",
       "      <td>Inara Serra</td>\n",
       "      <td>2319.00</td>\n",
       "      <td>0.03</td>\n",
       "      <td>69.57</td>\n",
       "    </tr>\n",
       "    <tr>\n",
       "      <th>12</th>\n",
       "      <td>2015</td>\n",
       "      <td>2</td>\n",
       "      <td>Jayne Cobb</td>\n",
       "      <td>2728.75</td>\n",
       "      <td>0.03</td>\n",
       "      <td>81.86</td>\n",
       "    </tr>\n",
       "    <tr>\n",
       "      <th>13</th>\n",
       "      <td>2015</td>\n",
       "      <td>2</td>\n",
       "      <td>River Tam</td>\n",
       "      <td>2204.37</td>\n",
       "      <td>0.03</td>\n",
       "      <td>66.13</td>\n",
       "    </tr>\n",
       "    <tr>\n",
       "      <th>14</th>\n",
       "      <td>2015</td>\n",
       "      <td>2</td>\n",
       "      <td>Simon Tam</td>\n",
       "      <td>2871.62</td>\n",
       "      <td>0.03</td>\n",
       "      <td>86.15</td>\n",
       "    </tr>\n",
       "    <tr>\n",
       "      <th>15</th>\n",
       "      <td>2015</td>\n",
       "      <td>2</td>\n",
       "      <td>Hoban Washburne</td>\n",
       "      <td>2194.50</td>\n",
       "      <td>0.03</td>\n",
       "      <td>65.83</td>\n",
       "    </tr>\n",
       "    <tr>\n",
       "      <th>16</th>\n",
       "      <td>2015</td>\n",
       "      <td>2</td>\n",
       "      <td>Zoe Washburne</td>\n",
       "      <td>2366.60</td>\n",
       "      <td>0.03</td>\n",
       "      <td>71.00</td>\n",
       "    </tr>\n",
       "    <tr>\n",
       "      <th>17</th>\n",
       "      <td>2015</td>\n",
       "      <td>2</td>\n",
       "      <td>Shepherd Book</td>\n",
       "      <td>1334.59</td>\n",
       "      <td>0.01</td>\n",
       "      <td>13.35</td>\n",
       "    </tr>\n",
       "    <tr>\n",
       "      <th>18</th>\n",
       "      <td>2015</td>\n",
       "      <td>3</td>\n",
       "      <td>Malcolm Reynolds</td>\n",
       "      <td>2617.63</td>\n",
       "      <td>0.03</td>\n",
       "      <td>78.53</td>\n",
       "    </tr>\n",
       "    <tr>\n",
       "      <th>19</th>\n",
       "      <td>2015</td>\n",
       "      <td>3</td>\n",
       "      <td>Kaylee Frye</td>\n",
       "      <td>1794.51</td>\n",
       "      <td>0.01</td>\n",
       "      <td>17.95</td>\n",
       "    </tr>\n",
       "  </tbody>\n",
       "</table>\n",
       "</div>"
      ],
      "text/plain": [
       "    Year  Month          Employee    Sales  Commission Rate  Commission\n",
       "0   2015      1  Malcolm Reynolds  2834.90             0.03       85.05\n",
       "1   2015      1       Kaylee Frye  1423.83             0.01       14.24\n",
       "2   2015      1       Inara Serra  1515.99             0.01       15.16\n",
       "3   2015      1        Jayne Cobb  2708.44             0.03       81.25\n",
       "4   2015      1         River Tam  1537.65             0.01       15.38\n",
       "5   2015      1         Simon Tam  1229.45             0.01       12.29\n",
       "6   2015      1   Hoban Washburne  3197.02             0.05      159.85\n",
       "7   2015      1     Zoe Washburne  2669.37             0.03       80.08\n",
       "8   2015      1     Shepherd Book  1949.25             0.01       19.49\n",
       "9   2015      2  Malcolm Reynolds  1274.11             0.01       12.74\n",
       "10  2015      2       Kaylee Frye  2384.91             0.03       71.55\n",
       "11  2015      2       Inara Serra  2319.00             0.03       69.57\n",
       "12  2015      2        Jayne Cobb  2728.75             0.03       81.86\n",
       "13  2015      2         River Tam  2204.37             0.03       66.13\n",
       "14  2015      2         Simon Tam  2871.62             0.03       86.15\n",
       "15  2015      2   Hoban Washburne  2194.50             0.03       65.83\n",
       "16  2015      2     Zoe Washburne  2366.60             0.03       71.00\n",
       "17  2015      2     Shepherd Book  1334.59             0.01       13.35\n",
       "18  2015      3  Malcolm Reynolds  2617.63             0.03       78.53\n",
       "19  2015      3       Kaylee Frye  1794.51             0.01       17.95"
      ]
     },
     "execution_count": 43,
     "metadata": {},
     "output_type": "execute_result"
    }
   ],
   "source": [
    "sales['Commission Rate'] = sales['Sales'].apply(commission_rate)\n",
    "sales['Commission'] = round(sales['Commission Rate'] * sales['Sales'], 2)\n",
    "sales.head(20)"
   ]
  }
 ],
 "metadata": {
  "celltoolbar": "Slideshow",
  "kernelspec": {
   "display_name": "Python [conda root]",
   "language": "python",
   "name": "conda-root-py"
  },
  "language_info": {
   "codemirror_mode": {
    "name": "ipython",
    "version": 3
   },
   "file_extension": ".py",
   "mimetype": "text/x-python",
   "name": "python",
   "nbconvert_exporter": "python",
   "pygments_lexer": "ipython3",
   "version": "3.6.4"
  },
  "livereveal": {
   "scroll": true,
   "theme": "solarized",
   "transition": "none"
  }
 },
 "nbformat": 4,
 "nbformat_minor": 2
}
